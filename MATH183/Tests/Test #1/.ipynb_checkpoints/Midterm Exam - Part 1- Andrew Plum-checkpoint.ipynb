{
 "cells": [
  {
   "cell_type": "markdown",
   "id": "3f3230b8",
   "metadata": {},
   "source": [
    "__Instruction:__ \n",
    "\n",
    "(1) Fill out your name in the file's name.\n",
    "\n",
    "(2) Work on the problems below. Make sure that your codes work with the most general input data required by the problem. The given examples are to demonstrate the requirements. I will use other input data to test your program."
   ]
  },
  {
   "cell_type": "markdown",
   "id": "c0a7b2fc",
   "metadata": {},
   "source": [
    "__Problem 1:__ (30 pts) Write down a program to take an integer as input. Then print out its remainder when dividing by $3$.\n",
    "\n",
    "```makefile\n",
    "Please input your number: 4\n",
    "Result: 1\n",
    "```\n",
    "NOTE: you must use the \"input\" function to take the integer."
   ]
  },
  {
   "cell_type": "code",
   "execution_count": 1,
   "id": "b03ee198",
   "metadata": {},
   "outputs": [
    {
     "name": "stdout",
     "output_type": "stream",
     "text": [
      "Please input your number: 4\n",
      "Result: 1\n"
     ]
    }
   ],
   "source": [
    "num = int(input(\"Please input your number: \"))\n",
    "remainder = num % 3\n",
    "print(\"Result:\", remainder)\n"
   ]
  },
  {
   "cell_type": "markdown",
   "id": "0d155b96",
   "metadata": {},
   "source": [
    "__Problem 2:__ (30 pts) Work on ONE of the following problem. Do NOT work on both!\n",
    "\n",
    "(a) Given an array, a \"weird\" subarray is an array that is obtained by remove an even number of element(s) at the beginning and zero or more element(s) at the end. Write a program to find the minimum of the sums of all weird subarrays.\n",
    "\n",
    "For example, if your array is $[4,-1,-3,-4,1]$, then the output is $-7$. \n",
    "\n",
    "(b) Write a program that takes a string as input and then removes all duplicate words from the string while preserving the order of the remaining words.\n",
    "\n",
    "NOTE: uppercase and lower case are considered different.\n",
    "\n",
    "Examples:\n",
    "\n",
    "(1) given the string \"Hello Lili Hello Linda\" the program should output the string \"Hello Lili Linda\".\n",
    "\n",
    "(2) given the string \"Hello Lili hello Linda\" the program should output the string \"Hello Lili hello Linda\"."
   ]
  },
  {
   "cell_type": "code",
   "execution_count": 2,
   "id": "eb99577d",
   "metadata": {},
   "outputs": [],
   "source": [
    "#hint for (a)\n",
    "my_array = [4,-1,-3,-4,1] #this is a sample input array, I will change it when grading\n",
    "#your code below\n",
    "\n"
   ]
  },
  {
   "cell_type": "code",
   "execution_count": 3,
   "id": "ec1c135c",
   "metadata": {},
   "outputs": [
    {
     "name": "stdout",
     "output_type": "stream",
     "text": [
      "Hello Lili Linda\n",
      "Hello Lili hello Linda\n"
     ]
    }
   ],
   "source": [
    "#hint for (b)\n",
    "my_string_1 = \"Hello Lili Hello Linda\" # this is a sample input array, I will change it when grading\n",
    "my_string_2 = \"Hello Lili hello Linda\"\n",
    "#your code below\n",
    "\n",
    "def remove_all_repeated_words(string):\n",
    "    words = string.split()\n",
    "    unique_words = []\n",
    "    result_string = \"\"\n",
    "    for i in words:\n",
    "        if i not in unique_words:\n",
    "            unique_words.append(i)\n",
    "    result_string = ' '.join(unique_words)\n",
    "    return result_string\n",
    "\n",
    "result_string = remove_all_repeated_words(my_string_1)\n",
    "print(result_string)\n",
    "\n",
    "result_string = remove_all_repeated_words(my_string_2)\n",
    "print(result_string)"
   ]
  },
  {
   "cell_type": "markdown",
   "id": "381499f3",
   "metadata": {},
   "source": [
    "__Problem 3:__ (50 pts) Write a program that reads the text file \"ui.txt\" and do the following things:\n",
    "\n",
    "(a) (20 pts) Find all the characters that appear in the file. Save them as a sorted list."
   ]
  },
  {
   "cell_type": "code",
   "execution_count": 1,
   "id": "4c9ab226",
   "metadata": {},
   "outputs": [
    {
     "name": "stdout",
     "output_type": "stream",
     "text": [
      "<class 'str'>\n",
      "['\\n', ' ', \"'\", ',', '-', '.', '0', '1', '2', '5', '8', '9', ':', '@', 'A', 'B', 'C', 'E', 'F', 'G', 'I', 'L', 'M', 'S', 'T', 'U', 'W', 'a', 'b', 'c', 'd', 'e', 'f', 'g', 'h', 'i', 'k', 'l', 'm', 'n', 'o', 'p', 'q', 'r', 's', 't', 'u', 'v', 'w', 'x', 'y', 'z']\n"
     ]
    }
   ],
   "source": [
    "# your code here\n",
    "\n",
    "with open(\"ui.txt\", \"r\") as f:\n",
    "    data = f.read()\n",
    "char_set = set(data)\n",
    "char_list = sorted(list(char_set))\n",
    "print(char_list)\n"
   ]
  },
  {
   "cell_type": "markdown",
   "id": "8244813b",
   "metadata": {},
   "source": [
    "(b) (10 pts) Build an encoding book by randomly shuffling the last ten characters in the list. Then encode the whole file into the new file, named \"uish.txt\"."
   ]
  },
  {
   "cell_type": "code",
   "execution_count": 5,
   "id": "3c135d92",
   "metadata": {},
   "outputs": [
    {
     "name": "stdout",
     "output_type": "stream",
     "text": [
      "The University of Idaho is a public research university located in Moscow, Idaho, United States. Founded in 1889, it is the state's oldest public university and has a rich history of providing high-quality education to its students.\n",
      "\n",
      "The university offers over 150 degree programs across ten colleges, including the College of Agriculture and Life Sciences, the College of Art and Architecture, the College of Business and Economics, and the College of Engineering. Students can choose from undergraduate, graduate, and professional degree programs in a wide range of fields, including science, technology, engineering, agriculture, business, education, and the arts.\n",
      "\n",
      "At the University of Idaho, students benefit from a vibrant and inclusive campus community that supports academic and personal growth. The university is committed to fostering a welcoming and supportive environment where students can thrive, regardless of their background or interests.\n",
      "\n",
      "The university's faculty members are renowned scholars and researchers who are committed to advancing their fields and engaging students in meaningful learning experiences. Many of the university's faculty members are nationally recognized experts in their fields and have been recognized for their outstanding research and teaching.\n",
      "\n",
      "Beyond the classroom, the University of Idaho offers students a wide range of opportunities to get involved and make a difference on campus and in the community. With more than 200 student organizations, numerous athletic teams, and a vibrant arts and culture scene, students can explore their interests and develop leadership skills while building lasting relationships with their peers.\n",
      "\n",
      "For those who have questions or concerns about the University of Idaho, the following email addresses can be used to contact various departments and offices:\n",
      "\n",
      "General admissions inquiries: admissions@uidaho.edu\n",
      "International student inquiries: international@uidaho.edu\n",
      "Financial aid inquiries: financialaid@uidaho.edu\n",
      "Academic advising inquiries: advising@uidaho.edu\n",
      "Alumni relations inquiries: alumni@uidaho.edu\n",
      "\n",
      "Whether you're a prospective student, a current student, or an alum of the university, the University of Idaho is committed to providing a supportive and engaging environment where you can succeed a2l:yzAxvCT\n"
     ]
    }
   ],
   "source": [
    "# your code here\n",
    "\n",
    "from random import shuffle\n",
    "\n",
    "#print(data)\n",
    "\n",
    "shuffled_list = char_list.copy()\n",
    "shuffle(shuffled_list)\n",
    "#print(char_list)\n",
    "#print(shuffled_list)\n",
    "#print()\n",
    "\n",
    "#encode_book = {}\n",
    "encode_book = {char_list[i]:shuffled_list[i] for i in range(len(char_list))}\n",
    "#print(encode_book)\n",
    "#print()\n",
    "\n",
    "num_of__shuffle_chars_at_end = 10\n",
    "total_len = len(data)\n",
    "#print(total_len)\n",
    "front_len = total_len - num_of__shuffle_chars_at_end\n",
    "#print(front_len)\n",
    "back_data = data[front_len:total_len]\n",
    "#print(back_data)\n",
    "\n",
    "partially_shuffled_data = \"\"\n",
    "for i in range(front_len):\n",
    "    partially_shuffled_data += data[i]\n",
    "    #print(data[i])\n",
    "for i in back_data:\n",
    "    partially_shuffled_data += encode_book[i]\n",
    "print(partially_shuffled_data)\n",
    "\n",
    "#for char in data:\n",
    "#    partially_shuffled_data += encode_book[char]\n",
    "#print(partially_shuffled_data)\n",
    "with open(\"uish.txt\", \"w\") as f:\n",
    "    f.write(partially_shuffled_data)"
   ]
  },
  {
   "cell_type": "markdown",
   "id": "a778a69f",
   "metadata": {},
   "source": [
    "(c) (10 pts) Decode the \"uish.txt\" back to the original content and save it into \"uiuncoded.txt\". NOTE: make sure that \"uiuncoded.txt\" is the as same orignal file \"ui.txt\"."
   ]
  },
  {
   "cell_type": "code",
   "execution_count": 15,
   "id": "c35eb78b",
   "metadata": {},
   "outputs": [
    {
     "name": "stdout",
     "output_type": "stream",
     "text": [
      "The University of Idaho is a public research university located in Moscow, Idaho, United States. Founded in 1889, it is the state's oldest public university and has a rich history of providing high-quality education to its students.\n",
      "\n",
      "The university offers over 150 degree programs across ten colleges, including the College of Agriculture and Life Sciences, the College of Art and Architecture, the College of Business and Economics, and the College of Engineering. Students can choose from undergraduate, graduate, and professional degree programs in a wide range of fields, including science, technology, engineering, agriculture, business, education, and the arts.\n",
      "\n",
      "At the University of Idaho, students benefit from a vibrant and inclusive campus community that supports academic and personal growth. The university is committed to fostering a welcoming and supportive environment where students can thrive, regardless of their background or interests.\n",
      "\n",
      "The university's faculty members are renowned scholars and researchers who are committed to advancing their fields and engaging students in meaningful learning experiences. Many of the university's faculty members are nationally recognized experts in their fields and have been recognized for their outstanding research and teaching.\n",
      "\n",
      "Beyond the classroom, the University of Idaho offers students a wide range of opportunities to get involved and make a difference on campus and in the community. With more than 200 student organizations, numerous athletic teams, and a vibrant arts and culture scene, students can explore their interests and develop leadership skills while building lasting relationships with their peers.\n",
      "\n",
      "For those who have questions or concerns about the University of Idaho, the following email addresses can be used to contact various departments and offices:\n",
      "\n",
      "General admissions inquiries: admissions@uidaho.edu\n",
      "International student inquiries: international@uidaho.edu\n",
      "Financial aid inquiries: financialaid@uidaho.edu\n",
      "Academic advising inquiries: advising@uidaho.edu\n",
      "Alumni relations inquiries: alumni@uidaho.edu\n",
      "\n",
      "Whether you're a prospective student, a current student, or an alum of the university, the University of Idaho is committed to providing a supportive and engaging environment where you can succeed and thrive.\n"
     ]
    }
   ],
   "source": [
    "with open(\"uish.txt\", \"r\") as f:\n",
    "    data = f.read()\n",
    "decode_book = {shuffled_list[i] : char_list[i] for i in range(len(char_list))}\n",
    "\n",
    "num_of__shuffle_chars_at_end = 10\n",
    "total_len = len(data)\n",
    "#print(total_len)\n",
    "front_len = total_len - num_of__shuffle_chars_at_end\n",
    "#print(front_len)\n",
    "back_data = data[front_len:total_len]\n",
    "#print(back_data)\n",
    "\n",
    "unshuffled_shuffled_data = \"\"\n",
    "for i in range(front_len):\n",
    "    unshuffled_shuffled_data += data[i]\n",
    "    #print(data[i])\n",
    "for i in back_data:\n",
    "    unshuffled_shuffled_data += decode_book[i]\n",
    "print(unshuffled_shuffled_data)\n",
    "with open(\"uiuncoded.txt\", \"w\") as f:\n",
    "    f.write(unshuffled_shuffled_data)"
   ]
  },
  {
   "cell_type": "markdown",
   "id": "e0257247",
   "metadata": {},
   "source": [
    "(d) (10 pts) To add an extra layer of protection to (b), one reverses all the email address found in \"uish.txt\". Write a program to encode \"uish.txt\" into \"uipro.txt\" using this encoding scheme. Then write a program to decode \"uipro.txt\" into the original file (the same as \"ui.txt\"."
   ]
  },
  {
   "cell_type": "code",
   "execution_count": 7,
   "id": "d85eda63",
   "metadata": {},
   "outputs": [],
   "source": [
    "# your code here!"
   ]
  }
 ],
 "metadata": {
  "kernelspec": {
   "display_name": "Python 3 (ipykernel)",
   "language": "python",
   "name": "python3"
  },
  "language_info": {
   "codemirror_mode": {
    "name": "ipython",
    "version": 3
   },
   "file_extension": ".py",
   "mimetype": "text/x-python",
   "name": "python",
   "nbconvert_exporter": "python",
   "pygments_lexer": "ipython3",
   "version": "3.9.13"
  }
 },
 "nbformat": 4,
 "nbformat_minor": 5
}
