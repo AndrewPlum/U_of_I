{
 "cells": [
  {
   "cell_type": "markdown",
   "id": "4db9bb64",
   "metadata": {},
   "source": [
    "## Visualization\n",
    "\n",
    "### Packages:\n",
    "\n",
    "- Matplotlib\n",
    "\n",
    "- Seaborn\n",
    "\n",
    "- Pandas\n",
    "\n",
    "### Kinds of viz:\n",
    "\n",
    "#### Scatter plot\n",
    " - Matplotlib: \n",
    "    ```Python     \n",
    "     plt.scatter(xdata,ydata)\n",
    "    ```\n",
    "    Here, \n",
    "      - plt stands for matplotlib.pylot\n",
    "      - xdata: an array that contains x values\n",
    "      - ydata: an array that contains y values\n",
    " - Seaborn: \n",
    "     ```Python\n",
    "     sns.scatterplot(x=xdata,y=ydata)\n",
    "     ```\n",
    "   Here,\n",
    "      - sns stands for seaborn\n",
    "      - xdata is an array that contains x values\n",
    "      - ydata is an array that contains y values\n",
    "\n",
    " - Pandas: \n",
    "     ```Python\n",
    "    df.plot(kind = 'scatter', x= columnx, y = columny)\n",
    "    ```\n",
    "    Here,\n",
    "      - df stands for a DataFrame\n",
    "      - columnx, columy are the names of the columns of x and y data, respectively.\n",
    "      \n",
    "#### Line plot\n",
    "\n",
    " - Matplotlib: \n",
    "    ```Python     \n",
    "     plt.plot(xdata,ydata)\n",
    "    ```\n",
    "    Here, \n",
    "      - plt stands for matplotlib.pylot\n",
    "      - xdata: an array that contains x values\n",
    "      - ydata: an array that contains y values\n",
    " - Seaborn: \n",
    "     ```Python\n",
    "     sns.lineplot(x=xdata,y=ydata)\n",
    "     ```\n",
    "   Here,\n",
    "      - sns stands for seaborn\n",
    "      - xdata is an array that contains x values\n",
    "      - ydata is an array that contains y values\n",
    "\n",
    " - Pandas: \n",
    "     ```Python\n",
    "    df.plot(kind = 'line', x= columnx, y = columny)\n",
    "    ```\n",
    "    Here,\n",
    "      - df stands for a DataFrame\n",
    "      - columnx, columy are the names of the columns of x and y data, respectively.\n",
    "\n",
    "#### Bar plot\n",
    "\n",
    " - Matplotlib: \n",
    "    ```Python     \n",
    "     plt.bar(xdata,ydata)\n",
    "    ```\n",
    "    Here, \n",
    "      - plt stands for matplotlib.pylot\n",
    "      - xdata: an array that contains x values\n",
    "      - ydata: an array that contains y values\n",
    " - Seaborn: \n",
    "     ```Python\n",
    "     sns.barplot(x=xdata,y=ydata)\n",
    "     ```\n",
    "   Here,\n",
    "      - sns stands for seaborn\n",
    "      - xdata is an array that contains x values\n",
    "      - ydata is an array that contains y values\n",
    "\n",
    " - Pandas: \n",
    "     ```Python\n",
    "    df.plot(kind = 'bar', x= columnx, y = columny)\n",
    "    ```\n",
    "    Here,\n",
    "      - df stands for a DataFrame\n",
    "      - columnx, columy are the names of the columns of x and y data, respectively.\n",
    "\n",
    "#### Histogram\n",
    " - Matplotlib: \n",
    "    ```Python     \n",
    "     plt.hist(data)\n",
    "    ```\n",
    "    Here, \n",
    "      - plt stands for matplotlib.pylot\n",
    "      - data: an array that contains values\n",
    " - Seaborn: \n",
    "     ```Python\n",
    "     sns.barplot(data)\n",
    "     ```\n",
    "   Here,\n",
    "      - sns stands for seaborn\n",
    "      - data is an array that contains values\n",
    "      \n",
    " - Pandas: \n",
    "     ```Python\n",
    "    df.plot(kind = 'hist', column= column_name)\n",
    "    ```\n",
    "    Here,\n",
    "      - df stands for a DataFrame\n",
    "      - column_name is the name of column that has the data\n",
    "      \n",
    "#### Boxplot\n",
    "__(a) Single box:__\n",
    "\n",
    " - Matplotlib: \n",
    "    ```Python     \n",
    "     plt.box(data)\n",
    "    ```\n",
    "    Here, \n",
    "      - plt stands for matplotlib.pylot\n",
    "      - data: an array that contains values\n",
    " - Seaborn: \n",
    "     ```Python\n",
    "     sns.boxplot(data)\n",
    "     ```\n",
    "   Here,\n",
    "      - sns stands for seaborn\n",
    "      - data is an array that contains values\n",
    "      \n",
    " - Pandas: \n",
    "     ```Python\n",
    "    df.plot(kind = 'box', column= column_name)\n",
    "    ```\n",
    "    Here,\n",
    "      - df stands for a DataFrame\n",
    "      - column_name is the name of column that has the data\n",
    "\n",
    "__(b) Multiple boxes:__\n",
    "\n",
    " - Matplotlib: \n",
    "    ```Python     \n",
    "     plt.box([data])\n",
    "    ```\n",
    "    Here, \n",
    "      - plt stands for matplotlib.pylot\n",
    "      - [data] is a list of data array\n",
    "      \n",
    " - Seaborn: \n",
    "     ```Python\n",
    "     sns.boxplot(x=columnx, y =columny, data = df)\n",
    "     ```\n",
    "   Here,\n",
    "    - df is a DataFrame\n",
    "    - columnx: name is the column that contains the x-values\n",
    "    - columny: name is the column that contains the y-values\n",
    "      \n",
    " - Pandas: \n",
    "     ```Python\n",
    "    df.plot(kind = 'box', column= [column_names])\n",
    "    ```\n",
    "    Here,\n",
    "      - df stands for a DataFrame\n",
    "      - [column_name] is the list of column names.\n",
    "\n",
    "\n",
    "#### Violin plot: similar to boxplot.\n"
   ]
  },
  {
   "cell_type": "markdown",
   "id": "cd097879",
   "metadata": {},
   "source": [
    "__Practice Probem:__ Read the data from the file \"Simplified order.csv\" as a DataFrames named df_orders. NOTE: this file was used on Monday.\n",
    "\n",
    "(a) Plot the histogram of the columns DRINKS using Mathplotlib, Seaborn, and Pandas, respectively. NOTE: you may want to take log scale to make it look nice."
   ]
  },
  {
   "cell_type": "markdown",
   "id": "eb4421e8",
   "metadata": {},
   "source": [
    "(b) Plot the number of drinks sold each date as a line chart."
   ]
  },
  {
   "cell_type": "code",
   "execution_count": 1,
   "id": "16c25ec9",
   "metadata": {},
   "outputs": [],
   "source": [
    "# you code here"
   ]
  },
  {
   "cell_type": "markdown",
   "id": "09b1ee39",
   "metadata": {},
   "source": [
    "(c) Barplot for sum of drinks per month."
   ]
  },
  {
   "cell_type": "code",
   "execution_count": 2,
   "id": "22a3f686",
   "metadata": {},
   "outputs": [],
   "source": [
    "#"
   ]
  },
  {
   "cell_type": "markdown",
   "id": "fad743f3",
   "metadata": {},
   "source": [
    "(d) Do the boxplot to summarize the total drinks sold for each date"
   ]
  },
  {
   "cell_type": "code",
   "execution_count": 3,
   "id": "b6904527",
   "metadata": {},
   "outputs": [],
   "source": [
    "# your code here"
   ]
  },
  {
   "cell_type": "markdown",
   "id": "345f6203",
   "metadata": {},
   "source": [
    "(e) do violin plot for (d)"
   ]
  },
  {
   "cell_type": "code",
   "execution_count": 4,
   "id": "f02d5d64",
   "metadata": {},
   "outputs": [],
   "source": [
    "#"
   ]
  },
  {
   "cell_type": "markdown",
   "id": "db8c24de",
   "metadata": {},
   "source": [
    "(f) Compute the total cookies for each month. Do the scatter plot of this quantity vs the total drinks each month."
   ]
  },
  {
   "cell_type": "code",
   "execution_count": 5,
   "id": "43774c60",
   "metadata": {},
   "outputs": [],
   "source": [
    "# your coder here"
   ]
  },
  {
   "cell_type": "markdown",
   "id": "b91c6b94",
   "metadata": {},
   "source": [
    "(f) (Multiple box/violin plot) Make a new DataFrame that contains all orders which have more than 5 drinks. Use the boxplot to describe the number of drinks each month."
   ]
  },
  {
   "cell_type": "code",
   "execution_count": 6,
   "id": "d0e8f0a5",
   "metadata": {},
   "outputs": [],
   "source": [
    "#your code here"
   ]
  }
 ],
 "metadata": {
  "kernelspec": {
   "display_name": "Python 3 (ipykernel)",
   "language": "python",
   "name": "python3"
  },
  "language_info": {
   "codemirror_mode": {
    "name": "ipython",
    "version": 3
   },
   "file_extension": ".py",
   "mimetype": "text/x-python",
   "name": "python",
   "nbconvert_exporter": "python",
   "pygments_lexer": "ipython3",
   "version": "3.9.13"
  }
 },
 "nbformat": 4,
 "nbformat_minor": 5
}
