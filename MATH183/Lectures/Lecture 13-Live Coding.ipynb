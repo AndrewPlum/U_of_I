{
 "cells": [
  {
   "cell_type": "markdown",
   "id": "4fa8a0ba",
   "metadata": {},
   "source": [
    "# Lambda function \n",
    "\n",
    "In Python, a lambda function is a small, anonymous function that can take any number of arguments, but can only have one expression.\n",
    "\n",
    "The syntax for defining a lambda function is as follows:\n",
    "```Python\n",
    "lambda arguments: expression\n",
    "```\n",
    "\n",
    "Here, arguments is a comma-separated list of parameters, and expression is the operation that is performed on the arguments. The result of the expression is automatically returned by the lambda function."
   ]
  },
  {
   "cell_type": "code",
   "execution_count": 3,
   "id": "1f392e0b",
   "metadata": {},
   "outputs": [
    {
     "name": "stdout",
     "output_type": "stream",
     "text": [
      "7\n",
      "4\n"
     ]
    }
   ],
   "source": [
    "mysum = lambda a,b: a+b\n",
    "print(mysum(3,4))\n",
    "mymax = lambda a,b: a if a>=b else b\n",
    "print(mymax(3,4))"
   ]
  },
  {
   "cell_type": "markdown",
   "id": "6217a58f",
   "metadata": {},
   "source": [
    "__Lambda functions__ are often used as arguments to higher-order functions, which take functions as arguments."
   ]
  },
  {
   "cell_type": "code",
   "execution_count": 2,
   "id": "142d0e01",
   "metadata": {},
   "outputs": [
    {
     "name": "stdout",
     "output_type": "stream",
     "text": [
      "Invoice ID\n",
      "Branch\n",
      "City\n",
      "Customer type\n",
      "Gender\n",
      "Product line\n",
      "Unit price\n",
      "Quantity\n",
      "Tax 5%\n",
      "Total\n",
      "Date\n",
      "Time\n",
      "Payment\n",
      "cogs\n",
      "gross margin percentage\n",
      "gross income\n",
      "Rating\n"
     ]
    }
   ],
   "source": [
    "import pandas as pd\n",
    "df = pd.read_csv('supermarket_data.csv')\n",
    "for col in df.columns:\n",
    "    print(col)"
   ]
  },
  {
   "cell_type": "markdown",
   "id": "ca4a3e06",
   "metadata": {},
   "source": [
    "__Problem:__ The retail company decides to give the discount to all of its product. Generate a column that contain the updated unit price for all invoices."
   ]
  },
  {
   "cell_type": "code",
   "execution_count": 4,
   "id": "9752132b",
   "metadata": {},
   "outputs": [
    {
     "data": {
      "text/html": [
       "<div>\n",
       "<style scoped>\n",
       "    .dataframe tbody tr th:only-of-type {\n",
       "        vertical-align: middle;\n",
       "    }\n",
       "\n",
       "    .dataframe tbody tr th {\n",
       "        vertical-align: top;\n",
       "    }\n",
       "\n",
       "    .dataframe thead th {\n",
       "        text-align: right;\n",
       "    }\n",
       "</style>\n",
       "<table border=\"1\" class=\"dataframe\">\n",
       "  <thead>\n",
       "    <tr style=\"text-align: right;\">\n",
       "      <th></th>\n",
       "      <th>Invoice ID</th>\n",
       "      <th>Unit price</th>\n",
       "      <th>Updated unit price</th>\n",
       "    </tr>\n",
       "  </thead>\n",
       "  <tbody>\n",
       "    <tr>\n",
       "      <th>0</th>\n",
       "      <td>750-67-8428</td>\n",
       "      <td>74.69</td>\n",
       "      <td>70.9555</td>\n",
       "    </tr>\n",
       "    <tr>\n",
       "      <th>1</th>\n",
       "      <td>226-31-3081</td>\n",
       "      <td>15.28</td>\n",
       "      <td>14.5160</td>\n",
       "    </tr>\n",
       "    <tr>\n",
       "      <th>2</th>\n",
       "      <td>631-41-3108</td>\n",
       "      <td>46.33</td>\n",
       "      <td>44.0135</td>\n",
       "    </tr>\n",
       "    <tr>\n",
       "      <th>3</th>\n",
       "      <td>123-19-1176</td>\n",
       "      <td>58.22</td>\n",
       "      <td>55.3090</td>\n",
       "    </tr>\n",
       "    <tr>\n",
       "      <th>4</th>\n",
       "      <td>373-73-7910</td>\n",
       "      <td>86.31</td>\n",
       "      <td>81.9945</td>\n",
       "    </tr>\n",
       "    <tr>\n",
       "      <th>...</th>\n",
       "      <td>...</td>\n",
       "      <td>...</td>\n",
       "      <td>...</td>\n",
       "    </tr>\n",
       "    <tr>\n",
       "      <th>995</th>\n",
       "      <td>233-67-5758</td>\n",
       "      <td>40.35</td>\n",
       "      <td>38.3325</td>\n",
       "    </tr>\n",
       "    <tr>\n",
       "      <th>996</th>\n",
       "      <td>303-96-2227</td>\n",
       "      <td>97.38</td>\n",
       "      <td>92.5110</td>\n",
       "    </tr>\n",
       "    <tr>\n",
       "      <th>997</th>\n",
       "      <td>727-02-1313</td>\n",
       "      <td>31.84</td>\n",
       "      <td>30.2480</td>\n",
       "    </tr>\n",
       "    <tr>\n",
       "      <th>998</th>\n",
       "      <td>347-56-2442</td>\n",
       "      <td>65.82</td>\n",
       "      <td>62.5290</td>\n",
       "    </tr>\n",
       "    <tr>\n",
       "      <th>999</th>\n",
       "      <td>849-09-3807</td>\n",
       "      <td>88.34</td>\n",
       "      <td>83.9230</td>\n",
       "    </tr>\n",
       "  </tbody>\n",
       "</table>\n",
       "<p>1000 rows × 3 columns</p>\n",
       "</div>"
      ],
      "text/plain": [
       "      Invoice ID  Unit price  Updated unit price\n",
       "0    750-67-8428       74.69             70.9555\n",
       "1    226-31-3081       15.28             14.5160\n",
       "2    631-41-3108       46.33             44.0135\n",
       "3    123-19-1176       58.22             55.3090\n",
       "4    373-73-7910       86.31             81.9945\n",
       "..           ...         ...                 ...\n",
       "995  233-67-5758       40.35             38.3325\n",
       "996  303-96-2227       97.38             92.5110\n",
       "997  727-02-1313       31.84             30.2480\n",
       "998  347-56-2442       65.82             62.5290\n",
       "999  849-09-3807       88.34             83.9230\n",
       "\n",
       "[1000 rows x 3 columns]"
      ]
     },
     "execution_count": 4,
     "metadata": {},
     "output_type": "execute_result"
    }
   ],
   "source": [
    "df[\"Updated unit price\"] = df [\"Unit price\"].apply(lambda x: x*.95)\n",
    "df[[\"Invoice ID\", \"Unit price\", \"Updated unit price\"]]"
   ]
  },
  {
   "cell_type": "markdown",
   "id": "8b155570",
   "metadata": {},
   "source": [
    "__Practice:__ The retail company decide to gives the discount to all of its product. However, the discounted price only applies to the purchases three units or above. Generate a column that contain the updated unit price for all invoices."
   ]
  },
  {
   "cell_type": "code",
   "execution_count": 8,
   "id": "8bd2e039",
   "metadata": {
    "scrolled": true
   },
   "outputs": [
    {
     "data": {
      "text/html": [
       "<div>\n",
       "<style scoped>\n",
       "    .dataframe tbody tr th:only-of-type {\n",
       "        vertical-align: middle;\n",
       "    }\n",
       "\n",
       "    .dataframe tbody tr th {\n",
       "        vertical-align: top;\n",
       "    }\n",
       "\n",
       "    .dataframe thead th {\n",
       "        text-align: right;\n",
       "    }\n",
       "</style>\n",
       "<table border=\"1\" class=\"dataframe\">\n",
       "  <thead>\n",
       "    <tr style=\"text-align: right;\">\n",
       "      <th></th>\n",
       "      <th>Invoice ID</th>\n",
       "      <th>Quantity</th>\n",
       "      <th>Unit price</th>\n",
       "      <th>Updated unit price</th>\n",
       "    </tr>\n",
       "  </thead>\n",
       "  <tbody>\n",
       "    <tr>\n",
       "      <th>0</th>\n",
       "      <td>750-67-8428</td>\n",
       "      <td>7</td>\n",
       "      <td>74.69</td>\n",
       "      <td>70.9555</td>\n",
       "    </tr>\n",
       "    <tr>\n",
       "      <th>1</th>\n",
       "      <td>226-31-3081</td>\n",
       "      <td>5</td>\n",
       "      <td>15.28</td>\n",
       "      <td>14.5160</td>\n",
       "    </tr>\n",
       "    <tr>\n",
       "      <th>2</th>\n",
       "      <td>631-41-3108</td>\n",
       "      <td>7</td>\n",
       "      <td>46.33</td>\n",
       "      <td>44.0135</td>\n",
       "    </tr>\n",
       "    <tr>\n",
       "      <th>3</th>\n",
       "      <td>123-19-1176</td>\n",
       "      <td>8</td>\n",
       "      <td>58.22</td>\n",
       "      <td>55.3090</td>\n",
       "    </tr>\n",
       "    <tr>\n",
       "      <th>4</th>\n",
       "      <td>373-73-7910</td>\n",
       "      <td>7</td>\n",
       "      <td>86.31</td>\n",
       "      <td>81.9945</td>\n",
       "    </tr>\n",
       "    <tr>\n",
       "      <th>...</th>\n",
       "      <td>...</td>\n",
       "      <td>...</td>\n",
       "      <td>...</td>\n",
       "      <td>...</td>\n",
       "    </tr>\n",
       "    <tr>\n",
       "      <th>995</th>\n",
       "      <td>233-67-5758</td>\n",
       "      <td>1</td>\n",
       "      <td>40.35</td>\n",
       "      <td>40.3500</td>\n",
       "    </tr>\n",
       "    <tr>\n",
       "      <th>996</th>\n",
       "      <td>303-96-2227</td>\n",
       "      <td>10</td>\n",
       "      <td>97.38</td>\n",
       "      <td>92.5110</td>\n",
       "    </tr>\n",
       "    <tr>\n",
       "      <th>997</th>\n",
       "      <td>727-02-1313</td>\n",
       "      <td>1</td>\n",
       "      <td>31.84</td>\n",
       "      <td>31.8400</td>\n",
       "    </tr>\n",
       "    <tr>\n",
       "      <th>998</th>\n",
       "      <td>347-56-2442</td>\n",
       "      <td>1</td>\n",
       "      <td>65.82</td>\n",
       "      <td>65.8200</td>\n",
       "    </tr>\n",
       "    <tr>\n",
       "      <th>999</th>\n",
       "      <td>849-09-3807</td>\n",
       "      <td>7</td>\n",
       "      <td>88.34</td>\n",
       "      <td>83.9230</td>\n",
       "    </tr>\n",
       "  </tbody>\n",
       "</table>\n",
       "<p>1000 rows × 4 columns</p>\n",
       "</div>"
      ],
      "text/plain": [
       "      Invoice ID  Quantity  Unit price  Updated unit price\n",
       "0    750-67-8428         7       74.69             70.9555\n",
       "1    226-31-3081         5       15.28             14.5160\n",
       "2    631-41-3108         7       46.33             44.0135\n",
       "3    123-19-1176         8       58.22             55.3090\n",
       "4    373-73-7910         7       86.31             81.9945\n",
       "..           ...       ...         ...                 ...\n",
       "995  233-67-5758         1       40.35             40.3500\n",
       "996  303-96-2227        10       97.38             92.5110\n",
       "997  727-02-1313         1       31.84             31.8400\n",
       "998  347-56-2442         1       65.82             65.8200\n",
       "999  849-09-3807         7       88.34             83.9230\n",
       "\n",
       "[1000 rows x 4 columns]"
      ]
     },
     "execution_count": 8,
     "metadata": {},
     "output_type": "execute_result"
    }
   ],
   "source": [
    "# Your code here\n",
    "df[\"Updated unit price\"] = df.apply(lambda x: x[\"Unit price\"]*.95 if x [\"Quantity\"]>=3 else x[\"Unit price\"], axis=1) # axis = 1 is necessary to specify we are working along the row\n",
    "\n",
    "df[[\"Invoice ID\", \"Quantity\", \"Unit price\", \"Updated unit price\"]]"
   ]
  },
  {
   "cell_type": "markdown",
   "id": "cc069ee1",
   "metadata": {},
   "source": [
    "## datetime module\n",
    "\n",
    "In Python, the __datetime__ module provides classes for working with dates and times. The datetime module contains four main classes: datetime, date, time, and timedelta.\n",
    "\n",
    "Here is a brief overview of these classes:\n",
    "\n",
    "__datetime__: represents a date and time, and has attributes for year, month, day, hour, minute, second, and microsecond.\n",
    "\n",
    "__date__: represents a date, and has attributes for year, month, and day.\n",
    "\n",
    "__time__: represents a time, and has attributes for hour, minute, second, and microsecond.\n",
    "\n",
    "__timedelta__: represents a duration or difference between two dates or times."
   ]
  },
  {
   "cell_type": "code",
   "execution_count": 19,
   "id": "203198e4",
   "metadata": {},
   "outputs": [
    {
     "data": {
      "text/html": [
       "<div>\n",
       "<style scoped>\n",
       "    .dataframe tbody tr th:only-of-type {\n",
       "        vertical-align: middle;\n",
       "    }\n",
       "\n",
       "    .dataframe tbody tr th {\n",
       "        vertical-align: top;\n",
       "    }\n",
       "\n",
       "    .dataframe thead th {\n",
       "        text-align: right;\n",
       "    }\n",
       "</style>\n",
       "<table border=\"1\" class=\"dataframe\">\n",
       "  <thead>\n",
       "    <tr style=\"text-align: right;\">\n",
       "      <th></th>\n",
       "      <th>Invoice ID</th>\n",
       "      <th>Date</th>\n",
       "      <th>Year</th>\n",
       "      <th>Day</th>\n",
       "    </tr>\n",
       "  </thead>\n",
       "  <tbody>\n",
       "    <tr>\n",
       "      <th>0</th>\n",
       "      <td>750-67-8428</td>\n",
       "      <td>2019-01-05</td>\n",
       "      <td>2019</td>\n",
       "      <td>5</td>\n",
       "    </tr>\n",
       "    <tr>\n",
       "      <th>1</th>\n",
       "      <td>226-31-3081</td>\n",
       "      <td>2019-03-08</td>\n",
       "      <td>2019</td>\n",
       "      <td>8</td>\n",
       "    </tr>\n",
       "    <tr>\n",
       "      <th>2</th>\n",
       "      <td>631-41-3108</td>\n",
       "      <td>2019-03-03</td>\n",
       "      <td>2019</td>\n",
       "      <td>3</td>\n",
       "    </tr>\n",
       "    <tr>\n",
       "      <th>3</th>\n",
       "      <td>123-19-1176</td>\n",
       "      <td>2019-01-27</td>\n",
       "      <td>2019</td>\n",
       "      <td>27</td>\n",
       "    </tr>\n",
       "    <tr>\n",
       "      <th>4</th>\n",
       "      <td>373-73-7910</td>\n",
       "      <td>2019-02-08</td>\n",
       "      <td>2019</td>\n",
       "      <td>8</td>\n",
       "    </tr>\n",
       "    <tr>\n",
       "      <th>...</th>\n",
       "      <td>...</td>\n",
       "      <td>...</td>\n",
       "      <td>...</td>\n",
       "      <td>...</td>\n",
       "    </tr>\n",
       "    <tr>\n",
       "      <th>995</th>\n",
       "      <td>233-67-5758</td>\n",
       "      <td>2019-01-29</td>\n",
       "      <td>2019</td>\n",
       "      <td>29</td>\n",
       "    </tr>\n",
       "    <tr>\n",
       "      <th>996</th>\n",
       "      <td>303-96-2227</td>\n",
       "      <td>2019-03-02</td>\n",
       "      <td>2019</td>\n",
       "      <td>2</td>\n",
       "    </tr>\n",
       "    <tr>\n",
       "      <th>997</th>\n",
       "      <td>727-02-1313</td>\n",
       "      <td>2019-02-09</td>\n",
       "      <td>2019</td>\n",
       "      <td>9</td>\n",
       "    </tr>\n",
       "    <tr>\n",
       "      <th>998</th>\n",
       "      <td>347-56-2442</td>\n",
       "      <td>2019-02-22</td>\n",
       "      <td>2019</td>\n",
       "      <td>22</td>\n",
       "    </tr>\n",
       "    <tr>\n",
       "      <th>999</th>\n",
       "      <td>849-09-3807</td>\n",
       "      <td>2019-02-18</td>\n",
       "      <td>2019</td>\n",
       "      <td>18</td>\n",
       "    </tr>\n",
       "  </tbody>\n",
       "</table>\n",
       "<p>1000 rows × 4 columns</p>\n",
       "</div>"
      ],
      "text/plain": [
       "      Invoice ID       Date  Year  Day\n",
       "0    750-67-8428 2019-01-05  2019    5\n",
       "1    226-31-3081 2019-03-08  2019    8\n",
       "2    631-41-3108 2019-03-03  2019    3\n",
       "3    123-19-1176 2019-01-27  2019   27\n",
       "4    373-73-7910 2019-02-08  2019    8\n",
       "..           ...        ...   ...  ...\n",
       "995  233-67-5758 2019-01-29  2019   29\n",
       "996  303-96-2227 2019-03-02  2019    2\n",
       "997  727-02-1313 2019-02-09  2019    9\n",
       "998  347-56-2442 2019-02-22  2019   22\n",
       "999  849-09-3807 2019-02-18  2019   18\n",
       "\n",
       "[1000 rows x 4 columns]"
      ]
     },
     "execution_count": 19,
     "metadata": {},
     "output_type": "execute_result"
    }
   ],
   "source": [
    "from datetime import datetime\n",
    "# Convert the \"Date\" column to a datetime object\n",
    "df[\"Date\"] = pd.to_datetime(df[\"Date\"])\n",
    "df[\"Date\"]\n",
    "\n",
    "\n",
    "\n",
    "#df['Date'] = pd.to_datetime(df['Date'])\n",
    "df['Year'] = df['Date'].apply(lambda x: x.year)\n",
    "df['Day'] = df['Date'].apply(lambda x: x.day)\n",
    "df[[\"Invoice ID\", \"Date\", \"Year\", \"Day\"]]"
   ]
  },
  {
   "cell_type": "code",
   "execution_count": 18,
   "id": "6790d9f6",
   "metadata": {},
   "outputs": [
    {
     "name": "stdout",
     "output_type": "stream",
     "text": [
      "0       January\n",
      "1         March\n",
      "2         March\n",
      "3       January\n",
      "4      February\n",
      "         ...   \n",
      "995     January\n",
      "996       March\n",
      "997    February\n",
      "998    February\n",
      "999    February\n",
      "Name: Month, Length: 1000, dtype: object\n"
     ]
    }
   ],
   "source": [
    "# Add a \"Month\" column to the dataframe\n",
    "\n",
    "#df['Month'] = df['Date'].apply(lambda x: x.month)\n",
    "#print(df[\"Month\"])\n",
    "df['Month'] = df['Date'].apply(lambda x: datetime.strftime(x, '%B')) # Converts month index into month string\n",
    "print(df[\"Month\"])"
   ]
  },
  {
   "cell_type": "code",
   "execution_count": 50,
   "id": "e0117064",
   "metadata": {},
   "outputs": [
    {
     "data": {
      "text/html": [
       "<div>\n",
       "<style scoped>\n",
       "    .dataframe tbody tr th:only-of-type {\n",
       "        vertical-align: middle;\n",
       "    }\n",
       "\n",
       "    .dataframe tbody tr th {\n",
       "        vertical-align: top;\n",
       "    }\n",
       "\n",
       "    .dataframe thead th {\n",
       "        text-align: right;\n",
       "    }\n",
       "</style>\n",
       "<table border=\"1\" class=\"dataframe\">\n",
       "  <thead>\n",
       "    <tr style=\"text-align: right;\">\n",
       "      <th></th>\n",
       "      <th>Invoice ID</th>\n",
       "      <th>Date</th>\n",
       "      <th>Branch</th>\n",
       "      <th>Time</th>\n",
       "    </tr>\n",
       "  </thead>\n",
       "  <tbody>\n",
       "    <tr>\n",
       "      <th>17</th>\n",
       "      <td>765-26-6951</td>\n",
       "      <td>2019-01-01</td>\n",
       "      <td>A</td>\n",
       "      <td>10:39</td>\n",
       "    </tr>\n",
       "    <tr>\n",
       "      <th>970</th>\n",
       "      <td>746-04-1077</td>\n",
       "      <td>2019-01-01</td>\n",
       "      <td>B</td>\n",
       "      <td>11:36</td>\n",
       "    </tr>\n",
       "    <tr>\n",
       "      <th>839</th>\n",
       "      <td>271-77-8740</td>\n",
       "      <td>2019-01-01</td>\n",
       "      <td>C</td>\n",
       "      <td>11:40</td>\n",
       "    </tr>\n",
       "    <tr>\n",
       "      <th>523</th>\n",
       "      <td>133-14-7229</td>\n",
       "      <td>2019-01-01</td>\n",
       "      <td>C</td>\n",
       "      <td>11:43</td>\n",
       "    </tr>\n",
       "    <tr>\n",
       "      <th>567</th>\n",
       "      <td>651-88-7328</td>\n",
       "      <td>2019-01-01</td>\n",
       "      <td>A</td>\n",
       "      <td>13:55</td>\n",
       "    </tr>\n",
       "    <tr>\n",
       "      <th>...</th>\n",
       "      <td>...</td>\n",
       "      <td>...</td>\n",
       "      <td>...</td>\n",
       "      <td>...</td>\n",
       "    </tr>\n",
       "    <tr>\n",
       "      <th>671</th>\n",
       "      <td>642-61-4706</td>\n",
       "      <td>2019-03-30</td>\n",
       "      <td>B</td>\n",
       "      <td>16:34</td>\n",
       "    </tr>\n",
       "    <tr>\n",
       "      <th>474</th>\n",
       "      <td>676-39-6028</td>\n",
       "      <td>2019-03-30</td>\n",
       "      <td>A</td>\n",
       "      <td>17:04</td>\n",
       "    </tr>\n",
       "    <tr>\n",
       "      <th>473</th>\n",
       "      <td>731-59-7531</td>\n",
       "      <td>2019-03-30</td>\n",
       "      <td>B</td>\n",
       "      <td>17:58</td>\n",
       "    </tr>\n",
       "    <tr>\n",
       "      <th>643</th>\n",
       "      <td>131-15-8856</td>\n",
       "      <td>2019-03-30</td>\n",
       "      <td>C</td>\n",
       "      <td>19:26</td>\n",
       "    </tr>\n",
       "    <tr>\n",
       "      <th>963</th>\n",
       "      <td>364-34-2972</td>\n",
       "      <td>2019-03-30</td>\n",
       "      <td>C</td>\n",
       "      <td>20:37</td>\n",
       "    </tr>\n",
       "  </tbody>\n",
       "</table>\n",
       "<p>1000 rows × 4 columns</p>\n",
       "</div>"
      ],
      "text/plain": [
       "      Invoice ID       Date Branch   Time\n",
       "17   765-26-6951 2019-01-01      A  10:39\n",
       "970  746-04-1077 2019-01-01      B  11:36\n",
       "839  271-77-8740 2019-01-01      C  11:40\n",
       "523  133-14-7229 2019-01-01      C  11:43\n",
       "567  651-88-7328 2019-01-01      A  13:55\n",
       "..           ...        ...    ...    ...\n",
       "671  642-61-4706 2019-03-30      B  16:34\n",
       "474  676-39-6028 2019-03-30      A  17:04\n",
       "473  731-59-7531 2019-03-30      B  17:58\n",
       "643  131-15-8856 2019-03-30      C  19:26\n",
       "963  364-34-2972 2019-03-30      C  20:37\n",
       "\n",
       "[1000 rows x 4 columns]"
      ]
     },
     "execution_count": 50,
     "metadata": {},
     "output_type": "execute_result"
    }
   ],
   "source": [
    "# sort the invoice using date and time\n",
    "\n",
    "df[['Invoice ID','Date','Branch','Time']].sort_values(['Date','Time'])"
   ]
  },
  {
   "cell_type": "markdown",
   "id": "46c76ab8",
   "metadata": {},
   "source": [
    "__Problem:__ Compute the company gross income each date. Then plot it as a time series."
   ]
  },
  {
   "cell_type": "code",
   "execution_count": 20,
   "id": "36eac993",
   "metadata": {},
   "outputs": [
    {
     "name": "stdout",
     "output_type": "stream",
     "text": [
      "Date\n",
      "2019-01-01    225.9610\n",
      "2019-01-02     92.6430\n",
      "2019-01-03     98.9585\n",
      "2019-01-04     77.3185\n",
      "2019-01-05    168.4135\n",
      "                ...   \n",
      "2019-03-26     93.4530\n",
      "2019-03-27    138.2295\n",
      "2019-03-28    106.1620\n",
      "2019-03-29    191.5830\n",
      "2019-03-30    213.6695\n",
      "Name: gross income, Length: 89, dtype: float64\n"
     ]
    }
   ],
   "source": [
    "income_each_date = df.groupby('Date')['gross income'].sum()\n",
    "print(income_each_date)"
   ]
  },
  {
   "cell_type": "code",
   "execution_count": 21,
   "id": "920b535c",
   "metadata": {},
   "outputs": [
    {
     "data": {
      "text/plain": [
       "<AxesSubplot:xlabel='Date'>"
      ]
     },
     "execution_count": 21,
     "metadata": {},
     "output_type": "execute_result"
    },
    {
     "data": {
      "image/png": "[encoded data removed]",
      "text/plain": [
       "<Figure size 640x480 with 1 Axes>"
      ]
     },
     "metadata": {},
     "output_type": "display_data"
    }
   ],
   "source": [
    "# Normally when there is time you plot the data\n",
    "\n",
    "income_each_date.plot(legend=True)"
   ]
  },
  {
   "cell_type": "markdown",
   "id": "11bd7488",
   "metadata": {},
   "source": [
    "__Practice:__ Calculate the average gross income for each hour during the day. Plot it as a bar chart."
   ]
  },
  {
   "cell_type": "code",
   "execution_count": 35,
   "id": "96cf7df7",
   "metadata": {
    "scrolled": true
   },
   "outputs": [
    {
     "data": {
      "text/plain": [
       "<AxesSubplot:xlabel='Hour'>"
      ]
     },
     "execution_count": 35,
     "metadata": {},
     "output_type": "execute_result"
    },
    {
     "data": {
      "image/png": "[encoded data removed]",
      "text/plain": [
       "<Figure size 640x480 with 1 Axes>"
      ]
     },
     "metadata": {},
     "output_type": "display_data"
    }
   ],
   "source": [
    "# First we must get hour\n",
    "df[\"Time\"] = pd.to_datetime(df[\"Time\"])\n",
    "df[\"Hour\"] = df[\"Time\"].apply(lambda x: x.hour)\n",
    "df[[\"Time\", \"Hour\"]]\n",
    "\n",
    "# Then we calculate average gross income by hour\n",
    "\n",
    "average_gross_income = df.groupby(\"Hour\")[\"gross income\"].mean()\n",
    "average_gross_income\n",
    "\n",
    "# Plot bar chart\n",
    "\n",
    "average_gross_income.plot.bar(legend = True)"
   ]
  },
  {
   "cell_type": "code",
   "execution_count": null,
   "id": "f862d100",
   "metadata": {},
   "outputs": [],
   "source": [
    "# Scatter plot - used to plot data and explore correlations\n",
    "# Line chart - used with respect to time\n",
    "# Bar chart - when basing something on gender city"
   ]
  },
  {
   "cell_type": "code",
   "execution_count": 43,
   "id": "9e3b0f5a",
   "metadata": {},
   "outputs": [
    {
     "data": {
      "image/png": "[encoded data removed]",
      "text/plain": [
       "<Figure size 1000x600 with 1 Axes>"
      ]
     },
     "metadata": {},
     "output_type": "display_data"
    },
    {
     "data": {
      "image/png": "[encoded data removed]",
      "text/plain": [
       "<Figure size 1000x600 with 1 Axes>"
      ]
     },
     "metadata": {},
     "output_type": "display_data"
    }
   ],
   "source": [
    "import matplotlib.pyplot as plt\n",
    "\n",
    "# Plotting by group\n",
    "# Group the data by gender and city\n",
    "\n",
    "grouped = df.groupby([\"Gender\", \"City\"])\n",
    "\n",
    "# Calculate the gross income for each gender at each city\n",
    "\n",
    "mean_income = grouped[\"gross income\"].mean()\n",
    "mean_income\n",
    "\n",
    "# Plot a bar chart for gross income from each city group by gender\n",
    "\n",
    "mean_income.unstack('City').plot(kind='bar', figsize=(10, 6))\n",
    "mean_income.unstack('Gender').plot(kind='bar', figsize=(10, 6))\n",
    "\n",
    "plt.xlabel('Gender')\n",
    "plt.title('Sum income by Gender and City')\n",
    "plt.show()"
   ]
  },
  {
   "cell_type": "code",
   "execution_count": null,
   "id": "7ba560a2",
   "metadata": {},
   "outputs": [],
   "source": []
  }
 ],
 "metadata": {
  "kernelspec": {
   "display_name": "Python 3 (ipykernel)",
   "language": "python",
   "name": "python3"
  },
  "language_info": {
   "codemirror_mode": {
    "name": "ipython",
    "version": 3
   },
   "file_extension": ".py",
   "mimetype": "text/x-python",
   "name": "python",
   "nbconvert_exporter": "python",
   "pygments_lexer": "ipython3",
   "version": "3.9.13"
  }
 },
 "nbformat": 4,
 "nbformat_minor": 5
}
