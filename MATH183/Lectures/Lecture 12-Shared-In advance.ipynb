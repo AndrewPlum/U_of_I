{
 "cells": [
  {
   "cell_type": "markdown",
   "id": "9445a699",
   "metadata": {},
   "source": [
    "## Workshop problem\n",
    "\n",
    "__Problem:__ Read the \"supermarket_data.csv\" file. Read the names of the columns (nicely!).\n"
   ]
  },
  {
   "cell_type": "code",
   "execution_count": null,
   "id": "463727de",
   "metadata": {},
   "outputs": [],
   "source": [
    "# your code here"
   ]
  },
  {
   "cell_type": "markdown",
   "id": "e90c72b1",
   "metadata": {},
   "source": [
    "(a) What is the average unit price of each product line?"
   ]
  },
  {
   "cell_type": "code",
   "execution_count": null,
   "id": "aff0a99b",
   "metadata": {},
   "outputs": [],
   "source": [
    "# your code here"
   ]
  },
  {
   "cell_type": "markdown",
   "id": "dd264c36",
   "metadata": {},
   "source": [
    "(b) What is the highest-rated brach in the dataset? "
   ]
  },
  {
   "cell_type": "code",
   "execution_count": null,
   "id": "a346cbb0",
   "metadata": {},
   "outputs": [],
   "source": [
    "# Your code here"
   ]
  },
  {
   "cell_type": "markdown",
   "id": "bd81c37a",
   "metadata": {},
   "source": [
    "(c) Which branch has the most gross income?"
   ]
  },
  {
   "cell_type": "code",
   "execution_count": null,
   "id": "4029caad",
   "metadata": {},
   "outputs": [],
   "source": [
    "# Your code here"
   ]
  },
  {
   "cell_type": "markdown",
   "id": "72263787",
   "metadata": {},
   "source": [
    "(d) What's the most polular type of payment?"
   ]
  },
  {
   "cell_type": "code",
   "execution_count": null,
   "id": "6b844a70",
   "metadata": {},
   "outputs": [],
   "source": [
    "# Your code here"
   ]
  },
  {
   "cell_type": "markdown",
   "id": "81ae9d85",
   "metadata": {},
   "source": [
    "(e) How many years does the dataset span?"
   ]
  },
  {
   "cell_type": "code",
   "execution_count": null,
   "id": "459530a0",
   "metadata": {},
   "outputs": [],
   "source": [
    "# Your code here"
   ]
  },
  {
   "cell_type": "markdown",
   "id": "f4f2eb6a",
   "metadata": {},
   "source": [
    "(f) What is the average revenue of each product line, broken down by month?"
   ]
  },
  {
   "cell_type": "code",
   "execution_count": null,
   "id": "83e03876",
   "metadata": {},
   "outputs": [],
   "source": [
    "# Your code here"
   ]
  },
  {
   "cell_type": "markdown",
   "id": "19953b90",
   "metadata": {},
   "source": [
    "(g) Study the relationships between the following quantities:\n",
    "'Unit price', 'Quantity', 'Tax 5%','cogs','gross margin percentage','gross income'"
   ]
  },
  {
   "cell_type": "code",
   "execution_count": null,
   "id": "41ed08ae",
   "metadata": {},
   "outputs": [],
   "source": [
    "# Your code here"
   ]
  }
 ],
 "metadata": {
  "kernelspec": {
   "display_name": "Python 3 (ipykernel)",
   "language": "python",
   "name": "python3"
  },
  "language_info": {
   "codemirror_mode": {
    "name": "ipython",
    "version": 3
   },
   "file_extension": ".py",
   "mimetype": "text/x-python",
   "name": "python",
   "nbconvert_exporter": "python",
   "pygments_lexer": "ipython3",
   "version": "3.9.13"
  }
 },
 "nbformat": 4,
 "nbformat_minor": 5
}
