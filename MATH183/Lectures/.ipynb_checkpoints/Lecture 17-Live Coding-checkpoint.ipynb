{
 "cells": [
  {
   "cell_type": "markdown",
   "id": "cb213149",
   "metadata": {},
   "source": [
    "## Terminologies\n",
    "\n",
    "Mathematical names for (nd)array:\n",
    "\n",
    "- 1D (one axis): __vector__ or __rank 1 tensor__\n",
    "\n",
    "- 2D (two axes): __matrix__ or __rank 2 tensor__\n",
    "\n",
    "- 3D and above (three axes or more): __rank n tensor__\n",
    "\n",
    "<img src=\"tensors.png\"\n",
    "     alt=\"Markdown Monster icon\"\n",
    "     style=\"float: left; margin-right: 50px;\" />"
   ]
  },
  {
   "cell_type": "code",
   "execution_count": 3,
   "id": "006ab08b",
   "metadata": {},
   "outputs": [
    {
     "name": "stdout",
     "output_type": "stream",
     "text": [
      "[ 1.  2.  3.  5. 10.]\n"
     ]
    },
    {
     "data": {
      "text/plain": [
       "array([2., 3., 5.])"
      ]
     },
     "execution_count": 3,
     "metadata": {},
     "output_type": "execute_result"
    }
   ],
   "source": [
    "# vector \n",
    "import matplotlib.pyplot as plt\n",
    "import numpy as np\n",
    "v= np.array([1,2.,3.,5,10])\n",
    "print(v)\n",
    "# indexing: the same as list\n",
    "#v[-1]\n",
    "# slicing: the same as a list \n",
    "v[1:-1]\n"
   ]
  },
  {
   "cell_type": "code",
   "execution_count": 4,
   "id": "ad8b24b7",
   "metadata": {},
   "outputs": [
    {
     "name": "stdout",
     "output_type": "stream",
     "text": [
      "[[1 2 4]\n",
      " [3 4 5]\n",
      " [0 3 4]\n",
      " [1 1 1]]\n"
     ]
    },
    {
     "data": {
      "text/plain": [
       "array([[4, 5],\n",
       "       [3, 4]])"
      ]
     },
     "execution_count": 4,
     "metadata": {},
     "output_type": "execute_result"
    }
   ],
   "source": [
    "#matrix \n",
    "m = np.array([[1,2,4],[3,4,5],[0,3,4], [1,1,1]])\n",
    "print(m)\n",
    "\n",
    "# indexing: row index, column index \n",
    "m[2,1]\n",
    "\n",
    "# slicing\n",
    "m[1:3,1:3]"
   ]
  },
  {
   "cell_type": "code",
   "execution_count": 33,
   "id": "bd54c89f",
   "metadata": {},
   "outputs": [
    {
     "name": "stdout",
     "output_type": "stream",
     "text": [
      "[[[ 0  1  2]\n",
      "  [ 3  4  5]]\n",
      "\n",
      " [[ 6  7  8]\n",
      "  [ 9 10 11]]\n",
      "\n",
      " [[12 13 14]\n",
      "  [15 16 17]]\n",
      "\n",
      " [[18 19 20]\n",
      "  [21 22 23]]]\n"
     ]
    },
    {
     "data": {
      "text/plain": [
       "array([[[ 7,  8],\n",
       "        [10, 11]],\n",
       "\n",
       "       [[13, 14],\n",
       "        [16, 17]],\n",
       "\n",
       "       [[19, 20],\n",
       "        [22, 23]]])"
      ]
     },
     "execution_count": 33,
     "metadata": {},
     "output_type": "execute_result"
    }
   ],
   "source": [
    "t = np.array([[[0,1,2],[3,4,5]], [[6,7,8],[9,10,11]],[[12,13,14],[15,16,17]], [[18,19,20],[21,22,23]]])\n",
    "print(t)\n",
    "#t.shape\n",
    "\n",
    "# indexing\n",
    "t[0,0,1]\n",
    "#[z,y,x]\n",
    "\n",
    "# slicing \n",
    "t[1:,:,1:]\n"
   ]
  },
  {
   "cell_type": "markdown",
   "id": "6c75c94e",
   "metadata": {},
   "source": [
    "## Looping over an array\n",
    "\n",
    "Looping over the first index"
   ]
  },
  {
   "cell_type": "code",
   "execution_count": 34,
   "id": "3c9e938b",
   "metadata": {},
   "outputs": [
    {
     "name": "stdout",
     "output_type": "stream",
     "text": [
      "[ 1.  2.  3.  5. 10.]\n",
      "1.0\n",
      "2.0\n",
      "3.0\n",
      "5.0\n",
      "10.0\n"
     ]
    }
   ],
   "source": [
    "#looping over vector \n",
    "\n",
    "print(v)\n",
    "for e in v:\n",
    "    print(e)"
   ]
  },
  {
   "cell_type": "code",
   "execution_count": 43,
   "id": "e42dac73",
   "metadata": {},
   "outputs": [
    {
     "name": "stdout",
     "output_type": "stream",
     "text": [
      "[[1 2 4]\n",
      " [3 4 5]] \n",
      "\n",
      "[[1 2 4]\n",
      " [3 4 5]] \n",
      "\n"
     ]
    }
   ],
   "source": [
    "#looping over matrix\n",
    "\n",
    "#print(m)\n",
    "\n",
    "for e in m:\n",
    "    print(e,'\\n')\n",
    "    \n",
    "# THIS ISN\"T WORKING FOR SOME REASON"
   ]
  },
  {
   "cell_type": "code",
   "execution_count": 47,
   "id": "a716e2b5",
   "metadata": {},
   "outputs": [
    {
     "name": "stdout",
     "output_type": "stream",
     "text": [
      "[[[ 0  1  2]\n",
      "  [ 3  4  5]]\n",
      "\n",
      " [[ 6  7  8]\n",
      "  [ 9 10 11]]\n",
      "\n",
      " [[12 13 14]\n",
      "  [15 16 17]]\n",
      "\n",
      " [[18 19 20]\n",
      "  [21 22 23]]] \n",
      "\n",
      "Looping:\n",
      "[[0 1 2]\n",
      " [3 4 5]] \n",
      "\n",
      "[[ 6  7  8]\n",
      " [ 9 10 11]] \n",
      "\n",
      "[[12 13 14]\n",
      " [15 16 17]] \n",
      "\n",
      "[[18 19 20]\n",
      " [21 22 23]] \n",
      "\n"
     ]
    }
   ],
   "source": [
    "# looping over tensor\n",
    "\n",
    "print(t,\"\\n\")\n",
    "print(\"Looping:\")\n",
    "for m in t:\n",
    "    print(m,'\\n')"
   ]
  },
  {
   "cell_type": "markdown",
   "id": "a50fbb1f",
   "metadata": {},
   "source": [
    "## Element looping by flattening \n",
    "You can iterate over all __elements__ of a tensor by using the function __flat__."
   ]
  },
  {
   "cell_type": "code",
   "execution_count": 48,
   "id": "8580931c",
   "metadata": {},
   "outputs": [
    {
     "name": "stdout",
     "output_type": "stream",
     "text": [
      "[[1 2 4]\n",
      " [3 4 5]]\n",
      "18\n",
      "19\n",
      "20\n",
      "21\n",
      "22\n",
      "23\n"
     ]
    }
   ],
   "source": [
    "# looping over matrix\n",
    "\n",
    "print(e)\n",
    "\n",
    "for e in m.flat:\n",
    "    print(e)"
   ]
  },
  {
   "cell_type": "code",
   "execution_count": 50,
   "id": "d8f4a9a0",
   "metadata": {},
   "outputs": [
    {
     "name": "stdout",
     "output_type": "stream",
     "text": [
      "[[[ 0  1  2]\n",
      "  [ 3  4  5]]\n",
      "\n",
      " [[ 6  7  8]\n",
      "  [ 9 10 11]]\n",
      "\n",
      " [[12 13 14]\n",
      "  [15 16 17]]\n",
      "\n",
      " [[18 19 20]\n",
      "  [21 22 23]]]\n",
      "0\n",
      "1\n",
      "2\n",
      "3\n",
      "4\n",
      "5\n",
      "6\n",
      "7\n",
      "8\n",
      "9\n",
      "10\n",
      "11\n",
      "12\n",
      "13\n",
      "14\n",
      "15\n",
      "16\n",
      "17\n",
      "18\n",
      "19\n",
      "20\n",
      "21\n",
      "22\n",
      "23\n"
     ]
    }
   ],
   "source": [
    "# looping over tensor\n",
    "\n",
    "print(t)\n",
    "\n",
    "for e in t.flat:\n",
    "    print(e)"
   ]
  },
  {
   "cell_type": "markdown",
   "id": "327baaf7",
   "metadata": {},
   "source": [
    "## Meshgrid\n",
    "\n",
    "__meshgrid__ is a function commonly used in numerical computing and scientific computing. It is used to create a __grid__ of coordinate from two or more arrays of coordinate values.\n",
    "\n",
    "Given two vectors $x = [x_0,\\dots, x_{m-1}]$, $y = [y_0,\\cdots,y_{n-1}]$. Then their __grid__ consists of $mn$ points in the form $(x_i,y_j)$ where $i=0,\\dots,m-1$ and $j =0,\\dots,n-1$.  "
   ]
  },
  {
   "cell_type": "code",
   "execution_count": 68,
   "id": "d3c64f41",
   "metadata": {},
   "outputs": [
    {
     "name": "stdout",
     "output_type": "stream",
     "text": [
      "[[1 2 3]\n",
      " [1 2 3]\n",
      " [1 2 3]\n",
      " [1 2 3]]\n",
      "[[-2 -2 -2]\n",
      " [-1 -1 -1]\n",
      " [ 0  0  0]\n",
      " [ 1  1  1]]\n"
     ]
    },
    {
     "data": {
      "image/png": "[encoded data removed]",
      "text/plain": [
       "<Figure size 500x500 with 1 Axes>"
      ]
     },
     "metadata": {},
     "output_type": "display_data"
    }
   ],
   "source": [
    "import matplotlib.pyplot as plt\n",
    "import numpy as np\n",
    "x = np.array([1,2,3])\n",
    "y = np.array([-2,-1,0,1])\n",
    "X,Y = np.meshgrid(x,y)\n",
    "\n",
    "print(X)\n",
    "print(Y)\n",
    "# They can be printed out\n",
    "# NOTE: The size of the matrices of X and Y are the same as the meshgrid\n",
    "#       The meshgrid is all possible combinations of X and Y\n",
    "\n",
    "plt.scatter(X.flat,Y.flat)   \n",
    "plt.rcParams[\"figure.figsize\"] = (5,10)\n",
    "plt.xlim(-1,4)\n",
    "plt.ylim(-4,2)\n",
    "plt.xlabel('x value')\n",
    "plt.ylabel('y value')\n",
    "plt.show()"
   ]
  },
  {
   "cell_type": "markdown",
   "id": "003b6d2d",
   "metadata": {},
   "source": [
    "### Application 1: Computation\n",
    "\n",
    "__Problem:__ (Using meshgrid) Compute the sum $\\sum_{m=1}^{50} \\sum_{n=1}^{100} \\sin(mn).$"
   ]
  },
  {
   "cell_type": "code",
   "execution_count": 57,
   "id": "1baf6c91",
   "metadata": {},
   "outputs": [
    {
     "data": {
      "text/plain": [
       "67.14305583771493"
      ]
     },
     "execution_count": 57,
     "metadata": {},
     "output_type": "execute_result"
    }
   ],
   "source": [
    "m= np.arange(1,51)\n",
    "n= np.arange(1,101)\n",
    "M,N = np.meshgrid(m,n)\n",
    "sum2 = np.sum(np.sin(M*N))\n",
    "sum2"
   ]
  },
  {
   "cell_type": "markdown",
   "id": "844ff353",
   "metadata": {},
   "source": [
    "### Application 2: Visualization"
   ]
  },
  {
   "cell_type": "code",
   "execution_count": 69,
   "id": "ab16c835",
   "metadata": {},
   "outputs": [
    {
     "data": {
      "text/plain": [
       "<matplotlib.image.AxesImage at 0x1f867c7d130>"
      ]
     },
     "execution_count": 69,
     "metadata": {},
     "output_type": "execute_result"
    },
    {
     "data": {
      "image/png": "[encoded data removed]",
      "text/plain": [
       "<Figure size 500x1000 with 1 Axes>"
      ]
     },
     "metadata": {},
     "output_type": "display_data"
    }
   ],
   "source": [
    "# visualizing the function f(x,y) = sin(xy)\n",
    "\n",
    "from numpy import pi\n",
    "\n",
    "x=np.linspace(-pi,pi,100)\n",
    "y=np.linspace(-pi,pi,100)\n",
    "\n",
    "X, Y = np.meshgrid(x,y)\n",
    "f = np.sin(X*Y)\n",
    "\n",
    "import matplotlib.pyplot as plt\n",
    "\n",
    "plt.imshow(f)"
   ]
  },
  {
   "cell_type": "markdown",
   "id": "db6de356",
   "metadata": {},
   "source": [
    "__Problem:__ Plot the unit disc in the rectangle $[-2,2] \\times [-2,2]$."
   ]
  },
  {
   "cell_type": "code",
   "execution_count": 91,
   "id": "e26ccc71",
   "metadata": {},
   "outputs": [
    {
     "data": {
      "text/plain": [
       "<matplotlib.image.AxesImage at 0x1f86614d5b0>"
      ]
     },
     "execution_count": 91,
     "metadata": {},
     "output_type": "execute_result"
    },
    {
     "data": {
      "image/png": "[encoded data removed]",
      "text/plain": [
       "<Figure size 500x1000 with 1 Axes>"
      ]
     },
     "metadata": {},
     "output_type": "display_data"
    }
   ],
   "source": [
    "%matplotlib inline\n",
    "x=np.linspace(-2,2,100)\n",
    "y=np.linspace(-2,2,100)\n",
    "X,Y = np.meshgrid(x,y)\n",
    "f = np.zeros(X.shape) # can be Y.shape\n",
    "f[X**2+Y**2<=1] = 1\n",
    "plt.imshow(f)\n"
   ]
  },
  {
   "cell_type": "markdown",
   "id": "4eb07789",
   "metadata": {},
   "source": [
    "__Practice:__ Plot the ellipse define by $(x/2)^2 + y^2 =1$."
   ]
  },
  {
   "cell_type": "code",
   "execution_count": 96,
   "id": "88d067e8",
   "metadata": {},
   "outputs": [
    {
     "data": {
      "text/plain": [
       "<matplotlib.image.AxesImage at 0x1f867ba5970>"
      ]
     },
     "execution_count": 96,
     "metadata": {},
     "output_type": "execute_result"
    },
    {
     "data": {
      "image/png": "[encoded data removed]",
      "text/plain": [
       "<Figure size 500x1000 with 1 Axes>"
      ]
     },
     "metadata": {},
     "output_type": "display_data"
    }
   ],
   "source": [
    "%matplotlib inline\n",
    "x=np.linspace(-2,2,1000) # adjusting the last value makes it \n",
    "y=np.linspace(-2,2,1000)\n",
    "X,Y = np.meshgrid(x,y)\n",
    "f = np.zeros(X.shape) # can be Y.shape\n",
    "f[(X/2)**2+Y**2<1] = 1\n",
    "plt.imshow(f)\n"
   ]
  }
 ],
 "metadata": {
  "kernelspec": {
   "display_name": "Python 3 (ipykernel)",
   "language": "python",
   "name": "python3"
  },
  "language_info": {
   "codemirror_mode": {
    "name": "ipython",
    "version": 3
   },
   "file_extension": ".py",
   "mimetype": "text/x-python",
   "name": "python",
   "nbconvert_exporter": "python",
   "pygments_lexer": "ipython3",
   "version": "3.9.13"
  }
 },
 "nbformat": 4,
 "nbformat_minor": 5
}
