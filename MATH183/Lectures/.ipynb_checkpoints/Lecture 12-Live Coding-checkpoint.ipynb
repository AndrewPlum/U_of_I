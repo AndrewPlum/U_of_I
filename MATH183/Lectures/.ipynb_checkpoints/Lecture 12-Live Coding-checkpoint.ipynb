{
 "cells": [
  {
   "cell_type": "markdown",
   "id": "9445a699",
   "metadata": {},
   "source": [
    "## Workshop problem\n",
    "\n",
    "__Problem:__ Read the \"supermarket_data.csv\" file. Read the names of the columns (nicely!).\n"
   ]
  },
  {
   "cell_type": "code",
   "execution_count": 6,
   "id": "463727de",
   "metadata": {},
   "outputs": [
    {
     "name": "stdout",
     "output_type": "stream",
     "text": [
      "Invoice ID\n",
      "Branch\n",
      "City\n",
      "Customer type\n",
      "Gender\n",
      "Product line\n",
      "Unit price\n",
      "Quantity\n",
      "Tax 5%\n",
      "Total\n",
      "Date\n",
      "Time\n",
      "Payment\n",
      "cogs\n",
      "gross margin percentage\n",
      "gross income\n",
      "Rating\n"
     ]
    }
   ],
   "source": [
    "# your code here\n",
    "import pandas as pd\n",
    "df = pd.read_csv(\"supermarket_data.csv\")\n",
    "for col in df.columns:\n",
    "    print(col)"
   ]
  },
  {
   "cell_type": "markdown",
   "id": "e90c72b1",
   "metadata": {},
   "source": [
    "(a) What is the average unit price of each product line?"
   ]
  },
  {
   "cell_type": "code",
   "execution_count": 7,
   "id": "aff0a99b",
   "metadata": {},
   "outputs": [
    {
     "data": {
      "text/plain": [
       "Product line\n",
       "Electronic accessories    53.551588\n",
       "Fashion accessories       57.153652\n",
       "Food and beverages        56.008851\n",
       "Health and beauty         54.854474\n",
       "Home and lifestyle        55.316937\n",
       "Sports and travel         56.993253\n",
       "Name: Unit price, dtype: float64"
      ]
     },
     "execution_count": 7,
     "metadata": {},
     "output_type": "execute_result"
    }
   ],
   "source": [
    "# your code here\n",
    "df.head()\n",
    "df.groupby('Product line')['Unit price'].mean()"
   ]
  },
  {
   "cell_type": "markdown",
   "id": "dd264c36",
   "metadata": {},
   "source": [
    "(b) What is the highest-rated brach in the dataset? "
   ]
  },
  {
   "cell_type": "code",
   "execution_count": 8,
   "id": "a346cbb0",
   "metadata": {},
   "outputs": [
    {
     "data": {
      "text/plain": [
       "idxmax           C\n",
       "max       7.072866\n",
       "Name: Rating, dtype: object"
      ]
     },
     "execution_count": 8,
     "metadata": {},
     "output_type": "execute_result"
    }
   ],
   "source": [
    "# Your code here\n",
    "df.groupby('Branch')['Rating'].mean().aggregate(['idxmax',max])"
   ]
  },
  {
   "cell_type": "markdown",
   "id": "bd81c37a",
   "metadata": {},
   "source": [
    "(c) Which branch has the most gross income?"
   ]
  },
  {
   "cell_type": "code",
   "execution_count": 9,
   "id": "4029caad",
   "metadata": {},
   "outputs": [
    {
     "data": {
      "text/plain": [
       "idxmax            C\n",
       "max       5265.1765\n",
       "Name: gross income, dtype: object"
      ]
     },
     "execution_count": 9,
     "metadata": {},
     "output_type": "execute_result"
    }
   ],
   "source": [
    "# Your code here\n",
    "df.groupby('Branch')['gross income'].sum().aggregate(['idxmax', 'max'])"
   ]
  },
  {
   "cell_type": "markdown",
   "id": "72263787",
   "metadata": {},
   "source": [
    "(d) What's the most polular type of payment?"
   ]
  },
  {
   "cell_type": "code",
   "execution_count": 10,
   "id": "910a3c2d",
   "metadata": {},
   "outputs": [
    {
     "name": "stdout",
     "output_type": "stream",
     "text": [
      "1000\n",
      "1000\n"
     ]
    }
   ],
   "source": [
    "print(len(df['Invoice ID']))\n",
    "print(len(df['Invoice ID'].unique()))"
   ]
  },
  {
   "cell_type": "code",
   "execution_count": 11,
   "id": "6b844a70",
   "metadata": {},
   "outputs": [
    {
     "data": {
      "text/plain": [
       "'Ewallet'"
      ]
     },
     "execution_count": 11,
     "metadata": {},
     "output_type": "execute_result"
    }
   ],
   "source": [
    "# Your code here\n",
    "df.groupby('Payment')['Invoice ID'].count().idxmax()"
   ]
  },
  {
   "cell_type": "markdown",
   "id": "81ae9d85",
   "metadata": {},
   "source": [
    "(e) How many years does the dataset span?"
   ]
  },
  {
   "cell_type": "code",
   "execution_count": 12,
   "id": "459530a0",
   "metadata": {},
   "outputs": [
    {
     "name": "stdout",
     "output_type": "stream",
     "text": [
      "{'2019'}\n"
     ]
    }
   ],
   "source": [
    "# Your code here\n",
    "#date = df[\"Date\"][0]\n",
    "#print(date)\n",
    "#data = str.split(date,'/')\n",
    "#print(data[2])\n",
    "#data = str.spit(date,'/')\n",
    "years = []\n",
    "for date in df[\"Date\"]:\n",
    "    data = str.split(date,'/')\n",
    "    years.append(data[2])\n",
    "print(set(years))"
   ]
  },
  {
   "cell_type": "markdown",
   "id": "f4f2eb6a",
   "metadata": {},
   "source": [
    "(f) What is the gross income of each product line, broken down by month?"
   ]
  },
  {
   "cell_type": "code",
   "execution_count": 13,
   "id": "277f25b1",
   "metadata": {},
   "outputs": [
    {
     "name": "stdout",
     "output_type": "stream",
     "text": [
      "{'2', '3', '1'}\n"
     ]
    },
    {
     "data": {
      "text/html": [
       "<div>\n",
       "<style scoped>\n",
       "    .dataframe tbody tr th:only-of-type {\n",
       "        vertical-align: middle;\n",
       "    }\n",
       "\n",
       "    .dataframe tbody tr th {\n",
       "        vertical-align: top;\n",
       "    }\n",
       "\n",
       "    .dataframe thead th {\n",
       "        text-align: right;\n",
       "    }\n",
       "</style>\n",
       "<table border=\"1\" class=\"dataframe\">\n",
       "  <thead>\n",
       "    <tr style=\"text-align: right;\">\n",
       "      <th></th>\n",
       "      <th>Invoice ID</th>\n",
       "      <th>Branch</th>\n",
       "      <th>City</th>\n",
       "      <th>Customer type</th>\n",
       "      <th>Gender</th>\n",
       "      <th>Product line</th>\n",
       "      <th>Unit price</th>\n",
       "      <th>Quantity</th>\n",
       "      <th>Tax 5%</th>\n",
       "      <th>Total</th>\n",
       "      <th>Date</th>\n",
       "      <th>Time</th>\n",
       "      <th>Payment</th>\n",
       "      <th>cogs</th>\n",
       "      <th>gross margin percentage</th>\n",
       "      <th>gross income</th>\n",
       "      <th>Rating</th>\n",
       "      <th>Months</th>\n",
       "    </tr>\n",
       "  </thead>\n",
       "  <tbody>\n",
       "    <tr>\n",
       "      <th>0</th>\n",
       "      <td>750-67-8428</td>\n",
       "      <td>A</td>\n",
       "      <td>Yangon</td>\n",
       "      <td>Member</td>\n",
       "      <td>Female</td>\n",
       "      <td>Health and beauty</td>\n",
       "      <td>74.69</td>\n",
       "      <td>7</td>\n",
       "      <td>26.1415</td>\n",
       "      <td>548.9715</td>\n",
       "      <td>1/5/2019</td>\n",
       "      <td>13:08</td>\n",
       "      <td>Ewallet</td>\n",
       "      <td>522.83</td>\n",
       "      <td>4.761905</td>\n",
       "      <td>26.1415</td>\n",
       "      <td>9.1</td>\n",
       "      <td>1</td>\n",
       "    </tr>\n",
       "    <tr>\n",
       "      <th>1</th>\n",
       "      <td>226-31-3081</td>\n",
       "      <td>C</td>\n",
       "      <td>Naypyitaw</td>\n",
       "      <td>Normal</td>\n",
       "      <td>Female</td>\n",
       "      <td>Electronic accessories</td>\n",
       "      <td>15.28</td>\n",
       "      <td>5</td>\n",
       "      <td>3.8200</td>\n",
       "      <td>80.2200</td>\n",
       "      <td>3/8/2019</td>\n",
       "      <td>10:29</td>\n",
       "      <td>Cash</td>\n",
       "      <td>76.40</td>\n",
       "      <td>4.761905</td>\n",
       "      <td>3.8200</td>\n",
       "      <td>9.6</td>\n",
       "      <td>3</td>\n",
       "    </tr>\n",
       "    <tr>\n",
       "      <th>2</th>\n",
       "      <td>631-41-3108</td>\n",
       "      <td>A</td>\n",
       "      <td>Yangon</td>\n",
       "      <td>Normal</td>\n",
       "      <td>Male</td>\n",
       "      <td>Home and lifestyle</td>\n",
       "      <td>46.33</td>\n",
       "      <td>7</td>\n",
       "      <td>16.2155</td>\n",
       "      <td>340.5255</td>\n",
       "      <td>3/3/2019</td>\n",
       "      <td>13:23</td>\n",
       "      <td>Credit card</td>\n",
       "      <td>324.31</td>\n",
       "      <td>4.761905</td>\n",
       "      <td>16.2155</td>\n",
       "      <td>7.4</td>\n",
       "      <td>3</td>\n",
       "    </tr>\n",
       "    <tr>\n",
       "      <th>3</th>\n",
       "      <td>123-19-1176</td>\n",
       "      <td>A</td>\n",
       "      <td>Yangon</td>\n",
       "      <td>Member</td>\n",
       "      <td>Male</td>\n",
       "      <td>Health and beauty</td>\n",
       "      <td>58.22</td>\n",
       "      <td>8</td>\n",
       "      <td>23.2880</td>\n",
       "      <td>489.0480</td>\n",
       "      <td>1/27/2019</td>\n",
       "      <td>20:33</td>\n",
       "      <td>Ewallet</td>\n",
       "      <td>465.76</td>\n",
       "      <td>4.761905</td>\n",
       "      <td>23.2880</td>\n",
       "      <td>8.4</td>\n",
       "      <td>1</td>\n",
       "    </tr>\n",
       "    <tr>\n",
       "      <th>4</th>\n",
       "      <td>373-73-7910</td>\n",
       "      <td>A</td>\n",
       "      <td>Yangon</td>\n",
       "      <td>Normal</td>\n",
       "      <td>Male</td>\n",
       "      <td>Sports and travel</td>\n",
       "      <td>86.31</td>\n",
       "      <td>7</td>\n",
       "      <td>30.2085</td>\n",
       "      <td>634.3785</td>\n",
       "      <td>2/8/2019</td>\n",
       "      <td>10:37</td>\n",
       "      <td>Ewallet</td>\n",
       "      <td>604.17</td>\n",
       "      <td>4.761905</td>\n",
       "      <td>30.2085</td>\n",
       "      <td>5.3</td>\n",
       "      <td>2</td>\n",
       "    </tr>\n",
       "  </tbody>\n",
       "</table>\n",
       "</div>"
      ],
      "text/plain": [
       "    Invoice ID Branch       City Customer type  Gender  \\\n",
       "0  750-67-8428      A     Yangon        Member  Female   \n",
       "1  226-31-3081      C  Naypyitaw        Normal  Female   \n",
       "2  631-41-3108      A     Yangon        Normal    Male   \n",
       "3  123-19-1176      A     Yangon        Member    Male   \n",
       "4  373-73-7910      A     Yangon        Normal    Male   \n",
       "\n",
       "             Product line  Unit price  Quantity   Tax 5%     Total       Date  \\\n",
       "0       Health and beauty       74.69         7  26.1415  548.9715   1/5/2019   \n",
       "1  Electronic accessories       15.28         5   3.8200   80.2200   3/8/2019   \n",
       "2      Home and lifestyle       46.33         7  16.2155  340.5255   3/3/2019   \n",
       "3       Health and beauty       58.22         8  23.2880  489.0480  1/27/2019   \n",
       "4       Sports and travel       86.31         7  30.2085  634.3785   2/8/2019   \n",
       "\n",
       "    Time      Payment    cogs  gross margin percentage  gross income  Rating  \\\n",
       "0  13:08      Ewallet  522.83                 4.761905       26.1415     9.1   \n",
       "1  10:29         Cash   76.40                 4.761905        3.8200     9.6   \n",
       "2  13:23  Credit card  324.31                 4.761905       16.2155     7.4   \n",
       "3  20:33      Ewallet  465.76                 4.761905       23.2880     8.4   \n",
       "4  10:37      Ewallet  604.17                 4.761905       30.2085     5.3   \n",
       "\n",
       "  Months  \n",
       "0      1  \n",
       "1      3  \n",
       "2      3  \n",
       "3      1  \n",
       "4      2  "
      ]
     },
     "execution_count": 13,
     "metadata": {},
     "output_type": "execute_result"
    }
   ],
   "source": [
    "# Your code here\n",
    "df.head()\n",
    "months = []\n",
    "for date in df[\"Date\"]:\n",
    "    data = str.split(date,'/')\n",
    "    months.append(data[0])\n",
    "print(set(months))\n",
    "df['Months']= months\n",
    "df.head()"
   ]
  },
  {
   "cell_type": "code",
   "execution_count": 14,
   "id": "ba6fbac7",
   "metadata": {},
   "outputs": [
    {
     "data": {
      "text/plain": [
       "Product line            Months\n",
       "Electronic accessories  1          896.7280\n",
       "                        2          826.8050\n",
       "                        3          863.9685\n",
       "Fashion accessories     1          921.1960\n",
       "                        2          905.2315\n",
       "                        3          759.5675\n",
       "Food and beverages      1          931.9300\n",
       "                        2          952.3980\n",
       "                        3          789.2360\n",
       "Health and beauty       1          780.1510\n",
       "                        2          695.3455\n",
       "                        3          867.0625\n",
       "Home and lifestyle      1          975.9400\n",
       "                        2          592.1135\n",
       "                        3          996.7995\n",
       "Sports and travel       1         1031.7630\n",
       "                        2          657.6005\n",
       "                        3          935.5330\n",
       "Name: gross income, dtype: float64"
      ]
     },
     "execution_count": 14,
     "metadata": {},
     "output_type": "execute_result"
    }
   ],
   "source": [
    "df.groupby(['Product line','Months'])['gross income'].sum()"
   ]
  },
  {
   "cell_type": "markdown",
   "id": "19953b90",
   "metadata": {},
   "source": [
    "(g) Study the relationships between the following quantities:\n",
    "'Unit price', 'Quantity', 'Tax 5%','cogs','gross margin percentage','gross income'"
   ]
  },
  {
   "cell_type": "code",
   "execution_count": 15,
   "id": "d74addde",
   "metadata": {},
   "outputs": [
    {
     "data": {
      "text/html": [
       "<div>\n",
       "<style scoped>\n",
       "    .dataframe tbody tr th:only-of-type {\n",
       "        vertical-align: middle;\n",
       "    }\n",
       "\n",
       "    .dataframe tbody tr th {\n",
       "        vertical-align: top;\n",
       "    }\n",
       "\n",
       "    .dataframe thead th {\n",
       "        text-align: right;\n",
       "    }\n",
       "</style>\n",
       "<table border=\"1\" class=\"dataframe\">\n",
       "  <thead>\n",
       "    <tr style=\"text-align: right;\">\n",
       "      <th></th>\n",
       "      <th>Unit price</th>\n",
       "      <th>Quantity</th>\n",
       "      <th>Tax 5%</th>\n",
       "      <th>cogs</th>\n",
       "      <th>gross margin percentage</th>\n",
       "      <th>gross income</th>\n",
       "    </tr>\n",
       "  </thead>\n",
       "  <tbody>\n",
       "    <tr>\n",
       "      <th>0</th>\n",
       "      <td>74.69</td>\n",
       "      <td>7</td>\n",
       "      <td>26.1415</td>\n",
       "      <td>522.83</td>\n",
       "      <td>4.761905</td>\n",
       "      <td>26.1415</td>\n",
       "    </tr>\n",
       "    <tr>\n",
       "      <th>1</th>\n",
       "      <td>15.28</td>\n",
       "      <td>5</td>\n",
       "      <td>3.8200</td>\n",
       "      <td>76.40</td>\n",
       "      <td>4.761905</td>\n",
       "      <td>3.8200</td>\n",
       "    </tr>\n",
       "    <tr>\n",
       "      <th>2</th>\n",
       "      <td>46.33</td>\n",
       "      <td>7</td>\n",
       "      <td>16.2155</td>\n",
       "      <td>324.31</td>\n",
       "      <td>4.761905</td>\n",
       "      <td>16.2155</td>\n",
       "    </tr>\n",
       "    <tr>\n",
       "      <th>3</th>\n",
       "      <td>58.22</td>\n",
       "      <td>8</td>\n",
       "      <td>23.2880</td>\n",
       "      <td>465.76</td>\n",
       "      <td>4.761905</td>\n",
       "      <td>23.2880</td>\n",
       "    </tr>\n",
       "    <tr>\n",
       "      <th>4</th>\n",
       "      <td>86.31</td>\n",
       "      <td>7</td>\n",
       "      <td>30.2085</td>\n",
       "      <td>604.17</td>\n",
       "      <td>4.761905</td>\n",
       "      <td>30.2085</td>\n",
       "    </tr>\n",
       "  </tbody>\n",
       "</table>\n",
       "</div>"
      ],
      "text/plain": [
       "   Unit price  Quantity   Tax 5%    cogs  gross margin percentage  \\\n",
       "0       74.69         7  26.1415  522.83                 4.761905   \n",
       "1       15.28         5   3.8200   76.40                 4.761905   \n",
       "2       46.33         7  16.2155  324.31                 4.761905   \n",
       "3       58.22         8  23.2880  465.76                 4.761905   \n",
       "4       86.31         7  30.2085  604.17                 4.761905   \n",
       "\n",
       "   gross income  \n",
       "0       26.1415  \n",
       "1        3.8200  \n",
       "2       16.2155  \n",
       "3       23.2880  \n",
       "4       30.2085  "
      ]
     },
     "execution_count": 15,
     "metadata": {},
     "output_type": "execute_result"
    }
   ],
   "source": [
    "# Your code here\n",
    "n_df = df[['Unit price','Quantity','Tax 5%','cogs','gross margin percentage','gross income']]\n",
    "n_df.head()"
   ]
  },
  {
   "cell_type": "code",
   "execution_count": 19,
   "id": "2af36acf",
   "metadata": {},
   "outputs": [
    {
     "data": {
      "text/plain": [
       "array([4.76190476])"
      ]
     },
     "execution_count": 19,
     "metadata": {},
     "output_type": "execute_result"
    }
   ],
   "source": [
    "df['gross margin percentage'].unique()"
   ]
  },
  {
   "cell_type": "code",
   "execution_count": 17,
   "id": "e6cc1608",
   "metadata": {},
   "outputs": [
    {
     "data": {
      "text/plain": [
       "<matplotlib.collections.PathCollection at 0x21ca28a16d0>"
      ]
     },
     "execution_count": 17,
     "metadata": {},
     "output_type": "execute_result"
    },
    {
     "data": {
      "image/png": "[encoded data removed]",
      "text/plain": [
       "<Figure size 640x480 with 1 Axes>"
      ]
     },
     "metadata": {},
     "output_type": "display_data"
    }
   ],
   "source": [
    "import matplotlib.pyplot as plt\n",
    "plt.scatter(n_df['Tax 5%'], n_df['gross income'])"
   ]
  },
  {
   "cell_type": "code",
   "execution_count": 18,
   "id": "21b58274",
   "metadata": {},
   "outputs": [
    {
     "data": {
      "text/plain": [
       "<bound method Series.unique of 0      20.0\n",
       "1      20.0\n",
       "2      20.0\n",
       "3      20.0\n",
       "4      20.0\n",
       "       ... \n",
       "995    20.0\n",
       "996    20.0\n",
       "997    20.0\n",
       "998    20.0\n",
       "999    20.0\n",
       "Length: 1000, dtype: float64>"
      ]
     },
     "execution_count": 18,
     "metadata": {},
     "output_type": "execute_result"
    }
   ],
   "source": [
    "#plt.scatter(n_df['Tax 5%'],n_df['cogs'])\n",
    "(n_df['cogs']/n_df['Tax 5%']).unique"
   ]
  },
  {
   "cell_type": "code",
   "execution_count": null,
   "id": "f1873533",
   "metadata": {},
   "outputs": [],
   "source": []
  },
  {
   "cell_type": "code",
   "execution_count": null,
   "id": "55d2a8bf",
   "metadata": {},
   "outputs": [],
   "source": []
  },
  {
   "cell_type": "code",
   "execution_count": null,
   "id": "3938338d",
   "metadata": {},
   "outputs": [],
   "source": []
  }
 ],
 "metadata": {
  "kernelspec": {
   "display_name": "Python 3 (ipykernel)",
   "language": "python",
   "name": "python3"
  },
  "language_info": {
   "codemirror_mode": {
    "name": "ipython",
    "version": 3
   },
   "file_extension": ".py",
   "mimetype": "text/x-python",
   "name": "python",
   "nbconvert_exporter": "python",
   "pygments_lexer": "ipython3",
   "version": "3.9.13"
  }
 },
 "nbformat": 4,
 "nbformat_minor": 5
}
