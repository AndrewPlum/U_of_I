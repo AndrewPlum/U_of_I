{
 "cells": [
  {
   "cell_type": "markdown",
   "id": "d93e7b4c",
   "metadata": {},
   "source": [
    "# Sets\n",
    "\n",
    "- A set is an unordered collection of unique elements. It is defined by {}.\n",
    "\n",
    "- Sets can be used to perform mathematical set operations like union, intersection, symmetric difference etc."
   ]
  },
  {
   "cell_type": "code",
   "execution_count": 1,
   "id": "d91db895",
   "metadata": {},
   "outputs": [
    {
     "name": "stdout",
     "output_type": "stream",
     "text": [
      "\n",
      "Creating Sets:\n",
      "Empty Set:  set()\n",
      "Set from list:  {1, 2, 3, 4, 5, 6, 7}\n",
      "Set with elements:  {1, 2, 3, 4, 5}\n",
      "Set with different data types:  {1, (1, 2, 3), frozenset({1, 3, 4}), 'Hello'}\n"
     ]
    }
   ],
   "source": [
    "#import builtins\n",
    "\n",
    "# Creating Sets\n",
    "print(\"\\nCreating Sets:\")\n",
    "\n",
    "# Creating an empty set\n",
    "empty_set = set()\n",
    "print(\"Empty Set: \", empty_set)\n",
    "\n",
    "# Creating a set from a list\n",
    "my_list = [1, 2, 3, 4, 5, 5, 6, 6, 7, 7]\n",
    "my_l_set = set(my_list)\n",
    "print(\"Set from list: \", my_l_set)\n",
    "\n",
    "# Creating a set with elements\n",
    "my_set = {1, 2, 3, 4, 5,5}\n",
    "print(\"Set with elements: \", my_set)\n",
    "\n",
    "# Creating a set with different data types\n",
    "fr_set = frozenset({1,3,4})\n",
    "\n",
    "my_set = {1, \"Hello\", (1, 2, 3),fr_set}\n",
    "print(\"Set with different data types: \", my_set)"
   ]
  },
  {
   "cell_type": "code",
   "execution_count": 2,
   "id": "3df04c4c",
   "metadata": {},
   "outputs": [
    {
     "name": "stdout",
     "output_type": "stream",
     "text": [
      "\n",
      "Accessing Elements:\n",
      "Is 1 in my_set:  True\n",
      "1\n",
      "(1, 2, 3)\n",
      "frozenset({1, 3, 4})\n",
      "Hello\n"
     ]
    }
   ],
   "source": [
    "# Accessing Elements\n",
    "print(\"\\nAccessing Elements:\")\n",
    "\n",
    "# Check if an element exists in a set\n",
    "print(\"Is 1 in my_set: \", 1 in my_set)\n",
    "\n",
    "# Loop through the elements of a set\n",
    "for element in my_set:\n",
    "    print(element)"
   ]
  },
  {
   "cell_type": "code",
   "execution_count": 3,
   "id": "20d42b9a",
   "metadata": {},
   "outputs": [
    {
     "name": "stdout",
     "output_type": "stream",
     "text": [
      "\n",
      "Set Operations:\n",
      "Union:  {1, 2, 3, 4, 5, 6}\n",
      "Intersection:  {2, 3}\n",
      "Difference:  {1}\n",
      "Symmetric Difference:  {1, 4}\n"
     ]
    }
   ],
   "source": [
    "# Set Operations\n",
    "print(\"\\nSet Operations:\")\n",
    "# Union\n",
    "set1 = {1, 2, 3}\n",
    "set2 = {4, 5, 6}\n",
    "print(\"Union: \", set1.union(set2)) #{1,2,3,4,5,6}\n",
    "\n",
    "# Intersection\n",
    "set1 = {1, 2, 3}\n",
    "set2 = {2, 3, 4}\n",
    "print(\"Intersection: \", set1.intersection(set2)) #{2,3}\n",
    "\n",
    "# Difference\n",
    "set1 = {1, 2, 3}\n",
    "set2 = {2, 3, 4}\n",
    "print(\"Difference: \", set1.difference(set2)) #{1}\n",
    "\n",
    "# Symmetric Difference\n",
    "set1 = {1, 2, 3}\n",
    "set2 = {2, 3, 4}\n",
    "print(\"Symmetric Difference: \", set1.symmetric_difference(set2)) #{1,4}"
   ]
  },
  {
   "cell_type": "code",
   "execution_count": 4,
   "id": "7462a008",
   "metadata": {},
   "outputs": [
    {
     "name": "stdout",
     "output_type": "stream",
     "text": [
      "\n",
      "Modifying Sets:\n",
      "After adding 6:  {1, 6, (1, 1, 2), 'hello'}\n",
      "After removing 1:  {6, (1, 1, 2), 'hello'}\n",
      "After clearing:  set()\n"
     ]
    }
   ],
   "source": [
    "my_set ={1,\"hello\",(1,1,2)}\n",
    "\n",
    "# Modifying Sets\n",
    "print(\"\\nModifying Sets:\")\n",
    "# Add elements to a set\n",
    "my_set.add(6)\n",
    "print(\"After adding 6: \", my_set) #{1,\"hello\",(1,1,2),6}\n",
    "\n",
    "# Remove elements from a set\n",
    "my_set.remove(1)\n",
    "print(\"After removing 1: \", my_set) #{\"hello\",(1,1,2),6}\n",
    "\n",
    "# Clear all elements from a set\n",
    "my_set.clear()\n",
    "print(\"After clearing: \", my_set)"
   ]
  },
  {
   "cell_type": "code",
   "execution_count": 5,
   "id": "875f7bc6",
   "metadata": {},
   "outputs": [
    {
     "name": "stdout",
     "output_type": "stream",
     "text": [
      "Length:  3\n",
      "Copy s3:  {1, 2, 3}\n",
      "Set 1 again: {1, 2, 3}\n",
      "Reprint set3: {1, 2, 3}\n",
      "difference_update:  {1}\n",
      "{1}\n",
      "{2, 3, 4}\n",
      "two set disjoint: True\n"
     ]
    }
   ],
   "source": [
    "set1 = {1, 2, 3}\n",
    "set2 = {2, 3, 4}\n",
    "\n",
    "# len() method\n",
    "print(\"Length: \", len(set1))\n",
    "\n",
    "# copy() method\n",
    "set3 = set1.copy()\n",
    "print(\"Copy s3: \", set3)\n",
    "\n",
    "print(\"Set 1 again:\", set1)\n",
    "print(\"Reprint set3:\", set3)\n",
    "\n",
    "# difference_update() method\n",
    "set1.difference_update(set2)\n",
    "print(\"difference_update: \", set1)\n",
    "print(set1)\n",
    "print(set2)\n",
    "\n",
    "# isdisjoint() method\n",
    "set1 = {1, 2, 3}\n",
    "set2 = {4, 5, 6}\n",
    "print(\"two set disjoint:\", set1.isdisjoint(set2))"
   ]
  },
  {
   "cell_type": "markdown",
   "id": "0d1af7ac",
   "metadata": {},
   "source": [
    "## Bitwise operation on set\n",
    "\n",
    "- The bitwise operator `|` is used to perform the union operation,\n",
    "\n",
    "- `&` is used to perform the intersection operation, \n",
    "\n",
    "- `-` is used to perform the difference operation, \n",
    "\n",
    "- and `^` (XOR) is used to perform the symmetric difference operation."
   ]
  },
  {
   "cell_type": "code",
   "execution_count": 6,
   "id": "8c5f82ce",
   "metadata": {},
   "outputs": [
    {
     "name": "stdout",
     "output_type": "stream",
     "text": [
      "Union:  {1, 2, 3, 4}\n",
      "Intersection:  {2, 3}\n",
      "Difference:  {1}\n",
      "Symmetric Difference:  {1, 4}\n"
     ]
    }
   ],
   "source": [
    "# Creating Sets\n",
    "set1 = {1, 2, 3}\n",
    "set2 = {2, 3, 4}\n",
    "\n",
    "# Union\n",
    "union = set1 | set2\n",
    "print(\"Union: \", union)\n",
    "\n",
    "# Intersection\n",
    "intersection = set1 & set2\n",
    "print(\"Intersection: \", intersection)\n",
    "\n",
    "# Difference\n",
    "difference = set1 - set2\n",
    "print(\"Difference: \", difference)\n",
    "\n",
    "# Symmetric Difference\n",
    "symmetric_difference = set1 ^ set2\n",
    "print(\"Symmetric Difference: \", symmetric_difference)\n"
   ]
  },
  {
   "cell_type": "markdown",
   "id": "d7c4b8f4",
   "metadata": {},
   "source": [
    "__Practice Problems__\n",
    "\n",
    "1. Given a list of numbers, create a new set that contains only the unique numbers from the list.\n",
    "\n",
    "2. Given two sets, A and B, check if A is a subset of B.\n",
    "\n",
    "3. Given a list of words, create a new set that contains only the words that have a length greater than 3 characters.\n",
    "\n",
    "4. Given a set of integers, remove all even numbers from the set"
   ]
  },
  {
   "cell_type": "code",
   "execution_count": 7,
   "id": "3c45216c",
   "metadata": {},
   "outputs": [
    {
     "name": "stdout",
     "output_type": "stream",
     "text": [
      "{1, 2, 3, 4, 5, 7, 8, 9}\n"
     ]
    }
   ],
   "source": [
    "numbers = [1, 2, 3, 4, 5, 3, 2, 1, 7, 8, 9, 8, 7]\n",
    "\n",
    "# Your code here:\n",
    "unique_numbers = set(numbers)\n",
    "\n",
    "print(unique_numbers) # {1, 2, 3, 4, 5, 7, 8, 9}\n"
   ]
  },
  {
   "cell_type": "code",
   "execution_count": 8,
   "id": "5f879c24",
   "metadata": {},
   "outputs": [
    {
     "name": "stdout",
     "output_type": "stream",
     "text": [
      "True\n"
     ]
    }
   ],
   "source": [
    "A = {1, 2, 3}\n",
    "B = {1, 2, 3, 4, 5}\n",
    "\n",
    "# Your code here:\n",
    "is_subset = A.issubset(B)\n",
    "\n",
    "print(is_subset) # True\n"
   ]
  },
  {
   "cell_type": "code",
   "execution_count": 9,
   "id": "d3383629",
   "metadata": {},
   "outputs": [
    {
     "name": "stdout",
     "output_type": "stream",
     "text": [
      "{'elephant'}\n"
     ]
    }
   ],
   "source": [
    "list_word = ['the', 'cat', 'in', 'the', 'hat','elephant']\n",
    "\n",
    "# Your code here:\n",
    "long_words = {word for word in list_word if len(word) > 3}\n",
    "\n",
    "print(long_words) # {'elephant'}"
   ]
  },
  {
   "cell_type": "code",
   "execution_count": 10,
   "id": "ff0eebb4",
   "metadata": {},
   "outputs": [
    {
     "name": "stdout",
     "output_type": "stream",
     "text": [
      "{1, 3, 5, 7, 9}\n"
     ]
    }
   ],
   "source": [
    "numbers = {1, 2, 3, 4, 5, 6, 7, 8, 9, 10}\n",
    "\n",
    "# Your code here:\n",
    "odd_numbers = {x for x in numbers if x % 2 != 0}\n",
    "\n",
    "print(odd_numbers) # {1, 3, 5, 7, 9}\n"
   ]
  },
  {
   "cell_type": "markdown",
   "id": "d6563aaa",
   "metadata": {},
   "source": [
    "# Code profiling \n",
    "\n",
    "Code profiling is the process of measuring the performance of a program and analyzing its behavior. This is done to identify performance bottlenecks, find areas that need optimization, and improve the overall efficiency of the code.\n",
    "\n",
    "There are several ways to profile code in Python:\n",
    "\n",
    "- The __timeit__ module: The __timeit__ module is a built-in Python library that allows you to measure the execution time of small bits of Python code. You can use the __timeit__ module to measure the time it takes to run a specific piece of code, and then compare the results to see if the code is running as efficiently as it should be.\n",
    "\n",
    "- The __cProfile__ module: The __cProfile__ module is another built-in Python library that provides a more in-depth view of the performance of a program. It tracks the time spent in each function and provides information about the number of calls to each function and the amount of time spent in each call. This information can help you identify areas where you need to make performance improvements.\n",
    "\n",
    "- Third-party profilers: There are also several third-party profilers available for Python, including PyCharm, Pyflame, and PyCallGraph, which provide even more detailed performance analysis and visualization tools."
   ]
  },
  {
   "cell_type": "markdown",
   "id": "68faa348",
   "metadata": {},
   "source": [
    "Here's a simple example of how to use the timeit module to profile a piece of code:\n",
    "\n",
    "```Python\n",
    "import timeit\n",
    "\n",
    "def my_function():\n",
    "    # your code here\n",
    "\n",
    "print(timeit.timeit(my_function, number=1000))\n",
    "```"
   ]
  },
  {
   "cell_type": "code",
   "execution_count": 11,
   "id": "41a247f7",
   "metadata": {},
   "outputs": [
    {
     "name": "stdout",
     "output_type": "stream",
     "text": [
      "1.7915010000000002\n"
     ]
    }
   ],
   "source": [
    "import timeit\n",
    "\n",
    "print(timeit.timeit(\"[i**2 for i in range(10000)]\", number=1000))"
   ]
  },
  {
   "cell_type": "code",
   "execution_count": 12,
   "id": "3a29b38a",
   "metadata": {},
   "outputs": [
    {
     "name": "stdout",
     "output_type": "stream",
     "text": [
      "1.8433310985565186\n"
     ]
    }
   ],
   "source": [
    "import time\n",
    "start_time = time.time()\n",
    "for i in range(1000):\n",
    "    x = sum([i**2 for i in range(10000)])\n",
    "end_time = time.time()\n",
    "time = end_time -start_time\n",
    "print(time)"
   ]
  },
  {
   "cell_type": "markdown",
   "id": "c8a0f0da",
   "metadata": {},
   "source": [
    "## cProfile \n",
    "\n",
    "- cProfile is a profiler included in the Python standard library. It is used to measure the performance of Python programs, specifically the execution time of individual functions and the number of function calls. \n",
    "\n",
    "- The cProfile module provides a simple way to measure the performance of your Python code, allowing you to identify which parts of your code are taking the most time to execute and potentially optimize those parts for better performance.\n",
    "\n",
    "Here's an example of how to use the cProfile module to profile a Python script:\n",
    "\n",
    "```Python\n",
    "import cProfile\n",
    "import my_script\n",
    "\n",
    "cProfile.run(\"my_script.main()\")\n",
    "```"
   ]
  },
  {
   "cell_type": "code",
   "execution_count": 14,
   "id": "e5a23939",
   "metadata": {},
   "outputs": [
    {
     "name": "stdout",
     "output_type": "stream",
     "text": [
      "332833497.5800276\n",
      "         35 function calls in 0.011 seconds\n",
      "\n",
      "   Ordered by: standard name\n",
      "\n",
      "   ncalls  tottime  percall  cumtime  percall filename:lineno(function)\n",
      "        1    0.000    0.000    0.010    0.010 <string>:1(<module>)\n",
      "        1    0.000    0.000    0.000    0.000 iostream.py:202(schedule)\n",
      "        2    0.000    0.000    0.000    0.000 iostream.py:429(_is_master_process)\n",
      "        2    0.000    0.000    0.000    0.000 iostream.py:448(_schedule_flush)\n",
      "        2    0.000    0.000    0.000    0.000 iostream.py:518(write)\n",
      "        1    0.000    0.000    0.000    0.000 iostream.py:90(_event_pipe)\n",
      "        1    0.000    0.000    0.000    0.000 my_new_script.py:1(maths)\n",
      "        1    0.000    0.000    0.000    0.000 my_new_script.py:2(<listcomp>)\n",
      "        1    0.000    0.000    0.010    0.010 my_new_script.py:4(trig)\n",
      "        1    0.010    0.010    0.010    0.010 my_new_script.py:6(<listcomp>)\n",
      "        1    0.000    0.000    0.010    0.010 my_new_script.py:8(main)\n",
      "        1    0.000    0.000    0.000    0.000 socket.py:543(send)\n",
      "        1    0.000    0.000    0.000    0.000 threading.py:1066(_wait_for_tstate_lock)\n",
      "        1    0.000    0.000    0.000    0.000 threading.py:1133(is_alive)\n",
      "        1    0.000    0.000    0.000    0.000 threading.py:536(is_set)\n",
      "        1    0.000    0.000    0.011    0.011 {built-in method builtins.exec}\n",
      "        2    0.000    0.000    0.000    0.000 {built-in method builtins.isinstance}\n",
      "        2    0.000    0.000    0.000    0.000 {built-in method builtins.len}\n",
      "        1    0.000    0.000    0.000    0.000 {built-in method builtins.print}\n",
      "        2    0.000    0.000    0.000    0.000 {built-in method builtins.sum}\n",
      "        2    0.000    0.000    0.000    0.000 {built-in method posix.getpid}\n",
      "        2    0.000    0.000    0.000    0.000 {method '__exit__' of '_thread.RLock' objects}\n",
      "        1    0.000    0.000    0.000    0.000 {method 'acquire' of '_thread.lock' objects}\n",
      "        1    0.000    0.000    0.000    0.000 {method 'append' of 'collections.deque' objects}\n",
      "        1    0.000    0.000    0.000    0.000 {method 'disable' of '_lsprof.Profiler' objects}\n",
      "        2    0.000    0.000    0.000    0.000 {method 'write' of '_io.StringIO' objects}\n",
      "\n",
      "\n"
     ]
    }
   ],
   "source": [
    "import cProfile\n",
    "import my_new_script\n",
    "cProfile.run(\"my_new_script.main()\")"
   ]
  },
  {
   "cell_type": "markdown",
   "id": "cac32002",
   "metadata": {},
   "source": [
    "# Practice Problems\n",
    "\n",
    "These problems go beyond this lecture. They are for you to review what you have learned so far. Have fun!\n",
    "\n",
    "__Problem 1:__ Given a string. Write down a function to generate a dictionary whose keys are characters of the string, whose value are the keys' frequency in the string. \n",
    "\n",
    "__Hint:__\n",
    "\n",
    "```Python\n",
    "    def string_to_dict(mystr):\n",
    "       #code here\n",
    "       return  mydict\n",
    "```\n",
    "Expectation:\n",
    "```Python\n",
    "    mystr = \"How are you doing?\"\n",
    "    string_to_dict(mystr) #{'d': 1, 'a': 1, 'y': 1, 'i': 1, 'n': 1, 'e': 1, ' ': 3, 'r': 1, 'H': 1, '?': 1, 'o': 3, 'u': 1, 'w': 1, 'g': 1}\n",
    "```\n",
    "\n",
    "__Problem 2:__ Given a string, extract all the email adresses and phone numbers that it has. \n",
    "\n",
    "NOTE: \n",
    "- email needs a domain, like: gmail.com, uidaho.edu. Example: bob@gmail.com, donal@uidaho.edu, etc.\n",
    "\n",
    "- a phone number has 10 digits, they can be seperated into up to $3$groups, which have $3$,$3$, and $4$ digits, respectively. There may be a hyphen between the group. The first group may have parentheses. For example, the following format are acceptable: (1) xxx-xxx-xxxx, (2) (xxx)-xxx-xxxx, (3) (xxx)xxxxxxx, etc.\n",
    "\n",
    "__Hint:__\n",
    "\n",
    "```Python\n",
    "    def phone_email(mystr):\n",
    "        #code here\n",
    "        return phone_list, email_list\n",
    "```\n",
    "__Expection:__\n",
    "\n",
    "```Python\n",
    "mystr = \"\"\"Nick sent me his email yesterday, here it is nick@gmail.com. I ask Tom and Cadie their emails too. However, they didn't give me their email addresses. They gave me their phone numbers instead; (208)-882-3333 and 2888880001\"\"\"\n",
    "\n",
    "phone_list, email_list = phone_email(mystr)\n",
    "print(phone_list) #[(208)-882-3333, 2888880001]\n",
    "print(email_list) #[\"nick@gmail.com\"]\n",
    "```"
   ]
  }
 ],
 "metadata": {
  "kernelspec": {
   "display_name": "Python 3 (ipykernel)",
   "language": "python",
   "name": "python3"
  },
  "language_info": {
   "codemirror_mode": {
    "name": "ipython",
    "version": 3
   },
   "file_extension": ".py",
   "mimetype": "text/x-python",
   "name": "python",
   "nbconvert_exporter": "python",
   "pygments_lexer": "ipython3",
   "version": "3.9.13"
  }
 },
 "nbformat": 4,
 "nbformat_minor": 5
}
