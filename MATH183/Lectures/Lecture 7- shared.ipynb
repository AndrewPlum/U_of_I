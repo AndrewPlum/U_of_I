{
 "cells": [
  {
   "cell_type": "markdown",
   "id": "9a47475f",
   "metadata": {},
   "source": [
    "# Opening external file\n",
    "\n",
    "To open an external file in Python, you can use the built-in open function."
   ]
  },
  {
   "cell_type": "code",
   "execution_count": 1,
   "id": "4b9675d1",
   "metadata": {},
   "outputs": [
    {
     "name": "stdout",
     "output_type": "stream",
     "text": [
      "Hello, world!\n",
      "<class 'str'>\n"
     ]
    }
   ],
   "source": [
    "#To open a file named \"my.txt\" for reading:\n",
    "\n",
    "f = open(\"my.txt\", \"r\")\n",
    "file_contents = f.read()\n",
    "print(file_contents)\n",
    "print(type(file_contents))\n",
    "f.close()"
   ]
  },
  {
   "cell_type": "code",
   "execution_count": 2,
   "id": "0e8a2666",
   "metadata": {},
   "outputs": [],
   "source": [
    "new_contents = \"Hey, that's boring\"\n",
    "f = open(\"my.txt\", \"w\")\n",
    "f.write(new_contents)\n",
    "f.close()"
   ]
  },
  {
   "cell_type": "code",
   "execution_count": 3,
   "id": "6e9e4697",
   "metadata": {},
   "outputs": [
    {
     "name": "stdout",
     "output_type": "stream",
     "text": [
      "Hey, that's boring\n"
     ]
    }
   ],
   "source": [
    "f = open(\"my.txt\", \"r\")\n",
    "file_contents = f.read()\n",
    "print(file_contents)\n",
    "f.close()"
   ]
  },
  {
   "cell_type": "code",
   "execution_count": 4,
   "id": "69b366dc",
   "metadata": {},
   "outputs": [],
   "source": [
    "# You can use a context manager to write to a file:\n",
    "with open(\"my.txt\", \"w\") as f:\n",
    "    f.write(\"Hello, world!\")\n"
   ]
  },
  {
   "cell_type": "markdown",
   "id": "0a8e1f2e",
   "metadata": {},
   "source": [
    "# Check out ticket \n",
    "\n",
    "__Problem:__ Creat an external file name \"my_data.txt\". Open the file in Python to read its data. Then generate set of characters that is used in the file."
   ]
  },
  {
   "cell_type": "markdown",
   "id": "3fcb6611",
   "metadata": {},
   "source": [
    "# Workshop problems\n",
    "\n",
    "Work on these problems so that we an discuss in the next lectures. For these problems, you need to work with the accompanied data file \"tiny_shakespeare.txt\".\n",
    "\n",
    "__Problem 1:__ Open the file \"tiny_shakespears.txt\". Write a function to read all the characters in the file. Save them as a sorted list.\n",
    "\n",
    "```Python\n",
    "def shakespears_char(file_name):\n",
    "    # your code here\n",
    "    return charlist\n",
    "charlist = shakespears_char(\"tiny_shakespears.txt\")\n",
    "print(charlist) \n",
    "```\n",
    "\n",
    "Expected result: ['\\n', ' ', '!', '$', '&', \"'\", ',', '-', '.', '3', ':', ';', '?', 'A', 'B', 'C', 'D', 'E', 'F', 'G', 'H', 'I', 'J', 'K', 'L', 'M', 'N', 'O', 'P', 'Q', 'R', 'S', 'T', 'U', 'V', 'W', 'X', 'Y', 'Z', 'a', 'b', 'c', 'd', 'e', 'f', 'g', 'h', 'i', 'j', 'k', 'l', 'm', 'n', 'o', 'p', 'q', 'r', 's', 't', 'u', 'v', 'w', 'x', 'y', 'z'\\]\n",
    "\n",
    "\n"
   ]
  },
  {
   "cell_type": "markdown",
   "id": "09a3f5a2",
   "metadata": {},
   "source": [
    "__Problem 2:__ Use the list in Problem 1. Create a dictionary whose keys are characters and values are the orders of the keys.\n",
    "\n",
    "NOTE: You dictionary be considered as a codebook, which you can use to encode your text file into numbers (instead of characters).\n",
    "\n",
    "```Python \n",
    "def code_book(charlist):\n",
    "    # Your code here  \n",
    "code_book(charlist)\n",
    "```\n",
    "__Expected result:__\n",
    "\n",
    "{'\\n': 0, ' ': 1, '!': 2, '$': 3, '&': 4, \"'\": 5, ',': 6, '-': 7, '.': 8, '3': 9, ':': 10, ';': 11, '?': 12, 'A': 13, 'B': 14, 'C': 15, 'D': 16, 'E': 17, 'F': 18, 'G': 19, 'H': 20, 'I': 21, 'J': 22, 'K': 23, 'L': 24, 'M': 25, 'N': 26, 'O': 27, 'P': 28, 'Q': 29, 'R': 30, 'S': 31, 'T': 32, 'U': 33, 'V': 34, 'W': 35, 'X': 36, 'Y': 37, 'Z': 38, 'a': 39, 'b': 40, 'c': 41, 'd': 42, 'e': 43, 'f': 44, 'g': 45, 'h': 46, 'i': 47, 'j': 48, 'k': 49, 'l': 50, 'm': 51, 'n': 52, 'o': 53, 'p': 54, 'q': 55, 'r': 56, 's': 57, 't': 58, 'u': 59, 'v': 60, 'w': 61, 'x': 62, 'y': 63, 'z': 64}\n"
   ]
  },
  {
   "cell_type": "markdown",
   "id": "28486472",
   "metadata": {},
   "source": [
    "__Problem 3:__ Use the codebook in the above problem to encode the file \"tiny_shakespeare.txt\" to \"encrypted_shakespeare.txt\".\n",
    "\n",
    "```Python\n",
    "def encrypt(file_name):\n",
    "    # Your code here\n",
    "```    \n",
    "See the file \"Linh_encrypted_shakespeare.txt\" for result."
   ]
  }
 ],
 "metadata": {
  "kernelspec": {
   "display_name": "Python 3 (ipykernel)",
   "language": "python",
   "name": "python3"
  },
  "language_info": {
   "codemirror_mode": {
    "name": "ipython",
    "version": 3
   },
   "file_extension": ".py",
   "mimetype": "text/x-python",
   "name": "python",
   "nbconvert_exporter": "python",
   "pygments_lexer": "ipython3",
   "version": "3.9.13"
  }
 },
 "nbformat": 4,
 "nbformat_minor": 5
}
