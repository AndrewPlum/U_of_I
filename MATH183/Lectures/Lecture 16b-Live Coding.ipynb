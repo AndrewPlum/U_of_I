{
 "cells": [
  {
   "cell_type": "markdown",
   "id": "c0c6aae4",
   "metadata": {},
   "source": [
    "# Numpy\n",
    "\n",
    "- Numpy (short for Numerical Python) is a popular open-source library for numerical computing in Python. It provides a fast and efficient way to work with arrays, matrices, and other numerical data structures.\n",
    "\n",
    "\n",
    "- Numpy is widely used in __scientific computing, data analysis, and machine learning__ because it offers several benefits over built-in Python data structures like lists. For example, Numpy arrays are __homogeneous__ (i.e., all elements have the same data type) and contiguous in memory, which allows for efficient __vectorized__ operations and faster processing.\n",
    "\n",
    "\n",
    "- Numpy provides a wide range of functionalities for manipulating arrays, such as element-wise operations, matrix operations, reshaping, slicing, and indexing. Additionally, it supports a variety of numerical data types, including integers, floating-point numbers, and complex numbers.\n",
    "\n",
    "\n",
    "- Numpy also integrates well with other scientific computing libraries in Python, such as SciPy (for scientific computing) and Matplotlib (for data visualization)."
   ]
  },
  {
   "cell_type": "markdown",
   "id": "def54417",
   "metadata": {},
   "source": [
    "## Numpy array\n",
    "\n",
    "NumPy’s main object is the __homogeneous multidimensional__ array. It is a table of elements (usually numbers), all of the same type, indexed by a tuple of non-negative integers. \n",
    "\n",
    "NumPy’s array class is called `ndarray` (or `array` for short). \n",
    "\n",
    "In NumPy dimensions of an array are called __axes__."
   ]
  },
  {
   "cell_type": "code",
   "execution_count": 1,
   "id": "f72e6d29",
   "metadata": {},
   "outputs": [
    {
     "name": "stdout",
     "output_type": "stream",
     "text": [
      "(3,)\n"
     ]
    }
   ],
   "source": [
    "#create a one dimensional array\n",
    "import numpy as np\n",
    "a= np.array([1,5,7])\n",
    "print(a.shape)"
   ]
  },
  {
   "cell_type": "markdown",
   "id": "05352659",
   "metadata": {},
   "source": [
    "This array has one axis. That axis has 3 elements in it, so we say it has a length of 3."
   ]
  },
  {
   "cell_type": "code",
   "execution_count": 2,
   "id": "f1b7d6ff",
   "metadata": {},
   "outputs": [
    {
     "name": "stdout",
     "output_type": "stream",
     "text": [
      "int64\n"
     ]
    }
   ],
   "source": [
    "# create a two dimensional array\n",
    "A= np.array([[3,5,7],[10,4,5]])\n",
    "print(A.dtype)\n"
   ]
  },
  {
   "cell_type": "markdown",
   "id": "75c3f7ce",
   "metadata": {},
   "source": [
    "This array has two axes. The first axis has a length of 2, the second axis has a length of 3."
   ]
  },
  {
   "cell_type": "markdown",
   "id": "9f88cd32",
   "metadata": {},
   "source": [
    "## Some basic properties:\n",
    "\n",
    "- __ndarray.ndim:__ the number of axes (dimensions) of the array.\n",
    "\n",
    "\n",
    "- __ndarray.shape:__ the dimensions of the array. This is a tuple of integers indicating the size of the array in each dimension. For a matrix with n rows and m columns, shape will be (n,m). The length of the shape tuple is therefore the number of axes, ndim.\n",
    "\n",
    "- __ndarray.size:__ the total number of elements of the array. This is equal to the product of the elements of shape.\n",
    "\n",
    "- __ndarray.dtype:__ an object describing the type of the elements in the array. One can create or specify dtype’s using standard Python types. Additionally NumPy provides types of its own. numpy.int32, numpy.int16, and numpy.float64 are some examples.\n",
    "\n",
    "- __ndarray.itemsize:__ the size in bytes of each element of the array. For example, an array of elements of type float64 has itemsize 8 (=64/8), while one of type complex32 has itemsize 4 (=32/8). It is equivalent to ndarray.dtype.itemsize.\n"
   ]
  },
  {
   "cell_type": "code",
   "execution_count": 3,
   "id": "84059c79",
   "metadata": {},
   "outputs": [],
   "source": [
    "# Basic properties "
   ]
  },
  {
   "cell_type": "markdown",
   "id": "99de8008",
   "metadata": {},
   "source": [
    "The type of the array can also be explicitly specified at creation time:"
   ]
  },
  {
   "cell_type": "code",
   "execution_count": 4,
   "id": "517e2ff0",
   "metadata": {},
   "outputs": [],
   "source": [
    "#imposing the data type at creation"
   ]
  },
  {
   "cell_type": "markdown",
   "id": "06ad1cb4",
   "metadata": {},
   "source": [
    "## Quick creation: zeros, ones, empty\n",
    "\n",
    "- The function __zeros__ creates an array full of zeros, \n",
    "\n",
    "- The function __ones__ creates an array full of ones, \n",
    "\n",
    "- The function __empty__ creates an array whose initial content is random and depends on the state of the memory. \n",
    "\n",
    "By default, the dtype of the created array is float64, but it can be specified via the key word argument dtype."
   ]
  },
  {
   "cell_type": "code",
   "execution_count": 5,
   "id": "f709f1a3",
   "metadata": {},
   "outputs": [
    {
     "data": {
      "text/plain": [
       "array([[3.10503618e+231, 2.32035006e+077, 1.23516411e-322,\n",
       "        0.00000000e+000, 0.00000000e+000],\n",
       "       [0.00000000e+000, 0.00000000e+000, 0.00000000e+000,\n",
       "        0.00000000e+000, 0.00000000e+000],\n",
       "       [0.00000000e+000, 0.00000000e+000, 0.00000000e+000,\n",
       "        2.14624923e-314, 6.93053804e-310],\n",
       "       [0.00000000e+000, 0.00000000e+000, 6.93053812e-310,\n",
       "        2.14624923e-314, 2.14624923e-314],\n",
       "       [2.14624923e-314, 2.14624923e-314, 6.93053807e-310,\n",
       "        6.93052455e-310, 2.14624923e-314],\n",
       "       [6.93053807e-310, 0.00000000e+000, 0.00000000e+000,\n",
       "        0.00000000e+000, 0.00000000e+000],\n",
       "       [0.00000000e+000, 0.00000000e+000, 0.00000000e+000,\n",
       "        0.00000000e+000, 0.00000000e+000],\n",
       "       [0.00000000e+000, 0.00000000e+000, 0.00000000e+000,\n",
       "        0.00000000e+000, 0.00000000e+000],\n",
       "       [0.00000000e+000, 2.14624923e-314, 6.93053773e-310,\n",
       "        6.93053806e-310, 6.93053773e-310],\n",
       "       [6.93053773e-310, 0.00000000e+000, 0.00000000e+000,\n",
       "        0.00000000e+000, 3.47667790e-308]])"
      ]
     },
     "execution_count": 5,
     "metadata": {},
     "output_type": "execute_result"
    }
   ],
   "source": [
    "# Quick creation: zeros, ones, empty\n",
    "empty = np.empty([10,5])\n",
    "empty"
   ]
  },
  {
   "cell_type": "markdown",
   "id": "15f85e5d",
   "metadata": {},
   "source": [
    "## Quick creation: arrange\n",
    "\n",
    "- To create sequences of numbers, NumPy provides the __arange__ function which is analogous to the Python built-in __range__, but returns an array."
   ]
  },
  {
   "cell_type": "code",
   "execution_count": 6,
   "id": "d2084e2e",
   "metadata": {},
   "outputs": [],
   "source": [
    "# arange"
   ]
  },
  {
   "cell_type": "markdown",
   "id": "a70b1eca",
   "metadata": {},
   "source": [
    "## Quick creation: linspace\n",
    "\n",
    "- When arange is used with floating point arguments, it is generally not possible to predict the number of elements obtained, due to the finite floating point precision. For this reason, it is usually better to use the function __linspace__ that receives as an argument the number of elements that we want, instead of the step:"
   ]
  },
  {
   "cell_type": "code",
   "execution_count": 7,
   "id": "54394ad1",
   "metadata": {},
   "outputs": [],
   "source": [
    "#linspace "
   ]
  },
  {
   "cell_type": "markdown",
   "id": "b2453c74",
   "metadata": {},
   "source": [
    "## Basic Operations: elementwise\n",
    "\n",
    "Arithmetic operators on arrays apply elementwise. A new array is created and filled with the result."
   ]
  },
  {
   "cell_type": "code",
   "execution_count": 8,
   "id": "9e97710a",
   "metadata": {},
   "outputs": [],
   "source": [
    "# Elementwise multiplication"
   ]
  },
  {
   "cell_type": "code",
   "execution_count": 9,
   "id": "66d200b6",
   "metadata": {},
   "outputs": [],
   "source": [
    "# Addition, subtraction"
   ]
  },
  {
   "cell_type": "code",
   "execution_count": 10,
   "id": "2f62f0dc",
   "metadata": {},
   "outputs": [],
   "source": [
    "# Scalar multiplication"
   ]
  },
  {
   "cell_type": "code",
   "execution_count": 11,
   "id": "d4701bf1",
   "metadata": {},
   "outputs": [],
   "source": [
    "# Comparision "
   ]
  },
  {
   "cell_type": "code",
   "execution_count": 12,
   "id": "95deec54",
   "metadata": {},
   "outputs": [],
   "source": [
    "# Selection/filtering"
   ]
  },
  {
   "cell_type": "code",
   "execution_count": 13,
   "id": "854b45dd",
   "metadata": {},
   "outputs": [],
   "source": [
    "#Summing & stats"
   ]
  },
  {
   "cell_type": "code",
   "execution_count": 14,
   "id": "c16a12fb",
   "metadata": {},
   "outputs": [],
   "source": [
    "# Advanced function: trig, exp, etc"
   ]
  },
  {
   "cell_type": "markdown",
   "id": "36207cfc",
   "metadata": {},
   "source": [
    "__Practice problem 1:__ Compute the sum $\\sum_{n=1}^{100} \\sin(n).$\n",
    "\n",
    "__Practice problem 2:__ Plot the function $y=x^2$ on the interval $[-1,1]$. "
   ]
  },
  {
   "cell_type": "markdown",
   "id": "70b2a65e",
   "metadata": {},
   "source": [
    "## Basic Operations: matrix multiplication\n",
    "\n",
    "Unlike in many matrix languages, the product operator `*` operates elementwise in NumPy arrays. The matrix product can be performed using the `@` operator (in python >=3.5) or the `dot` __function__ or __method__"
   ]
  },
  {
   "cell_type": "code",
   "execution_count": 2,
   "id": "b4936984",
   "metadata": {},
   "outputs": [
    {
     "name": "stdout",
     "output_type": "stream",
     "text": [
      "[[3 4 1]\n",
      " [0 1 1]]\n",
      "[[2 1]\n",
      " [1 0]]\n"
     ]
    }
   ],
   "source": [
    "import numpy as np\n",
    "A = np.array([[3,4,1],[0,1,1]])\n",
    "B = np.array([[2,1],[1,0]])\n",
    "print(A)\n",
    "print(B)"
   ]
  },
  {
   "cell_type": "code",
   "execution_count": 8,
   "id": "71e19bcd-831a-4933-b73e-89d45f68bc75",
   "metadata": {},
   "outputs": [
    {
     "data": {
      "text/plain": [
       "array([[6, 9, 3],\n",
       "       [3, 4, 1]])"
      ]
     },
     "execution_count": 8,
     "metadata": {},
     "output_type": "execute_result"
    }
   ],
   "source": [
    "B@A"
   ]
  },
  {
   "cell_type": "code",
   "execution_count": 9,
   "id": "0dfda259-3623-46d2-b9be-aaab9fb28a4f",
   "metadata": {},
   "outputs": [
    {
     "data": {
      "text/plain": [
       "array([[6, 9, 3],\n",
       "       [3, 4, 1]])"
      ]
     },
     "execution_count": 9,
     "metadata": {},
     "output_type": "execute_result"
    }
   ],
   "source": [
    "B.dot(A)"
   ]
  },
  {
   "cell_type": "code",
   "execution_count": 10,
   "id": "a7200b3e-9b67-41fa-8e05-951c1f7cb127",
   "metadata": {},
   "outputs": [
    {
     "data": {
      "text/plain": [
       "array([[6, 9, 3],\n",
       "       [3, 4, 1]])"
      ]
     },
     "execution_count": 10,
     "metadata": {},
     "output_type": "execute_result"
    }
   ],
   "source": [
    "np.dot(B,A)"
   ]
  },
  {
   "cell_type": "markdown",
   "id": "ec3ad954",
   "metadata": {},
   "source": [
    "Adding a new axis into the numpy array"
   ]
  },
  {
   "cell_type": "code",
   "execution_count": 13,
   "id": "7c13fd09",
   "metadata": {},
   "outputs": [
    {
     "data": {
      "text/plain": [
       "(3, 1)"
      ]
     },
     "execution_count": 13,
     "metadata": {},
     "output_type": "execute_result"
    }
   ],
   "source": [
    "a = np.array([3,2,1])\n",
    "a = a[:,np.newaxis]\n",
    "a.shape"
   ]
  },
  {
   "cell_type": "code",
   "execution_count": 19,
   "id": "402c3043-1319-457f-9395-48522519ae22",
   "metadata": {},
   "outputs": [
    {
     "data": {
      "text/plain": [
       "(1, 2)"
      ]
     },
     "execution_count": 19,
     "metadata": {},
     "output_type": "execute_result"
    }
   ],
   "source": [
    "b = np.array([1.4,1])\n",
    "b = b[np.newaxis,:]\n",
    "b.shape"
   ]
  },
  {
   "cell_type": "code",
   "execution_count": 20,
   "id": "c7ab01b1-be21-4762-9ac7-d7a448d5fa80",
   "metadata": {},
   "outputs": [
    {
     "data": {
      "text/plain": [
       "array([[4.2, 3. ],\n",
       "       [2.8, 2. ],\n",
       "       [1.4, 1. ]])"
      ]
     },
     "execution_count": 20,
     "metadata": {},
     "output_type": "execute_result"
    }
   ],
   "source": [
    "a@b"
   ]
  },
  {
   "cell_type": "markdown",
   "id": "253414ec",
   "metadata": {},
   "source": [
    "## Check out ticket\n",
    "\n",
    "__Problem:__ Compute the sum $\\sum_{m=1}^{50} \\sum_{n=1}^{100} \\sin(mn).$"
   ]
  },
  {
   "cell_type": "code",
   "execution_count": 23,
   "id": "a37d3681",
   "metadata": {},
   "outputs": [
    {
     "name": "stdout",
     "output_type": "stream",
     "text": [
      "67.14305583771502\n"
     ]
    }
   ],
   "source": [
    "oursum = 0\n",
    "for m in range(1,51):\n",
    "    for n in range(1,101):\n",
    "        oursum += np.sin(m*n)\n",
    "print(oursum)"
   ]
  },
  {
   "cell_type": "code",
   "execution_count": 30,
   "id": "3ca47916-994e-4e4b-988e-eb66e22fcea4",
   "metadata": {},
   "outputs": [
    {
     "name": "stdout",
     "output_type": "stream",
     "text": [
      "67.14305583771494\n"
     ]
    }
   ],
   "source": [
    "m = np.arange(1,51)\n",
    "m = m[:,np.newaxis]\n",
    "n = np.arange(1,101)\n",
    "n = n[np.newaxis,:]\n",
    "mn = m@n\n",
    "mn\n",
    "new_sum = np.sum(np.sin(mn))\n",
    "print(new_sum)"
   ]
  },
  {
   "cell_type": "code",
   "execution_count": null,
   "id": "06e7e27d-2f46-45b1-908a-c9c02c7854aa",
   "metadata": {},
   "outputs": [],
   "source": []
  }
 ],
 "metadata": {
  "kernelspec": {
   "display_name": "Python 3 (ipykernel)",
   "language": "python",
   "name": "python3"
  },
  "language_info": {
   "codemirror_mode": {
    "name": "ipython",
    "version": 3
   },
   "file_extension": ".py",
   "mimetype": "text/x-python",
   "name": "python",
   "nbconvert_exporter": "python",
   "pygments_lexer": "ipython3",
   "version": "3.9.13"
  }
 },
 "nbformat": 4,
 "nbformat_minor": 5
}
