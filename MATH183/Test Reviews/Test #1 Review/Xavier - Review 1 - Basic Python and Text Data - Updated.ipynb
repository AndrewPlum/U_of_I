{
 "cells": [
  {
   "cell_type": "markdown",
   "id": "80454746",
   "metadata": {},
   "source": [
    "# Topics to study\n",
    "\n",
    "1. Basic input and output:\n",
    " - \"print\" function: basic print, string format\n",
    " - \"input\" function: know how to use it to interact with user\n",
    "2. Basic data types: \n",
    " - integer: \n",
    " - float:\n",
    " - string:\n",
    " - boolean:\n",
    "3. Basic math packages:\n",
    " - math\n",
    " - numpy \n",
    "4. Functions:\n",
    " - regular function\n",
    " - lambda function\n",
    "5. Common data structures:\n",
    " - list:\n",
    " - tuple:\n",
    " - dictionary:\n",
    " - set:\n",
    "6. Random module:\n",
    " - radom module in Python\n",
    " - random module in Numpy\n",
    " - uniform distribution, normal distribution, choice(s), randint\n",
    "7. External txt file:\n",
    " - read:\n",
    " - write:\n",
    "8. Text analysis:\n",
    " - encoding, decoding\n",
    " - regular expression"
   ]
  },
  {
   "cell_type": "markdown",
   "id": "90fd426f",
   "metadata": {},
   "source": [
    "# The exam format\n",
    "\n",
    "The exam on March 8 will consists of three problems. One is a basic problem, and two are intermediate/advanced. \n",
    "\n",
    "\n",
    "# Practice problems\n",
    "## Basic problems\n",
    "\n",
    "- Review all practice problem & check out tickets.\n",
    "- Review all problems in HW #1.\n",
    "- Review problems 1-2 in HW #2. \n",
    "- Ask chatgpt to generate basic problems for further practice. See sample problems below.\n",
    "\n",
    "__Problem 1:__ Write a program that asks the user to enter their name and age. Then, the program should print out a message that says\n",
    "```css\n",
    "Hello [name]! You are [age] years old.\"\n",
    "```\n",
    "\n",
    "Example: \n",
    "```yml\n",
    "Enter your name: John\n",
    "Enter your age: 25\n",
    "Hello John! You are 25 years old.\n",
    "```\n",
    "\n",
    "__Problem 2:__ Write a program that asks the user to enter a number and then prints out whether that number is even or odd. If the number is even, the program should print \"Even\", and if the number is odd, the program should print \"Odd\".\n",
    "\n",
    "```css\n",
    "Enter a number: 7\n",
    "Odd\n",
    "```\n",
    "\n",
    "```css\n",
    "Enter a number: 10\n",
    "Even\n",
    "```\n",
    "## Intemediate/advanced problems \n",
    "\n",
    "Below is a list of practice problem. Work on them carefully since the problems in the exam will be quite similar. NOTE: I may (or may not) add one or two more problems later. Watch out for that (I will annouce if it happens)."
   ]
  },
  {
   "cell_type": "markdown",
   "id": "24a40959",
   "metadata": {},
   "source": [
    "__Problem 1:__ Write a program that do the following things: \n",
    " - (1) generate a random number between $0$ and $9$,   \n",
    " - (2) ask the user make a guess, \n",
    " - (3) congratulate the user the the guess is correct, \n",
    " - (4) give a the user a hint to make the next guess: \"your guess is bigger/small\" than the true value,   \n",
    " - (5) stop the game if the user has made three guesses. "
   ]
  },
  {
   "cell_type": "code",
   "execution_count": 73,
   "id": "0713c590",
   "metadata": {},
   "outputs": [
    {
     "name": "stdout",
     "output_type": "stream",
     "text": [
      "Welcome to guess the number game! Guess the integer that is from 0-9, you have 3 guesses\n"
     ]
    },
    {
     "name": "stdin",
     "output_type": "stream",
     "text": [
      "Guess:  5\n"
     ]
    },
    {
     "name": "stdout",
     "output_type": "stream",
     "text": [
      "Correct! You win!\n",
      "Your answer was 5\n"
     ]
    }
   ],
   "source": [
    "from random import randint\n",
    "x = randint(0,9)\n",
    "print(\"Welcome to guess the number game! Guess the integer that is from 0-9, you have 3 guesses\")\n",
    "for i in range(3):\n",
    "    y = int(input(\"Guess: \"))\n",
    "    if y==x:\n",
    "        print(\"Correct! You win!\")\n",
    "        break\n",
    "    elif y<x:\n",
    "        print(\"Wrong! Your answer is too small\")\n",
    "    else:\n",
    "        print(\"Wrong! your answer is too big\")\n",
    "print(\"Your answer was\", x)"
   ]
  },
  {
   "cell_type": "markdown",
   "id": "7cb7d41f",
   "metadata": {},
   "source": [
    "__Problem 2:__ Write a program that do the following things: \n",
    "- (0) make a list of fruits \n",
    "- (1) randomly pick a fruit from the list, \n",
    "- (2) ask the user make a guess, \n",
    "- (3) congratulate the user the the guess is correct, \n",
    "- (4) give a the user a hint to make the next guess: this fruir has letter 'x', \n",
    "- (5) stop the game if the user has made three guesses. \n"
   ]
  },
  {
   "cell_type": "code",
   "execution_count": 74,
   "id": "32452541",
   "metadata": {},
   "outputs": [
    {
     "name": "stdout",
     "output_type": "stream",
     "text": [
      "Welcome to guess the fruit game! Guess the fruit, you have 3 guesses\n"
     ]
    },
    {
     "name": "stdin",
     "output_type": "stream",
     "text": [
      "Guess:  apple\n"
     ]
    },
    {
     "name": "stdout",
     "output_type": "stream",
     "text": [
      "Wrong! Letter number 1 is t\n"
     ]
    },
    {
     "name": "stdin",
     "output_type": "stream",
     "text": [
      "Guess:  tomato\n"
     ]
    },
    {
     "name": "stdout",
     "output_type": "stream",
     "text": [
      "Correct! You win!\n",
      "Correct answer was tomato\n"
     ]
    }
   ],
   "source": [
    "import random\n",
    "print(\"Welcome to guess the fruit game! Guess the fruit, you have 3 guesses\")\n",
    "fruit = ['apple','banana','starfruit','strawberry','tomato','peach','papaya','dragonfruit','pomegranite']\n",
    "x = random.choice(fruit)\n",
    "lst = []\n",
    "for letter in x:\n",
    "    lst.append(letter)\n",
    "for i in range(3):\n",
    "    y = str(input(\"Guess: \"))\n",
    "    if y==x:\n",
    "        print(\"Correct! You win!\")\n",
    "        break\n",
    "    else:\n",
    "        print(\"Wrong! Letter number\", i+1, 'is', lst[i])\n",
    "print(\"Correct answer was\", x)"
   ]
  },
  {
   "cell_type": "markdown",
   "id": "86f2ea88",
   "metadata": {},
   "source": [
    "__Problem 3:__ Write a program that asks the user to enter a string and then checks whether the string is a palindrome or not. A palindrome is a word, phrase, number, or other sequence of characters that reads the same forward and backward (ignoring spaces, punctuation, and capitalization).\n",
    "\n",
    "```csharp\n",
    "Enter a string: radar\n",
    "The string is a palindrome.\n",
    "```\n",
    "\n",
    "```csharp\n",
    "Enter a string: Hello World\n",
    "The string is not a palindrome.\n",
    "```\n"
   ]
  },
  {
   "cell_type": "code",
   "execution_count": 75,
   "id": "ff8b24f4",
   "metadata": {},
   "outputs": [
    {
     "name": "stdin",
     "output_type": "stream",
     "text": [
      "Enter a string:  Good doog\n"
     ]
    },
    {
     "data": {
      "text/plain": [
       "True"
      ]
     },
     "execution_count": 75,
     "metadata": {},
     "output_type": "execute_result"
    }
   ],
   "source": [
    "palin = input(\"Enter a string: \")\n",
    "def palindrome(palin):\n",
    "    palin = palin.replace(' ','')\n",
    "    palin = palin.lower()\n",
    "    backward = palin[::-1]\n",
    "    return backward == palin\n",
    "palindrome(palin)"
   ]
  },
  {
   "cell_type": "markdown",
   "id": "c519cd8f",
   "metadata": {},
   "source": [
    "\n",
    "__Problem 4:__ Write a program that takes two strings as input and then checks whether the second string is a rotation of the first string or not. A rotation is when you take a string and move some letters from the beginning to the end, creating a new string.\n",
    "\n",
    "For example, the string \"hello\" can be rotated to create \"elloh\", \"llohe\", \"lohel\", \"ohell\", and \"hello\" again.\n",
    "\n",
    "```csharp\n",
    "Enter the first string: hello\n",
    "Enter the second string: llohe\n",
    "The second string is a rotation of the first string.\n",
    "```\n",
    "\n",
    "```csharp\n",
    "Enter the first string: python\n",
    "Enter the second string: ythonp\n",
    "The second string is a rotation of the first string.\n",
    "```\n",
    "\n",
    "Hint: translate into a problem of finding substring.\n",
    "\n"
   ]
  },
  {
   "cell_type": "code",
   "execution_count": 16,
   "id": "e04e626b",
   "metadata": {},
   "outputs": [
    {
     "name": "stdout",
     "output_type": "stream",
     "text": [
      "True\n",
      "2\n"
     ]
    }
   ],
   "source": [
    "# your code here\n",
    "str1 = \"Hello\"\n",
    "str2 = \"elloH\"\n",
    "str3 = \"lloHe\"\n",
    "def check(str1,str2):\n",
    "    length = len(str1)\n",
    "    for i in range(length):\n",
    "        str1 = str1[1:]+str1[0]\n",
    "        if str2 == str1:\n",
    "            return True\n",
    "        else:\n",
    "            return False\n",
    "#str1d = \"hellohello\"\n",
    "def check2(str1,str2):\n",
    "    str1d = str1*2\n",
    "    return(str.find(str1d,str2))\n",
    "print(check(str1,str2))\n",
    "print(check2(str1,str3))"
   ]
  },
  {
   "cell_type": "markdown",
   "id": "b4c7c66a",
   "metadata": {},
   "source": [
    "__Problem 5:__ Write a program that takes a list of numbers as input and then finds the maximum sum of any contiguous subarray of the list. A subarray is a contiguous part of the array that is formed by removing zero or more elements from the beginning and end of the array.\n",
    "\n",
    "For example, given the list $[-2, 1, -3, 4, -1, 2, 1, -5, 4]$, the maximum sum of any contiguous subarray is 6, which is obtained by adding together the subarray $[4, -1, 2, 1]$.\n",
    "\n",
    "```Python\n",
    "Enter a list of numbers, separated by spaces: -2 1 -3 4 -1 2 1 -5 4\n",
    "The maximum sum of any contiguous subarray is 6.\n",
    "```"
   ]
  },
  {
   "cell_type": "code",
   "execution_count": 76,
   "id": "a234bf27",
   "metadata": {},
   "outputs": [
    {
     "name": "stdout",
     "output_type": "stream",
     "text": [
      "4\n"
     ]
    }
   ],
   "source": [
    "inputlist = [-2, 1, -3, -4, -1, -2, -1, -5, 4]\n",
    "length = len(inputlist)\n",
    "currentmax = inputlist[0]\n",
    "for start in range(length):\n",
    "    for end in range(start,length):\n",
    "        currentmax = max(sum(inputlist[start:end+1]),currentmax)\n",
    "print(currentmax)"
   ]
  },
  {
   "cell_type": "markdown",
   "id": "0d155b96",
   "metadata": {},
   "source": [
    "__Problem 6:__ Write a program that takes a list of integers as input and then removes all duplicates from the list while preserving the order of the remaining elements.\n",
    "\n",
    "For example, given the list $[1, 2, 3, 2, 1, 4, 5, 4, 3]$, the program should output the list $[1, 2, 3, 4, 5]$.\n",
    "\n",
    "```csharp\n",
    "Enter a list of integers, separated by spaces: 1 2 3 2 1 4 5 4 3\n",
    "The list with duplicates removed is [1, 2, 3, 4, 5].\n",
    "```\n"
   ]
  },
  {
   "cell_type": "code",
   "execution_count": 16,
   "id": "7a5e7fcf-4529-462e-8f59-7fd58280bb80",
   "metadata": {},
   "outputs": [
    {
     "name": "stdout",
     "output_type": "stream",
     "text": [
      "[1, 2, 3, 5, 4, 9, 7, 8]\n"
     ]
    }
   ],
   "source": [
    "mylist = [1,2,3, 3, 5, 4, 9, 7, 7, 7, 8]\n",
    "outlist = []\n",
    "for d in mylist:\n",
    "    if (d not in outlist):\n",
    "        outlist.append(d)\n",
    "print(outlist)"
   ]
  },
  {
   "cell_type": "markdown",
   "id": "316945cf",
   "metadata": {},
   "source": [
    "__Problem 7:__ Write a program that takes a sentence as input and then counts the frequency of each word in the sentence, ignoring punctuation and case. The program should then print the words and their frequencies in alphabetical order.\n",
    "\n",
    "```Python\n",
    "Enter a sentence: The quick brown fox jumps over the lazy dog.\n",
    "brown 1\n",
    "dog 1\n",
    "fox 1\n",
    "jumps 1\n",
    "lazy 1\n",
    "over 1\n",
    "quick 1\n",
    "the 2\n",
    "```"
   ]
  },
  {
   "cell_type": "code",
   "execution_count": 33,
   "id": "943d6bdb",
   "metadata": {},
   "outputs": [
    {
     "name": "stdin",
     "output_type": "stream",
     "text": [
      "Give me a sentence The quick brown fox jumps over the lazy dog.\n"
     ]
    },
    {
     "name": "stdout",
     "output_type": "stream",
     "text": [
      "brown 1\n",
      "dog 1\n",
      "fox 1\n",
      "jumps 1\n",
      "lazy 1\n",
      "over 1\n",
      "quick 1\n",
      "the 2\n"
     ]
    }
   ],
   "source": [
    "string = str(input(\"Give me a sentence\"))\n",
    "string = string.replace('.','')\n",
    "string = string.lower()\n",
    "words = string.split(' ')\n",
    "uniqWords = sorted(set(words))\n",
    "for word in uniqWords:\n",
    "    print(word, words.count(word))"
   ]
  },
  {
   "cell_type": "markdown",
   "id": "8714d86a",
   "metadata": {},
   "source": [
    "__Problem 8:__ Write a program that takes a list of strings as input and then groups the strings by their length. The program should then print the groups of strings in order of increasing length, with the strings are ordered in each group. \n",
    "\n",
    "For example, given the list [\"cat\", \"dog\", \"bird\", \"elephant\", \"lion\", \"tiger\", \"hamster\"], the program should output:\n",
    "\n",
    "```makefile\n",
    "3: cat dog\n",
    "4: bird lion\n",
    "5: tiger\n",
    "7: elephant hamster\n",
    "```\n",
    "\n"
   ]
  },
  {
   "cell_type": "code",
   "execution_count": 34,
   "id": "c195fd65",
   "metadata": {},
   "outputs": [
    {
     "name": "stdout",
     "output_type": "stream",
     "text": [
      "3: cat dog \n",
      "4: bird lion \n",
      "5: tiger \n",
      "7: hamster \n",
      "8: elephant \n"
     ]
    }
   ],
   "source": [
    "wordlist = ['cat','dog','bird','elephant','lion','tiger','hamster']\n",
    "length = [len(animal) for animal in wordlist]\n",
    "keyset = set(length)\n",
    "outdict = {}\n",
    "for key in keyset:\n",
    "    outdict[key] = [animal for animal in wordlist if len(animal)==key]\n",
    "for key in outdict:\n",
    "    namestr = str(key)+': '\n",
    "    for name in outdict[key]:\n",
    "        namestr += (name+' ')\n",
    "    print(namestr)"
   ]
  },
  {
   "cell_type": "markdown",
   "id": "048b7309",
   "metadata": {},
   "source": [
    "__Problem 9:__ Write a program that takes a list of strings as input and then checks each string to see if it contains at least one digit and at least one uppercase letter. The program should then print the strings that match this pattern.\n",
    "\n",
    "For example, given the list [\"abc\", \"123\", \"Abc\", \"aBc\", \"ABC\", \"a1B2C3\"], the program should output: a1B2C3"
   ]
  },
  {
   "cell_type": "code",
   "execution_count": 49,
   "id": "6a2ef27d",
   "metadata": {},
   "outputs": [
    {
     "name": "stdout",
     "output_type": "stream",
     "text": [
      "a1B2C3\n",
      "Bezzulbub123\n"
     ]
    }
   ],
   "source": [
    "import re\n",
    "\n",
    "def find_password(statem):\n",
    "    pattern = r'.*\\d.*'\n",
    "    patterncap = r'.*[A-Z].*'\n",
    "    for string in statem:\n",
    "        if re.match(patterncap,string) and re.match(pattern,string):\n",
    "            print(string)\n",
    "statem = [\"abc\", \"123\", \"Abc\", \"aBc\", \"ABC\", \"a1B2C3\", \"Bezzulbub123\", \"back\"]\n",
    "find_password(statem)"
   ]
  },
  {
   "cell_type": "markdown",
   "id": "3078c087",
   "metadata": {},
   "source": [
    "__Problem 10:__ Write a program that reads a text file and then counts the frequency of each word in the file, ignoring punctuation and case. The program should then print the words and their frequencies in alphabetical order.\n",
    "\n",
    "For example, given the text file example.txt with the following contents:\n",
    "```css\n",
    "The quick brown fox jumps over the lazy dog.\n",
    "The dog barks at the moon.\n",
    "```\n",
    "The output should be\n",
    "```css\n",
    "at 1\n",
    "barks 1\n",
    "brown 1\n",
    "dog 2\n",
    "fox 1\n",
    "jumps 1\n",
    "lazy 1\n",
    "moon 1\n",
    "over 1\n",
    "quick 1\n",
    "the 3\n",
    "```"
   ]
  },
  {
   "cell_type": "code",
   "execution_count": 35,
   "id": "fe6aa18f-2d76-40cc-9c3d-92d82cb2cc46",
   "metadata": {},
   "outputs": [
    {
     "name": "stdout",
     "output_type": "stream",
     "text": [
      "at 1\n",
      "barks 1\n",
      "brown 1\n",
      "dog 2\n",
      "fox 1\n",
      "jumps 1\n",
      "lazy 1\n",
      "moon 1\n",
      "over 1\n",
      "quick 1\n",
      "the 4\n"
     ]
    }
   ],
   "source": [
    "def wordcounter(file_name):\n",
    "    with open(file_name, 'r') as f:\n",
    "        string = f.read()\n",
    "    string = string.replace('.','')\n",
    "    string = string.replace('\\n',' ')\n",
    "    string = string.lower()\n",
    "    words = string.split(' ')\n",
    "    uniqWords = sorted(set(words))\n",
    "    for word in uniqWords:\n",
    "        print(word, words.count(word))\n",
    "wordcounter('ahh.txt')"
   ]
  },
  {
   "cell_type": "markdown",
   "id": "18915c6a",
   "metadata": {},
   "source": [
    "__Problem 11:__ Write a program that reads in a text file and then searches for all email addresses in the file. The program should then output the email addresses and the number of times each email address appears in the file, sorted by frequency in descending order.\n",
    "\n",
    "For example, given the text file example.txt with the following contents: \n",
    "\n",
    "```txt\n",
    "\n",
    "To: jane.doe@example.com\n",
    "From: john.smith@example.com\n",
    "Subject: Hello\n",
    "\n",
    "Hi Jane,\n",
    "\n",
    "How are you doing? Let's meet for lunch sometime next week.\n",
    "\n",
    "Best regards,\n",
    "John\n",
    "\n",
    "To: john.smith@example.com\n",
    "From: jane.doe@example.com\n",
    "Subject: Re: Hello\n",
    "\n",
    "Hi John,\n",
    "\n",
    "Lunch sounds great! How about Tuesday at 12:30 at the new Italian place?\n",
    "\n",
    "Best regards,\n",
    "Jane\n",
    "```\n",
    "The program should output \n",
    "```txt\n",
    "jane.doe@example.com 2\n",
    "john.smith@example.com 2\n",
    "```"
   ]
  },
  {
   "cell_type": "code",
   "execution_count": 46,
   "id": "b7626ea8-4ea9-4143-abe8-ec66ca9ca941",
   "metadata": {},
   "outputs": [
    {
     "name": "stdout",
     "output_type": "stream",
     "text": [
      "doe@example.com 2\n",
      "smith@example.com 2\n"
     ]
    }
   ],
   "source": [
    "import re\n",
    "def emailfind(file_name):\n",
    "    with open(file_name, 'r') as f:\n",
    "        data = f.read()\n",
    "    emailpat = r'[\\w]+@[\\w]+\\.[\\w]+'\n",
    "    emaillist = re.findall(emailpat, data)\n",
    "    uniqemail = sorted(set(emaillist))\n",
    "    for email in uniqemail:\n",
    "        print(email, emaillist.count(email))\n",
    "emailfind(\"example.txt\")"
   ]
  },
  {
   "cell_type": "markdown",
   "id": "4e28fbc8",
   "metadata": {},
   "source": [
    "__Problem 12:__ Write a program that reads in a text file and then searches for all phone numbers in the file. The program should then output the phone numbers and the number of times each phone number appears in the file, sorted by frequency in descending order."
   ]
  },
  {
   "cell_type": "code",
   "execution_count": 18,
   "id": "5c5a9bd6",
   "metadata": {},
   "outputs": [
    {
     "name": "stdout",
     "output_type": "stream",
     "text": [
      "2082175908 2\n",
      "2172175884 3\n"
     ]
    }
   ],
   "source": [
    "import re\n",
    "def phonefind(file_name):\n",
    "    with open(file_name, 'r') as f:\n",
    "        data = f.read()\n",
    "    data = data.replace('(','')\n",
    "    data = data.replace(')','')\n",
    "    data = data.replace('-','')\n",
    "    phonepat = r\"\\d{10}\"\n",
    "    phonelist = re.findall(phonepat, data)\n",
    "    uniqephone = sorted(set(phonelist))\n",
    "    for phone in uniqephone:\n",
    "        print(phone, phonelist.count(phone))\n",
    "phonefind(\"example.txt\")"
   ]
  },
  {
   "cell_type": "markdown",
   "id": "381499f3",
   "metadata": {},
   "source": [
    "__Problem 13:__ Write a program that reads in a text file and do the following things:\n",
    "\n",
    "(a) Find all the characters that appear in the file.\n",
    "\n",
    "(b) Build an encoding book by a random permutation. Then encode the who file into the new file, name \"shuffled.txt\". NOTE: in Python, one can shuffle a list using the following code:\n",
    "```Python\n",
    "shuffled_list = random.shuffle(original_list) \n",
    "```\n",
    "\n",
    "(c) Decode the \"shuffled.txt\" back to the original content and save it into \"unshuffled.txt\". NOTE: make sure that \"unshuffled.txt\" is the same as the original file."
   ]
  },
  {
   "cell_type": "code",
   "execution_count": 3,
   "id": "79a44dcf",
   "metadata": {},
   "outputs": [
    {
     "name": "stdout",
     "output_type": "stream",
     "text": [
      "['\\n', ' ', '!', '$', '&', \"'\", ',', '-', '.', '3', ':', ';', '?', 'A', 'B', 'C', 'D', 'E', 'F', 'G', 'H', 'I', 'J', 'K', 'L', 'M', 'N', 'O', 'P', 'Q', 'R', 'S', 'T', 'U', 'V', 'W', 'X', 'Y', 'Z', 'a', 'b', 'c', 'd', 'e', 'f', 'g', 'h', 'i', 'j', 'k', 'l', 'm', 'n', 'o', 'p', 'q', 'r', 's', 't', 'u', 'v', 'w', 'x', 'y', 'z']\n"
     ]
    }
   ],
   "source": [
    "with open('shakespeare.txt','r') as f:\n",
    "    data = f.read()\n",
    "charset = set(data)\n",
    "charlist = sorted(list(charset))\n",
    "print(charlist)"
   ]
  },
  {
   "cell_type": "code",
   "execution_count": 4,
   "id": "81fba365-feeb-454c-a9dd-012989540210",
   "metadata": {},
   "outputs": [],
   "source": [
    "from random import shuffle\n",
    "shufflelist = charlist.copy()\n",
    "shuffle(shufflelist)"
   ]
  },
  {
   "cell_type": "code",
   "execution_count": 5,
   "id": "f488085f-b75e-46a3-928b-5126100b8582",
   "metadata": {},
   "outputs": [],
   "source": [
    "encodebook = {charlist[i]:shufflelist[i] for i in range(len(charlist))}"
   ]
  },
  {
   "cell_type": "code",
   "execution_count": 6,
   "id": "ff10153c-4ad7-4035-922a-9612634a16e3",
   "metadata": {},
   "outputs": [],
   "source": [
    "shuffledata = ''\n",
    "for char in data:\n",
    "    shuffledata += encodebook[char]\n",
    "with open('shuffled.txt','w') as f:\n",
    "    f.write(shuffledata)"
   ]
  },
  {
   "cell_type": "code",
   "execution_count": 14,
   "id": "48d18109-a831-43f2-a898-d9678c417d65",
   "metadata": {},
   "outputs": [],
   "source": [
    "with open('shuffled.txt','r') as f:\n",
    "    ndata = f.read()\n",
    "decodebook = {shufflelist[i]:charlist[i] for i in range(len(charlist))}\n",
    "unshuffleddata = ''\n",
    "for char in ndata:\n",
    "    unshuffleddata += decodebook[char]\n",
    "with open('unshuffled.txt','w') as f:\n",
    "    f.write(unshuffleddata)"
   ]
  },
  {
   "cell_type": "markdown",
   "id": "bd865803",
   "metadata": {},
   "source": [
    "__Problem 14:__ Write a program that reads in a text file and do the following things:\n",
    "\n",
    "(a) Find all the characters that appear in the file.\n",
    "\n",
    "\n",
    "(b) In computer programming languages, each character is represented by an ASCII (American Standard Code for Information Interchange) code. In python, the ASCII code of each character (say 'a') can be evaluated using \"ord\" function\n",
    "\n",
    "```Python\n",
    "ord('a')\n",
    "```\n",
    "and one can convert an ASCII code into the character by\n",
    "\n",
    "```Python\n",
    "chr(c)\n",
    "```\n",
    "Build the encoding book by assigning each character by its ASCII code plus 1. Then encode the file into \"asciipone.txt\".\n",
    "\n",
    "(c) Decode the file \"asciipone.txt\" into \"unascii.txt'. NOTE: make sure that \"unascii.txt\" is the same as the original file."
   ]
  },
  {
   "cell_type": "code",
   "execution_count": 7,
   "id": "6619b422-c7ed-47ca-87cc-520a66f4708a",
   "metadata": {},
   "outputs": [],
   "source": [
    "import re\n",
    "with open('shakespeare.txt','r') as f:\n",
    "    data = f.read()\n",
    "charset = set(data)\n",
    "charlist = sorted(list(charset))"
   ]
  },
  {
   "cell_type": "code",
   "execution_count": 8,
   "id": "1993cc47-bfcb-4989-955f-1e09c7543494",
   "metadata": {},
   "outputs": [],
   "source": [
    "code_book = {i:(ord(i)+1) for i in (charlist)}\n",
    "data_list = [code_book[c] for c in data]\n",
    "data_str = str(data_list)\n",
    "with open('asciipone.txt', 'w') as f:\n",
    "    f.write(data_str)"
   ]
  },
  {
   "cell_type": "code",
   "execution_count": 9,
   "id": "c68a3d78-9794-4a87-bb2c-298a785de653",
   "metadata": {},
   "outputs": [],
   "source": [
    "with open('asciipone.txt','r') as f:\n",
    "    data = f.read()\n",
    "decodebook = {(ord(i)+1):i for i in (charlist)}\n",
    "numdata = re.findall(r'\\d+', str(data))\n",
    "listdata = [decodebook[int(c)] for c in numdata]\n",
    "writedata = \"\"\n",
    "for x in listdata:\n",
    "    writedata += x\n",
    "with open('unascii.txt', 'w') as f:\n",
    "    f.write(writedata)"
   ]
  },
  {
   "cell_type": "code",
   "execution_count": 11,
   "id": "83c5dd43-5c77-475c-a5ab-86ac88d2e7c6",
   "metadata": {},
   "outputs": [
    {
     "name": "stdin",
     "output_type": "stream",
     "text": [
      "Give me your name Hannah\n",
      "What is your age 25\n"
     ]
    },
    {
     "name": "stdout",
     "output_type": "stream",
     "text": [
      "Hi, my name is Hannah and I am 25 years old\n"
     ]
    }
   ],
   "source": [
    "name = input(\"Give me your name\")\n",
    "age = input(\"What is your age\")\n",
    "print(\"Hi, my name is\", name, \"and I am\", age, \"years old\")"
   ]
  },
  {
   "cell_type": "code",
   "execution_count": null,
   "id": "7c405ef9-c7af-4582-a1b9-2e0c6149577a",
   "metadata": {},
   "outputs": [],
   "source": []
  }
 ],
 "metadata": {
  "kernelspec": {
   "display_name": "Python 3 (ipykernel)",
   "language": "python",
   "name": "python3"
  },
  "language_info": {
   "codemirror_mode": {
    "name": "ipython",
    "version": 3
   },
   "file_extension": ".py",
   "mimetype": "text/x-python",
   "name": "python",
   "nbconvert_exporter": "python",
   "pygments_lexer": "ipython3",
   "version": "3.9.13"
  }
 },
 "nbformat": 4,
 "nbformat_minor": 5
}
