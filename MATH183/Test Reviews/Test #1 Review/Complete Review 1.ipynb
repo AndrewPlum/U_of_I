{
 "cells": [
  {
   "cell_type": "markdown",
   "id": "80454746",
   "metadata": {},
   "source": [
    "# Topics to study\n",
    "\n",
    "1. Basic input and output:\n",
    " - \"print\" function: basic print, string format\n",
    " - \"input\" function: know how to use it to interact with user\n",
    "2. Basic data types: \n",
    " - integer: \n",
    " - float:\n",
    " - string:\n",
    " - boolean:\n",
    "3. Basic math packages:\n",
    " - math\n",
    " - numpy \n",
    "4. Functions:\n",
    " - regular function\n",
    " - lambda function\n",
    "5. Common data structures:\n",
    " - list:\n",
    " - tuple:\n",
    " - dictionary:\n",
    " - set:\n",
    "6. Random module:\n",
    " - radom module in Python\n",
    " - random module in Numpy\n",
    " - uniform distribution, normal distribution, choice(s), randint\n",
    "7. External txt file:\n",
    " - read:\n",
    " - write:\n",
    "8. Text analysis:\n",
    " - encoding, decoding\n",
    " - regular expression"
   ]
  },
  {
   "cell_type": "markdown",
   "id": "90fd426f",
   "metadata": {},
   "source": [
    "# The exam format\n",
    "\n",
    "The exam on March 8 will consists of three problems. One is a basic problem, and two are intermediate/advanced. \n",
    "\n",
    "\n",
    "# Practice problems\n",
    "## Basic problems\n",
    "\n",
    "- Review all practice problem & check out tickets.\n",
    "- Review all problems in HW #1.\n",
    "- Review problems 1-2 in HW #2. \n",
    "- Ask chatgpt to generate basic problems for further practice. See sample problems below.\n"
   ]
  },
  {
   "cell_type": "markdown",
   "id": "584dd542",
   "metadata": {},
   "source": [
    "__Problem 1:__ Write a program that asks the user to enter their name and age. Then, the program should print out a message that says\n",
    "```css\n",
    "Hello [name]! You are [age] years old.\"\n",
    "```\n",
    "\n",
    "Example: \n",
    "```yml\n",
    "Enter your name: John\n",
    "Enter your age: 25\n",
    "Hello John! You are 25 years old.\n",
    "```"
   ]
  },
  {
   "cell_type": "code",
   "execution_count": 18,
   "id": "d0ecddd3",
   "metadata": {},
   "outputs": [
    {
     "name": "stdout",
     "output_type": "stream",
     "text": [
      "Enter your name: Andy\n",
      "Enter your age: 34\n",
      "Hello Andy! You are 34 years old.\n"
     ]
    }
   ],
   "source": [
    "name = input(\"Enter your name: \")\n",
    "age = int(input(\"Enter your age: \"))\n",
    "#name = \"Andrew\"\n",
    "#age = 18\n",
    "print(\"Hello %s! You are %d years old.\" % (name, age)) # DONT FORGET () around multiple arguments for format string"
   ]
  },
  {
   "cell_type": "markdown",
   "id": "fb672982",
   "metadata": {},
   "source": [
    "__Problem 2:__ Write a program that asks the user to enter a number and then prints out whether that number is even or odd. If the number is even, the program should print \"Even\", and if the number is odd, the program should print \"Odd\".\n",
    "\n",
    "```css\n",
    "Enter a number: 7\n",
    "Odd\n",
    "```\n",
    "\n",
    "```css\n",
    "Enter a number: 10\n",
    "Even\n",
    "```"
   ]
  },
  {
   "cell_type": "code",
   "execution_count": 17,
   "id": "cf177807",
   "metadata": {},
   "outputs": [
    {
     "name": "stdout",
     "output_type": "stream",
     "text": [
      "Enter a number: 12341212\n",
      "Even\n"
     ]
    }
   ],
   "source": [
    "# should we count zero as neither even or odd?\n",
    "\n",
    "number = int(input(\"Enter a number: \")) # don't forget to convert to integer\n",
    "number = number % 2\n",
    "if number == 1:\n",
    "    print(\"Odd\")\n",
    "else:\n",
    "    print(\"Even\")"
   ]
  },
  {
   "cell_type": "markdown",
   "id": "d3f74e9a",
   "metadata": {},
   "source": [
    "## Intemediate/advanced problems \n",
    "\n",
    "Below is a list of practice problem. Work on them carefully since the problems in the exam will be quite similar. NOTE: I may (or may not) add one or two more problems later. Watch out for that (I will annouce if it happens)."
   ]
  },
  {
   "cell_type": "markdown",
   "id": "24a40959",
   "metadata": {},
   "source": [
    "__Problem 1:__ Write a program that do the following things: \n",
    " - (1) generate a random number between $0$ and $9$,   \n",
    " - (2) ask the user make a guess, \n",
    " - (3) congratulate the user the the guess is correct, \n",
    " - (4) give a the user a hint to make the next guess: \"your guess is bigger/small\" than the true value,   \n",
    " - (5) stop the game if the user has made three guesses. "
   ]
  },
  {
   "cell_type": "code",
   "execution_count": 16,
   "id": "0713c590",
   "metadata": {},
   "outputs": [
    {
     "name": "stdout",
     "output_type": "stream",
     "text": [
      "2\n",
      "Guess the number between 0 and 9 that I'm think of (enter a number): 2\n",
      "You guessed the right number!\n"
     ]
    }
   ],
   "source": [
    "from random import randint\n",
    "\n",
    "num_guesses_left = 3\n",
    "random_num = randint(0,9)\n",
    "print(random_num)\n",
    "\n",
    "for i in range(num_guesses_left):\n",
    "    guess_num = int(input(\"Guess the number between 0 and 9 that I'm think of (enter a number): \"))\n",
    "    if guess_num == random_num:\n",
    "        print(\"You guessed the right number!\")\n",
    "        break\n",
    "    elif guess_num > random_num:\n",
    "        print(\"Your guess is bigger than the correct number.\")\n",
    "    elif guess_num < random_num:\n",
    "        print(\"Your guess is smaller than the correct number.\")"
   ]
  },
  {
   "cell_type": "markdown",
   "id": "47b6d806",
   "metadata": {},
   "source": [
    "# from random import randint\n",
    "\n",
    "random_num = randint(0,9)\n",
    "print(\"For this game you must give me an integer between 0 and 9\\n\")\n",
    "for i in range(3):\n",
    "    guess_num = int(input(\"Give me your guess (enter a number between 0 and 9): \"))\n",
    "    if (guess_num == random_num):\n",
    "        print(\"You guessed the right number!\")\n",
    "        break\n",
    "    else:\n",
    "        if (guess_num > random_num):\n",
    "            print(\"Your number is too big!\")\n",
    "        else:\n",
    "            print(\"Your number is too small\")\n",
    "print(\"The correct number is %s\" % random_num)\n"
   ]
  },
  {
   "cell_type": "markdown",
   "id": "7cb7d41f",
   "metadata": {},
   "source": [
    "__Problem 2:__ Write a program that do the following things: \n",
    "- (0) make a list of fruits \n",
    "- (1) randomly pick a fruit from the list, \n",
    "- (2) ask the user make a guess, \n",
    "- (3) congratulate the user the the guess is correct, \n",
    "- (4) give a the user a hint to make the next guess: this fruit has letter 'x', \n",
    "- (5) stop the game if the user has made three guesses. \n"
   ]
  },
  {
   "cell_type": "code",
   "execution_count": 11,
   "id": "32452541",
   "metadata": {},
   "outputs": [
    {
     "name": "stdout",
     "output_type": "stream",
     "text": [
      "Cheat sheet:\n",
      "grape\n",
      "\n",
      "Guess a fruit: grape\n",
      "Congratulations! You guessed the fruit.\n",
      "The fruit was grape.\n"
     ]
    }
   ],
   "source": [
    "import random\n",
    "\n",
    "# Make a list of fruits\n",
    "\n",
    "fruits = [\"apple\", \"banana\", \"pear\", \"cherry\", \"grape\", \"lemon\", \"orange\", \"raspberry\", \"strawberry\", \"watermelon\"]\n",
    "\n",
    "# Randomly pick a fruit from the list\n",
    "\n",
    "fruit = random.choice(fruits)\n",
    "\n",
    "# Print cheat sheet\n",
    "\n",
    "print(\"Cheat sheet:\")\n",
    "print(fruit)\n",
    "print()\n",
    "\n",
    "# Initialize variable\n",
    "\n",
    "guesses = 0\n",
    "max_guesses = 3\n",
    "fruit_char_list = [c for c in fruit]\n",
    "#print(fruit_char_list)\n",
    "\n",
    "# Loop until user has made three guesses\n",
    "\n",
    "while guesses < max_guesses:\n",
    "    \n",
    "    # Ask user to make a guess\n",
    "    \n",
    "    guess = input(\"Guess a fruit: \").lower()\n",
    "\n",
    "    # Check if guess is correct\n",
    "    \n",
    "    if guess == fruit:\n",
    "        print(\"Congratulations! You guessed the fruit.\")\n",
    "        break\n",
    "    else:\n",
    "        print(\"Sorry, that's not the fruit.\")\n",
    "        # Give a hint\n",
    "        if guesses < max_guesses - 1:\n",
    "            random_fruit_char = random.choice(fruit_char_list)\n",
    "            print(\"Hint: The fruit has the letter '%s' in it.\" % random_fruit_char)\n",
    "\n",
    "    # Increment guess count\n",
    "    \n",
    "    guesses += 1\n",
    "\n",
    "# End of game\n",
    "\n",
    "print(\"The fruit was %s.\" % fruit)\n"
   ]
  },
  {
   "cell_type": "markdown",
   "id": "86f2ea88",
   "metadata": {},
   "source": [
    "__Problem 3:__ Write a program that asks the user to enter a string and then checks whether the string is a palindrome or not. A palindrome is a word, phrase, number, or other sequence of characters that reads the same forward and backward (ignoring spaces, punctuation, and capitalization).\n",
    "\n",
    "```csharp\n",
    "Enter a string: radar\n",
    "The string is a palindrome.\n",
    "```\n",
    "\n",
    "```csharp\n",
    "Enter a string: Hello World\n",
    "The string is not a palindrome.\n",
    "```\n"
   ]
  },
  {
   "cell_type": "code",
   "execution_count": 6,
   "id": "e3bc29b6",
   "metadata": {},
   "outputs": [
    {
     "name": "stdout",
     "output_type": "stream",
     "text": [
      "Enter string of characters and I will tell you if it is a pallindrome (I will ignore spaces).\n",
      "\n",
      "Give me the string of characters: radar\n"
     ]
    },
    {
     "data": {
      "text/plain": [
       "True"
      ]
     },
     "execution_count": 6,
     "metadata": {},
     "output_type": "execute_result"
    }
   ],
   "source": [
    "print(\"Enter string of characters and I will tell you if it is a pallindrome (I will ignore spaces).\\n\")\n",
    "input_string = input(\"Give me the string of characters: \")\n",
    "\n",
    "def palindrome(input_string):\n",
    "    input_string = input_string.replace(\" \", \"\")\n",
    "    input_string = input_string.lower()\n",
    "    backward_string = input_string[::-1] # this reverses the input_string\n",
    "    return backward_string == input_string\n",
    "\n",
    "palindrome(input_string)"
   ]
  },
  {
   "cell_type": "markdown",
   "id": "c519cd8f",
   "metadata": {},
   "source": [
    "\n",
    "__Problem 4:__ Write a program that takes two strings as input and then checks whether the second string is a rotation of the first string or not. A rotation is when you take a string and move some letters from the beginning to the end, creating a new string.\n",
    "\n",
    "For example, the string \"hello\" can be rotated to create \"elloh\", \"llohe\", \"lohel\", \"ohell\", and \"hello\" again.\n",
    "\n",
    "```csharp\n",
    "Enter the first string: hello\n",
    "Enter the second string: llohe\n",
    "The second string is a rotation of the first string.\n",
    "```\n",
    "\n",
    "```csharp\n",
    "Enter the first string: python\n",
    "Enter the second string: ythonp\n",
    "The second string is a rotation of the first string.\n",
    "```\n",
    "\n",
    "Hint: translate into a problem of finding substring.\n",
    "\n"
   ]
  },
  {
   "cell_type": "code",
   "execution_count": 4,
   "id": "e04e626b",
   "metadata": {},
   "outputs": [
    {
     "name": "stdout",
     "output_type": "stream",
     "text": [
      "Enter the first string: hello\n",
      "Enter the second string: elloh\n",
      "The second string IS a rotation of the first string.\n"
     ]
    }
   ],
   "source": [
    "#str1 = \"hello\" # \"elloh\", \"llohe\", \"lohel\", \"ohell\", \"hello\"\n",
    "#str2 = \"elloh\"\n",
    "\n",
    "# Method 1\n",
    "\n",
    "str1 = input(\"Enter the first string: \")\n",
    "str2 = input(\"Enter the second string: \")\n",
    "length = len(str1)\n",
    "\n",
    "for i in range(length):\n",
    "    str1 = str1[1:] + str1[0] # rotates one letter at a time\n",
    "    if str2 == str1:\n",
    "        print(\"The second string IS a rotation of the first string.\")\n",
    "        break\n",
    "    if i == length - 1:\n",
    "        print(\"The second string IS NOT a rotation of the first string.\")"
   ]
  },
  {
   "cell_type": "code",
   "execution_count": 3,
   "id": "83c17ff1",
   "metadata": {},
   "outputs": [
    {
     "name": "stdout",
     "output_type": "stream",
     "text": [
      "The second string IS a rotation of the first string.\n"
     ]
    }
   ],
   "source": [
    "# Method 2\n",
    "\n",
    "str1 = \"hello\"\n",
    "str2 = \"llohe\"\n",
    "length = len(str1)\n",
    "\n",
    "def check(str1, str2):\n",
    "    for i in range(length):\n",
    "        str1 = str1[1:] + str1[0] # rotates one letter at a time\n",
    "        if str2 == str1:\n",
    "            #return True\n",
    "            print(\"The second string IS a rotation of the first string.\")\n",
    "            return\n",
    "    #return False\n",
    "    print(\"The second string IS NOT a rotation of the first string.\")\n",
    "    return\n",
    "\n",
    "check(str1, str2)"
   ]
  },
  {
   "cell_type": "markdown",
   "id": "b4c7c66a",
   "metadata": {},
   "source": [
    "__Problem 5:__ Write a program that takes a list of numbers as input and then finds the maximum sum of any contiguous subarray of the list. A subarray is a contiguous part of the array that is formed by removing zero or more elements from the beginning and end of the array.\n",
    "\n",
    "For example, given the list $[-2, 1, -3, 4, -1, 2, 1, -5, 4]$, the maximum sum of any contiguous subarray is 6, which is obtained by adding together the subarray $[4, -1, 2, 1]$.\n",
    "\n",
    "```Python\n",
    "Enter a list of numbers, separated by spaces: -2 1 -3 4 -1 2 1 -5 4\n",
    "The maximum sum of any contiguous subarray is 6.\n",
    "```"
   ]
  },
  {
   "cell_type": "code",
   "execution_count": 2,
   "id": "a234bf27",
   "metadata": {},
   "outputs": [
    {
     "name": "stdout",
     "output_type": "stream",
     "text": [
      "Enter a list of numbers, separated by spaces: -2 1 -3 4 -1 2 1 -5 4\n",
      "The maximum sum of any contiguous subarray is 6\n"
     ]
    }
   ],
   "source": [
    "# Method 1\n",
    "\n",
    "input_list = input(\"Enter a list of numbers, separated by spaces: \")\n",
    "input_list = input_list.split(\" \")\n",
    "input_list = [int(i) for i in input_list]\n",
    "length = len(input_list)\n",
    "current_max = input_list[0]\n",
    "sum_list = [] # to store all the sums of contiguous subarray\n",
    "\n",
    "for start in range(length):\n",
    "    for end in range(start, length + 1): # need length + 1 to catch the last element\n",
    "        sum_list.append(sum(input_list[start:end]))\n",
    "#print(sum_list)\n",
    "print(\"The maximum sum of any contiguous subarray is %d\" % max(sum_list))"
   ]
  },
  {
   "cell_type": "code",
   "execution_count": 1,
   "id": "ae3ea034",
   "metadata": {},
   "outputs": [
    {
     "name": "stdout",
     "output_type": "stream",
     "text": [
      "The maximum sum of any contiguous subarray is 12\n"
     ]
    }
   ],
   "source": [
    "# Method 2\n",
    "\n",
    "input_list = [-2,-1,-3,-1,-1,10,-1,-5,8]\n",
    "length = len(input_list)\n",
    "current_max = input_list[0]\n",
    "sum_list = [] # to store all the sums of contiguous subarray\n",
    "for start in range(length):\n",
    "    for end in range(start, length + 1): # need length + 1 to catch the last element\n",
    "        current_max = max(sum(input_list[start:end]), current_max) # equivalent of using inequalities to get max\n",
    "print(\"The maximum sum of any contiguous subarray is %d\" % current_max)"
   ]
  },
  {
   "cell_type": "markdown",
   "id": "0d155b96",
   "metadata": {},
   "source": [
    "__Problem 6:__ Write a program that takes a list of integers as input and then removes all duplicates from the list while preserving the order of the remaining elements.\n",
    "\n",
    "For example, given the list $[1, 2, 3, 2, 1, 4, 5, 4, 3]$, the program should output the list $[1, 2, 3, 4, 5]$.\n",
    "\n",
    "```csharp\n",
    "Enter a list of integers, separated by spaces: 1 2 3 2 1 4 5 4 3\n",
    "The list with duplicates removed is [1, 2, 3, 4, 5].\n",
    "```\n"
   ]
  },
  {
   "cell_type": "code",
   "execution_count": 1,
   "id": "bfd47d2c",
   "metadata": {},
   "outputs": [
    {
     "name": "stdout",
     "output_type": "stream",
     "text": [
      "Enter a list of integers, separated by spaces: 1 2 3 2 1 4 5 4 3\n",
      "The list with duplicates removed is [1, 2, 3, 4, 5]\n"
     ]
    }
   ],
   "source": [
    "# Method 1\n",
    "\n",
    "# Take input from user\n",
    "\n",
    "input_list = input(\"Enter a list of integers, separated by spaces: \").split()\n",
    "\n",
    "# Convert input to a list of integers\n",
    "\n",
    "input_list = [int(i) for i in input_list]\n",
    "\n",
    "# Create an empty list to hold unique elements\n",
    "\n",
    "output_list = []\n",
    "\n",
    "# Loop over input list and add unique elements to output list\n",
    "\n",
    "for i in input_list:\n",
    "    if i not in output_list:\n",
    "        output_list.append(i)\n",
    "\n",
    "# Print the output list\n",
    "\n",
    "print(\"The list with duplicates removed is\", output_list)\n"
   ]
  },
  {
   "cell_type": "code",
   "execution_count": 1,
   "id": "d6eaa243",
   "metadata": {},
   "outputs": [
    {
     "data": {
      "text/plain": [
       "[1, 2, 3, 4, 5]"
      ]
     },
     "execution_count": 1,
     "metadata": {},
     "output_type": "execute_result"
    }
   ],
   "source": [
    "# Method 2\n",
    "\n",
    "my_list = [1,2,3, 2, 1, 4, 5, 4, 3]\n",
    "out_list = []\n",
    "for d in my_list:\n",
    "    if (d not in out_list):\n",
    "        out_list.append(d)\n",
    "out_list"
   ]
  },
  {
   "cell_type": "markdown",
   "id": "316945cf",
   "metadata": {},
   "source": [
    "__Problem 7:__ Write a program that takes a sentence as input and then counts the frequency of each word in the sentence, ignoring punctuation and case. The program should then print the words and their frequencies in alphabetical order.\n",
    "\n",
    "```Python\n",
    "Enter a sentence: The quick brown fox jumps over the lazy dog.\n",
    "brown 1\n",
    "dog 1\n",
    "fox 1\n",
    "jumps 1\n",
    "lazy 1\n",
    "over 1\n",
    "quick 1\n",
    "the 2\n",
    "```"
   ]
  },
  {
   "cell_type": "code",
   "execution_count": 1,
   "id": "943d6bdb",
   "metadata": {},
   "outputs": [
    {
     "name": "stdout",
     "output_type": "stream",
     "text": [
      "Enter a sentence: The quick brown fox jumps over the lazy dog.\n",
      "brown 1\n",
      "dog 1\n",
      "fox 1\n",
      "jumps 1\n",
      "lazy 1\n",
      "over 1\n",
      "quick 1\n",
      "the 2\n"
     ]
    }
   ],
   "source": [
    "# Take input from user\n",
    "\n",
    "input_sentence = input(\"Enter a sentence: \")\n",
    "\n",
    "# Remove punctuation and convert to lowercase from sentence\n",
    "\n",
    "input_sentence = input_sentence.lower()\n",
    "for char in input_sentence:\n",
    "    if char in \"!\\\"#$%&'()*+,-./:;<=>?@[\\\\]^_`{|}~\":\n",
    "        input_sentence = input_sentence.replace(char, \" \")\n",
    "\n",
    "# Split input sentence into words\n",
    "\n",
    "input_words = input_sentence.split()\n",
    "\n",
    "# Create a dictionary to hold word counts\n",
    "\n",
    "word_counts = {}\n",
    "\n",
    "# Loop over words and count their frequencies\n",
    "\n",
    "for word in input_words:\n",
    "    if word in word_counts:\n",
    "        word_counts[word] += 1\n",
    "    else:\n",
    "        word_counts[word] = 1\n",
    "\n",
    "# Print words and their frequencies in alphabetical order\n",
    "\n",
    "for word in sorted(word_counts):\n",
    "    print(word, word_counts[word])\n",
    "    "
   ]
  },
  {
   "cell_type": "markdown",
   "id": "8714d86a",
   "metadata": {},
   "source": [
    "__Problem 8:__ Write a program that takes a list of strings as input and then groups the strings by their length. The program should then print the groups of strings in order of increasing length, with the strings are ordered in each group. \n",
    "\n",
    "For example, given the list [\"cat\", \"dog\", \"bird\", \"elephant\", \"lion\", \"tiger\", \"hamster\"], the program should output:\n",
    "\n",
    "```makefile\n",
    "3: cat dog\n",
    "4: bird lion\n",
    "5: tiger\n",
    "7: hamster\n",
    "8: elephant\n",
    "```\n",
    "\n"
   ]
  },
  {
   "cell_type": "code",
   "execution_count": 1,
   "id": "c195fd65",
   "metadata": {},
   "outputs": [
    {
     "name": "stdout",
     "output_type": "stream",
     "text": [
      "3: cat dog \n",
      "4: bird lion \n",
      "5: tiger \n",
      "7: hamster \n",
      "8: elephant \n"
     ]
    }
   ],
   "source": [
    "# Method 1 \n",
    "\n",
    "an_list = [\"cat\", \"dog\", \"bird\", \"elephant\", \"lion\", \"tiger\", \"hamster\"]\n",
    "#length = [len(animal) for animal in an_list]\n",
    "len_dict = {animal:len(animal) for animal in an_list}\n",
    "key_set = set(len_dict.values())\n",
    "out_dict = {}\n",
    "for key in key_set:\n",
    "    #out_dict[key] = [animal for animal in an_list if len_dict[animal]==key]\n",
    "    out_dict[key] = [animal for animal in an_list if len(animal)==key]\n",
    "\n",
    "# print output like it is above\n",
    "\n",
    "for key in out_dict:\n",
    "    name_str = str(key)+\": \"\n",
    "    #print(\"%d: \" % key)\n",
    "    for name in out_dict[key]:\n",
    "        name_str += (name+\" \")\n",
    "        #print(name+\" \")\n",
    "    print(name_str)\n",
    "    \n",
    "    \n",
    "    \n",
    "#print(out_dict) # print output as dictionary\n",
    "#print(len_dict)"
   ]
  },
  {
   "cell_type": "code",
   "execution_count": 1,
   "id": "219e5c99",
   "metadata": {},
   "outputs": [
    {
     "name": "stdout",
     "output_type": "stream",
     "text": [
      "3: cat dog \n",
      "4: bird lion \n",
      "5: tiger \n",
      "7: hamster \n",
      "8: elephant \n"
     ]
    }
   ],
   "source": [
    "# Method 2\n",
    "\n",
    "an_list = [\"cat\", \"dog\", \"bird\", \"elephant\", \"lion\", \"tiger\", \"hamster\"]\n",
    "#len_list = [len(animal) for animal in an_list]\n",
    "len_dict = {animal:len(animal) for animal in an_list}\n",
    "key_set = set(len_dict.values())\n",
    "out_dict = {}\n",
    "for key in key_set:\n",
    "    out_dict[key] = [animal for animal in an_list if len_dict[animal]==key]\n",
    "\n",
    "# print output like it is above\n",
    "\n",
    "for key in out_dict:\n",
    "    name_str = str(key)+\": \"\n",
    "    #print(\"%d: \" % key)\n",
    "    for name in out_dict[key]:\n",
    "        name_str += (name+\" \")\n",
    "        #print(name+\" \")\n",
    "    print(name_str)\n",
    "    \n",
    "\n",
    "    \n",
    "#print(len_list)\n",
    "#print()\n",
    "#print(len_dict)\n",
    "#print()\n",
    "#print(out_dict) # print output as dictionary\n",
    "#print()"
   ]
  },
  {
   "cell_type": "markdown",
   "id": "048b7309",
   "metadata": {},
   "source": [
    "__Problem 9:__ Write a program that takes a list of strings as input and then checks each string to see if it contains at least one digit and at least one uppercase letter. The program should then print the strings that match this pattern.\n",
    "\n",
    "For example, given the list [\"abc\", \"123\", \"Abc\", \"aBc\", \"ABC\", \"a1B2C3\"], the program should output: a1B2C3"
   ]
  },
  {
   "cell_type": "code",
   "execution_count": 8,
   "id": "6a2ef27d",
   "metadata": {},
   "outputs": [
    {
     "name": "stdout",
     "output_type": "stream",
     "text": [
      "a1B2C3\n"
     ]
    }
   ],
   "source": [
    "# look ahead can be used to check without order in regular expressions\n",
    "\n",
    "import re\n",
    "\n",
    "str_list = [\"abc\", \"123\", \"Abc\", \"aBc\", \"ABC\", \"a1B2C3\"]\n",
    "\n",
    "# print out strings with at least 1 digit and at least 1 uppercase\n",
    "\n",
    "pattern_2 = r\".*\\d.*\"\n",
    "pattern_1 = r\".*[A-Z].*\"\n",
    "for string in str_list:\n",
    "    if re.match(pattern_1, string) and re.match(pattern_2, string):\n",
    "        print(string)"
   ]
  },
  {
   "cell_type": "markdown",
   "id": "3078c087",
   "metadata": {},
   "source": [
    "__Problem 10:__ Write a program that reads a text file and then counts the frequency of each word in the file, ignoring punctuation and case. The program should then print the words and their frequencies in alphabetical order.\n",
    "\n",
    "For example, given the text file example.txt with the following contents:\n",
    "```css\n",
    "The quick brown fox jumps over the lazy dog.\n",
    "The dog barks at the moon.\n",
    "```\n",
    "The output should be\n",
    "```css\n",
    "at 1\n",
    "barks 1\n",
    "brown 1\n",
    "dog 2\n",
    "fox 1\n",
    "jumps 1\n",
    "lazy 1\n",
    "moon 1\n",
    "over 1\n",
    "quick 1\n",
    "the 4\n",
    "```"
   ]
  },
  {
   "cell_type": "code",
   "execution_count": 7,
   "id": "82a772f8",
   "metadata": {},
   "outputs": [
    {
     "name": "stdout",
     "output_type": "stream",
     "text": [
      "12 1\n",
      "208 6\n",
      "2888880001 2\n",
      "30 1\n",
      "3333 5\n",
      "333328888800012888880001 1\n",
      "882 6\n",
      "about 1\n",
      "are 1\n",
      "at 2\n",
      "best 2\n",
      "com 7\n",
      "doe 2\n",
      "doing 1\n",
      "example 7\n",
      "for 1\n",
      "from 2\n",
      "great 1\n",
      "hello 2\n",
      "hi 2\n",
      "how 2\n",
      "italian 1\n",
      "jane 4\n",
      "john 7\n",
      "let 1\n",
      "lunch 2\n",
      "meet 1\n",
      "new 1\n",
      "next 1\n",
      "place 1\n",
      "re 1\n",
      "regards 2\n",
      "s 1\n",
      "smith 5\n",
      "sometime 1\n",
      "sounds 1\n",
      "subject 2\n",
      "the 1\n",
      "to 2\n",
      "tuesday 1\n",
      "week 1\n",
      "you 1\n"
     ]
    }
   ],
   "source": [
    "def count_words(file_name):\n",
    "    with open(file_name, \"r\") as f:\n",
    "        input_sentence = f.read()\n",
    "\n",
    "    # Remove punctuation and convert to lowercase from sentence\n",
    "\n",
    "    input_sentence = input_sentence.lower()\n",
    "    for char in input_sentence:\n",
    "        if char in \"!\\\"#$%&'()*+,-./:;<=>?@[\\\\]^_`{|}~\":\n",
    "            input_sentence = input_sentence.replace(char, \" \")\n",
    "    \n",
    "    # Split input sentence into words\n",
    "\n",
    "    input_words = input_sentence.split()\n",
    "\n",
    "    # Create a dictionary to hold word counts\n",
    "\n",
    "    #word_counts = {}\n",
    "\n",
    "    # Loop over words and count their frequencies\n",
    "\n",
    "    unique_words = sorted(set(input_words))\n",
    "    for word in unique_words:\n",
    "        print(word, input_words.count(word))\n",
    "    \n",
    "    #for word in input_words:\n",
    "    #    if word in word_counts:\n",
    "    #        word_counts[word] += 1\n",
    "    #    else:\n",
    "    #        word_counts[word] = 1\n",
    "\n",
    "    # Print words and their frequencies in alphabetical order\n",
    "\n",
    "    #for word in sorted(word_counts):\n",
    "    #    print(word, word_counts[word])\n",
    "        \n",
    "# Call function with file\n",
    "\n",
    "count_words(\"example.txt\")"
   ]
  },
  {
   "cell_type": "markdown",
   "id": "18915c6a",
   "metadata": {},
   "source": [
    "__Problem 11:__ Write a program that reads in a text file and then searches for all email addresses in the file. The program should then output the email addresses and the number of times each email address appears in the file, sorted by frequency in descending order.\n",
    "\n",
    "For example, given the text file example.txt with the following contents: \n",
    "\n",
    "```txt\n",
    "\n",
    "To: jane.doe@example.com\n",
    "From: john.smith@example.com\n",
    "Subject: Hello\n",
    "\n",
    "Hi Jane,\n",
    "\n",
    "How are you doing? Let's meet for lunch sometime next week.\n",
    "\n",
    "Best regards,\n",
    "John\n",
    "\n",
    "To: john.smith@example.com\n",
    "From: jane.doe@example.com\n",
    "Subject: Re: Hello\n",
    "\n",
    "Hi John,\n",
    "\n",
    "Lunch sounds great! How about Tuesday at 12:30 at the new Italian place?\n",
    "\n",
    "Best regards,\n",
    "Jane\n",
    "```\n",
    "The program should output \n",
    "```txt\n",
    "jane.doe@example.com 2\n",
    "john.smith@example.com 2\n",
    "```"
   ]
  },
  {
   "cell_type": "code",
   "execution_count": 6,
   "id": "9f7de7f6",
   "metadata": {},
   "outputs": [
    {
     "name": "stdout",
     "output_type": "stream",
     "text": [
      "jane.doe@example.com 2\n",
      "john.smith@example.com 5\n"
     ]
    }
   ],
   "source": [
    "def extract_email(mystr):\n",
    "    \n",
    "    import re\n",
    "    \n",
    "    email_pattern = re.compile(r\"[\\w]+\\.?[\\w]+@[\\w]+\\.?[\\w]+\")\n",
    "    email_list = re.findall(email_pattern, mystr)\n",
    "    return email_list\n",
    "\n",
    "with open(\"example.txt\", \"r\") as f:\n",
    "    mystr = f.read()\n",
    "\n",
    "emails = extract_email(mystr)\n",
    "sorted_unique_email_list = sorted(set(emails))\n",
    "for email in sorted_unique_email_list:\n",
    "    print(email, emails.count(email))"
   ]
  },
  {
   "cell_type": "markdown",
   "id": "4e28fbc8",
   "metadata": {},
   "source": [
    "__Problem 12:__ Write a program that reads in a text file and then searches for all phone numbers in the file. The program should then output the phone numbers and the number of times each phone number appears in the file, sorted by frequency in descending order."
   ]
  },
  {
   "cell_type": "code",
   "execution_count": 5,
   "id": "5c5a9bd6",
   "metadata": {},
   "outputs": [
    {
     "name": "stdout",
     "output_type": "stream",
     "text": [
      "(208)-882-3333 6\n",
      "2888880001 4\n"
     ]
    }
   ],
   "source": [
    "def extract_email_phone(mystr):\n",
    "    \n",
    "    import re\n",
    "    \n",
    "    phone_pattern = re.compile(r\"\\(?\\d{3}\\)?[-,' ']?\\d{3}[-,' ']?\\d{4}\")\n",
    "    phone_list = re.findall(phone_pattern, mystr)\n",
    "    return phone_list\n",
    "\n",
    "with open(\"example.txt\", \"r\") as f:\n",
    "    mystr = f.read()\n",
    "\n",
    "phones = extract_email_phone(mystr)\n",
    "sorted_unique_phone_list = sorted(set(phones))\n",
    "for phone in sorted_unique_phone_list:\n",
    "    print(phone, phones.count(phone))"
   ]
  },
  {
   "cell_type": "code",
   "execution_count": 4,
   "id": "9e115719",
   "metadata": {},
   "outputs": [
    {
     "name": "stdout",
     "output_type": "stream",
     "text": [
      "Phones: ['(208)-882-3333', '(208)-882-3333', '2888880001', '(208)-882-3333', '2888880001', '(208)-882-3333', '(208)-882-3333', '2888880001', '2888880001', '(208)-882-3333']\n",
      "\n",
      "Emails: ['jane.doe@example.com', 'john.smith@example.com', 'john.smith@example.com', 'jane.doe@example.com', 'john.smith@example.com', 'john.smith@example.com', 'john.smith@example.com']\n",
      "\n",
      "jane.doe@example.com 2\n",
      "john.smith@example.com 5\n",
      "\n",
      "(208)-882-3333 6\n",
      "2888880001 4\n"
     ]
    }
   ],
   "source": [
    "# PROBLEM ELEVEN AND TWELVE IN ONE\n",
    "\n",
    "def extract_email_phone(mystr):\n",
    "    \n",
    "    import re\n",
    "    \n",
    "    phone_pattern = re.compile(r\"\\(?\\d{3}\\)?[-,' ']?\\d{3}[-,' ']?\\d{4}\")\n",
    "    email_pattern = re.compile(r\"[\\w]+\\.?[\\w]+@[\\w]+\\.?[\\w]+\")\n",
    "    phone_list = re.findall(phone_pattern, mystr)\n",
    "    email_list = re.findall(email_pattern, mystr)\n",
    "    return email_list, phone_list\n",
    "\n",
    "with open(\"example.txt\", \"r\") as f:\n",
    "    mystr = f.read()\n",
    "\n",
    "emails, phones = extract_email_phone(mystr)\n",
    "print(\"Phones:\", phones)\n",
    "print()\n",
    "print(\"Emails:\", emails)\n",
    "print()\n",
    "\n",
    "sorted_unique_email_list = sorted(set(emails))\n",
    "for email in sorted_unique_email_list:\n",
    "    print(email, emails.count(email))\n",
    "    \n",
    "print()    \n",
    "    \n",
    "sorted_unique_phone_list = sorted(set(phones))\n",
    "for phone in sorted_unique_phone_list:\n",
    "    print(phone, phones.count(phone))"
   ]
  },
  {
   "cell_type": "markdown",
   "id": "381499f3",
   "metadata": {},
   "source": [
    "__Problem 13:__ Write a program that reads in a text file and do the following things:\n",
    "\n",
    "(a) Find all the characters that appear in the file.\n",
    "\n",
    "(b) Build an encoding book by a random permutation. Then encode the who file into the new file, name \"shuffled.txt\". NOTE: in Python, one can shuffle a list using the following code:\n",
    "```Python\n",
    "shuffled_list = random.shuffle(original_list) \n",
    "```\n",
    "\n",
    "(c) Decode the \"shuffled.txt\" back to the original content and save it into \"unshuffled.txt\". NOTE: make sure that \"unshuffled.txt\" is the same as the original file."
   ]
  },
  {
   "cell_type": "code",
   "execution_count": 1,
   "id": "5bd37f17",
   "metadata": {},
   "outputs": [
    {
     "name": "stdout",
     "output_type": "stream",
     "text": [
      "['\\n', ' ', '!', '$', '&', \"'\", ',', '-', '.', '3', ':', ';', '?', 'A', 'B', 'C', 'D', 'E', 'F', 'G', 'H', 'I', 'J', 'K', 'L', 'M', 'N', 'O', 'P', 'Q', 'R', 'S', 'T', 'U', 'V', 'W', 'X', 'Y', 'Z', 'a', 'b', 'c', 'd', 'e', 'f', 'g', 'h', 'i', 'j', 'k', 'l', 'm', 'n', 'o', 'p', 'q', 'r', 's', 't', 'u', 'v', 'w', 'x', 'y', 'z']\n"
     ]
    }
   ],
   "source": [
    "# (a)\n",
    "\n",
    "with open(\"tiny_shakespeare.txt\", \"r\") as f:\n",
    "    data = f.read() # returns a string\n",
    "char_set = set(data)\n",
    "char_list = sorted(list(char_set))\n",
    "print(char_list)"
   ]
  },
  {
   "cell_type": "code",
   "execution_count": 2,
   "id": "1667fa0f",
   "metadata": {
    "scrolled": true
   },
   "outputs": [
    {
     "name": "stdout",
     "output_type": "stream",
     "text": [
      "Eo:bchJocojfQNGHfu :fhefh?: \n",
      "ffMhSQChuv:crf:phrfS:h&fhb?fSXDGG.,,NGd?fSXphb?fSXDGGEo:bchJocojfQNG- vhS:fhS,,h:fb ,IfMh:Scrf:hc hMofhcrSQhc huS&obrtGG.,,NG$fb ,IfMDh:fb ,IfMDGGEo:bchJocojfQNGEo:bcphC vhXQ ehJSovbhWS:\n",
      "ovbhobh\n",
      "rofuhfQf&Chc hcrfh?f ?,fDGG.,,NG3fhXQ eKcphefhXQ eKcDGGEo:bchJocojfQNGUfchvbhXo,,hro&phSQMhefK,,hrSIfh\n",
      " :QhSch v:h eQh?:o\n",
      "fDGxbKchShIf:Mo\n",
      "ctGG.,,NGs h& :fhcS,XoQLh QKcwh,fchochFfhM QfNhSeSCphSeSCgGGdf\n",
      " QMhJocojfQNGmQfhe :MphL  Mh\n",
      "ocojfQbDGGEo:bchJocojfQNG3fhS:fhS\n",
      "\n",
      " vQcfMh?  :h\n",
      "ocojfQbphcrfh?Sc:o\n",
      "oSQbhL  MDG3rSchSvcr :ocChbv:ufocbh Qhe v,Mh:f,ofIfhvbNhouhcrfCGe v,MhCof,MhvbhFvchcrfhbv?f:u,vocCphero,fhochef:fGer ,fb &fphefh&oLrchLvfbbhcrfCh:f,ofIfMhvbhrv&SQf,CwGFvchcrfChcroQXhefhS:fhc  hMfS:Nhcrfh,fSQQfbbhcrScGSuu,o\n",
      "cbhvbphcrfh FRf\n",
      "ch uh v:h&obf:CphobhSbhSQGoQIfQc :Chc h?S:co\n",
      "v,S:obfhcrfo:hSFvQMSQ\n",
      "fwh v:Gbvuuf:SQ\n",
      "fhobhShLSoQhc hcrf&hUfchvbh:fIfQLfhcrobheocrG v:h?oXfbphf:fhefhFf\n",
      " &fh:SXfbNhu :hcrfhL MbhXQ ehxGb?fSXhcrobhoQhrvQLf:hu :hF:fSMphQ choQhcro:bchu :h:fIfQLfDGG\n"
     ]
    }
   ],
   "source": [
    "# (b) - mistake with instructions made here\n",
    "\n",
    "from random import shuffle\n",
    "\n",
    "shuffled_list = char_list.copy()\n",
    "shuffle(shuffled_list)\n",
    "#print(shuffled_list)\n",
    "#print()\n",
    "\n",
    "encode_book = {char_list[i]: shuffled_list[i] for i in range(len(char_list))}\n",
    "#print(encode_book)\n",
    "#print()\n",
    "\n",
    "shuffled_data = \"\"\n",
    "for char in data:\n",
    "    shuffled_data += encode_book[char]\n",
    "print(shuffled_data[:1000])\n",
    "with open(\"shuffled.txt\", \"w\") as f:\n",
    "    f.write(shuffled_data) # shuffled_data is varable that contains the data that has been shuffled"
   ]
  },
  {
   "cell_type": "code",
   "execution_count": 3,
   "id": "157ab382",
   "metadata": {},
   "outputs": [
    {
     "name": "stdout",
     "output_type": "stream",
     "text": [
      "First Citizen:\n",
      "Before we proceed any further, hear me speak.\n",
      "\n",
      "All:\n",
      "Speak, speak.\n",
      "\n",
      "First Citizen:\n",
      "You are all resolved rather to die than to famish?\n",
      "\n",
      "All:\n",
      "Resolved. resolved.\n",
      "\n",
      "First Citizen:\n",
      "First, you know Caius Marcius is chief enemy to the people.\n",
      "\n",
      "All:\n",
      "We know't, we know't.\n",
      "\n",
      "First Citizen:\n",
      "Let us kill him, and we'll have corn at our own price.\n",
      "Is't a verdict?\n",
      "\n",
      "All:\n",
      "No more talking on't; let it be done: away, away!\n",
      "\n",
      "Second Citizen:\n",
      "One word, good citizens.\n",
      "\n",
      "First Citizen:\n",
      "We are accounted poor\n"
     ]
    }
   ],
   "source": [
    "# (c)\n",
    "\n",
    "# Method 1\n",
    "\n",
    "with open(\"shuffled.txt\", \"r\") as f:\n",
    "    shuffled_data = f.read()\n",
    "decode_book = {encode_book[char] : char for char in char_list}\n",
    "unshuffled = \"\"\n",
    "for char in shuffled_data:\n",
    "    unshuffled += decode_book[char]\n",
    "print(unshuffled[:500])\n",
    "with open(\"unshuffled.txt\", \"w\") as f:\n",
    "    f.write(unshuffled)"
   ]
  },
  {
   "cell_type": "code",
   "execution_count": 158,
   "id": "a239e3e6",
   "metadata": {},
   "outputs": [
    {
     "name": "stdout",
     "output_type": "stream",
     "text": [
      "First Citizen:\n",
      "Before we proceed any further, hear me speak.\n",
      "\n",
      "All:\n",
      "Speak, speak.\n",
      "\n",
      "First Citizen:\n",
      "You are all resolved rather to die than to famish?\n",
      "\n",
      "All:\n",
      "Resolved. resolved.\n",
      "\n",
      "First Citizen:\n",
      "First, you know Caius Marcius is chief enemy to the people.\n",
      "\n",
      "All:\n",
      "We know't, we know't.\n",
      "\n",
      "First Citizen:\n",
      "Let us kill him, and we'll have corn at our own price.\n",
      "Is't a verdict?\n",
      "\n",
      "All:\n",
      "No more talking on't; let it be done: away, away!\n",
      "\n",
      "Second Citizen:\n",
      "One word, good citizens.\n",
      "\n",
      "First Citizen:\n",
      "We are accounted poor\n"
     ]
    }
   ],
   "source": [
    "# (c)\n",
    "\n",
    "# Method 2\n",
    "\n",
    "with open(\"shuffled.txt\", \"r\") as f:\n",
    "    data = f.read()\n",
    "decode_book = {shuffled_list[i] : char_list[i] for i in range(len(char_list))}\n",
    "decrypted_data = \"\"\n",
    "for char in data:\n",
    "    decrypted_data += decode_book[char]\n",
    "print(decrypted_data[:500])\n",
    "with open(\"unshuffled.txt\", \"w\") as f:\n",
    "    f.write(decrypted_data)"
   ]
  },
  {
   "cell_type": "markdown",
   "id": "bd865803",
   "metadata": {},
   "source": [
    "__Problem 14:__ Write a program that reads in a text file and do the following things:\n",
    "\n",
    "(a) Find all the characters that appear in the file.\n",
    "\n",
    "\n",
    "(b) In computer programming languages, each character is represented by an ASCII (American Standard Code for Information Interchange) code. In python, the ASCII code of each character (say 'a') can be evaluated using \"ord\" function\n",
    "\n",
    "```Python\n",
    "ord('a')\n",
    "```\n",
    "and one can convert an ASCII code into the character by\n",
    "\n",
    "```Python\n",
    "chr(c)\n",
    "```\n",
    "Build the encoding book by assigning each character by its ASCII code plus 1. Then encode the file into \"asciipone.txt\".\n",
    "\n",
    "(c) Decode the file \"asciipone.txt\" into \"unascii.txt'. NOTE: make sure that \"unascii.txt\" is the same as the original file."
   ]
  },
  {
   "cell_type": "code",
   "execution_count": 1,
   "id": "d1dcba87",
   "metadata": {},
   "outputs": [
    {
     "name": "stdout",
     "output_type": "stream",
     "text": [
      "['\\n', ' ', '!', '$', '&', \"'\", ',', '-', '.', '3', ':', ';', '?', 'A', 'B', 'C', 'D', 'E', 'F', 'G', 'H', 'I', 'J', 'K', 'L', 'M', 'N', 'O', 'P', 'Q', 'R', 'S', 'T', 'U', 'V', 'W', 'X', 'Y', 'Z', 'a', 'b', 'c', 'd', 'e', 'f', 'g', 'h', 'i', 'j', 'k', 'l', 'm', 'n', 'o', 'p', 'q', 'r', 's', 't', 'u', 'v', 'w', 'x', 'y', 'z']\n",
      "\n"
     ]
    }
   ],
   "source": [
    "# (a)\n",
    "\n",
    "with open(\"tiny_shakespeare.txt\", \"r\") as f:\n",
    "    data = f.read()\n",
    "char_set = set(data)\n",
    "char_list = sorted(list(char_set))\n",
    "print(char_list)\n",
    "print()"
   ]
  },
  {
   "cell_type": "code",
   "execution_count": 2,
   "id": "38278756",
   "metadata": {},
   "outputs": [
    {
     "name": "stdout",
     "output_type": "stream",
     "text": [
      "[71, 106, 115, 116, 117, 33, 68, 106, 117, 106, 123, 102, 111, 59, 11, 67, 102, 103, 112, 115, 102, 33, 120, 102, 33, 113, 115, 112, 100, 102, 102, 101, 33, 98, 111, 122, 33, 103, 118, 115, 117, 105, 102, 115, 45, 33, 105, 102, 98, 115, 33, 110, 102, 33, 116, 113, 102, 98, 108, 47, 11, 11, 66, 109, 109, 59, 11, 84, 113, 102, 98, 108, 45, 33, 116, 113, 102, 98, 108, 47, 11, 11, 71, 106, 115, 116, 117, 33, 68, 106, 117, 106, 123, 102, 111, 59, 11, 90, 112, 118, 33, 98, 115, 102, 33, 98, 109, 109, 33, 115, 102, 116, 112, 109, 119, 102, 101, 33, 115, 98, 117, 105, 102, 115, 33, 117, 112, 33, 101, 106, 102, 33, 117, 105, 98, 111, 33, 117, 112, 33, 103, 98, 110, 106, 116, 105, 64, 11, 11, 66, 109, 109, 59, 11, 83, 102, 116, 112, 109, 119, 102, 101, 47, 33, 115, 102, 116, 112, 109, 119, 102, 101, 47, 11, 11, 71, 106, 115, 116, 117, 33, 68, 106, 117, 106, 123, 102, 111, 59, 11, 71, 106, 115, 116, 117, 45, 33, 122, 112, 118, 33, 108, 111, 112, 120, 33, 68, 98, 106, 118, 116, 33, 78, 98, 115, 100, 106, 118, 116, 33, 106, 116, 33, 100, 105, 106, 102, 103, 33, 102, 111, 102, 110, 122, 33, 117, 112, 33, 117, 105, 102, 33, 113, 102, 112, 113, 109, 102, 47, 11, 11, 66, 109, 109, 59, 11, 88, 102, 33, 108, 111, 112, 120, 40, 117, 45, 33, 120, 102, 33, 108, 111, 112, 120, 40, 117, 47, 11, 11, 71, 106, 115, 116, 117, 33, 68, 106, 117, 106, 123, 102, 111, 59, 11, 77, 102, 117, 33, 118, 116, 33, 108, 106, 109, 109, 33, 105, 106, 110, 45, 33, 98, 111, 101, 33, 120, 102, 40, 109, 109, 33, 105, 98, 119, 102, 33, 100, 112, 115, 111, 33, 98, 117, 33, 112, 118, 115, 33, 112, 120, 111, 33, 113, 115, 106, 100, 102, 47, 11, 74, 116, 40, 117, 33, 98, 33, 119, 102, 115, 101, 106, 100, 117, 64, 11, 11, 66, 109, 109, 59, 11, 79, 112, 33, 110, 112, 115, 102, 33, 117, 98, 109, 108, 106, 111, 104, 33, 112, 111, 40, 117, 60, 33, 109, 102, 117, 33, 106, 117, 33, 99, 102, 33, 101, 112, 111, 102, 59, 33, 98, 120, 98, 122, 45, 33, 98, 120, 98, 122, 34, 11, 11, 84, 102, 100, 112, 111, 101, 33, 68, 106, 117, 106, 123, 102, 111, 59, 11, 80, 111, 102, 33, 120, 112, 115, 101, 45, 33, 104, 112, 112, 101, 33, 100, 106, 117, 106, 123, 102, 111, 116, 47, 11, 11, 71, 106, 115, 116, 117, 33, 68, 106, 117, 106, 123, 102, 111, 59, 11, 88, 102, 33, 98, 115, 102, 33, 98, 100, 100, 112, 118, 111, 117, 102, 101, 33, 113, 112, 112, 115, 33, 100, 106, 117, 106, 123, 102, 111, 116, 45, 33, 117, 105, 102, 33, 113, 98, 117, 115, 106, 100, 106, 98, 111, 116, 33, 104, 112, 112, 101, 47, 11, 88, 105, 98, 117, 33, 98, 118, 117, 105, 112, 115, 106, 117, 122, 33, 116, 118, 115, 103, 102, 106, 117, 116, 33, 112, 111, 33, 120, 112, 118, 109, 101, 33, 115, 102, 109, 106, 102, 119, 102, 33, 118, 116, 59, 33, 106, 103, 33, 117, 105, 102, 122, 11, 120, 112, 118, 109, 101, 33, 122, 106, 102, 109, 101, 33, 118, 116, 33, 99, 118, 117, 33, 117, 105, 102, 33, 116, 118, 113, 102, 115, 103, 109, 118, 106, 117, 122, 45, 33, 120, 105, 106, 109, 102, 33, 106, 117, 33, 120, 102, 115, 102, 11, 120, 105, 112, 109, 102, 116, 112, 110, 102, 45, 33, 120, 102, 33, 110, 106, 104, 105, 117, 33, 104, 118, 102, 116, 116, 33, 117, 105, 102, 122, 33, 115, 102, 109, 106, 102, 119, 102, 101, 33, 118, 116, 33, 105, 118, 110, 98, 111, 102, 109, 122, 60, 11, 99, 118, 117, 33, 117, 105, 102, 122, 33, 117, 105, 106, 111, 108, 33, 120, 102, 33, 98, 115, 102, 33, 117, 112, 112, 33, 101, 102, 98, 115, 59, 33, 117, 105, 102, 33, 109, 102, 98, 111, 111, 102, 116, 116, 33, 117, 105, 98, 117, 11, 98, 103, 103, 109, 106, 100, 117, 116, 33, 118, 116, 45, 33, 117, 105, 102, 33, 112, 99, 107, 102, 100, 117, 33, 112, 103, 33, 112, 118, 115, 33, 110, 106, 116, 102, 115, 122, 45, 33, 106, 116, 33, 98, 116, 33, 98, 111, 11, 106, 111, 119, 102, 111, 117, 112, 115, 122, 33, 117, 112, 33, 113, 98, 115, 117, 106, 100, 118, 109, 98, 115, 106, 116, 102, 33, 117, 105, 102, 106, 115, 33, 98, 99, 118, 111, 101, 98, 111, 100, 102, 60, 33, 112, 118, 115, 11, 116, 118, 103, 103, 102, 115, 98, 111, 100, 102, 33, 106, 116, 33, 98, 33, 104, 98, 106, 111, 33, 117, 112, 33, 117, 105, 102, 110, 33, 77, 102, 117, 33, 118, 116, 33, 115, 102, 119, 102, 111, 104, 102, 33, 117, 105, 106, 116, 33, 120, 106, 117, 105, 11, 112, 118, 115, 33, 113, 106, 108, 102, 116, 45, 33, 102, 115, 102, 33, 120, 102, 33, 99, 102, 100, 112, 110, 102, 33, 115, 98, 108, 102, 116, 59, 33, 103, 112, 115, 33, 117, 105, 102, 33, 104, 112, 101, 116, 33, 108, 111, 112, 120, 33, 74, 11, 116, 113, 102, 98, 108, 33, 117, 105, 106, 116, 33, 106, 111, 33, 105, 118, 111, 104, 102, 115, 33, 103, 112, 115, 33, 99, 115, 102, 98, 101, 45, 33, 111, 112, 117, 33, 106, 111, 33, 117, 105, 106, 115, 116, 117, 33, 103, 112, 115, 33, 115, 102, 119, 102, 111, 104, 102, 47, 11, 11]\n"
     ]
    }
   ],
   "source": [
    "# (b)\n",
    "\n",
    "# Method 1\n",
    "\n",
    "encode_book = {c:ord(c) + 1 for c in char_list}\n",
    "\n",
    "encrypted_data_list = []\n",
    "encrypted_data = \"\"\n",
    "for char in data:\n",
    "    encrypted_data_list.append(encode_book[char])\n",
    "encrypted_data = str(encrypted_data_list)\n",
    "print(encrypted_data_list[0:1000])\n",
    "with open(\"asciipone.txt\", \"w\") as f:\n",
    "    f.write(encrypted_data)"
   ]
  },
  {
   "cell_type": "code",
   "execution_count": 3,
   "id": "87498780",
   "metadata": {},
   "outputs": [
    {
     "name": "stdout",
     "output_type": "stream",
     "text": [
      "First Citizen:\n",
      "Before we proceed any further, hear me speak.\n",
      "\n",
      "All:\n",
      "Speak, speak.\n",
      "\n",
      "First Citizen:\n",
      "You are all resolved rather to die than to famish?\n",
      "\n",
      "All:\n",
      "Resolved. resolved.\n",
      "\n",
      "First Citizen:\n",
      "First, you know Caius Marcius is chief enemy to the people.\n",
      "\n",
      "All:\n",
      "We know't, we know't.\n",
      "\n",
      "First Citizen:\n",
      "Let us kill him, and we'll have corn at our own price.\n",
      "Is't a verdict?\n",
      "\n",
      "All:\n",
      "No more talking on't; let it be done: away, away!\n",
      "\n",
      "Second Citizen:\n",
      "One word, good citizens.\n",
      "\n",
      "First Citizen:\n",
      "We are accounted poor citizens, the patricians good.\n",
      "What authority surfeits on would relieve us: if they\n",
      "would yield us but the superfluity, while it were\n",
      "wholesome, we might guess they relieved us humanely;\n",
      "but they think we are too dear: the leanness that\n",
      "afflicts us, the object of our misery, is as an\n",
      "inventory to particularise their abundance; our\n",
      "sufferance is a gain to them Let us revenge this with\n",
      "our pikes, ere we become rakes: for the gods know I\n",
      "speak this in hunger for bread, not in thirst for revenge.\n",
      "\n",
      "\n"
     ]
    }
   ],
   "source": [
    "# (c)\n",
    "\n",
    "# Method 1\n",
    "\n",
    "with open(\"asciipone.txt\", \"r\") as f:\n",
    "    encrypted_data = f.read()\n",
    "decode_book = {ord(c) + 1:c for c in char_list}\n",
    "encrypted_data_list = encrypted_data.strip(\"][\").split(\", \")\n",
    "decrypted_data = \"\"\n",
    "for i in encrypted_data_list:\n",
    "    decrypted_data += decode_book[int(i)] #PROBLEMATIC BECAUSE IT INPUTS [ as i\n",
    "with open(\"unascii.txt\", \"w\") as f:\n",
    "    f.write(decrypted_data)\n",
    "print(decrypted_data[:1000])\n",
    "    \n",
    "    \n",
    "#for char in encrypted_data:\n",
    "    #decrypted_data += decode_book[char]\n",
    "    #print(decode_book[char])\n",
    "#print(encrypted_data_list[:1000])\n",
    "#print(type(encrypted_data))\n",
    "#print(type(decrypted_data))"
   ]
  },
  {
   "cell_type": "code",
   "execution_count": 1,
   "id": "310061eb",
   "metadata": {},
   "outputs": [
    {
     "name": "stdout",
     "output_type": "stream",
     "text": [
      "['\\n', ' ', '!', '$', '&', \"'\", ',', '-', '.', '3', ':', ';', '?', 'A', 'B', 'C', 'D', 'E', 'F', 'G', 'H', 'I', 'J', 'K', 'L', 'M', 'N', 'O', 'P', 'Q', 'R', 'S', 'T', 'U', 'V', 'W', 'X', 'Y', 'Z', 'a', 'b', 'c', 'd', 'e', 'f', 'g', 'h', 'i', 'j', 'k', 'l', 'm', 'n', 'o', 'p', 'q', 'r', 's', 't', 'u', 'v', 'w', 'x', 'y', 'z']\n",
      "\n"
     ]
    }
   ],
   "source": [
    "# (a)\n",
    "\n",
    "# Method 2\n",
    "\n",
    "with open(\"tiny_shakespeare.txt\", \"r\") as f:\n",
    "    data = f.read()\n",
    "char_set = set(data)\n",
    "char_list = sorted(list(char_set))\n",
    "print(char_list)\n",
    "print()"
   ]
  },
  {
   "cell_type": "code",
   "execution_count": 2,
   "id": "b4d2633b",
   "metadata": {},
   "outputs": [
    {
     "name": "stdout",
     "output_type": "stream",
     "text": [
      "71 106 115 116 117 33 68 106 117 106 123 102 111 59 11 67 102 103 112 115 102 33 120 102 33 113 115 112 100 102 102 101 33 98 111 122 33 103 118 115 117 105 102 115 45 33 105 102 98 115 33 110 102 33 116 113 102 98 108 47 11 11 66 109 109 59 11 84 113 102 98 108 45 33 116 113 102 98 108 47 11 11 71 106 115 116 117 33 68 106 117 106 123 102 111 59 11 90 112 118 33 98 115 102 33 98 109 109 33 115 102 116 112 109 119 102 101 33 115 98 117 105 102 115 33 117 112 33 101 106 102 33 117 105 98 111 33 117 112 33 103 98 110 106 116 105 64 11 11 66 109 109 59 11 83 102 116 112 109 119 102 101 47 33 115 102 116 112 109 119 102 101 47 11 11 71 106 115 116 117 33 68 106 117 106 123 102 111 59 11 71 106 115 116 117 45 33 122 112 118 33 108 111 112 120 33 68 98 106 118 116 33 78 98 115 100 106 118 116 33 106 116 33 100 105 106 102 103 33 102 111 102 110 122 33 117 112 33 117 105 102 33 113 102 112 113 109 102 47 11 11 66 109 109 59 11 88 102 33 108 111 112 120 40 117 45 33 120 102 33 108 111 112 120 \n"
     ]
    }
   ],
   "source": [
    "# (b)\n",
    "\n",
    "# Method 2\n",
    "\n",
    "# A --> 65+1 = 66\n",
    "# a --> 97+1 = 98\n",
    "\n",
    "encode_book = {char: ord(char) + 1 for char in char_list}\n",
    "#encode_book\n",
    "encoded_data = \"\"\n",
    "for char in data:\n",
    "    encoded_data += str(encode_book[char])+\" \" \n",
    "    # add space so the ascii values aren't jumbled together\n",
    "print(encoded_data[:1000])\n",
    "with open(\"asciipone.txt\", \"w\") as f:\n",
    "    f.write(encoded_data)"
   ]
  },
  {
   "cell_type": "code",
   "execution_count": 3,
   "id": "e7058452",
   "metadata": {},
   "outputs": [
    {
     "name": "stdout",
     "output_type": "stream",
     "text": [
      "First Citizen:\n",
      "Before we proceed any further, hear me speak.\n",
      "\n",
      "All:\n",
      "Speak, speak.\n",
      "\n",
      "First Citizen:\n",
      "You are all resolved rather to die than to famish?\n",
      "\n",
      "All:\n",
      "Resolved. resolved.\n",
      "\n",
      "First Citizen:\n",
      "First, you know Caius Marcius is chief enemy to the people.\n",
      "\n",
      "All:\n",
      "We know't, we know't.\n",
      "\n",
      "First Citizen:\n",
      "Let us kill him, and we'll have corn at our own price.\n",
      "Is't a verdict?\n",
      "\n",
      "All:\n",
      "No more talking on't; let it be done: away, away!\n",
      "\n",
      "Second Citizen:\n",
      "One word, good citizens.\n",
      "\n",
      "First Citizen:\n",
      "We are accounted poor\n"
     ]
    }
   ],
   "source": [
    "# (c)\n",
    "\n",
    "# Method 2\n",
    "\n",
    "with open(\"asciipone.txt\", \"r\") as f:\n",
    "    ascii_data = f.read()\n",
    "decode_book = {ord(char) + 1:char for char in char_list}\n",
    "unascii = \"\"\n",
    "ascii_data_list = ascii_data.split() # returns a list\n",
    "for d in ascii_data_list:\n",
    "    unascii += decode_book[int(d)]\n",
    "print(unascii[:500])\n",
    "with open(\"unascii.txt\", \"w\") as f:\n",
    "    f.write(unascii)"
   ]
  },
  {
   "cell_type": "markdown",
   "id": "c68164cc",
   "metadata": {},
   "source": [
    "# Extra Practice"
   ]
  },
  {
   "cell_type": "markdown",
   "id": "70211af8",
   "metadata": {},
   "source": [
    "***EX ONE: CHECK FOR SUBSTRING***"
   ]
  },
  {
   "cell_type": "code",
   "execution_count": 19,
   "id": "2ffa8105",
   "metadata": {},
   "outputs": [
    {
     "data": {
      "text/plain": [
       "True"
      ]
     },
     "execution_count": 19,
     "metadata": {},
     "output_type": "execute_result"
    }
   ],
   "source": [
    "# Check for substring\n",
    "\n",
    "str1 = \"hello\" #--> str1d = \"hellohello\"\n",
    "str2 = \"llohe\"\n",
    "\n",
    "def check2(str1, str2):\n",
    "    str1d = str1*2\n",
    "    return (str.find(str1d, str2) >= 0 and len(str1) == len(str2))\n",
    "    \n",
    "check2(str1, str2)"
   ]
  },
  {
   "cell_type": "markdown",
   "id": "39c4ad8f",
   "metadata": {},
   "source": [
    "***EX TWO: SUM UP TO N-SQUARED***"
   ]
  },
  {
   "cell_type": "code",
   "execution_count": 20,
   "id": "adc7009a",
   "metadata": {},
   "outputs": [
    {
     "name": "stdout",
     "output_type": "stream",
     "text": [
      "385\n"
     ]
    }
   ],
   "source": [
    "# Write down the program to compute \n",
    "# 1^2 + 2^2 + ⋯ + 𝑛^2, where 𝑛 is a given integer.\n",
    "\n",
    "def sum_up_to_n_sqrd(n):\n",
    "    s = 0\n",
    "    for i in range(n + 1):\n",
    "        s = s + (i*i)\n",
    "    return s\n",
    "\n",
    "n = 10\n",
    "print(sum_up_to_n_sqrd(n))"
   ]
  },
  {
   "cell_type": "markdown",
   "id": "5884c62b",
   "metadata": {},
   "source": [
    "***EX THREE: LIST MANIPULATION***"
   ]
  },
  {
   "cell_type": "code",
   "execution_count": 21,
   "id": "af7dc95f",
   "metadata": {},
   "outputs": [
    {
     "name": "stdout",
     "output_type": "stream",
     "text": [
      "Bananas\n",
      "['Huckleberries', 'Bananas', 'Cherries']\n"
     ]
    }
   ],
   "source": [
    "# Problem 1: \n",
    "# 1. Create a list of your favorite fruits. \n",
    "# 2. Add a new fruit to the list. \n",
    "# 3. Remove a fruit from the list. \n",
    "# 4. Print out the second to last elements\n",
    "\n",
    "fav_fruits = [\"Huckleberries\", \"Cherries\", \"Blueberries\"]\n",
    "fav_fruits.insert(1, \"Bananas\")\n",
    "fav_fruits.remove(\"Blueberries\")\n",
    "print(fav_fruits[len(fav_fruits)-2])\n",
    "print(fav_fruits)"
   ]
  },
  {
   "cell_type": "markdown",
   "id": "c5bd7b7c",
   "metadata": {},
   "source": [
    "***EX FOUR: LIST CONDITIONALS***"
   ]
  },
  {
   "cell_type": "code",
   "execution_count": 22,
   "id": "1edab58a",
   "metadata": {},
   "outputs": [
    {
     "name": "stdout",
     "output_type": "stream",
     "text": [
      "['James', 'Xander', 'Austin', 'Joseph', 'Robert', 'Ethan']\n"
     ]
    }
   ],
   "source": [
    "# Problem 2: \n",
    "# Create a program that takes a list of words \n",
    "# and returns a new list with only the words\n",
    "# that have a length of 5 or more.\n",
    "\n",
    "def words_more_than_4(words):\n",
    "    long_words = []\n",
    "    for word in words:\n",
    "        if len(word) >= 5:\n",
    "            long_words.append(word)\n",
    "    return long_words\n",
    "\n",
    "words = ['James', 'Xander', 'Jake', 'Austin', 'Cole', 'Joseph', 'Robert', 'Will', 'Ethan']\n",
    "print(words_more_than_4(words))"
   ]
  },
  {
   "cell_type": "markdown",
   "id": "2873f802",
   "metadata": {},
   "source": [
    "***EX FIVE: STRING TO TUPLE***"
   ]
  },
  {
   "cell_type": "code",
   "execution_count": 23,
   "id": "f80e13a0",
   "metadata": {},
   "outputs": [
    {
     "name": "stdout",
     "output_type": "stream",
     "text": [
      "('Hello world!', 12)\n"
     ]
    }
   ],
   "source": [
    "# Problem 3: \n",
    "# Create a function that takes in a string and \n",
    "# returns a tuple of the string and its length.\n",
    "\n",
    "def return_string_and_size(s):\n",
    "    s_tuple = (s, len(s))\n",
    "    return s_tuple\n",
    "    \n",
    "s = \"Hello world!\"\n",
    "print(return_string_and_size(s))"
   ]
  },
  {
   "cell_type": "markdown",
   "id": "ae3cdc20",
   "metadata": {},
   "source": [
    "***EX SIX: TUPLE MANIPULATION***"
   ]
  },
  {
   "cell_type": "code",
   "execution_count": 24,
   "id": "06dced67",
   "metadata": {},
   "outputs": [
    {
     "name": "stdout",
     "output_type": "stream",
     "text": [
      "giraffe\n",
      "('lion', 'tiger', 'giraffe', 'elephant', 'monkey', 'rhinoceros')\n",
      "['lion', 'tiger', 'giraffe', 'elephant', 'monkey', 'rhinoceros']\n"
     ]
    }
   ],
   "source": [
    "# Problem 2:\n",
    "# 1. Create a tuple called zoo that contains the \n",
    "# animals ‘lion’, ‘tiger’, ‘giraffe’, ‘elephant’, \n",
    "# and‘monkey’.\n",
    "# 2. Print the third element of the tuple.\n",
    "# 3. Add the animal ‘rhinoceros’ to the tuple. \n",
    "# Hint: You can’t add elements to a tuple, \n",
    "# so you’ll need to create a new tuple.\n",
    "# 4. Convert the new_zoo tuple to a list \n",
    "# and save it as zoo_list\n",
    "\n",
    "zoo = (\"lion\", \"tiger\", \"giraffe\", \"elephant\", \"monkey\")\n",
    "print(zoo[2])\n",
    "new_zoo = zoo + (\"rhinoceros\",)\n",
    "print(new_zoo)\n",
    "zoo_list = list(new_zoo)\n",
    "print(zoo_list)"
   ]
  },
  {
   "cell_type": "markdown",
   "id": "7c17d159",
   "metadata": {},
   "source": [
    "***EX SEVEN: LIST TO DICTIONARY***"
   ]
  },
  {
   "cell_type": "code",
   "execution_count": 25,
   "id": "55b11bf7",
   "metadata": {},
   "outputs": [
    {
     "name": "stdout",
     "output_type": "stream",
     "text": [
      "{1: 3, 2: 3, 3: 1, 4: 1, 5: 1}\n"
     ]
    }
   ],
   "source": [
    "# Problem: Given a list of integers, \n",
    "# create a new dictionary that stores \n",
    "# the frequency of each integer in the list.\n",
    "# Hint: need to define a function\n",
    "# def\n",
    "# Expect:\n",
    "# nums = [1, 2, 3, 2, 4, 1, 5, 2, 1]\n",
    "# count_frequency(nums)\n",
    "# Output: {1: 3, 2: 3, 3: 1, 4: 1, 5: 1}\n",
    "\n",
    "def count_frequency(param_list):\n",
    "    frequency = {}\n",
    "    for num in param_list:\n",
    "        if num in frequency:\n",
    "            frequency[num] += 1\n",
    "        else:\n",
    "            frequency[num] = 1\n",
    "    return frequency\n",
    "\n",
    "nums = [1, 2, 3, 2, 4, 1, 5, 2, 1]\n",
    "print(count_frequency(nums))"
   ]
  },
  {
   "cell_type": "markdown",
   "id": "e1de9707",
   "metadata": {},
   "source": [
    "***EX SEVEN: CALCULATE QUOTIENT***\n",
    "\n",
    "- Write a program to let a user repeatedly input two numbers $a,b$. \n",
    "\n",
    "- Return the quotient $\\frac{a}{b}$ if possible. Otherwise, raise the error message \"Watch out: b==0!!!\" and exit the program. \n",
    "\n",
    "- Ask the user whether they want to continue. If yes, repeat the above step. Otherwise, exit the program.\n",
    "\n"
   ]
  },
  {
   "cell_type": "code",
   "execution_count": 26,
   "id": "30b4e657",
   "metadata": {},
   "outputs": [
    {
     "name": "stdout",
     "output_type": "stream",
     "text": [
      "Do you want to calculate a quotient, yes or no (enter in lower case): yes\n",
      "Enter number for a: 78\n",
      "Enter number for b: 9\n",
      "a/b = 8.666667\n",
      "Do you want to calculate a quotient, yes or no (enter in lower case): no\n",
      "Program ended\n"
     ]
    }
   ],
   "source": [
    "def calculate_quotient():\n",
    "    x = 1\n",
    "    while x == 1:\n",
    "        repeat = \"\"\n",
    "        while repeat != \"yes\" and repeat != \"no\":\n",
    "            repeat = input(\"Do you want to calculate a quotient, yes or no (enter in lower case): \")\n",
    "        if repeat == \"no\":\n",
    "            print(\"Program ended\")\n",
    "            break\n",
    "        a = input(\"Enter number for a: \")\n",
    "        b = input(\"Enter number for b: \")\n",
    "        a = int(a)\n",
    "        b = int(b)\n",
    "        if b == 0:\n",
    "            raise ValueError(\"Watch out: b == 0!!!\")\n",
    "        else:\n",
    "            print(\"a/b = %f\" % (a/b))\n",
    "            \n",
    "calculate_quotient()"
   ]
  },
  {
   "cell_type": "markdown",
   "id": "6582d543",
   "metadata": {},
   "source": [
    "***EX EIGHT: STRING CHAR FREQUENCY IN DICTIONARY***: Given a string. Write a function to generate a dictionary whose keys are characters of the string, whose values are the keys' frequency in the string. \n",
    "\n",
    "__Hint:__\n",
    "\n",
    "```Python\n",
    "    def string_to_dict(mystr):\n",
    "       #code here\n",
    "       return  mydict\n",
    "```\n",
    "Expectation:\n",
    "```Python\n",
    "    mystr = \"How are you doing?\"\n",
    "    string_to_dict(mystr) #{'d': 1, 'a': 1, 'y': 1, 'i': 1, 'n': 1, 'e': 1, ' ': 3, 'r': 1, 'H': 1, '?': 1, 'o': 3, 'u': 1, 'w': 1, 'g': 1}\n",
    "```\n"
   ]
  },
  {
   "cell_type": "code",
   "execution_count": 27,
   "id": "9ecf8898",
   "metadata": {},
   "outputs": [
    {
     "name": "stdout",
     "output_type": "stream",
     "text": [
      "{'H': 1, 'o': 3, 'w': 1, ' ': 3, 'a': 1, 'r': 1, 'e': 1, 'y': 1, 'u': 1, 'd': 1, 'i': 1, 'n': 1, 'g': 1, '?': 1}\n"
     ]
    }
   ],
   "source": [
    "# Note: Must print the dictionary return by string_to_dict\n",
    "\n",
    "def string_to_dict(mystr):\n",
    "    mydict = {}\n",
    "    count = 0\n",
    "    for i in mystr:\n",
    "        if i in mydict:\n",
    "            mydict[i] += 1\n",
    "        else:\n",
    "            mydict[i] = 1\n",
    "    return mydict\n",
    "    \n",
    "mystr = \"How are you doing?\"\n",
    "mydict = string_to_dict(mystr)\n",
    "print(mydict)"
   ]
  },
  {
   "cell_type": "markdown",
   "id": "94dbb6a7",
   "metadata": {},
   "source": [
    "***EX NINE: EXTRACT EMAILS AND PHONES REGEX*** Given a string, extract all the email adresses and phone numbers that it has. \n",
    "\n",
    "NOTE: \n",
    "- email needs a domain, like: gmail.com, uidaho.edu. Example: bob@gmail.com, donal@uidaho.edu, etc.\n",
    "\n",
    "- a phone number has 10 digits, they can be seperated into groups of 3,3,4 digits. There may be a hyphen between the group. The first group may have the parenthesis. For examp, the following format are acceptable: (1) xxx-xxx-xxxx, (2) (xxx)-xxx-xxxx, (3) (xxx)xxxxxxx, etc.\n",
    "\n",
    "__Hint:__\n",
    "\n",
    "```Python\n",
    "    def phone_email(mystr):\n",
    "        #code here\n",
    "        return phone_list, email_list\n",
    "```\n",
    "__Expection:__\n",
    "\n",
    "```Python\n",
    "mystr = \"\"\"Nick sent me his email yesterday, here it is nick@gmail.com. I ask Tom and Cadie their emails too. However, they didn't give me their email addresses. They gave me their phone numbers instead; (208)-882-3333 and 2888880001\"\"\"\n",
    "\n",
    "phone_list, email_list = phone_email(mystr)\n",
    "print(phone_list) #[\"(208)-882-3333\", \"2888880001\"]\n",
    "print(email_list) #[\"nick@gmail.com\"]\n",
    "```\n"
   ]
  },
  {
   "cell_type": "code",
   "execution_count": 29,
   "id": "b670e103",
   "metadata": {},
   "outputs": [
    {
     "name": "stdout",
     "output_type": "stream",
     "text": [
      "Phones: ['(208)-882-3333', '2888880001']\n",
      "Emails: ['nick@gmail.com']\n"
     ]
    }
   ],
   "source": [
    "def extract_email_phone(mystr):\n",
    "    \n",
    "    import re\n",
    "    \n",
    "    phone_pattern = re.compile(r\"\\(?\\d{3}\\)?[-,' ']?\\d{3}[-,' ']?\\d{4}\")\n",
    "    email_pattern = re.compile(r\"[\\w]+\\.?[\\w]+@[\\w]+\\.?[\\w]+\")\n",
    "    phone_list = re.findall(phone_pattern, mystr)\n",
    "    email_list = re.findall(email_pattern, mystr)\n",
    "    return email_list, phone_list\n",
    "\n",
    "mystr = \"\"\"Nick sent me his email yesterday, here it is nick@gmail.com. \n",
    "I ask Tom and Cadie their emails too. However, they didn't give me their email addresses. \n",
    "They gave me their phone numbers instead; (208)-882-3333 and 2888880001\"\"\"\n",
    "\n",
    "emails, phones = extract_email_phone(mystr)\n",
    "print(\"Phones:\", phones)\n",
    "print(\"Emails:\", emails)"
   ]
  },
  {
   "cell_type": "markdown",
   "id": "53d7d963",
   "metadata": {},
   "source": [
    "__Problem FOUR:__ Open the file \"tiny_shakespears.txt\". Write a function to read all the characters in the file. Save them as a sorted list.\n",
    "\n",
    "```Python\n",
    "def shakespears_char(file_name):\n",
    "    # your code here\n",
    "    return charlist\n",
    "charlist = shakespears_char(\"tiny_shakespears.txt\")\n",
    "print(charlist) \n",
    "```\n",
    "\n",
    "Expected result: \n",
    "```Python\n",
    "['\\n', ' ', '!', '$', '&', \"'\", ',', '-', '.', '3', ':', ';', '?', 'A', 'B', 'C', 'D', 'E', 'F', 'G', 'H', 'I', 'J', 'K', 'L', 'M', 'N', 'O', 'P', 'Q', 'R', 'S', 'T', 'U', 'V', 'W', 'X', 'Y', 'Z', 'a', 'b', 'c', 'd', 'e', 'f', 'g', 'h', 'i', 'j', 'k', 'l', 'm', 'n', 'o', 'p', 'q', 'r', 's', 't', 'u', 'v', 'w', 'x', 'y', 'z']\n",
    "```\n"
   ]
  },
  {
   "cell_type": "code",
   "execution_count": 34,
   "id": "de92353d",
   "metadata": {},
   "outputs": [
    {
     "name": "stdout",
     "output_type": "stream",
     "text": [
      "['\\n', ' ', '!', '$', '&', \"'\", ',', '-', '.', '3', ':', ';', '?', 'A', 'B', 'C', 'D', 'E', 'F', 'G', 'H', 'I', 'J', 'K', 'L', 'M', 'N', 'O', 'P', 'Q', 'R', 'S', 'T', 'U', 'V', 'W', 'X', 'Y', 'Z', 'a', 'b', 'c', 'd', 'e', 'f', 'g', 'h', 'i', 'j', 'k', 'l', 'm', 'n', 'o', 'p', 'q', 'r', 's', 't', 'u', 'v', 'w', 'x', 'y', 'z']\n"
     ]
    }
   ],
   "source": [
    "def shakespeare_char(file_name):\n",
    "    with open(file_name, 'r') as f:\n",
    "        data = f.read()\n",
    "    charlist = sorted(list(set(data)))\n",
    "    return charlist\n",
    "\n",
    "charlist = shakespeare_char(\"tiny_shakespeare.txt\")\n",
    "print(charlist)"
   ]
  },
  {
   "cell_type": "markdown",
   "id": "0528d77e",
   "metadata": {},
   "source": [
    "__Problem FIVE:__ Use the list in the previous problem. Create a dictionary whose keys are characters and values are the orders of the keys.\n",
    "\n",
    "NOTE: You dictionary be considered as a codebook, which you can use to encode your text file into numbers (instead of characters).\n",
    "\n",
    "```Python \n",
    "def code_book(charlist):\n",
    "    # Your code here  \n",
    "code_book(charlist)\n",
    "```\n",
    "__Expected result:__\n",
    "\n",
    "{'\\n': 0, ' ': 1, '!': 2, '$': 3, '&': 4, \"'\": 5, ',': 6, '-': 7, '.': 8, '3': 9, ':': 10, ';': 11, '?': 12, 'A': 13, 'B': 14, 'C': 15, 'D': 16, 'E': 17, 'F': 18, 'G': 19, 'H': 20, 'I': 21, 'J': 22, 'K': 23, 'L': 24, 'M': 25, 'N': 26, 'O': 27, 'P': 28, 'Q': 29, 'R': 30, 'S': 31, 'T': 32, 'U': 33, 'V': 34, 'W': 35, 'X': 36, 'Y': 37, 'Z': 38, 'a': 39, 'b': 40, 'c': 41, 'd': 42, 'e': 43, 'f': 44, 'g': 45, 'h': 46, 'i': 47, 'j': 48, 'k': 49, 'l': 50, 'm': 51, 'n': 52, 'o': 53, 'p': 54, 'q': 55, 'r': 56, 's': 57, 't': 58, 'u': 59, 'v': 60, 'w': 61, 'x': 62, 'y': 63, 'z': 64}\n"
   ]
  },
  {
   "cell_type": "code",
   "execution_count": 31,
   "id": "cc9ef4d2",
   "metadata": {},
   "outputs": [
    {
     "name": "stdout",
     "output_type": "stream",
     "text": [
      "{'\\n': 0, ' ': 1, '!': 2, '$': 3, '&': 4, \"'\": 5, ',': 6, '-': 7, '.': 8, '3': 9, ':': 10, ';': 11, '?': 12, 'A': 13, 'B': 14, 'C': 15, 'D': 16, 'E': 17, 'F': 18, 'G': 19, 'H': 20, 'I': 21, 'J': 22, 'K': 23, 'L': 24, 'M': 25, 'N': 26, 'O': 27, 'P': 28, 'Q': 29, 'R': 30, 'S': 31, 'T': 32, 'U': 33, 'V': 34, 'W': 35, 'X': 36, 'Y': 37, 'Z': 38, 'a': 39, 'b': 40, 'c': 41, 'd': 42, 'e': 43, 'f': 44, 'g': 45, 'h': 46, 'i': 47, 'j': 48, 'k': 49, 'l': 50, 'm': 51, 'n': 52, 'o': 53, 'p': 54, 'q': 55, 'r': 56, 's': 57, 't': 58, 'u': 59, 'v': 60, 'w': 61, 'x': 62, 'y': 63, 'z': 64}\n"
     ]
    }
   ],
   "source": [
    "def code_book(charlist):\n",
    "    my_code_book = {c:i for i, c in enumerate(charlist)}\n",
    "    return my_code_book\n",
    "\n",
    "my_code_book = code_book(charlist)\n",
    "print(my_code_book)"
   ]
  },
  {
   "cell_type": "markdown",
   "id": "31d17005",
   "metadata": {},
   "source": [
    "__Problem SIX:__ Use the codebook in the above problem to encode the file \"tiny_shakespeare.txt\" to \"encrypted_shakespeare.txt\".\n",
    "\n",
    "```Python\n",
    "def encrypt(file_name):\n",
    "    # Your code here\n",
    "```    \n",
    "See the file \"Linh_encrypted_shakespeare.txt\" (posted in the announcement) for result.\n"
   ]
  },
  {
   "cell_type": "code",
   "execution_count": 32,
   "id": "a2ebb51d",
   "metadata": {},
   "outputs": [
    {
     "name": "stdout",
     "output_type": "stream",
     "text": [
      "[18, 47, 56, 57, 58, 1, 15, 47, 58, 47, 64, 43, 52, 10, 0, 14, 43, 44, 53, 56, 43, 1, 61, 43, 1, 54, 56, 53, 41, 43, 43, 42, 1, 39, 52, 63, 1, 44, 59, 56, 58, 46, 43, 56, 6, 1, 46, 43, 39, 56, 1, 51, 43, 1, 57, 54, 43, 39, 49, 8, 0, 0, 13, 50, 50, 10, 0, 31, 54, 43, 39, 49, 6, 1, 57, 54, 43, 39, 49, 8, 0, 0, 18, 47, 56, 57, 58, 1, 15, 47, 58, 47, 64, 43, 52, 10, 0, 37, 53, 59]\n"
     ]
    }
   ],
   "source": [
    "def encrypt(file_name, new_file):\n",
    "    with open(file_name, 'r') as f:\n",
    "        data = f.read()\n",
    "    data_list = [my_code_book[c] for c in data]\n",
    "    data_str = str(data_list)\n",
    "    with open(new_file, 'w') as f:\n",
    "        f.write(data_str)\n",
    "    return data_list\n",
    "\n",
    "data_list = encrypt(\"tiny_shakespeare.txt\", \"encrypted_tiny_shakespeare.txt\")\n",
    "print(data_list[:100])"
   ]
  },
  {
   "cell_type": "markdown",
   "id": "2ac5f2f0",
   "metadata": {},
   "source": [
    "__Problem SEVEN:__ Write the code to convert the encypted file back into the original file."
   ]
  },
  {
   "cell_type": "code",
   "execution_count": 33,
   "id": "0997a99b",
   "metadata": {},
   "outputs": [
    {
     "name": "stdout",
     "output_type": "stream",
     "text": [
      "First Citizen:\n",
      "Before we proceed any further, hear me speak.\n",
      "\n",
      "All:\n",
      "Speak, speak.\n",
      "\n",
      "First Citizen:\n",
      "You are all resolved rather to die than to famish?\n",
      "\n",
      "All:\n",
      "Resolved. resolved.\n",
      "\n",
      "First Citizen:\n",
      "First, you know Caius Marcius is chief enemy to the people.\n",
      "\n",
      "All:\n",
      "We know't, we know't.\n",
      "\n",
      "First Citizen:\n",
      "Let us kill him, and we'll have corn at our own price.\n",
      "Is't a verdict?\n",
      "\n",
      "All:\n",
      "No more talking on't; let it be done: away, away!\n",
      "\n",
      "Second Citizen:\n",
      "One word, good citizens.\n",
      "\n",
      "First Citizen:\n",
      "We are accounted poor citizens, the patricians good.\n",
      "What authority surfeits on would relieve us: if they\n",
      "would yield us but the superfluity, while it were\n",
      "wholesome, we might guess they relieved us humanely;\n",
      "but they think we are too dear: the leanness that\n",
      "afflicts us, the object of our misery, is as an\n",
      "inventory to particularise their abundance; our\n",
      "sufferance is a gain to them Let us revenge this with\n",
      "our pikes, ere we become rakes: for the gods know I\n",
      "speak this in hunger for bread, not in thirst for revenge.\n",
      "\n",
      "\n"
     ]
    }
   ],
   "source": [
    "# Note: Uses my_code_book which is a dictionary from problem 5\n",
    "# Note: A portion of the decrypted text is printed to see\n",
    "\n",
    "def decrypt(encrypted_file_name, decrypted_file_name, my_code_book):\n",
    "    with open(encrypted_file_name, 'r') as ef:\n",
    "        encrypted_data = ef.read()\n",
    "    encrypted_data_list = encrypted_data.strip(\"][\").split(\", \")\n",
    "    decrypted_data_str = \"\"\n",
    "    keys_list = list(my_code_book.keys())\n",
    "    for i in encrypted_data_list:\n",
    "        decrypted_data_str += keys_list[int(i)]\n",
    "    with open(decrypted_file_name, 'w') as f:\n",
    "        f.write(decrypted_data_str)\n",
    "    return decrypted_data_str\n",
    "\n",
    "text = decrypt(\"encrypted_tiny_shakespeare.txt\", \"decrypted_tiny_shakespeare.txt\", my_code_book)\n",
    "print(text[:1000])\n"
   ]
  },
  {
   "cell_type": "markdown",
   "id": "ec9d68f4",
   "metadata": {},
   "source": [
    "# IMPORTANT NOTES"
   ]
  },
  {
   "cell_type": "markdown",
   "id": "18781c9b",
   "metadata": {},
   "source": [
    "## REGEX"
   ]
  },
  {
   "cell_type": "markdown",
   "id": "ab08b3e4",
   "metadata": {},
   "source": [
    "Regular expressions also known as “regex” or “regexp”, are a powerful tool for matching patterns\n",
    "in strings. They are used in Python to search, edit, and manipulate text.\n",
    "Here are some key concepts and methods for working with regular expressions in Python:\n",
    "• re module: built-in module that provides functions for working with regular expressions.\n",
    "• search() method: This method searches for a match to a regular expression in a given string.\n",
    "It returns a match object if a match is found, or None if no match is found.\n",
    "• findall() method: This method finds all non-overlapping matches to a regular expression in\n",
    "a given string and returns them as a list of strings.\n",
    "• sub() method: This method replaces all occurrences of a regular expression in a given string\n",
    "with a replacement string.\n",
    "• compile() method: This method is used to create a regular expression pattern object, which\n",
    "can be used for multiple searches."
   ]
  },
  {
   "cell_type": "markdown",
   "id": "53e924c6",
   "metadata": {},
   "source": [
    "Regular expressions use special characters to represent patterns. For example:\n",
    "• “.”: represents any character. Example: .a represents any string with two characters, the first\n",
    "letter can be anything, the second letter is “a”.\n",
    "• “*“: represents zero or more occurrences of the preceding character. Example: __a*__ can\n",
    "be ““,”a”,“aa”, etc.\n",
    "• “+”: represents one or more occurrences of the preceding character. Example: a+ represent\n",
    "“a”, “aa”, “aaa”, etc.\n",
    "• “?”: Matches zero or one occurrence of the preceding character or group. For example, a?\n",
    "matches zero or one occurrence of the letter “a”.\n",
    "• “{n}”: represents exactly 𝑛 occurrences of the preceding character or group. For example,\n",
    "a{3} matches exactly three occurrences of the letter “a”.\n",
    "• “{n,}”: represents 𝑛 or more occurrences of the preceding character or group. For example,\n",
    "a{3,} matches three or more occurrences of the letter “a”.\n",
    "5\n",
    "• “{n,m}”: represents at least 𝑛 and at most 𝑚 occurrences of the preceding character or group.\n",
    "For example, a{2,4} matches two, three, or four occurrences of the letter “a”.\n",
    "• “[]”: Matches any one of the characters inside the square brackets. For example: [abc]\n",
    "represents any one of the letters “a”, “b”, or “c”.\n",
    "• “^”: represents the start of a line or string. For example, ^a means the letter “a” at the start\n",
    "of a line or string.\n",
    "• “$”: represents the end of a line or string. For example, a$ matches the letter “a” at the end\n",
    "of a line or string.\n",
    "• “|”: means either the expression before or the expression after the vertical bar. For example,\n",
    "a|b matches either the letter “a” or the letter “b”.\n",
    "• \"̈: Escapes special characters to match them literally. For example, \"\" matches the period\n",
    "character “.” literally.\n"
   ]
  },
  {
   "cell_type": "markdown",
   "id": "e51dc84c",
   "metadata": {},
   "source": [
    "## STRINGS"
   ]
  },
  {
   "cell_type": "markdown",
   "id": "36097433",
   "metadata": {},
   "source": [
    " String Methods:\n",
    "• Python strings have many built-in methods that can be used to manipulate and analyze them.\n",
    "• Some of the most commonly used methods include:\n",
    "• len(): Returns the length of a string.\n",
    "• lower(): Returns the string in lowercase.\n",
    "• upper(): Returns the string in uppercase.\n",
    "• str.replace(old, new): Replaces all occurrences of the old string with the new string.\n",
    "• str.split(sep): Splits the string into a list of substrings using the specified separator.\n",
    "• str.join(iterable): Joins all the items in an iterable, such as a list or tuple, into a single\n",
    "string."
   ]
  },
  {
   "cell_type": "markdown",
   "id": "c3a69576",
   "metadata": {},
   "source": [
    " String Concatenation and Repetition\n",
    "You can concatenate strings using the “+” operator.\n",
    "string1 = \"Hello\"\n",
    "string2 = \"world\"\n",
    "string3 = string1 + ', ' + string2 + '!'\n",
    "print(string3) # 'Hello, world!'\n",
    "You can also repeat a string multiple times using the “*” operator.\n",
    "string1 = \"Hello\"\n",
    "string2 = string1 * 3\n",
    "print(string2) # 'HelloHelloHello'"
   ]
  },
  {
   "cell_type": "markdown",
   "id": "262dcf1b",
   "metadata": {},
   "source": [
    "## LISTS"
   ]
  },
  {
   "cell_type": "code",
   "execution_count": 35,
   "id": "4ecb5446",
   "metadata": {},
   "outputs": [
    {
     "name": "stdout",
     "output_type": "stream",
     "text": [
      "[1, 2, 3, 4, 5]\n",
      "[1, 2, 3, 4, 5, 6]\n",
      "[1, 2, 3, 4, 5, 6, 7, 8, 9]\n",
      "[1, 2, 3, 10, 4, 5, 6, 7, 8, 9]\n",
      "[1, 2, 3, 4, 5, 6, 7, 8, 9]\n",
      "[1, 2, 3, 4, 5, 6, 7, 8]\n",
      "[1, 2, 3, 4, 5, 6, 7, 8]\n",
      "[8, 7, 6, 5, 4, 3, 2, 1]\n",
      "8\n",
      "[7, 6, 5]\n"
     ]
    }
   ],
   "source": [
    "# Creating a list\n",
    "my_list = [1, 2, 3, 4, 5]\n",
    "print(my_list) # [1, 2, 3, 4, 5]\n",
    "# Adding items to a list\n",
    "# Using the append() method\n",
    "my_list.append(6)\n",
    "print(my_list) # [1, 2, 3, 4, 5, 6]\n",
    "# Using the extend() method\n",
    "new_list = [7, 8, 9]\n",
    "my_list.extend(new_list)\n",
    "print(my_list) # [1, 2, 3, 4, 5, 6, 7, 8, 9]\n",
    "# Using the insert() method\n",
    "my_list.insert(3, 10)\n",
    "print(my_list) # [1, 2, 3, 10, 4, 5, 6, 7, 8, 9]\n",
    "# Removing items from a list\n",
    "# Using the remove() method\n",
    "my_list.remove(10)\n",
    "print(my_list) # [1, 2, 3, 4, 5, 6, 7, 8, 9]\n",
    "# Using the pop() method\n",
    "my_list.pop()\n",
    "print(my_list) # [1, 2, 3, 4, 5, 6, 7, 8]\n",
    "# Sorting and reversing a list\n",
    "# Using the sort() method\n",
    "my_list.sort()\n",
    "print(my_list) # [1, 2, 3, 4, 5, 6, 7, 8]\n",
    "# Using the reverse() method\n",
    "my_list.reverse()\n",
    "print(my_list) # [8, 7, 6, 5, 4, 3, 2, 1]\n",
    "# Accessing items in a list\n",
    "# Using indexing\n",
    "print(my_list[0]) # 8\n",
    "# Using slicing\n",
    "print(my_list[1:4]) # [7, 6, 5]"
   ]
  },
  {
   "cell_type": "markdown",
   "id": "8748f3c2",
   "metadata": {},
   "source": [
    "## TUPLES"
   ]
  },
  {
   "cell_type": "code",
   "execution_count": 36,
   "id": "1dfc0302",
   "metadata": {},
   "outputs": [
    {
     "name": "stdout",
     "output_type": "stream",
     "text": [
      "1\n",
      "3\n",
      "(1, 2, 3, 4, 5)\n",
      "(1, 2, 3, 1, 2, 3, 1, 2, 3)\n"
     ]
    }
   ],
   "source": [
    "# Creating a tuple\n",
    "my_tuple = (1, 2, 3)\n",
    "# Accessing elements of a tuple\n",
    "print(my_tuple[0]) # Output: 1\n",
    "# Tuple length\n",
    "print(len(my_tuple)) # Output: 3\n",
    "# Tuple concatenation\n",
    "3\n",
    "new_tuple = my_tuple + (4, 5)\n",
    "print(new_tuple) # Output: (1, 2, 3, 4, 5)\n",
    "# Tuple repetition\n",
    "print(my_tuple * 3) # Output: (1, 2, 3, 1, 2, 3, 1, 2, 3)"
   ]
  },
  {
   "cell_type": "markdown",
   "id": "471615e6",
   "metadata": {},
   "source": [
    "## DICTIONARY"
   ]
  },
  {
   "cell_type": "code",
   "execution_count": 37,
   "id": "ef2509f0",
   "metadata": {},
   "outputs": [
    {
     "name": "stdout",
     "output_type": "stream",
     "text": [
      "{'apple': 2, 'banana': 4, 'grape': '2 lbs'}\n",
      "Quantity for apple 2\n",
      "Quantity for grape 2 lbs\n"
     ]
    }
   ],
   "source": [
    " # Creating a dictionary\n",
    "fruit_dict ={'apple': 2, 'banana':4,'grape':'2 lbs'}\n",
    "print(fruit_dict)\n",
    "# Retrieving an element\n",
    "print('Quantity for apple', fruit_dict['apple'])\n",
    "print('Quantity for grape', fruit_dict['grape'])\n"
   ]
  },
  {
   "cell_type": "code",
   "execution_count": 38,
   "id": "6e3ece17",
   "metadata": {},
   "outputs": [
    {
     "name": "stdout",
     "output_type": "stream",
     "text": [
      "{'apple': 2, 'banana': 4, 'grape': '2 lbs', 'orange': 10}\n",
      "{'apple': 2, 'banana': 4, 'grape': '2 lbs', 'orange': 5}\n"
     ]
    }
   ],
   "source": [
    " # add an item to dictionary\n",
    "fruit_dict[\"orange\"]=10\n",
    "print(fruit_dict)\n",
    "#updating an element\n",
    "fruit_dict[\"orange\"]=5\n",
    "print(fruit_dict)"
   ]
  },
  {
   "cell_type": "code",
   "execution_count": 39,
   "id": "a33f5b48",
   "metadata": {},
   "outputs": [
    {
     "name": "stdout",
     "output_type": "stream",
     "text": [
      "{'apple': 2, 'grape': '2 lbs', 'orange': 5}\n"
     ]
    }
   ],
   "source": [
    "# delete an item\n",
    "del fruit_dict['banana']\n",
    "print(fruit_dict)"
   ]
  },
  {
   "cell_type": "code",
   "execution_count": 41,
   "id": "5bd062f7",
   "metadata": {},
   "outputs": [
    {
     "name": "stdout",
     "output_type": "stream",
     "text": [
      "apple 2\n",
      "grape 2 lbs\n",
      "orange 5\n"
     ]
    }
   ],
   "source": [
    "# Iterating over dictionary\n",
    "for key in fruit_dict:\n",
    "    print(key, fruit_dict[key])\n"
   ]
  },
  {
   "cell_type": "markdown",
   "id": "fdcc059a",
   "metadata": {},
   "source": [
    "Important built-in functions\n",
    "• keys(): returns a list of all the keys in the dictionary\n",
    "• values(): returns a list of all the values in the dictionary\n",
    "• items(): returns a list of all the key-value pairs in the dictionary as tuples\n",
    "• get(key): returns the value of the key passed as an argument, returns None if key is not\n",
    "present\n",
    "• pop(key): removes the key-value pair and returns the value of the key passed as an argument,\n",
    "raises an error if key is not present\n",
    "• clear(): removes all key-value pairs from the dictionary"
   ]
  },
  {
   "cell_type": "markdown",
   "id": "e6fe3b45",
   "metadata": {},
   "source": [
    "# Sets\n",
    "\n",
    "- A set is an unordered collection of unique elements. It is defined by {}.\n",
    "\n",
    "- Sets can be used to perform mathematical set operations like union, intersection, symmetric difference etc."
   ]
  },
  {
   "cell_type": "code",
   "execution_count": 42,
   "id": "cada78e0",
   "metadata": {},
   "outputs": [
    {
     "name": "stdout",
     "output_type": "stream",
     "text": [
      "\n",
      "Creating Sets:\n",
      "Empty Set:  set()\n",
      "Set from list:  {1, 2, 3, 4, 5, 6, 7}\n",
      "Set with elements:  {1, 2, 3, 4, 5}\n",
      "Set with different data types:  {1, (1, 2, 3), frozenset({1, 3, 4}), 'Hello'}\n"
     ]
    }
   ],
   "source": [
    "#import builtins\n",
    "\n",
    "# Creating Sets\n",
    "print(\"\\nCreating Sets:\")\n",
    "\n",
    "# Creating an empty set\n",
    "empty_set = set()\n",
    "print(\"Empty Set: \", empty_set)\n",
    "\n",
    "# Creating a set from a list\n",
    "my_list = [1, 2, 3, 4, 5, 5, 6, 6, 7, 7]\n",
    "my_l_set = set(my_list)\n",
    "print(\"Set from list: \", my_l_set)\n",
    "\n",
    "# Creating a set with elements\n",
    "my_set = {1, 2, 3, 4, 5,5}\n",
    "print(\"Set with elements: \", my_set)\n",
    "\n",
    "# Creating a set with different data types\n",
    "fr_set = frozenset({1,3,4})\n",
    "\n",
    "my_set = {1, \"Hello\", (1, 2, 3),fr_set}\n",
    "print(\"Set with different data types: \", my_set)"
   ]
  },
  {
   "cell_type": "code",
   "execution_count": 43,
   "id": "f8d9239d",
   "metadata": {},
   "outputs": [
    {
     "name": "stdout",
     "output_type": "stream",
     "text": [
      "\n",
      "Accessing Elements:\n",
      "Is 1 in my_set:  True\n",
      "1\n",
      "(1, 2, 3)\n",
      "frozenset({1, 3, 4})\n",
      "Hello\n"
     ]
    }
   ],
   "source": [
    "# Accessing Elements\n",
    "print(\"\\nAccessing Elements:\")\n",
    "\n",
    "# Check if an element exists in a set\n",
    "print(\"Is 1 in my_set: \", 1 in my_set)\n",
    "\n",
    "# Loop through the elements of a set\n",
    "for element in my_set:\n",
    "    print(element)"
   ]
  },
  {
   "cell_type": "code",
   "execution_count": 44,
   "id": "07ae3afc",
   "metadata": {},
   "outputs": [
    {
     "name": "stdout",
     "output_type": "stream",
     "text": [
      "\n",
      "Set Operations:\n",
      "Union:  {1, 2, 3, 4, 5, 6}\n",
      "Intersection:  {2, 3}\n",
      "Difference:  {1}\n",
      "Symmetric Difference:  {1, 4}\n"
     ]
    }
   ],
   "source": [
    "# Set Operations\n",
    "print(\"\\nSet Operations:\")\n",
    "# Union\n",
    "set1 = {1, 2, 3}\n",
    "set2 = {4, 5, 6}\n",
    "print(\"Union: \", set1.union(set2)) #{1,2,3,4,5,6}\n",
    "\n",
    "# Intersection\n",
    "set1 = {1, 2, 3}\n",
    "set2 = {2, 3, 4}\n",
    "print(\"Intersection: \", set1.intersection(set2)) #{2,3}\n",
    "\n",
    "# Difference\n",
    "set1 = {1, 2, 3}\n",
    "set2 = {2, 3, 4}\n",
    "print(\"Difference: \", set1.difference(set2)) #{1}\n",
    "\n",
    "# Symmetric Difference\n",
    "set1 = {1, 2, 3}\n",
    "set2 = {2, 3, 4}\n",
    "print(\"Symmetric Difference: \", set1.symmetric_difference(set2)) #{1,4}"
   ]
  },
  {
   "cell_type": "code",
   "execution_count": 45,
   "id": "fba89b65",
   "metadata": {},
   "outputs": [
    {
     "name": "stdout",
     "output_type": "stream",
     "text": [
      "\n",
      "Modifying Sets:\n",
      "After adding 6:  {1, 6, 'hello', (1, 1, 2)}\n",
      "After removing 1:  {6, 'hello', (1, 1, 2)}\n",
      "After clearing:  set()\n"
     ]
    }
   ],
   "source": [
    "my_set ={1,\"hello\",(1,1,2)}\n",
    "\n",
    "# Modifying Sets\n",
    "print(\"\\nModifying Sets:\")\n",
    "# Add elements to a set\n",
    "my_set.add(6)\n",
    "print(\"After adding 6: \", my_set) #{1,\"hello\",(1,1,2),6}\n",
    "\n",
    "# Remove elements from a set\n",
    "my_set.remove(1)\n",
    "print(\"After removing 1: \", my_set) #{\"hello\",(1,1,2),6}\n",
    "\n",
    "# Clear all elements from a set\n",
    "my_set.clear()\n",
    "print(\"After clearing: \", my_set)"
   ]
  },
  {
   "cell_type": "code",
   "execution_count": 46,
   "id": "bb2cab36",
   "metadata": {},
   "outputs": [
    {
     "name": "stdout",
     "output_type": "stream",
     "text": [
      "Length:  3\n",
      "Copy s3:  {1, 2, 3}\n",
      "Set 1 again: {1, 2, 3}\n",
      "Reprint set3: {1, 2, 3}\n",
      "difference_update:  {1}\n",
      "{1}\n",
      "{2, 3, 4}\n",
      "two set disjoint: True\n"
     ]
    }
   ],
   "source": [
    "set1 = {1, 2, 3}\n",
    "set2 = {2, 3, 4}\n",
    "\n",
    "# len() method\n",
    "print(\"Length: \", len(set1))\n",
    "\n",
    "# copy() method\n",
    "set3 = set1.copy()\n",
    "print(\"Copy s3: \", set3)\n",
    "\n",
    "print(\"Set 1 again:\", set1)\n",
    "print(\"Reprint set3:\", set3)\n",
    "\n",
    "# difference_update() method\n",
    "set1.difference_update(set2)\n",
    "print(\"difference_update: \", set1)\n",
    "print(set1)\n",
    "print(set2)\n",
    "\n",
    "# isdisjoint() method\n",
    "set1 = {1, 2, 3}\n",
    "set2 = {4, 5, 6}\n",
    "print(\"two set disjoint:\", set1.isdisjoint(set2))"
   ]
  },
  {
   "cell_type": "markdown",
   "id": "c230e5ad",
   "metadata": {},
   "source": [
    "## TIMEIT"
   ]
  },
  {
   "cell_type": "code",
   "execution_count": 47,
   "id": "055a521b",
   "metadata": {},
   "outputs": [
    {
     "name": "stdout",
     "output_type": "stream",
     "text": [
      "3.6074823999997534\n"
     ]
    }
   ],
   "source": [
    "import timeit\n",
    "\n",
    "print(timeit.timeit(\"[i**2 for i in range(10000)]\", number=1000))"
   ]
  },
  {
   "cell_type": "code",
   "execution_count": 1,
   "id": "f6efe92f",
   "metadata": {},
   "outputs": [
    {
     "name": "stdout",
     "output_type": "stream",
     "text": [
      "8.964306592941284\n"
     ]
    }
   ],
   "source": [
    "import time\n",
    "start_time = time.time()\n",
    "for i in range(1000):\n",
    "    x = sum([i**2 for i in range(10000)])\n",
    "end_time = time.time()\n",
    "time = end_time -start_time\n",
    "print(time)"
   ]
  },
  {
   "cell_type": "code",
   "execution_count": null,
   "id": "70cdf1a3",
   "metadata": {},
   "outputs": [],
   "source": []
  },
  {
   "cell_type": "code",
   "execution_count": null,
   "id": "e578ad18",
   "metadata": {},
   "outputs": [],
   "source": [
    "\n",
    "\n",
    "def min_weird_subarray_sum(arr):\n",
    "    n = len(arr)\n",
    "    dp = [[float('inf')] * (n+1) for _ in range(n+1)]\n",
    "    for i in range(1, n+1):\n",
    "        dp[i][i] = arr[i-1]\n",
    "    for length in range(2, n+1):\n",
    "        for i in range(1, n-length+2):\n",
    "            j = i + length - 1\n",
    "            for k in range(i, j+1):\n",
    "                if (k-i)%2 == 1:\n",
    "                    dp[i][j] = min(dp[i][j], dp[i][k-1]+dp[k][j])\n",
    "                else:\n",
    "                    dp[i][j] = min(dp[i][j], dp[i][k-1]-dp[k][j])\n",
    "    return dp[1][n]\n"
   ]
  }
 ],
 "metadata": {
  "kernelspec": {
   "display_name": "Python 3 (ipykernel)",
   "language": "python",
   "name": "python3"
  },
  "language_info": {
   "codemirror_mode": {
    "name": "ipython",
    "version": 3
   },
   "file_extension": ".py",
   "mimetype": "text/x-python",
   "name": "python",
   "nbconvert_exporter": "python",
   "pygments_lexer": "ipython3",
   "version": "3.9.13"
  }
 },
 "nbformat": 4,
 "nbformat_minor": 5
}
