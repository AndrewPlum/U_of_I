{
 "cells": [
  {
   "cell_type": "markdown",
   "id": "80454746",
   "metadata": {},
   "source": [
    "# Topics to study\n",
    "\n",
    "1. Basic input and output:\n",
    " - \"print\" function: basic print, string format\n",
    " - \"input\" function: know how to use it to interact with user\n",
    "2. Basic data types: \n",
    " - integer: \n",
    " - float:\n",
    " - string:\n",
    " - boolean:\n",
    "3. Basic math packages:\n",
    " - math\n",
    " - numpy \n",
    "4. Functions:\n",
    " - regular function\n",
    " - lambda function\n",
    "5. Common data structures:\n",
    " - list:\n",
    " - tuple:\n",
    " - dictionary:\n",
    " - set:\n",
    "6. Random module:\n",
    " - radom module in Python\n",
    " - random module in Numpy\n",
    " - uniform distribution, normal distribution, choice(s), randint\n",
    "7. External txt file:\n",
    " - read:\n",
    " - write:\n",
    "8. Text analysis:\n",
    " - encoding, decoding\n",
    " - regular expression"
   ]
  },
  {
   "cell_type": "markdown",
   "id": "90fd426f",
   "metadata": {},
   "source": [
    "# The exam format\n",
    "\n",
    "The exam on March 8 will consists of three problems. One is a basic problem, and two are intermediate/advanced. \n",
    "\n",
    "\n",
    "# Practice problems\n",
    "## Basic problems\n",
    "\n",
    "- Review all practice problem & check out tickets.\n",
    "- Review all problems in HW #1.\n",
    "- Review problems 1-2 in HW #2. \n",
    "- Ask chatgpt to generate basic problems for further practice. See sample problems below.\n"
   ]
  },
  {
   "cell_type": "markdown",
   "id": "584dd542",
   "metadata": {},
   "source": [
    "__Problem 1:__ Write a program that asks the user to enter their name and age. Then, the program should print out a message that says\n",
    "```css\n",
    "Hello [name]! You are [age] years old.\"\n",
    "```\n",
    "\n",
    "Example: \n",
    "```yml\n",
    "Enter your name: John\n",
    "Enter your age: 25\n",
    "Hello John! You are 25 years old.\n",
    "```"
   ]
  },
  {
   "cell_type": "code",
   "execution_count": 134,
   "id": "d0ecddd3",
   "metadata": {},
   "outputs": [
    {
     "name": "stdout",
     "output_type": "stream",
     "text": [
      "Enter your name: David\n",
      "Enter your age: 42\n",
      "Hello David! You are 42 years old.\n"
     ]
    }
   ],
   "source": [
    "name = input(\"Enter your name: \")\n",
    "age = int(input(\"Enter your age: \"))\n",
    "#name = \"Andrew\"\n",
    "#age = 18\n",
    "print(\"Hello %s! You are %d years old.\" % (name, age)) # DONT FORGET () around multiple arguments for format string"
   ]
  },
  {
   "cell_type": "markdown",
   "id": "fb672982",
   "metadata": {},
   "source": [
    "__Problem 2:__ Write a program that asks the user to enter a number and then prints out whether that number is even or odd. If the number is even, the program should print \"Even\", and if the number is odd, the program should print \"Odd\".\n",
    "\n",
    "```css\n",
    "Enter a number: 7\n",
    "Odd\n",
    "```\n",
    "\n",
    "```css\n",
    "Enter a number: 10\n",
    "Even\n",
    "```"
   ]
  },
  {
   "cell_type": "code",
   "execution_count": 21,
   "id": "cf177807",
   "metadata": {},
   "outputs": [
    {
     "name": "stdout",
     "output_type": "stream",
     "text": [
      "Enter a number: 23\n",
      "Odd\n"
     ]
    }
   ],
   "source": [
    "# should we count zero as neither even or odd?\n",
    "\n",
    "number = int(input(\"Enter a number: \")) # don't forget to convert to integer\n",
    "number = number % 2\n",
    "if number == 1:\n",
    "    print(\"Odd\")\n",
    "else:\n",
    "    print(\"Even\")"
   ]
  },
  {
   "cell_type": "markdown",
   "id": "d3f74e9a",
   "metadata": {},
   "source": [
    "## Intemediate/advanced problems \n",
    "\n",
    "Below is a list of practice problem. Work on them carefully since the problems in the exam will be quite similar. NOTE: I may (or may not) add one or two more problems later. Watch out for that (I will annouce if it happens)."
   ]
  },
  {
   "cell_type": "markdown",
   "id": "24a40959",
   "metadata": {},
   "source": [
    "__Problem 1:__ Write a program that do the following things: \n",
    " - (1) generate a random number between $0$ and $9$,   \n",
    " - (2) ask the user make a guess, \n",
    " - (3) congratulate the user the the guess is correct, \n",
    " - (4) give a the user a hint to make the next guess: \"your guess is bigger/small\" than the true value,   \n",
    " - (5) stop the game if the user has made three guesses. "
   ]
  },
  {
   "cell_type": "code",
   "execution_count": 32,
   "id": "0713c590",
   "metadata": {},
   "outputs": [
    {
     "name": "stdout",
     "output_type": "stream",
     "text": [
      "4\n",
      "Guess the number between 0 and 9 that I'm think of (enter a number): 3\n",
      "Your guess is smaller than the correct number.\n",
      "Guess the number between 0 and 9 that I'm think of (enter a number): 5\n",
      "Your guess is bigger than the correct number.\n",
      "Guess the number between 0 and 9 that I'm think of (enter a number): 4\n",
      "You guessed the right number!\n"
     ]
    }
   ],
   "source": [
    "from random import randint\n",
    "\n",
    "num_guesses_left = 3\n",
    "random_num = randint(0,9)\n",
    "print(random_num)\n",
    "\n",
    "for i in range(num_guesses_left):\n",
    "    guess_num = int(input(\"Guess the number between 0 and 9 that I'm think of (enter a number): \"))\n",
    "    if guess_num == random_num:\n",
    "        print(\"You guessed the right number!\")\n",
    "        break\n",
    "    elif guess_num > random_num:\n",
    "        print(\"Your guess is bigger than the correct number.\")\n",
    "    elif guess_num < random_num:\n",
    "        print(\"Your guess is smaller than the correct number.\")"
   ]
  },
  {
   "cell_type": "markdown",
   "id": "47b6d806",
   "metadata": {},
   "source": [
    "# from random import randint\n",
    "\n",
    "random_num = randint(0,9)\n",
    "print(\"For this game you must give me an integer between 0 and 9\\n\")\n",
    "for i in range(3):\n",
    "    guess_num = int(input(\"Give me your guess (enter a number between 0 and 9): \"))\n",
    "    if (guess_num == random_num):\n",
    "        print(\"You guessed the right number!\")\n",
    "        break\n",
    "    else:\n",
    "        if (guess_num > random_num):\n",
    "            print(\"Your number is too big!\")\n",
    "        else:\n",
    "            print(\"Your number is too small\")\n",
    "print(\"The correct number is %s\" % random_num)\n"
   ]
  },
  {
   "cell_type": "markdown",
   "id": "7cb7d41f",
   "metadata": {},
   "source": [
    "__Problem 2:__ Write a program that do the following things: \n",
    "- (0) make a list of fruits \n",
    "- (1) randomly pick a fruit from the list, \n",
    "- (2) ask the user make a guess, \n",
    "- (3) congratulate the user the the guess is correct, \n",
    "- (4) give a the user a hint to make the next guess: this fruit has letter 'x', \n",
    "- (5) stop the game if the user has made three guesses. \n"
   ]
  },
  {
   "cell_type": "code",
   "execution_count": 4,
   "id": "32452541",
   "metadata": {},
   "outputs": [
    {
     "name": "stdout",
     "output_type": "stream",
     "text": [
      "Cheat sheet:\n",
      "raspberry\n",
      "\n",
      "Guess a fruit: apple\n",
      "Sorry, that's not the fruit.\n",
      "Hint: The fruit has the letter 's' in it.\n",
      "Guess a fruit: strawberry\n",
      "Sorry, that's not the fruit.\n",
      "Hint: The fruit has the letter 'r' in it.\n",
      "Guess a fruit: raspberry\n",
      "Congratulations! You guessed the fruit.\n",
      "The fruit was raspberry.\n"
     ]
    }
   ],
   "source": [
    "import random\n",
    "\n",
    "# Make a list of fruits\n",
    "\n",
    "fruits = [\"apple\", \"banana\", \"pear\", \"cherry\", \"grape\", \"lemon\", \"orange\", \"raspberry\", \"strawberry\", \"watermelon\"]\n",
    "\n",
    "# Randomly pick a fruit from the list\n",
    "\n",
    "fruit = random.choice(fruits)\n",
    "\n",
    "# Print cheat sheet\n",
    "\n",
    "print(\"Cheat sheet:\")\n",
    "print(fruit)\n",
    "print()\n",
    "\n",
    "# Initialize variable\n",
    "\n",
    "guesses = 0\n",
    "max_guesses = 3\n",
    "fruit_char_list = [c for c in fruit]\n",
    "#print(fruit_char_list)\n",
    "\n",
    "# Loop until user has made three guesses\n",
    "\n",
    "while guesses < max_guesses:\n",
    "    \n",
    "    # Ask user to make a guess\n",
    "    \n",
    "    guess = input(\"Guess a fruit: \").lower()\n",
    "\n",
    "    # Check if guess is correct\n",
    "    \n",
    "    if guess == fruit:\n",
    "        print(\"Congratulations! You guessed the fruit.\")\n",
    "        break\n",
    "    else:\n",
    "        print(\"Sorry, that's not the fruit.\")\n",
    "        # Give a hint\n",
    "        if guesses < max_guesses - 1:\n",
    "            random_fruit_char = random.choice(fruit_char_list)\n",
    "            print(\"Hint: The fruit has the letter '%s' in it.\" % random_fruit_char)\n",
    "\n",
    "    # Increment guess count\n",
    "    \n",
    "    guesses += 1\n",
    "\n",
    "# End of game\n",
    "\n",
    "print(\"The fruit was %s.\" % fruit)\n"
   ]
  },
  {
   "cell_type": "markdown",
   "id": "86f2ea88",
   "metadata": {},
   "source": [
    "__Problem 3:__ Write a program that asks the user to enter a string and then checks whether the string is a palindrome or not. A palindrome is a word, phrase, number, or other sequence of characters that reads the same forward and backward (ignoring spaces, punctuation, and capitalization).\n",
    "\n",
    "```csharp\n",
    "Enter a string: radar\n",
    "The string is a palindrome.\n",
    "```\n",
    "\n",
    "```csharp\n",
    "Enter a string: Hello World\n",
    "The string is not a palindrome.\n",
    "```\n"
   ]
  },
  {
   "cell_type": "code",
   "execution_count": 162,
   "id": "e3bc29b6",
   "metadata": {},
   "outputs": [
    {
     "name": "stdout",
     "output_type": "stream",
     "text": [
      "Enter string of characters and I will tell you if it is a pallindrome (I will ignore spaces).\n",
      "\n",
      "Give me the string of characters: race car\n"
     ]
    },
    {
     "data": {
      "text/plain": [
       "True"
      ]
     },
     "execution_count": 162,
     "metadata": {},
     "output_type": "execute_result"
    }
   ],
   "source": [
    "print(\"Enter string of characters and I will tell you if it is a pallindrome (I will ignore spaces).\\n\")\n",
    "input_string = input(\"Give me the string of characters: \")\n",
    "\n",
    "def palindrome(input_string):\n",
    "    input_string = input_string.replace(\" \", \"\")\n",
    "    input_string = input_string.lower()\n",
    "    backward_string = input_string[::-1] # this reverses the input_string\n",
    "    return backward_string == input_string\n",
    "\n",
    "palindrome(input_string)"
   ]
  },
  {
   "cell_type": "markdown",
   "id": "c519cd8f",
   "metadata": {},
   "source": [
    "\n",
    "__Problem 4:__ Write a program that takes two strings as input and then checks whether the second string is a rotation of the first string or not. A rotation is when you take a string and move some letters from the beginning to the end, creating a new string.\n",
    "\n",
    "For example, the string \"hello\" can be rotated to create \"elloh\", \"llohe\", \"lohel\", \"ohell\", and \"hello\" again.\n",
    "\n",
    "```csharp\n",
    "Enter the first string: hello\n",
    "Enter the second string: llohe\n",
    "The second string is a rotation of the first string.\n",
    "```\n",
    "\n",
    "```csharp\n",
    "Enter the first string: python\n",
    "Enter the second string: ythonp\n",
    "The second string is a rotation of the first string.\n",
    "```\n",
    "\n",
    "Hint: translate into a problem of finding substring.\n",
    "\n"
   ]
  },
  {
   "cell_type": "code",
   "execution_count": 145,
   "id": "e04e626b",
   "metadata": {},
   "outputs": [
    {
     "name": "stdout",
     "output_type": "stream",
     "text": [
      "Enter the first string: hello\n",
      "Enter the second string: llohe\n",
      "The second string IS a rotation of the first string.\n"
     ]
    }
   ],
   "source": [
    "#str1 = \"hello\" # \"elloh\", \"llohe\", \"lohel\", \"ohell\", \"hello\"\n",
    "#str2 = \"elloh\"\n",
    "\n",
    "# Method 1\n",
    "\n",
    "str1 = input(\"Enter the first string: \")\n",
    "str2 = input(\"Enter the second string: \")\n",
    "length = len(str1)\n",
    "\n",
    "for i in range(length):\n",
    "    str1 = str1[1:] + str1[0] # rotates one letter at a time\n",
    "    if str2 == str1:\n",
    "        print(\"The second string IS a rotation of the first string.\")\n",
    "        break\n",
    "    if i == length - 1:\n",
    "        print(\"The second string IS NOT a rotation of the first string.\")"
   ]
  },
  {
   "cell_type": "code",
   "execution_count": 144,
   "id": "83c17ff1",
   "metadata": {},
   "outputs": [
    {
     "name": "stdout",
     "output_type": "stream",
     "text": [
      "The second string IS a rotation of the first string.\n"
     ]
    }
   ],
   "source": [
    "# Method 2\n",
    "\n",
    "str1 = \"hello\"\n",
    "str2 = \"llohe\"\n",
    "length = len(str1)\n",
    "\n",
    "def check(str1, str2):\n",
    "    for i in range(length):\n",
    "        str1 = str1[1:] + str1[0] # rotates one letter at a time\n",
    "        if str2 == str1:\n",
    "            #return True\n",
    "            print(\"The second string IS a rotation of the first string.\")\n",
    "            return\n",
    "    #return False\n",
    "    print(\"The second string IS NOT a rotation of the first string.\")\n",
    "    return\n",
    "\n",
    "check(str1, str2)"
   ]
  },
  {
   "cell_type": "markdown",
   "id": "b4c7c66a",
   "metadata": {},
   "source": [
    "__Problem 5:__ Write a program that takes a list of numbers as input and then finds the maximum sum of any contiguous subarray of the list. A subarray is a contiguous part of the array that is formed by removing zero or more elements from the beginning and end of the array.\n",
    "\n",
    "For example, given the list $[-2, 1, -3, 4, -1, 2, 1, -5, 4]$, the maximum sum of any contiguous subarray is 6, which is obtained by adding together the subarray $[4, -1, 2, 1]$.\n",
    "\n",
    "```Python\n",
    "Enter a list of numbers, separated by spaces: -2 1 -3 4 -1 2 1 -5 4\n",
    "The maximum sum of any contiguous subarray is 6.\n",
    "```"
   ]
  },
  {
   "cell_type": "code",
   "execution_count": 153,
   "id": "a234bf27",
   "metadata": {},
   "outputs": [
    {
     "name": "stdout",
     "output_type": "stream",
     "text": [
      "Enter a list of numbers, separated by spaces: -2 1 -3 4 -1 2 1 -5 4\n",
      "The maximum sum of any contiguous subarray is 6\n"
     ]
    }
   ],
   "source": [
    "# Method 1\n",
    "\n",
    "input_list = input(\"Enter a list of numbers, separated by spaces: \")\n",
    "input_list = input_list.split(\" \")\n",
    "input_list = [int(i) for i in input_list]\n",
    "length = len(input_list)\n",
    "current_max = input_list[0]\n",
    "sum_list = [] # to store all the sums of contiguous subarray\n",
    "\n",
    "for start in range(length):\n",
    "    for end in range(start, length + 1): # need length + 1 to catch the last element\n",
    "        sum_list.append(sum(input_list[start:end]))\n",
    "#print(sum_list)\n",
    "print(\"The maximum sum of any contiguous subarray is %d\" % max(sum_list))"
   ]
  },
  {
   "cell_type": "code",
   "execution_count": 146,
   "id": "ae3ea034",
   "metadata": {},
   "outputs": [
    {
     "name": "stdout",
     "output_type": "stream",
     "text": [
      "The maximum sum of any contiguous subarray is 12\n"
     ]
    }
   ],
   "source": [
    "# Method 2\n",
    "\n",
    "input_list = [-2,-1,-3,-1,-1,10,-1,-5,8]\n",
    "length = len(input_list)\n",
    "current_max = input_list[0]\n",
    "sum_list = [] # to store all the sums of contiguous subarray\n",
    "for start in range(length):\n",
    "    for end in range(start, length + 1): # need length + 1 to catch the last element\n",
    "        current_max = max(sum(input_list[start:end]), current_max) # equivalent of using inequalities to get max\n",
    "print(\"The maximum sum of any contiguous subarray is %d\" % current_max)"
   ]
  },
  {
   "cell_type": "markdown",
   "id": "0d155b96",
   "metadata": {},
   "source": [
    "__Problem 6:__ Write a program that takes a list of integers as input and then removes all duplicates from the list while preserving the order of the remaining elements.\n",
    "\n",
    "For example, given the list $[1, 2, 3, 2, 1, 4, 5, 4, 3]$, the program should output the list $[1, 2, 3, 4, 5]$.\n",
    "\n",
    "```csharp\n",
    "Enter a list of integers, separated by spaces: 1 2 3 2 1 4 5 4 3\n",
    "The list with duplicates removed is [1, 2, 3, 4, 5].\n",
    "```\n"
   ]
  },
  {
   "cell_type": "code",
   "execution_count": 3,
   "id": "bfd47d2c",
   "metadata": {},
   "outputs": [
    {
     "name": "stdout",
     "output_type": "stream",
     "text": [
      "Enter a list of integers, separated by spaces: 1 4 2 3 3 4 5 8 6 5 2 3\n",
      "The list with duplicates removed is [1, 4, 2, 3, 5, 8, 6]\n"
     ]
    }
   ],
   "source": [
    "# Method 1\n",
    "\n",
    "# Take input from user\n",
    "\n",
    "input_list = input(\"Enter a list of integers, separated by spaces: \").split()\n",
    "\n",
    "# Convert input to a list of integers\n",
    "\n",
    "input_list = [int(i) for i in input_list]\n",
    "\n",
    "# Create an empty list to hold unique elements\n",
    "\n",
    "output_list = []\n",
    "\n",
    "# Loop over input list and add unique elements to output list\n",
    "\n",
    "for i in input_list:\n",
    "    if i not in output_list:\n",
    "        output_list.append(i)\n",
    "\n",
    "# Print the output list\n",
    "\n",
    "print(\"The list with duplicates removed is\", output_list)\n"
   ]
  },
  {
   "cell_type": "code",
   "execution_count": 102,
   "id": "d6eaa243",
   "metadata": {},
   "outputs": [
    {
     "data": {
      "text/plain": [
       "[1, 2, 3, 4, 5]"
      ]
     },
     "execution_count": 102,
     "metadata": {},
     "output_type": "execute_result"
    }
   ],
   "source": [
    "# Method 2\n",
    "\n",
    "my_list = [1,2,3, 2, 1, 4, 5, 4, 3]\n",
    "out_list = []\n",
    "for d in my_list:\n",
    "    if (d not in out_list):\n",
    "        out_list.append(d)\n",
    "out_list"
   ]
  },
  {
   "cell_type": "markdown",
   "id": "316945cf",
   "metadata": {},
   "source": [
    "__Problem 7:__ Write a program that takes a sentence as input and then counts the frequency of each word in the sentence, ignoring punctuation and case. The program should then print the words and their frequencies in alphabetical order.\n",
    "\n",
    "```Python\n",
    "Enter a sentence: The quick brown fox jumps over the lazy dog.\n",
    "brown 1\n",
    "dog 1\n",
    "fox 1\n",
    "jumps 1\n",
    "lazy 1\n",
    "over 1\n",
    "quick 1\n",
    "the 2\n",
    "```"
   ]
  },
  {
   "cell_type": "code",
   "execution_count": 4,
   "id": "943d6bdb",
   "metadata": {},
   "outputs": [
    {
     "name": "stdout",
     "output_type": "stream",
     "text": [
      "Enter a sentence: The quick brown fox jumps over the lazy dog.\n",
      "brown 1\n",
      "dog 1\n",
      "fox 1\n",
      "jumps 1\n",
      "lazy 1\n",
      "over 1\n",
      "quick 1\n",
      "the 2\n"
     ]
    }
   ],
   "source": [
    "# Take input from user\n",
    "\n",
    "input_sentence = input(\"Enter a sentence: \")\n",
    "\n",
    "# Remove punctuation and convert to lowercase from sentence\n",
    "\n",
    "input_sentence = input_sentence.lower()\n",
    "for char in input_sentence:\n",
    "    if char in \"!\\\"#$%&'()*+,-./:;<=>?@[\\\\]^_`{|}~\":\n",
    "        input_sentence = input_sentence.replace(char, \" \")\n",
    "\n",
    "# Split input sentence into words\n",
    "\n",
    "input_words = input_sentence.split()\n",
    "\n",
    "# Create a dictionary to hold word counts\n",
    "\n",
    "word_counts = {}\n",
    "\n",
    "# Loop over words and count their frequencies\n",
    "\n",
    "for word in input_words:\n",
    "    if word in word_counts:\n",
    "        word_counts[word] += 1\n",
    "    else:\n",
    "        word_counts[word] = 1\n",
    "\n",
    "# Print words and their frequencies in alphabetical order\n",
    "\n",
    "for word in sorted(word_counts):\n",
    "    print(word, word_counts[word])\n",
    "    "
   ]
  },
  {
   "cell_type": "markdown",
   "id": "8714d86a",
   "metadata": {},
   "source": [
    "__Problem 8:__ Write a program that takes a list of strings as input and then groups the strings by their length. The program should then print the groups of strings in order of increasing length, with the strings are ordered in each group. \n",
    "\n",
    "For example, given the list [\"cat\", \"dog\", \"bird\", \"elephant\", \"lion\", \"tiger\", \"hamster\"], the program should output:\n",
    "\n",
    "```makefile\n",
    "3: cat dog\n",
    "4: bird lion\n",
    "5: tiger\n",
    "7: hamster\n",
    "8: elephant\n",
    "```\n",
    "\n"
   ]
  },
  {
   "cell_type": "code",
   "execution_count": 1,
   "id": "c195fd65",
   "metadata": {},
   "outputs": [
    {
     "name": "stdout",
     "output_type": "stream",
     "text": [
      "3: cat dog \n",
      "4: bird lion \n",
      "5: tiger \n",
      "7: hamster \n",
      "8: elephant \n"
     ]
    }
   ],
   "source": [
    "# Method 1 \n",
    "\n",
    "an_list = [\"cat\", \"dog\", \"bird\", \"elephant\", \"lion\", \"tiger\", \"hamster\"]\n",
    "#length = [len(animal) for animal in an_list]\n",
    "len_dict = {animal:len(animal) for animal in an_list}\n",
    "key_set = set(len_dict.values())\n",
    "out_dict = {}\n",
    "for key in key_set:\n",
    "    #out_dict[key] = [animal for animal in an_list if len_dict[animal]==key]\n",
    "    out_dict[key] = [animal for animal in an_list if len(animal)==key]\n",
    "\n",
    "# print output like it is above\n",
    "\n",
    "for key in out_dict:\n",
    "    name_str = str(key)+\": \"\n",
    "    #print(\"%d: \" % key)\n",
    "    for name in out_dict[key]:\n",
    "        name_str += (name+\" \")\n",
    "        #print(name+\" \")\n",
    "    print(name_str)\n",
    "    \n",
    "    \n",
    "    \n",
    "#print(out_dict) # print output as dictionary\n",
    "#print(len_dict)"
   ]
  },
  {
   "cell_type": "code",
   "execution_count": 1,
   "id": "219e5c99",
   "metadata": {},
   "outputs": [
    {
     "name": "stdout",
     "output_type": "stream",
     "text": [
      "3: cat dog \n",
      "4: bird lion \n",
      "5: tiger \n",
      "7: hamster \n",
      "8: elephant \n"
     ]
    }
   ],
   "source": [
    "# Method 2\n",
    "\n",
    "an_list = [\"cat\", \"dog\", \"bird\", \"elephant\", \"lion\", \"tiger\", \"hamster\"]\n",
    "#len_list = [len(animal) for animal in an_list]\n",
    "len_dict = {animal:len(animal) for animal in an_list}\n",
    "key_set = set(len_dict.values())\n",
    "out_dict = {}\n",
    "for key in key_set:\n",
    "    out_dict[key] = [animal for animal in an_list if len_dict[animal]==key]\n",
    "\n",
    "# print output like it is above\n",
    "\n",
    "for key in out_dict:\n",
    "    name_str = str(key)+\": \"\n",
    "    #print(\"%d: \" % key)\n",
    "    for name in out_dict[key]:\n",
    "        name_str += (name+\" \")\n",
    "        #print(name+\" \")\n",
    "    print(name_str)\n",
    "    \n",
    "\n",
    "    \n",
    "#print(len_list)\n",
    "#print()\n",
    "#print(len_dict)\n",
    "#print()\n",
    "#print(out_dict) # print output as dictionary\n",
    "#print()"
   ]
  },
  {
   "cell_type": "markdown",
   "id": "048b7309",
   "metadata": {},
   "source": [
    "__Problem 9:__ Write a program that takes a list of strings as input and then checks each string to see if it contains at least one digit and at least one uppercase letter. The program should then print the strings that match this pattern.\n",
    "\n",
    "For example, given the list [\"abc\", \"123\", \"Abc\", \"aBc\", \"ABC\", \"a1B2C3\"], the program should output: a1B2C3"
   ]
  },
  {
   "cell_type": "code",
   "execution_count": 21,
   "id": "6a2ef27d",
   "metadata": {},
   "outputs": [
    {
     "name": "stdout",
     "output_type": "stream",
     "text": [
      "a1B2C3\n"
     ]
    }
   ],
   "source": [
    "# look ahead can be used to check without order in regular expressions\n",
    "\n",
    "import re\n",
    "\n",
    "str_list = [\"abc\", \"123\", \"Abc\", \"aBc\", \"ABC\", \"a1B2C3\"]\n",
    "\n",
    "# print out strings with at least 1 digit and at least 1 uppercase\n",
    "\n",
    "pattern_2 = r\".*\\d.*\"\n",
    "pattern_1 = r\".*[A-Z].*\"\n",
    "for string in str_list:\n",
    "    if re.match(pattern_1, string) and re.match(pattern_2, string):\n",
    "        print(string)"
   ]
  },
  {
   "cell_type": "markdown",
   "id": "3078c087",
   "metadata": {},
   "source": [
    "__Problem 10:__ Write a program that reads a text file and then counts the frequency of each word in the file, ignoring punctuation and case. The program should then print the words and their frequencies in alphabetical order.\n",
    "\n",
    "For example, given the text file example.txt with the following contents:\n",
    "```css\n",
    "The quick brown fox jumps over the lazy dog.\n",
    "The dog barks at the moon.\n",
    "```\n",
    "The output should be\n",
    "```css\n",
    "at 1\n",
    "barks 1\n",
    "brown 1\n",
    "dog 2\n",
    "fox 1\n",
    "jumps 1\n",
    "lazy 1\n",
    "moon 1\n",
    "over 1\n",
    "quick 1\n",
    "the 4\n",
    "```"
   ]
  },
  {
   "cell_type": "code",
   "execution_count": 132,
   "id": "82a772f8",
   "metadata": {},
   "outputs": [
    {
     "name": "stdout",
     "output_type": "stream",
     "text": [
      "12 1\n",
      "208 6\n",
      "2888880001 2\n",
      "30 1\n",
      "3333 5\n",
      "333328888800012888880001 1\n",
      "882 6\n",
      "about 1\n",
      "are 1\n",
      "at 2\n",
      "best 2\n",
      "com 4\n",
      "doe 2\n",
      "doing 1\n",
      "example 4\n",
      "for 1\n",
      "from 2\n",
      "great 1\n",
      "hello 2\n",
      "hi 2\n",
      "how 2\n",
      "italian 1\n",
      "jane 4\n",
      "john 4\n",
      "let 1\n",
      "lunch 2\n",
      "meet 1\n",
      "new 1\n",
      "next 1\n",
      "place 1\n",
      "re 1\n",
      "regards 2\n",
      "s 1\n",
      "smith 2\n",
      "sometime 1\n",
      "sounds 1\n",
      "subject 2\n",
      "the 1\n",
      "to 2\n",
      "tuesday 1\n",
      "week 1\n",
      "you 1\n"
     ]
    }
   ],
   "source": [
    "def count_words(file_name):\n",
    "    with open(file_name, \"r\") as f:\n",
    "        input_sentence = f.read()\n",
    "\n",
    "    # Remove punctuation and convert to lowercase from sentence\n",
    "\n",
    "    input_sentence = input_sentence.lower()\n",
    "    for char in input_sentence:\n",
    "        if char in \"!\\\"#$%&'()*+,-./:;<=>?@[\\\\]^_`{|}~\":\n",
    "            input_sentence = input_sentence.replace(char, \" \")\n",
    "    \n",
    "    # Split input sentence into words\n",
    "\n",
    "    input_words = input_sentence.split()\n",
    "\n",
    "    # Create a dictionary to hold word counts\n",
    "\n",
    "    #word_counts = {}\n",
    "\n",
    "    # Loop over words and count their frequencies\n",
    "\n",
    "    unique_words = sorted(set(input_words))\n",
    "    for word in unique_words:\n",
    "        print(word, input_words.count(word))\n",
    "    \n",
    "    #for word in input_words:\n",
    "    #    if word in word_counts:\n",
    "    #        word_counts[word] += 1\n",
    "    #    else:\n",
    "    #        word_counts[word] = 1\n",
    "\n",
    "    # Print words and their frequencies in alphabetical order\n",
    "\n",
    "    #for word in sorted(word_counts):\n",
    "    #    print(word, word_counts[word])\n",
    "        \n",
    "# Call function with file\n",
    "\n",
    "count_words(\"example.txt\")"
   ]
  },
  {
   "cell_type": "markdown",
   "id": "18915c6a",
   "metadata": {},
   "source": [
    "__Problem 11:__ Write a program that reads in a text file and then searches for all email addresses in the file. The program should then output the email addresses and the number of times each email address appears in the file, sorted by frequency in descending order.\n",
    "\n",
    "For example, given the text file example.txt with the following contents: \n",
    "\n",
    "```txt\n",
    "\n",
    "To: jane.doe@example.com\n",
    "From: john.smith@example.com\n",
    "Subject: Hello\n",
    "\n",
    "Hi Jane,\n",
    "\n",
    "How are you doing? Let's meet for lunch sometime next week.\n",
    "\n",
    "Best regards,\n",
    "John\n",
    "\n",
    "To: john.smith@example.com\n",
    "From: jane.doe@example.com\n",
    "Subject: Re: Hello\n",
    "\n",
    "Hi John,\n",
    "\n",
    "Lunch sounds great! How about Tuesday at 12:30 at the new Italian place?\n",
    "\n",
    "Best regards,\n",
    "Jane\n",
    "```\n",
    "The program should output \n",
    "```txt\n",
    "jane.doe@example.com 2\n",
    "john.smith@example.com 2\n",
    "```"
   ]
  },
  {
   "cell_type": "code",
   "execution_count": 111,
   "id": "9f7de7f6",
   "metadata": {},
   "outputs": [
    {
     "name": "stdout",
     "output_type": "stream",
     "text": [
      "jane.doe@example.com 2\n",
      "john.smith@example.com 2\n"
     ]
    }
   ],
   "source": [
    "def extract_email(mystr):\n",
    "    \n",
    "    import re\n",
    "    \n",
    "    email_pattern = re.compile(r\"[\\w]+\\.?[\\w]+@[\\w]+\\.?[\\w]+\")\n",
    "    email_list = re.findall(email_pattern, mystr)\n",
    "    return email_list\n",
    "\n",
    "with open(\"example.txt\", \"r\") as f:\n",
    "    mystr = f.read()\n",
    "\n",
    "emails = extract_email(mystr)\n",
    "sorted_unique_email_list = sorted(set(emails))\n",
    "for email in sorted_unique_email_list:\n",
    "    print(email, emails.count(email))"
   ]
  },
  {
   "cell_type": "markdown",
   "id": "4e28fbc8",
   "metadata": {},
   "source": [
    "__Problem 12:__ Write a program that reads in a text file and then searches for all phone numbers in the file. The program should then output the phone numbers and the number of times each phone number appears in the file, sorted by frequency in descending order."
   ]
  },
  {
   "cell_type": "code",
   "execution_count": 117,
   "id": "5c5a9bd6",
   "metadata": {},
   "outputs": [
    {
     "name": "stdout",
     "output_type": "stream",
     "text": [
      "(208)-882-3333 6\n",
      "2888880001 4\n"
     ]
    }
   ],
   "source": [
    "def extract_email_phone(mystr):\n",
    "    \n",
    "    import re\n",
    "    \n",
    "    phone_pattern = re.compile(r\"\\(?\\d{3}\\)?[-,' ']?\\d{3}[-,' ']?\\d{4}\")\n",
    "    phone_list = re.findall(phone_pattern, mystr)\n",
    "    return phone_list\n",
    "\n",
    "with open(\"example.txt\", \"r\") as f:\n",
    "    mystr = f.read()\n",
    "\n",
    "phones = extract_email_phone(mystr)\n",
    "sorted_unique_phone_list = sorted(set(phones))\n",
    "for phone in sorted_unique_phone_list:\n",
    "    print(phone, phones.count(phone))"
   ]
  },
  {
   "cell_type": "code",
   "execution_count": 121,
   "id": "9e115719",
   "metadata": {},
   "outputs": [
    {
     "name": "stdout",
     "output_type": "stream",
     "text": [
      "Phones: ['(208)-882-3333', '(208)-882-3333', '2888880001', '(208)-882-3333', '2888880001', '(208)-882-3333', '(208)-882-3333', '2888880001', '2888880001', '(208)-882-3333']\n",
      "\n",
      "Emails: ['jane.doe@example.com', 'john.smith@example.com', 'john.smith@example.com', 'jane.doe@example.com']\n",
      "\n",
      "jane.doe@example.com 2\n",
      "john.smith@example.com 2\n",
      "\n",
      "(208)-882-3333 6\n",
      "2888880001 4\n"
     ]
    }
   ],
   "source": [
    "# PROBLEM ELEVEN AND TWELVE IN ONE\n",
    "\n",
    "def extract_email_phone(mystr):\n",
    "    \n",
    "    import re\n",
    "    \n",
    "    phone_pattern = re.compile(r\"\\(?\\d{3}\\)?[-,' ']?\\d{3}[-,' ']?\\d{4}\")\n",
    "    email_pattern = re.compile(r\"[\\w]+\\.?[\\w]+@[\\w]+\\.?[\\w]+\")\n",
    "    phone_list = re.findall(phone_pattern, mystr)\n",
    "    email_list = re.findall(email_pattern, mystr)\n",
    "    return email_list, phone_list\n",
    "\n",
    "with open(\"example.txt\", \"r\") as f:\n",
    "    mystr = f.read()\n",
    "\n",
    "emails, phones = extract_email_phone(mystr)\n",
    "print(\"Phones:\", phones)\n",
    "print()\n",
    "print(\"Emails:\", emails)\n",
    "print()\n",
    "\n",
    "sorted_unique_email_list = sorted(set(emails))\n",
    "for email in sorted_unique_email_list:\n",
    "    print(email, emails.count(email))\n",
    "    \n",
    "print()    \n",
    "    \n",
    "sorted_unique_phone_list = sorted(set(phones))\n",
    "for phone in sorted_unique_phone_list:\n",
    "    print(phone, phones.count(phone))"
   ]
  },
  {
   "cell_type": "markdown",
   "id": "381499f3",
   "metadata": {},
   "source": [
    "__Problem 13:__ Write a program that reads in a text file and do the following things:\n",
    "\n",
    "(a) Find all the characters that appear in the file.\n",
    "\n",
    "(b) Build an encoding book by a random permutation. Then encode the who file into the new file, name \"shuffled.txt\". NOTE: in Python, one can shuffle a list using the following code:\n",
    "```Python\n",
    "shuffled_list = random.shuffle(original_list) \n",
    "```\n",
    "\n",
    "(c) Decode the \"shuffled.txt\" back to the original content and save it into \"unshuffled.txt\". NOTE: make sure that \"unshuffled.txt\" is the same as the original file."
   ]
  },
  {
   "cell_type": "code",
   "execution_count": 155,
   "id": "5bd37f17",
   "metadata": {},
   "outputs": [
    {
     "name": "stdout",
     "output_type": "stream",
     "text": [
      "['\\n', ' ', '!', '$', '&', \"'\", ',', '-', '.', '3', ':', ';', '?', 'A', 'B', 'C', 'D', 'E', 'F', 'G', 'H', 'I', 'J', 'K', 'L', 'M', 'N', 'O', 'P', 'Q', 'R', 'S', 'T', 'U', 'V', 'W', 'X', 'Y', 'Z', 'a', 'b', 'c', 'd', 'e', 'f', 'g', 'h', 'i', 'j', 'k', 'l', 'm', 'n', 'o', 'p', 'q', 'r', 's', 't', 'u', 'v', 'w', 'x', 'y', 'z']\n"
     ]
    }
   ],
   "source": [
    "# (a)\n",
    "\n",
    "with open(\"tiny_shakespeare.txt\", \"r\") as f:\n",
    "    data = f.read() # returns a string\n",
    "char_set = set(data)\n",
    "char_list = sorted(list(char_set))\n",
    "print(char_list)"
   ]
  },
  {
   "cell_type": "code",
   "execution_count": 156,
   "id": "1667fa0f",
   "metadata": {
    "scrolled": true
   },
   "outputs": [
    {
     "name": "stdout",
     "output_type": "stream",
     "text": [
      "In;:i-CnincSmgKvSBl;S-zS-Y;l$SSf-Nmx-Bk;iWS;d-WSN;-OS-:YSNJ.KKpwwgK'YSNJd-:YSNJ.KKIn;:i-CnincSmgKMlk-N;S-Nww-;S:lwZSf-;NiWS;-il-fnS-iWNm-il-BNOn:WQKKpwwgKqS:lwZSf.-;S:lwZSf.KKIn;:i-CnincSmgKIn;:id-xlk-Jmlz-CNnk:-LN;$nk:-n:-$WnSB-SmSOx-il-iWS-YSlYwS.KKpwwgKyS-JmlzFid-zS-JmlzFi.KKIn;:i-CnincSmgKASi-k:-Jnww-WnOd-Nmf-zSFww-WNZS-$l;m-Ni-lk;-lzm-Y;n$S.KR:Fi-N-ZS;fn$iQKKpwwgKEl-Ol;S-iNwJnmU-lmFi,-wSi-ni-rS-flmSg-NzNxd-NzNxHKK'S$lmf-CnincSmgKbmS-zl;fd-Ullf-$nincSm:.KKIn;:i-CnincSmgKyS-N;S-N$$lkmiSf-Yll;-$nincSm:d-iWS-YNi;n$nNm:-Ullf.KyWNi-NkiWl;nix-:k;BSni:-lm-zlkwf-;SwnSZS-k:g-nB-iWSxKzlkwf-xnSwf-k:-rki-iWS-:kYS;Bwknixd-zWnwS-ni-zS;SKzWlwS:lOSd-zS-OnUWi-UkS::-iWSx-;SwnSZSf-k:-WkONmSwx,Krki-iWSx-iWnmJ-zS-N;S-ill-fSN;g-iWS-wSNmmS::-iWNiKNBBwn$i:-k:d-iWS-lrsS$i-lB-lk;-On:S;xd-n:-N:-NmKnmZSmil;x-il-YN;in$kwN;n:S-iWSn;-NrkmfNm$S,-lk;K:kBBS;Nm$S-n:-N-UNnm-il-iWSO-ASi-k:-;SZSmUS-iWn:-zniWKlk;-YnJS:d-S;S-zS-rS$lOS-;NJS:g-Bl;-iWS-Ulf:-Jmlz-RK:YSNJ-iWn:-nm-WkmUS;-Bl;-r;SNfd-mli-nm-iWn;:i-Bl;-;SZSmUS.KK\n"
     ]
    }
   ],
   "source": [
    "# (b) - mistake with instructions made here\n",
    "\n",
    "from random import shuffle\n",
    "\n",
    "shuffled_list = char_list.copy()\n",
    "shuffle(shuffled_list)\n",
    "#print(shuffled_list)\n",
    "#print()\n",
    "\n",
    "encode_book = {char_list[i]: shuffled_list[i] for i in range(len(char_list))}\n",
    "#print(encode_book)\n",
    "#print()\n",
    "\n",
    "shuffled_data = \"\"\n",
    "for char in data:\n",
    "    shuffled_data += encode_book[char]\n",
    "print(shuffled_data[:1000])\n",
    "with open(\"shuffled.txt\", \"w\") as f:\n",
    "    f.write(shuffled_data) # shuffled_data is varable that contains the data that has been shuffled"
   ]
  },
  {
   "cell_type": "code",
   "execution_count": 157,
   "id": "157ab382",
   "metadata": {},
   "outputs": [
    {
     "name": "stdout",
     "output_type": "stream",
     "text": [
      "First Citizen:\n",
      "Before we proceed any further, hear me speak.\n",
      "\n",
      "All:\n",
      "Speak, speak.\n",
      "\n",
      "First Citizen:\n",
      "You are all resolved rather to die than to famish?\n",
      "\n",
      "All:\n",
      "Resolved. resolved.\n",
      "\n",
      "First Citizen:\n",
      "First, you know Caius Marcius is chief enemy to the people.\n",
      "\n",
      "All:\n",
      "We know't, we know't.\n",
      "\n",
      "First Citizen:\n",
      "Let us kill him, and we'll have corn at our own price.\n",
      "Is't a verdict?\n",
      "\n",
      "All:\n",
      "No more talking on't; let it be done: away, away!\n",
      "\n",
      "Second Citizen:\n",
      "One word, good citizens.\n",
      "\n",
      "First Citizen:\n",
      "We are accounted poor\n"
     ]
    }
   ],
   "source": [
    "# (c)\n",
    "\n",
    "# Method 1\n",
    "\n",
    "with open(\"shuffled.txt\", \"r\") as f:\n",
    "    shuffled_data = f.read()\n",
    "decode_book = {encode_book[char] : char for char in char_list}\n",
    "unshuffled = \"\"\n",
    "for char in shuffled_data:\n",
    "    unshuffled += decode_book[char]\n",
    "print(unshuffled[:500])\n",
    "with open(\"unshuffled.txt\", \"w\") as f:\n",
    "    f.write(decrypted_data)"
   ]
  },
  {
   "cell_type": "code",
   "execution_count": 158,
   "id": "a239e3e6",
   "metadata": {},
   "outputs": [
    {
     "name": "stdout",
     "output_type": "stream",
     "text": [
      "First Citizen:\n",
      "Before we proceed any further, hear me speak.\n",
      "\n",
      "All:\n",
      "Speak, speak.\n",
      "\n",
      "First Citizen:\n",
      "You are all resolved rather to die than to famish?\n",
      "\n",
      "All:\n",
      "Resolved. resolved.\n",
      "\n",
      "First Citizen:\n",
      "First, you know Caius Marcius is chief enemy to the people.\n",
      "\n",
      "All:\n",
      "We know't, we know't.\n",
      "\n",
      "First Citizen:\n",
      "Let us kill him, and we'll have corn at our own price.\n",
      "Is't a verdict?\n",
      "\n",
      "All:\n",
      "No more talking on't; let it be done: away, away!\n",
      "\n",
      "Second Citizen:\n",
      "One word, good citizens.\n",
      "\n",
      "First Citizen:\n",
      "We are accounted poor\n"
     ]
    }
   ],
   "source": [
    "# (c)\n",
    "\n",
    "# Method 2\n",
    "\n",
    "with open(\"shuffled.txt\", \"r\") as f:\n",
    "    data = f.read()\n",
    "decode_book = {shuffled_list[i] : char_list[i] for i in range(len(char_list))}\n",
    "decrypted_data = \"\"\n",
    "for char in data:\n",
    "    decrypted_data += decode_book[char]\n",
    "print(decrypted_data[:500])\n",
    "with open(\"unshuffled.txt\", \"w\") as f:\n",
    "    f.write(decrypted_data)"
   ]
  },
  {
   "cell_type": "markdown",
   "id": "bd865803",
   "metadata": {},
   "source": [
    "__Problem 14:__ Write a program that reads in a text file and do the following things:\n",
    "\n",
    "(a) Find all the characters that appear in the file.\n",
    "\n",
    "\n",
    "(b) In computer programming languages, each character is represented by an ASCII (American Standard Code for Information Interchange) code. In python, the ASCII code of each character (say 'a') can be evaluated using \"ord\" function\n",
    "\n",
    "```Python\n",
    "ord('a')\n",
    "```\n",
    "and one can convert an ASCII code into the character by\n",
    "\n",
    "```Python\n",
    "chr(c)\n",
    "```\n",
    "Build the encoding book by assigning each character by its ASCII code plus 1. Then encode the file into \"asciipone.txt\".\n",
    "\n",
    "(c) Decode the file \"asciipone.txt\" into \"unascii.txt'. NOTE: make sure that \"unascii.txt\" is the same as the original file."
   ]
  },
  {
   "cell_type": "code",
   "execution_count": 12,
   "id": "d1dcba87",
   "metadata": {},
   "outputs": [
    {
     "name": "stdout",
     "output_type": "stream",
     "text": [
      "['\\n', ' ', '!', '$', '&', \"'\", ',', '-', '.', '3', ':', ';', '?', 'A', 'B', 'C', 'D', 'E', 'F', 'G', 'H', 'I', 'J', 'K', 'L', 'M', 'N', 'O', 'P', 'Q', 'R', 'S', 'T', 'U', 'V', 'W', 'X', 'Y', 'Z', 'a', 'b', 'c', 'd', 'e', 'f', 'g', 'h', 'i', 'j', 'k', 'l', 'm', 'n', 'o', 'p', 'q', 'r', 's', 't', 'u', 'v', 'w', 'x', 'y', 'z']\n",
      "\n"
     ]
    }
   ],
   "source": [
    "# (a)\n",
    "\n",
    "with open(\"tiny_shakespeare.txt\", \"r\") as f:\n",
    "    data = f.read()\n",
    "char_set = set(data)\n",
    "char_list = sorted(list(char_set))\n",
    "print(char_list)\n",
    "print()"
   ]
  },
  {
   "cell_type": "code",
   "execution_count": 13,
   "id": "38278756",
   "metadata": {},
   "outputs": [
    {
     "name": "stdout",
     "output_type": "stream",
     "text": [
      "[71, 106, 115, 116, 117, 33, 68, 106, 117, 106, 123, 102, 111, 59, 11, 67, 102, 103, 112, 115, 102, 33, 120, 102, 33, 113, 115, 112, 100, 102, 102, 101, 33, 98, 111, 122, 33, 103, 118, 115, 117, 105, 102, 115, 45, 33, 105, 102, 98, 115, 33, 110, 102, 33, 116, 113, 102, 98, 108, 47, 11, 11, 66, 109, 109, 59, 11, 84, 113, 102, 98, 108, 45, 33, 116, 113, 102, 98, 108, 47, 11, 11, 71, 106, 115, 116, 117, 33, 68, 106, 117, 106, 123, 102, 111, 59, 11, 90, 112, 118, 33, 98, 115, 102, 33, 98, 109, 109, 33, 115, 102, 116, 112, 109, 119, 102, 101, 33, 115, 98, 117, 105, 102, 115, 33, 117, 112, 33, 101, 106, 102, 33, 117, 105, 98, 111, 33, 117, 112, 33, 103, 98, 110, 106, 116, 105, 64, 11, 11, 66, 109, 109, 59, 11, 83, 102, 116, 112, 109, 119, 102, 101, 47, 33, 115, 102, 116, 112, 109, 119, 102, 101, 47, 11, 11, 71, 106, 115, 116, 117, 33, 68, 106, 117, 106, 123, 102, 111, 59, 11, 71, 106, 115, 116, 117, 45, 33, 122, 112, 118, 33, 108, 111, 112, 120, 33, 68, 98, 106, 118, 116, 33, 78, 98, 115, 100, 106, 118, 116, 33, 106, 116, 33, 100, 105, 106, 102, 103, 33, 102, 111, 102, 110, 122, 33, 117, 112, 33, 117, 105, 102, 33, 113, 102, 112, 113, 109, 102, 47, 11, 11, 66, 109, 109, 59, 11, 88, 102, 33, 108, 111, 112, 120, 40, 117, 45, 33, 120, 102, 33, 108, 111, 112, 120, 40, 117, 47, 11, 11, 71, 106, 115, 116, 117, 33, 68, 106, 117, 106, 123, 102, 111, 59, 11, 77, 102, 117, 33, 118, 116, 33, 108, 106, 109, 109, 33, 105, 106, 110, 45, 33, 98, 111, 101, 33, 120, 102, 40, 109, 109, 33, 105, 98, 119, 102, 33, 100, 112, 115, 111, 33, 98, 117, 33, 112, 118, 115, 33, 112, 120, 111, 33, 113, 115, 106, 100, 102, 47, 11, 74, 116, 40, 117, 33, 98, 33, 119, 102, 115, 101, 106, 100, 117, 64, 11, 11, 66, 109, 109, 59, 11, 79, 112, 33, 110, 112, 115, 102, 33, 117, 98, 109, 108, 106, 111, 104, 33, 112, 111, 40, 117, 60, 33, 109, 102, 117, 33, 106, 117, 33, 99, 102, 33, 101, 112, 111, 102, 59, 33, 98, 120, 98, 122, 45, 33, 98, 120, 98, 122, 34, 11, 11, 84, 102, 100, 112, 111, 101, 33, 68, 106, 117, 106, 123, 102, 111, 59, 11, 80, 111, 102, 33, 120, 112, 115, 101, 45, 33, 104, 112, 112, 101, 33, 100, 106, 117, 106, 123, 102, 111, 116, 47, 11, 11, 71, 106, 115, 116, 117, 33, 68, 106, 117, 106, 123, 102, 111, 59, 11, 88, 102, 33, 98, 115, 102, 33, 98, 100, 100, 112, 118, 111, 117, 102, 101, 33, 113, 112, 112, 115, 33, 100, 106, 117, 106, 123, 102, 111, 116, 45, 33, 117, 105, 102, 33, 113, 98, 117, 115, 106, 100, 106, 98, 111, 116, 33, 104, 112, 112, 101, 47, 11, 88, 105, 98, 117, 33, 98, 118, 117, 105, 112, 115, 106, 117, 122, 33, 116, 118, 115, 103, 102, 106, 117, 116, 33, 112, 111, 33, 120, 112, 118, 109, 101, 33, 115, 102, 109, 106, 102, 119, 102, 33, 118, 116, 59, 33, 106, 103, 33, 117, 105, 102, 122, 11, 120, 112, 118, 109, 101, 33, 122, 106, 102, 109, 101, 33, 118, 116, 33, 99, 118, 117, 33, 117, 105, 102, 33, 116, 118, 113, 102, 115, 103, 109, 118, 106, 117, 122, 45, 33, 120, 105, 106, 109, 102, 33, 106, 117, 33, 120, 102, 115, 102, 11, 120, 105, 112, 109, 102, 116, 112, 110, 102, 45, 33, 120, 102, 33, 110, 106, 104, 105, 117, 33, 104, 118, 102, 116, 116, 33, 117, 105, 102, 122, 33, 115, 102, 109, 106, 102, 119, 102, 101, 33, 118, 116, 33, 105, 118, 110, 98, 111, 102, 109, 122, 60, 11, 99, 118, 117, 33, 117, 105, 102, 122, 33, 117, 105, 106, 111, 108, 33, 120, 102, 33, 98, 115, 102, 33, 117, 112, 112, 33, 101, 102, 98, 115, 59, 33, 117, 105, 102, 33, 109, 102, 98, 111, 111, 102, 116, 116, 33, 117, 105, 98, 117, 11, 98, 103, 103, 109, 106, 100, 117, 116, 33, 118, 116, 45, 33, 117, 105, 102, 33, 112, 99, 107, 102, 100, 117, 33, 112, 103, 33, 112, 118, 115, 33, 110, 106, 116, 102, 115, 122, 45, 33, 106, 116, 33, 98, 116, 33, 98, 111, 11, 106, 111, 119, 102, 111, 117, 112, 115, 122, 33, 117, 112, 33, 113, 98, 115, 117, 106, 100, 118, 109, 98, 115, 106, 116, 102, 33, 117, 105, 102, 106, 115, 33, 98, 99, 118, 111, 101, 98, 111, 100, 102, 60, 33, 112, 118, 115, 11, 116, 118, 103, 103, 102, 115, 98, 111, 100, 102, 33, 106, 116, 33, 98, 33, 104, 98, 106, 111, 33, 117, 112, 33, 117, 105, 102, 110, 33, 77, 102, 117, 33, 118, 116, 33, 115, 102, 119, 102, 111, 104, 102, 33, 117, 105, 106, 116, 33, 120, 106, 117, 105, 11, 112, 118, 115, 33, 113, 106, 108, 102, 116, 45, 33, 102, 115, 102, 33, 120, 102, 33, 99, 102, 100, 112, 110, 102, 33, 115, 98, 108, 102, 116, 59, 33, 103, 112, 115, 33, 117, 105, 102, 33, 104, 112, 101, 116, 33, 108, 111, 112, 120, 33, 74, 11, 116, 113, 102, 98, 108, 33, 117, 105, 106, 116, 33, 106, 111, 33, 105, 118, 111, 104, 102, 115, 33, 103, 112, 115, 33, 99, 115, 102, 98, 101, 45, 33, 111, 112, 117, 33, 106, 111, 33, 117, 105, 106, 115, 116, 117, 33, 103, 112, 115, 33, 115, 102, 119, 102, 111, 104, 102, 47, 11, 11]\n"
     ]
    }
   ],
   "source": [
    "# (b)\n",
    "\n",
    "# Method 1\n",
    "\n",
    "encode_book = {c:ord(c) + 1 for c in char_list}\n",
    "\n",
    "encrypted_data_list = []\n",
    "encrypted_data = \"\"\n",
    "for char in data:\n",
    "    encrypted_data_list.append(encode_book[char])\n",
    "encrypted_data = str(encrypted_data_list)\n",
    "print(encrypted_data_list[0:1000])\n",
    "with open(\"asciipone.txt\", \"w\") as f:\n",
    "    f.write(encrypted_data)"
   ]
  },
  {
   "cell_type": "code",
   "execution_count": 16,
   "id": "87498780",
   "metadata": {},
   "outputs": [
    {
     "name": "stdout",
     "output_type": "stream",
     "text": [
      "First Citizen:\n",
      "Before we proceed any further, hear me speak.\n",
      "\n",
      "All:\n",
      "Speak, speak.\n",
      "\n",
      "First Citizen:\n",
      "You are all resolved rather to die than to famish?\n",
      "\n",
      "All:\n",
      "Resolved. resolved.\n",
      "\n",
      "First Citizen:\n",
      "First, you know Caius Marcius is chief enemy to the people.\n",
      "\n",
      "All:\n",
      "We know't, we know't.\n",
      "\n",
      "First Citizen:\n",
      "Let us kill him, and we'll have corn at our own price.\n",
      "Is't a verdict?\n",
      "\n",
      "All:\n",
      "No more talking on't; let it be done: away, away!\n",
      "\n",
      "Second Citizen:\n",
      "One word, good citizens.\n",
      "\n",
      "First Citizen:\n",
      "We are accounted poor citizens, the patricians good.\n",
      "What authority surfeits on would relieve us: if they\n",
      "would yield us but the superfluity, while it were\n",
      "wholesome, we might guess they relieved us humanely;\n",
      "but they think we are too dear: the leanness that\n",
      "afflicts us, the object of our misery, is as an\n",
      "inventory to particularise their abundance; our\n",
      "sufferance is a gain to them Let us revenge this with\n",
      "our pikes, ere we become rakes: for the gods know I\n",
      "speak this in hunger for bread, not in thirst for revenge.\n",
      "\n",
      "\n"
     ]
    }
   ],
   "source": [
    "# (c)\n",
    "\n",
    "# Method 1\n",
    "\n",
    "with open(\"asciipone.txt\", \"r\") as f:\n",
    "    encrypted_data = f.read()\n",
    "decode_book = {ord(c) + 1:c for c in char_list}\n",
    "encrypted_data_list = encrypted_data.strip(\"][\").split(\", \")\n",
    "decrypted_data = \"\"\n",
    "for i in encrypted_data_list:\n",
    "    decrypted_data += decode_book[int(i)] #PROBLEMATIC BECAUSE IT INPUTS [ as i\n",
    "with open(\"unascii.txt\", \"w\") as f:\n",
    "    f.write(decrypted_data)\n",
    "print(decrypted_data[:1000])\n",
    "    \n",
    "    \n",
    "#for char in encrypted_data:\n",
    "    #decrypted_data += decode_book[char]\n",
    "    #print(decode_book[char])\n",
    "#print(encrypted_data_list[:1000])\n",
    "#print(type(encrypted_data))\n",
    "#print(type(decrypted_data))"
   ]
  },
  {
   "cell_type": "code",
   "execution_count": 66,
   "id": "310061eb",
   "metadata": {},
   "outputs": [
    {
     "name": "stdout",
     "output_type": "stream",
     "text": [
      "['\\n', ' ', '!', '$', '&', \"'\", ',', '-', '.', '3', ':', ';', '?', 'A', 'B', 'C', 'D', 'E', 'F', 'G', 'H', 'I', 'J', 'K', 'L', 'M', 'N', 'O', 'P', 'Q', 'R', 'S', 'T', 'U', 'V', 'W', 'X', 'Y', 'Z', 'a', 'b', 'c', 'd', 'e', 'f', 'g', 'h', 'i', 'j', 'k', 'l', 'm', 'n', 'o', 'p', 'q', 'r', 's', 't', 'u', 'v', 'w', 'x', 'y', 'z']\n",
      "\n"
     ]
    }
   ],
   "source": [
    "# (a)\n",
    "\n",
    "# Method 2\n",
    "\n",
    "with open(\"tiny_shakespeare.txt\", \"r\") as f:\n",
    "    data = f.read()\n",
    "char_set = set(data)\n",
    "char_list = sorted(list(char_set))\n",
    "print(char_list)\n",
    "print()"
   ]
  },
  {
   "cell_type": "code",
   "execution_count": 84,
   "id": "b4d2633b",
   "metadata": {},
   "outputs": [
    {
     "name": "stdout",
     "output_type": "stream",
     "text": [
      "71 106 115 116 117 33 68 106 117 106 123 102 111 59 11 67 102 103 112 115 102 33 120 102 33 113 115 112 100 102 102 101 33 98 111 122 33 103 118 115 117 105 102 115 45 33 105 102 98 115 33 110 102 33 116 113 102 98 108 47 11 11 66 109 109 59 11 84 113 102 98 108 45 33 116 113 102 98 108 47 11 11 71 106 115 116 117 33 68 106 117 106 123 102 111 59 11 90 112 118 33 98 115 102 33 98 109 109 33 115 102 116 112 109 119 102 101 33 115 98 117 105 102 115 33 117 112 33 101 106 102 33 117 105 98 111 33 117 112 33 103 98 110 106 116 105 64 11 11 66 109 109 59 11 83 102 116 112 109 119 102 101 47 33 115 102 116 112 109 119 102 101 47 11 11 71 106 115 116 117 33 68 106 117 106 123 102 111 59 11 71 106 115 116 117 45 33 122 112 118 33 108 111 112 120 33 68 98 106 118 116 33 78 98 115 100 106 118 116 33 106 116 33 100 105 106 102 103 33 102 111 102 110 122 33 117 112 33 117 105 102 33 113 102 112 113 109 102 47 11 11 66 109 109 59 11 88 102 33 108 111 112 120 40 117 45 33 120 102 33 108 111 112 120 \n"
     ]
    }
   ],
   "source": [
    "# (b)\n",
    "\n",
    "# Method 2\n",
    "\n",
    "# A --> 65+1 = 66\n",
    "# a --> 97+1 = 98\n",
    "\n",
    "encode_book = {char: ord(char) + 1 for char in char_list}\n",
    "#encode_book\n",
    "encoded_data = \"\"\n",
    "for char in data:\n",
    "    encoded_data += str(encode_book[char])+\" \" \n",
    "    # add space so the ascii values aren't jumbled together\n",
    "print(encoded_data[:1000])\n",
    "with open(\"asciipone.txt\", \"w\") as f:\n",
    "    f.write(encoded_data)"
   ]
  },
  {
   "cell_type": "code",
   "execution_count": 98,
   "id": "e7058452",
   "metadata": {},
   "outputs": [
    {
     "name": "stdout",
     "output_type": "stream",
     "text": [
      "First Citizen:\n",
      "Before we proceed any further, hear me speak.\n",
      "\n",
      "All:\n",
      "Speak, speak.\n",
      "\n",
      "First Citizen:\n",
      "You are all resolved rather to die than to famish?\n",
      "\n",
      "All:\n",
      "Resolved. resolved.\n",
      "\n",
      "First Citizen:\n",
      "First, you know Caius Marcius is chief enemy to the people.\n",
      "\n",
      "All:\n",
      "We know't, we know't.\n",
      "\n",
      "First Citizen:\n",
      "Let us kill him, and we'll have corn at our own price.\n",
      "Is't a verdict?\n",
      "\n",
      "All:\n",
      "No more talking on't; let it be done: away, away!\n",
      "\n",
      "Second Citizen:\n",
      "One word, good citizens.\n",
      "\n",
      "First Citizen:\n",
      "We are accounted poor\n"
     ]
    }
   ],
   "source": [
    "# (c)\n",
    "\n",
    "# Method 2\n",
    "\n",
    "with open(\"asciipone.txt\", \"r\") as f:\n",
    "    ascii_data = f.read()\n",
    "decode_book = {ord(char) + 1:char for char in char_list}\n",
    "unascii = \"\"\n",
    "ascii_data_list = ascii_data.split() # returns a list\n",
    "for d in ascii_data_list:\n",
    "    unascii += decode_book[int(d)]\n",
    "print(unascii[:500])\n",
    "with open(\"unascii.txt\", \"w\") as f:\n",
    "    f.write(unascii)"
   ]
  },
  {
   "cell_type": "markdown",
   "id": "c68164cc",
   "metadata": {},
   "source": [
    "# Extra Practice"
   ]
  },
  {
   "cell_type": "markdown",
   "id": "70211af8",
   "metadata": {},
   "source": [
    "   ***CHECK FOR SUBSTRING***"
   ]
  },
  {
   "cell_type": "code",
   "execution_count": 15,
   "id": "2ffa8105",
   "metadata": {},
   "outputs": [
    {
     "data": {
      "text/plain": [
       "True"
      ]
     },
     "execution_count": 15,
     "metadata": {},
     "output_type": "execute_result"
    }
   ],
   "source": [
    "# Check for substring\n",
    "\n",
    "str1 = \"hello\" #--> str1d = \"hellohello\"\n",
    "str2 = \"llohe\"\n",
    "\n",
    "def check2(str1, str2):\n",
    "    str1d = str1*2\n",
    "    return (str.find(str1d, str2) >= 0 and len(str1) == len(str2))\n",
    "    \n",
    "check2(str1, str2)"
   ]
  }
 ],
 "metadata": {
  "kernelspec": {
   "display_name": "Python 3 (ipykernel)",
   "language": "python",
   "name": "python3"
  },
  "language_info": {
   "codemirror_mode": {
    "name": "ipython",
    "version": 3
   },
   "file_extension": ".py",
   "mimetype": "text/x-python",
   "name": "python",
   "nbconvert_exporter": "python",
   "pygments_lexer": "ipython3",
   "version": "3.9.13"
  }
 },
 "nbformat": 4,
 "nbformat_minor": 5
}
