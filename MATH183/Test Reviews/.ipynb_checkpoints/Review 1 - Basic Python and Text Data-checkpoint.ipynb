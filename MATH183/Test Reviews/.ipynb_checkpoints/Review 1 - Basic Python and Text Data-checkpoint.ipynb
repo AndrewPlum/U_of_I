{
 "cells": [
  {
   "cell_type": "markdown",
   "id": "80454746",
   "metadata": {},
   "source": [
    "# Topics to study\n",
    "\n",
    "1. Basic input and output:\n",
    " - \"print\" function: basic print, string format\n",
    " - \"input\" function: know how to use it to interact with user\n",
    "2. Basic data types: \n",
    " - integer: \n",
    " - float:\n",
    " - string:\n",
    " - boolean:\n",
    "3. Basic math packages:\n",
    " - math\n",
    " - numpy \n",
    "4. Functions:\n",
    " - regular function\n",
    " - lambda function\n",
    "5. Common data structures:\n",
    " - list:\n",
    " - tuple:\n",
    " - dictionary:\n",
    "6. Random module:\n",
    " - radom module in Python\n",
    " - random module in Numpy\n",
    " - uniform distribution, normal distribution, choice(s), randint\n",
    "7. External txt file:\n",
    " - read:\n",
    " - write:\n",
    "8. Text analysis:\n",
    " - encoding, decoding\n",
    " - regular expression"
   ]
  },
  {
   "cell_type": "markdown",
   "id": "90fd426f",
   "metadata": {},
   "source": [
    "# Practice problems\n",
    "\n",
    "__Problem 1:__ Write a program that do the following things: \n",
    " - (1) generate a random number between $0$ and $9$,   \n",
    " - (2) ask the user make a guess, \n",
    " - (3) congratulate the user the the guess is correct, \n",
    " - (4) give a the user a hint to make the next guess: \"your guess is bigger/small\" than the true value,   \n",
    " - (5) stop the game if the user has made three guesses. \n",
    "\n",
    "__Problem 2:__ Write a program that do the following things: \n",
    "- (0) make a list of fruits \n",
    "- (1) randomly pick a fruit from the list, \n",
    "- (2) ask the user make a guess, \n",
    "- (3) congratulate the user the the guess is correct, \n",
    "- (4) give a the user a hint to make the next guess: this fruir has letter 'x', \n",
    "- (5) stop the game if the user has made three guesses. "
   ]
  }
 ],
 "metadata": {
  "kernelspec": {
   "display_name": "Python 3 (ipykernel)",
   "language": "python",
   "name": "python3"
  },
  "language_info": {
   "codemirror_mode": {
    "name": "ipython",
    "version": 3
   },
   "file_extension": ".py",
   "mimetype": "text/x-python",
   "name": "python",
   "nbconvert_exporter": "python",
   "pygments_lexer": "ipython3",
   "version": "3.9.13"
  }
 },
 "nbformat": 4,
 "nbformat_minor": 5
}
