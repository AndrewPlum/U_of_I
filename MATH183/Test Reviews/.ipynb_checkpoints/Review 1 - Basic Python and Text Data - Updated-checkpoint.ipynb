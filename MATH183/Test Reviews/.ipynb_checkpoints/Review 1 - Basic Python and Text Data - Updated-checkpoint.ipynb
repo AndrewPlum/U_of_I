{
 "cells": [
  {
   "cell_type": "markdown",
   "id": "80454746",
   "metadata": {},
   "source": [
    "# Topics to study\n",
    "\n",
    "1. Basic input and output:\n",
    " - \"print\" function: basic print, string format\n",
    " - \"input\" function: know how to use it to interact with user\n",
    "2. Basic data types: \n",
    " - integer: \n",
    " - float:\n",
    " - string:\n",
    " - boolean:\n",
    "3. Basic math packages:\n",
    " - math\n",
    " - numpy \n",
    "4. Functions:\n",
    " - regular function\n",
    " - lambda function\n",
    "5. Common data structures:\n",
    " - list:\n",
    " - tuple:\n",
    " - dictionary:\n",
    " - set:\n",
    "6. Random module:\n",
    " - radom module in Python\n",
    " - random module in Numpy\n",
    " - uniform distribution, normal distribution, choice(s), randint\n",
    "7. External txt file:\n",
    " - read:\n",
    " - write:\n",
    "8. Text analysis:\n",
    " - encoding, decoding\n",
    " - regular expression"
   ]
  },
  {
   "cell_type": "markdown",
   "id": "90fd426f",
   "metadata": {},
   "source": [
    "# The exam format\n",
    "\n",
    "The exam on March 8 will consists of three problems. One is a basic problem, and two are intermediate/advanced. \n",
    "\n",
    "\n",
    "# Practice problems\n",
    "## Basic problems\n",
    "\n",
    "- Review all practice problem & check out tickets.\n",
    "- Review all problems in HW #1.\n",
    "- Review problems 1-2 in HW #2. \n",
    "- Ask chatgpt to generate basic problems for further practice. See sample problems below.\n",
    "\n",
    "__Problem 1:__ Write a program that asks the user to enter their name and age. Then, the program should print out a message that says\n",
    "```css\n",
    "Hello [name]! You are [age] years old.\"\n",
    "```\n",
    "\n",
    "Example: \n",
    "```yml\n",
    "Enter your name: John\n",
    "Enter your age: 25\n",
    "Hello John! You are 25 years old.\n",
    "```\n",
    "\n",
    "__Problem 2:__ Write a program that asks the user to enter a number and then prints out whether that number is even or odd. If the number is even, the program should print \"Even\", and if the number is odd, the program should print \"Odd\".\n",
    "\n",
    "```css\n",
    "Enter a number: 7\n",
    "Odd\n",
    "```\n",
    "\n",
    "```css\n",
    "Enter a number: 10\n",
    "Even\n",
    "```\n",
    "## Intemediate/advanced problems \n",
    "\n",
    "Below is a list of practice problem. Work on them carefully since the problems in the exam will be quite similar. NOTE: I may (or may not) add one or two more problems later. Watch out for that (I will annouce if it happens)."
   ]
  },
  {
   "cell_type": "markdown",
   "id": "24a40959",
   "metadata": {},
   "source": [
    "__Problem 1:__ Write a program that do the following things: \n",
    " - (1) generate a random number between $0$ and $9$,   \n",
    " - (2) ask the user make a guess, \n",
    " - (3) congratulate the user the the guess is correct, \n",
    " - (4) give a the user a hint to make the next guess: \"your guess is bigger/small\" than the true value,   \n",
    " - (5) stop the game if the user has made three guesses. "
   ]
  },
  {
   "cell_type": "code",
   "execution_count": 4,
   "id": "0713c590",
   "metadata": {},
   "outputs": [
    {
     "name": "stdout",
     "output_type": "stream",
     "text": [
      "7\n",
      "Guess the number between 0 and 9 that I'm think of (enter a number): 7\n"
     ]
    }
   ],
   "source": [
    "from random import randint\n",
    "\n",
    "# 1\n",
    "\n",
    "random_num = randint(0,9)\n",
    "print(random_num)\n",
    "\n",
    "# 2\n",
    "\n",
    "guess_num = input(\"Guess the number between 0 and 9 that I'm think of (enter a number): \")\n",
    "\n",
    "# 3 \n",
    "\n",
    "if (guess_num == random_num):\n",
    "    print(\"You guessed the right number!\")\n"
   ]
  },
  {
   "cell_type": "markdown",
   "id": "47b6d806",
   "metadata": {},
   "source": [
    "# from random import randint\n",
    "\n",
    "random_num = randint(0,9)\n",
    "print(\"For this game you must give me an integer between 0 and 9\\n\")\n",
    "for i in range(3):\n",
    "    guess_num = int(input(\"Give me your guess (enter a number between 0 and 9): \"))\n",
    "    if (guess_num == random_num):\n",
    "        print(\"You guessed the right number!\")\n",
    "        break\n",
    "    else:\n",
    "        if (guess_num > random_num):\n",
    "            print(\"Your number is too big!\")\n",
    "        else:\n",
    "            print(\"Your number is too small\")\n",
    "print(\"The correct number is %s\" % random_num)\n"
   ]
  },
  {
   "cell_type": "markdown",
   "id": "7cb7d41f",
   "metadata": {},
   "source": [
    "__Problem 2:__ Write a program that do the following things: \n",
    "- (0) make a list of fruits \n",
    "- (1) randomly pick a fruit from the list, \n",
    "- (2) ask the user make a guess, \n",
    "- (3) congratulate the user the the guess is correct, \n",
    "- (4) give a the user a hint to make the next guess: this fruir has letter 'x', \n",
    "- (5) stop the game if the user has made three guesses. \n"
   ]
  },
  {
   "cell_type": "code",
   "execution_count": null,
   "id": "32452541",
   "metadata": {},
   "outputs": [],
   "source": [
    "# your code here"
   ]
  },
  {
   "cell_type": "markdown",
   "id": "86f2ea88",
   "metadata": {},
   "source": [
    "__Problem 3:__ Write a program that asks the user to enter a string and then checks whether the string is a palindrome or not. A palindrome is a word, phrase, number, or other sequence of characters that reads the same forward and backward (ignoring spaces, punctuation, and capitalization).\n",
    "\n",
    "```csharp\n",
    "Enter a string: radar\n",
    "The string is a palindrome.\n",
    "```\n",
    "\n",
    "```csharp\n",
    "Enter a string: Hello World\n",
    "The string is not a palindrome.\n",
    "```\n"
   ]
  },
  {
   "cell_type": "code",
   "execution_count": null,
   "id": "ff8b24f4",
   "metadata": {},
   "outputs": [],
   "source": [
    "print(\"Enter string of characters and I will tell you if it is a pallindrome.\\n\")\n",
    "string = input(\"Give me the string of characters: \")\n",
    "str_len = len(string)\n",
    "for i in range(str_len):\n",
    "    if string[i] == "
   ]
  },
  {
   "cell_type": "code",
   "execution_count": 7,
   "id": "e3bc29b6",
   "metadata": {},
   "outputs": [
    {
     "name": "stdout",
     "output_type": "stream",
     "text": [
      "Enter string of characters and I will tell you if it is a pallindrome (I will ignore spaces).\n",
      "\n",
      "Give me the string of characters: Race car\n"
     ]
    },
    {
     "data": {
      "text/plain": [
       "True"
      ]
     },
     "execution_count": 7,
     "metadata": {},
     "output_type": "execute_result"
    }
   ],
   "source": [
    "print(\"Enter string of characters and I will tell you if it is a pallindrome (I will ignore spaces).\\n\")\n",
    "input_string = input(\"Give me the string of characters: \")\n",
    "\n",
    "def palindrome(input_string):\n",
    "    input_string = input_string.replace(\" \", \"\")\n",
    "    input_string = input_string.lower()\n",
    "    backward_string = input_string[::-1] # this reverses the input_string\n",
    "    return backward_string == input_string\n",
    "\n",
    "palindrome(input_string)"
   ]
  },
  {
   "cell_type": "markdown",
   "id": "c519cd8f",
   "metadata": {},
   "source": [
    "\n",
    "__Problem 4:__ Write a program that takes two strings as input and then checks whether the second string is a rotation of the first string or not. A rotation is when you take a string and move some letters from the beginning to the end, creating a new string.\n",
    "\n",
    "For example, the string \"hello\" can be rotated to create \"elloh\", \"llohe\", \"lohel\", \"ohell\", and \"hello\" again.\n",
    "\n",
    "```csharp\n",
    "Enter the first string: hello\n",
    "Enter the second string: llohe\n",
    "The second string is a rotation of the first string.\n",
    "```\n",
    "\n",
    "```csharp\n",
    "Enter the first string: python\n",
    "Enter the second string: ythonp\n",
    "The second string is a rotation of the first string.\n",
    "```\n",
    "\n",
    "Hint: translate into a problem of finding substring.\n",
    "\n"
   ]
  },
  {
   "cell_type": "code",
   "execution_count": 7,
   "id": "e04e626b",
   "metadata": {},
   "outputs": [
    {
     "name": "stdout",
     "output_type": "stream",
     "text": [
      "YES!!!\n"
     ]
    }
   ],
   "source": [
    "#str1 = \"hello\" # \"elloh\", \"lleho\", \"lohel\", \"ohell\", \"hello\"\n",
    "#str2 = \"elloh\"\n",
    "\n",
    "# Method 1\n",
    "\n",
    "str1 = \"hello\"\n",
    "str2 = \"hello\"\n",
    "length = len(str1)\n",
    "\n",
    "for i in range(length):\n",
    "    str1 = str1[1:] + str1[0] # rotates one letter at a time\n",
    "    if str2 == str1:\n",
    "        print(\"YES!!!\")\n",
    "        break\n",
    "    if i == length - 1:\n",
    "        print(\"NO!!!\")"
   ]
  },
  {
   "cell_type": "code",
   "execution_count": 11,
   "id": "83c17ff1",
   "metadata": {},
   "outputs": [
    {
     "data": {
      "text/plain": [
       "True"
      ]
     },
     "execution_count": 11,
     "metadata": {},
     "output_type": "execute_result"
    }
   ],
   "source": [
    "# Method 2\n",
    "\n",
    "str1 = \"hello\"\n",
    "str2 = \"elloh\"\n",
    "length = len(str1)\n",
    "\n",
    "def check(str1, str2):\n",
    "    for i in range(length):\n",
    "        str1 = str1[1:] + str1[0] # rotates one letter at a time\n",
    "        if str2 == str1:\n",
    "            return True\n",
    "    return False\n",
    "\n",
    "check(str1, str2)"
   ]
  },
  {
   "cell_type": "markdown",
   "id": "80226ac2",
   "metadata": {},
   "source": [
    "***CHECK FOR SUBSTRING***"
   ]
  },
  {
   "cell_type": "code",
   "execution_count": 12,
   "id": "e346c92b",
   "metadata": {},
   "outputs": [
    {
     "data": {
      "text/plain": [
       "-1"
      ]
     },
     "execution_count": 12,
     "metadata": {},
     "output_type": "execute_result"
    }
   ],
   "source": [
    "# Check for substring\n",
    "\n",
    "str1 = \"hello\" #--> str1d = \"hellohello\"\n",
    "str2 = \"llohe\"\n",
    "\n",
    "def check2(str1, str2):\n",
    "    str1d = str1*2\n",
    "    return (str.find(str2, str1d))\n",
    "    \n",
    "check2(str1, str2)"
   ]
  },
  {
   "cell_type": "markdown",
   "id": "b4c7c66a",
   "metadata": {},
   "source": [
    "__Problem 5:__ Write a program that takes a list of numbers as input and then finds the maximum sum of any contiguous subarray of the list. A subarray is a contiguous part of the array that is formed by removing zero or more elements from the beginning and end of the array.\n",
    "\n",
    "For example, given the list $[-2, 1, -3, 4, -1, 2, 1, -5, 4]$, the maximum sum of any contiguous subarray is 6, which is obtained by adding together the subarray $[4, -1, 2, 1]$.\n",
    "\n",
    "```Python\n",
    "Enter a list of numbers, separated by spaces: -2 1 -3 4 -1 2 1 -5 4\n",
    "The maximum sum of any contiguous subarray is 6.\n",
    "```"
   ]
  },
  {
   "cell_type": "code",
   "execution_count": null,
   "id": "a234bf27",
   "metadata": {},
   "outputs": [],
   "source": [
    "# your coder here"
   ]
  },
  {
   "cell_type": "markdown",
   "id": "0d155b96",
   "metadata": {},
   "source": [
    "__Problem 6:__ Write a program that takes a list of integers as input and then removes all duplicates from the list while preserving the order of the remaining elements.\n",
    "\n",
    "For example, given the list $[1, 2, 3, 2, 1, 4, 5, 4, 3]$, the program should output the list $[1, 2, 3, 4, 5]$.\n",
    "\n",
    "```csharp\n",
    "Enter a list of integers, separated by spaces: 1 2 3 2 1 4 5 4 3\n",
    "The list with duplicates removed is [1, 2, 3, 4, 5].\n",
    "```\n"
   ]
  },
  {
   "cell_type": "code",
   "execution_count": null,
   "id": "bfd47d2c",
   "metadata": {},
   "outputs": [],
   "source": [
    "# your code here"
   ]
  },
  {
   "cell_type": "markdown",
   "id": "316945cf",
   "metadata": {},
   "source": [
    "__Problem 7:__ Write a program that takes a sentence as input and then counts the frequency of each word in the sentence, ignoring punctuation and case. The program should then print the words and their frequencies in alphabetical order.\n",
    "\n",
    "```Python\n",
    "Enter a sentence: The quick brown fox jumps over the lazy dog.\n",
    "brown 1\n",
    "dog 1\n",
    "fox 1\n",
    "jumps 1\n",
    "lazy 1\n",
    "over 1\n",
    "quick 1\n",
    "the 2\n",
    "```"
   ]
  },
  {
   "cell_type": "code",
   "execution_count": null,
   "id": "943d6bdb",
   "metadata": {},
   "outputs": [],
   "source": [
    "# your code here "
   ]
  },
  {
   "cell_type": "markdown",
   "id": "8714d86a",
   "metadata": {},
   "source": [
    "__Problem 8:__ Write a program that takes a list of strings as input and then groups the strings by their length. The program should then print the groups of strings in order of increasing length, with the strings are ordered in each group. \n",
    "\n",
    "For example, given the list [\"cat\", \"dog\", \"bird\", \"elephant\", \"lion\", \"tiger\", \"hamster\"], the program should output:\n",
    "\n",
    "```makefile\n",
    "3: cat dog\n",
    "4: bird lion\n",
    "5: tiger\n",
    "7: elephant hamster\n",
    "```\n",
    "\n"
   ]
  },
  {
   "cell_type": "code",
   "execution_count": null,
   "id": "c195fd65",
   "metadata": {},
   "outputs": [],
   "source": [
    "# your code here"
   ]
  },
  {
   "cell_type": "markdown",
   "id": "048b7309",
   "metadata": {},
   "source": [
    "__Problem 9:__ Write a program that takes a list of strings as input and then checks each string to see if it contains at least one digit and at least one uppercase letter. The program should then print the strings that match this pattern.\n",
    "\n",
    "For example, given the list [\"abc\", \"123\", \"Abc\", \"aBc\", \"ABC\", \"a1B2C3\"], the program should output: a1B2C3"
   ]
  },
  {
   "cell_type": "code",
   "execution_count": 21,
   "id": "6a2ef27d",
   "metadata": {},
   "outputs": [
    {
     "name": "stdout",
     "output_type": "stream",
     "text": [
      "a1B2C3\n"
     ]
    }
   ],
   "source": [
    "# look ahead can be used to check without order in regular expressions\n",
    "\n",
    "import re\n",
    "\n",
    "str_list = [\"abc\", \"123\", \"Abc\", \"aBc\", \"ABC\", \"a1B2C3\"]\n",
    "\n",
    "# print out strings with at least 1 digit and at least 1 uppercase\n",
    "\n",
    "pattern_2 = r\".*\\d.*\"\n",
    "pattern_1 = r\".*[A-Z].*\"\n",
    "for string in str_list:\n",
    "    if re.match(pattern_1, string) and re.match(pattern_2, string):\n",
    "        print(string)"
   ]
  },
  {
   "cell_type": "markdown",
   "id": "3078c087",
   "metadata": {},
   "source": [
    "__Problem 10:__ Write a program that reads a text file and then counts the frequency of each word in the file, ignoring punctuation and case. The program should then print the words and their frequencies in alphabetical order.\n",
    "\n",
    "For example, given the text file example.txt with the following contents:\n",
    "```css\n",
    "The quick brown fox jumps over the lazy dog.\n",
    "The dog barks at the moon.\n",
    "```\n",
    "The output should be\n",
    "```css\n",
    "at 1\n",
    "barks 1\n",
    "brown 1\n",
    "dog 2\n",
    "fox 1\n",
    "jumps 1\n",
    "lazy 1\n",
    "moon 1\n",
    "over 1\n",
    "quick 1\n",
    "the 3\n",
    "```"
   ]
  },
  {
   "cell_type": "markdown",
   "id": "18915c6a",
   "metadata": {},
   "source": [
    "__Problem 11:__ Write a program that reads in a text file and then searches for all email addresses in the file. The program should then output the email addresses and the number of times each email address appears in the file, sorted by frequency in descending order.\n",
    "\n",
    "For example, given the text file example.txt with the following contents: \n",
    "\n",
    "```txt\n",
    "\n",
    "To: jane.doe@example.com\n",
    "From: john.smith@example.com\n",
    "Subject: Hello\n",
    "\n",
    "Hi Jane,\n",
    "\n",
    "How are you doing? Let's meet for lunch sometime next week.\n",
    "\n",
    "Best regards,\n",
    "John\n",
    "\n",
    "To: john.smith@example.com\n",
    "From: jane.doe@example.com\n",
    "Subject: Re: Hello\n",
    "\n",
    "Hi John,\n",
    "\n",
    "Lunch sounds great! How about Tuesday at 12:30 at the new Italian place?\n",
    "\n",
    "Best regards,\n",
    "Jane\n",
    "```\n",
    "The program should output \n",
    "```txt\n",
    "jane.doe@example.com 2\n",
    "john.smith@example.com 2\n",
    "```"
   ]
  },
  {
   "cell_type": "markdown",
   "id": "4e28fbc8",
   "metadata": {},
   "source": [
    "__Problem 12:__ Write a program that reads in a text file and then searches for all phone numbers in the file. The program should then output the phone numbers and the number of times each phone number appears in the file, sorted by frequency in descending order."
   ]
  },
  {
   "cell_type": "code",
   "execution_count": null,
   "id": "5c5a9bd6",
   "metadata": {},
   "outputs": [],
   "source": [
    "# Your code here "
   ]
  },
  {
   "cell_type": "markdown",
   "id": "381499f3",
   "metadata": {},
   "source": [
    "__Problem 13:__ Write a program that reads in a text file and do the following things:\n",
    "\n",
    "(a) Find all the characters that appear in the file.\n",
    "\n",
    "(b) Build an encoding book by a random permutation. Then encode the who file into the new file, name \"shuffled.txt\". NOTE: in Python, one can shuffle a list using the following code:\n",
    "```Python\n",
    "shuffled_list = random.shuffle(original_list) \n",
    "```\n",
    "\n",
    "(c) Decode the \"shuffled.txt\" back to the original content and save it into \"unshuffled.txt\". NOTE: make sure that \"unshuffled.txt\" is the same as the original file."
   ]
  },
  {
   "cell_type": "code",
   "execution_count": null,
   "id": "79a44dcf",
   "metadata": {},
   "outputs": [],
   "source": [
    "# your code here"
   ]
  },
  {
   "cell_type": "markdown",
   "id": "bd865803",
   "metadata": {},
   "source": [
    "__Problem 14:__ Write a program that reads in a text file and do the following things:\n",
    "\n",
    "(a) Find all the characters that appear in the file.\n",
    "\n",
    "\n",
    "(b) In computer programming languages, each character is represented by an ASCII (American Standard Code for Information Interchange) code. In python, the ASCII code of each character (say 'a') can be evaluated using \"ord\" function\n",
    "\n",
    "```Python\n",
    "ord('a')\n",
    "```\n",
    "and one can convert an ASCII code into the character by\n",
    "\n",
    "```Python\n",
    "chr(c)\n",
    "```\n",
    "Build the encoding book by assigning each character by its ASCII code plus 1. Then encode the file into \"asciipone.txt\".\n",
    "\n",
    "(c) Decode the file \"asciipone.txt\" into \"unascii.txt'. NOTE: make sure that \"unascii.txt\" is the same as the original file."
   ]
  },
  {
   "cell_type": "markdown",
   "id": "c68164cc",
   "metadata": {},
   "source": [
    "***EXTRA PRACTICE***"
   ]
  },
  {
   "cell_type": "markdown",
   "id": "70211af8",
   "metadata": {},
   "source": [
    "   ***CHECK FOR SUBSTRING***"
   ]
  },
  {
   "cell_type": "code",
   "execution_count": 15,
   "id": "2ffa8105",
   "metadata": {},
   "outputs": [
    {
     "data": {
      "text/plain": [
       "True"
      ]
     },
     "execution_count": 15,
     "metadata": {},
     "output_type": "execute_result"
    }
   ],
   "source": [
    "# Check for substring\n",
    "\n",
    "str1 = \"hello\" #--> str1d = \"hellohello\"\n",
    "str2 = \"llohe\"\n",
    "\n",
    "def check2(str1, str2):\n",
    "    str1d = str1*2\n",
    "    return (str.find(str1d, str2) >= 0 and len(str1) == len(str2))\n",
    "    \n",
    "check2(str1, str2)"
   ]
  }
 ],
 "metadata": {
  "kernelspec": {
   "display_name": "Python 3 (ipykernel)",
   "language": "python",
   "name": "python3"
  },
  "language_info": {
   "codemirror_mode": {
    "name": "ipython",
    "version": 3
   },
   "file_extension": ".py",
   "mimetype": "text/x-python",
   "name": "python",
   "nbconvert_exporter": "python",
   "pygments_lexer": "ipython3",
   "version": "3.9.13"
  }
 },
 "nbformat": 4,
 "nbformat_minor": 5
}
