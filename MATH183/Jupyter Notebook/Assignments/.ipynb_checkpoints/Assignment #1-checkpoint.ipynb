{
 "cells": [
  {
   "cell_type": "markdown",
   "id": "47a3135f",
   "metadata": {},
   "source": [
    "***Andrew Plum***"
   ]
  },
  {
   "cell_type": "markdown",
   "id": "c195343a",
   "metadata": {},
   "source": [
    "***MATH 183***"
   ]
  },
  {
   "cell_type": "markdown",
   "id": "70340280",
   "metadata": {},
   "source": [
    "***Assignment #1***"
   ]
  },
  {
   "cell_type": "markdown",
   "id": "747d66a3",
   "metadata": {},
   "source": [
    "***1/27/2023***"
   ]
  },
  {
   "cell_type": "markdown",
   "id": "afdc66cb",
   "metadata": {},
   "source": [
    "***Check-out Ticket 0***"
   ]
  },
  {
   "cell_type": "code",
   "execution_count": 2,
   "id": "e3f2f9ef",
   "metadata": {},
   "outputs": [],
   "source": [
    "# Ex 1: Install Python and Jupyter Notebook in your computer\n",
    "\n",
    "# Done!"
   ]
  },
  {
   "cell_type": "code",
   "execution_count": 16,
   "id": "9bb15d58",
   "metadata": {},
   "outputs": [
    {
     "name": "stdout",
     "output_type": "stream",
     "text": [
      "My favorite number is 7\n",
      "My least favorite number is -29\n"
     ]
    }
   ],
   "source": [
    "# Ex 2: Play with the “print” command in Python, \n",
    "# especially with complicated strings.\n",
    "\n",
    "my_fav_num = 7\n",
    "my_string = \"My favorite number is \"\n",
    "my_fav_num = str(my_fav_num)\n",
    "my_string = my_string + my_fav_num\n",
    "print(my_string)\n",
    "my_string_2 = \"My least favorite number is\"\n",
    "my_least_num = -29\n",
    "print(\"%s %s\" % (my_string_2, my_least_num))"
   ]
  },
  {
   "cell_type": "code",
   "execution_count": 53,
   "id": "274969d3",
   "metadata": {},
   "outputs": [
    {
     "name": "stdout",
     "output_type": "stream",
     "text": [
      "1)  10\n",
      "2)  999.0\n",
      "3)  0.5\n",
      "4)  15.0\n",
      "5)  17\n",
      "6)  8\n",
      "7)  36\n",
      "8)  60\n",
      "9)  8.0\n",
      "10)  3.0\n",
      "11)  256.0\n"
     ]
    }
   ],
   "source": [
    "# Ex 3: Play with the “math” package in Python: \n",
    "# work with 10 built-in function of the math package.\n",
    "\n",
    "import math\n",
    "\n",
    "print(\"1) \", math.comb(5, 3))\n",
    "print(\"2) \", math.fabs(-999))\n",
    "print(\"3) \", math.fmod(5, 1.5))\n",
    "print(\"4) \", math.fsum([1, 2, 3, 4, 5]))\n",
    "print(\"5) \", math.gcd(2023, 102))\n",
    "print(\"6) \", math.isqrt(64))\n",
    "print(\"7) \", math.lcm(9, 4))\n",
    "print(\"8) \", math.perm(5, 3))\n",
    "print(\"9) \", math.log2(256))\n",
    "print(\"10) \", math.log10(1000))\n",
    "print(\"11) \", math.pow(2,8))"
   ]
  },
  {
   "cell_type": "code",
   "execution_count": 64,
   "id": "8999f7ad",
   "metadata": {},
   "outputs": [
    {
     "name": "stdout",
     "output_type": "stream",
     "text": [
      "A =  [[1 2 3]\n",
      " [4 5 6]]\n",
      "A_T =  [[1 4]\n",
      " [2 5]\n",
      " [3 6]]\n",
      "A_TA =  [[17 22 27]\n",
      " [22 29 36]\n",
      " [27 36 45]]\n"
     ]
    }
   ],
   "source": [
    "# Ex 4: Play with “numpy” packapge: \n",
    "# define a matrix 𝐴 of size 2 × 3. Find 𝐴𝑇𝐴.\n",
    "\n",
    "import numpy as np\n",
    "\n",
    "A = np.array([[1, 2, 3], \n",
    "              [4, 5, 6]])\n",
    "A_T = np.transpose(A)\n",
    "print(\"A = \", A)\n",
    "print(\"A_T = \", A_T)\n",
    "result = np.dot(A_T, A)\n",
    "print(\"A_TA = \", result)"
   ]
  },
  {
   "cell_type": "markdown",
   "id": "6ace0494",
   "metadata": {},
   "source": [
    "***Check-out Ticket 1***"
   ]
  },
  {
   "cell_type": "code",
   "execution_count": 121,
   "id": "46330d0f",
   "metadata": {},
   "outputs": [
    {
     "name": "stdout",
     "output_type": "stream",
     "text": [
      "385\n"
     ]
    }
   ],
   "source": [
    "# Write down the program to compute \n",
    "# 1^2 + 2^2 + ⋯ + 𝑛^2, where 𝑛 is a given integer.\n",
    "\n",
    "def sum_up_to_n_sqrd(n):\n",
    "    s = 0\n",
    "    for i in range(n + 1):\n",
    "        s = s + (i*i)\n",
    "    return s\n",
    "\n",
    "n = 10\n",
    "print(sum_up_to_n_sqrd(n))"
   ]
  },
  {
   "cell_type": "markdown",
   "id": "42eb268f",
   "metadata": {},
   "source": [
    "***Check-out Ticket 2***"
   ]
  },
  {
   "cell_type": "code",
   "execution_count": 85,
   "id": "4c24a85f",
   "metadata": {},
   "outputs": [
    {
     "name": "stdout",
     "output_type": "stream",
     "text": [
      "Bananas\n",
      "['Huckleberries', 'Bananas', 'Cherries']\n"
     ]
    }
   ],
   "source": [
    "# Problem 1: \n",
    "# 1. Create a list of your favorite fruits. \n",
    "# 2. Add a new fruit to the list. \n",
    "# 3. Remove a fruit from the list. \n",
    "# 4. Print out the second to last elements\n",
    "\n",
    "fav_fruits = [\"Huckleberries\", \"Cherries\", \"Blueberries\"]\n",
    "fav_fruits.insert(1, \"Bananas\")\n",
    "fav_fruits.remove(\"Blueberries\")\n",
    "print(fav_fruits[len(fav_fruits)-2])\n",
    "print(fav_fruits)"
   ]
  },
  {
   "cell_type": "code",
   "execution_count": 86,
   "id": "dde7fa88",
   "metadata": {
    "scrolled": true
   },
   "outputs": [
    {
     "name": "stdout",
     "output_type": "stream",
     "text": [
      "['James', 'Xander', 'Austin', 'Joseph', 'Robert', 'Ethan']\n"
     ]
    }
   ],
   "source": [
    "# Problem 2: \n",
    "# Create a program that takes a list of words \n",
    "# and returns a new list with only the words\n",
    "# that have a length of 5 or more.\n",
    "\n",
    "def words_more_than_4(words):\n",
    "    long_words = []\n",
    "    for word in words:\n",
    "        if len(word) >= 5:\n",
    "            long_words.append(word)\n",
    "    return long_words\n",
    "\n",
    "words = ['James', 'Xander', 'Jake', 'Austin', 'Cole', 'Joseph', 'Robert', 'Will', 'Ethan']\n",
    "print(words_more_than_4(words))"
   ]
  },
  {
   "cell_type": "code",
   "execution_count": 120,
   "id": "e52f5cd7",
   "metadata": {},
   "outputs": [
    {
     "name": "stdout",
     "output_type": "stream",
     "text": [
      "('Hello world!', 12)\n"
     ]
    }
   ],
   "source": [
    "# Problem 3: \n",
    "# Create a function that takes in a string and \n",
    "# returns a tuple of the string and its length.\n",
    "\n",
    "def return_string_and_size(s):\n",
    "    s_tuple = (s, len(s))\n",
    "    return s_tuple\n",
    "    \n",
    "s = \"Hello world!\"\n",
    "print(return_string_and_size(s))"
   ]
  },
  {
   "cell_type": "code",
   "execution_count": 105,
   "id": "831c5ba1",
   "metadata": {},
   "outputs": [
    {
     "name": "stdout",
     "output_type": "stream",
     "text": [
      "giraffe\n",
      "('lion', 'tiger', 'giraffe', 'elephant', 'monkey', 'rhinoceros')\n",
      "['lion', 'tiger', 'giraffe', 'elephant', 'monkey', 'rhinoceros']\n"
     ]
    }
   ],
   "source": [
    "# Problem 2:\n",
    "# 1. Create a tuple called zoo that contains the \n",
    "# animals ‘lion’, ‘tiger’, ‘giraffe’, ‘elephant’, \n",
    "# and‘monkey’.\n",
    "# 2. Print the third element of the tuple.\n",
    "# 3. Add the animal ‘rhinoceros’ to the tuple. \n",
    "# Hint: You can’t add elements to a tuple, \n",
    "# so you’ll need to create a new tuple.\n",
    "# 4. Convert the new_zoo tuple to a list \n",
    "# and save it as zoo_list\n",
    "\n",
    "zoo = (\"lion\", \"tiger\", \"giraffe\", \"elephant\", \"monkey\")\n",
    "print(zoo[2])\n",
    "new_zoo = zoo + (\"rhinoceros\",)\n",
    "print(new_zoo)\n",
    "zoo_list = list(new_zoo)\n",
    "print(zoo_list)"
   ]
  },
  {
   "cell_type": "markdown",
   "id": "50e73298",
   "metadata": {},
   "source": [
    "***Check-out Ticket 3***"
   ]
  },
  {
   "cell_type": "code",
   "execution_count": 122,
   "id": "0f4f2f65",
   "metadata": {},
   "outputs": [
    {
     "name": "stdout",
     "output_type": "stream",
     "text": [
      "{1: 3, 2: 3, 3: 1, 4: 1, 5: 1}\n"
     ]
    }
   ],
   "source": [
    "# Problem: Given a list of integers, \n",
    "# create a new dictionary that stores \n",
    "# the frequency of each integer in the list.\n",
    "# Hint: need to define a function\n",
    "# def\n",
    "# Expect:\n",
    "# nums = [1, 2, 3, 2, 4, 1, 5, 2, 1]\n",
    "# count_frequency(nums)\n",
    "# Output: {1: 3, 2: 3, 3: 1, 4: 1, 5: 1}\n",
    "\n",
    "def count_frequency(param_list):\n",
    "    frequency = {}\n",
    "    for num in param_list:\n",
    "        if num in frequency:\n",
    "            frequency[num] += 1\n",
    "        else:\n",
    "            frequency[num] = 1\n",
    "    return frequency\n",
    "\n",
    "nums = [1, 2, 3, 2, 4, 1, 5, 2, 1]\n",
    "print(count_frequency(nums))"
   ]
  }
 ],
 "metadata": {
  "kernelspec": {
   "display_name": "Python 3 (ipykernel)",
   "language": "python",
   "name": "python3"
  },
  "language_info": {
   "codemirror_mode": {
    "name": "ipython",
    "version": 3
   },
   "file_extension": ".py",
   "mimetype": "text/x-python",
   "name": "python",
   "nbconvert_exporter": "python",
   "pygments_lexer": "ipython3",
   "version": "3.9.13"
  }
 },
 "nbformat": 4,
 "nbformat_minor": 5
}
