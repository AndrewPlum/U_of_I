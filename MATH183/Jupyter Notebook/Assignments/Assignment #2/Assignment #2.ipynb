{
 "cells": [
  {
   "cell_type": "markdown",
   "id": "3e4799a6",
   "metadata": {},
   "source": [
    "***Andrew Plum***"
   ]
  },
  {
   "cell_type": "markdown",
   "id": "fcf5c824",
   "metadata": {},
   "source": [
    "***Math 183***"
   ]
  },
  {
   "cell_type": "markdown",
   "id": "cc630322",
   "metadata": {},
   "source": [
    "***Assignment #2***"
   ]
  },
  {
   "cell_type": "markdown",
   "id": "a13d5d23",
   "metadata": {},
   "source": [
    "***2/8/2023***"
   ]
  },
  {
   "cell_type": "markdown",
   "id": "8c51b891",
   "metadata": {},
   "source": [
    "__Problem 1:__ Write a program to let a user repeatedly input two numbers $a,b$. \n",
    "\n",
    "- Return the quotient $\\frac{a}{b}$ if possible. Otherwise, raise the error message \"Watch out: b==0!!!\" and exit the program. \n",
    "\n",
    "- Ask the user whether they want to continue. If yes, repeat the above step. Otherwise, exit the program.\n"
   ]
  },
  {
   "cell_type": "code",
   "execution_count": 3,
   "id": "ac1bbe30",
   "metadata": {},
   "outputs": [
    {
     "name": "stdout",
     "output_type": "stream",
     "text": [
      "Do you want to calculate a quotient, yes or no (enter in lower case): yes\n",
      "Enter number for a: 435\n",
      "Enter number for b: 46\n",
      "a/b = 9.456522\n",
      "Do you want to calculate a quotient, yes or no (enter in lower case): yes\n",
      "Enter number for a: 0\n",
      "Enter number for b: 234\n",
      "a/b = 0.000000\n",
      "Do you want to calculate a quotient, yes or no (enter in lower case): yes\n",
      "Enter number for a: 000\n",
      "Enter number for b: 435\n",
      "a/b = 0.000000\n",
      "Do you want to calculate a quotient, yes or no (enter in lower case): yes\n",
      "Enter number for a: 435\n",
      "Enter number for b: 2\n",
      "a/b = 217.500000\n",
      "Do you want to calculate a quotient, yes or no (enter in lower case): yes\n",
      "Enter number for a: 48\n",
      "Enter number for b: 2314\n",
      "a/b = 0.020743\n",
      "Do you want to calculate a quotient, yes or no (enter in lower case): no\n",
      "Program ended\n"
     ]
    }
   ],
   "source": [
    "def calculate_quotient():\n",
    "    x = 1\n",
    "    while x == 1:\n",
    "        repeat = \"\"\n",
    "        while repeat != \"yes\" and repeat != \"no\":\n",
    "            repeat = input(\"Do you want to calculate a quotient, yes or no (enter in lower case): \")\n",
    "        if repeat == \"no\":\n",
    "            print(\"Program ended\")\n",
    "            break\n",
    "        a = input(\"Enter number for a: \")\n",
    "        b = input(\"Enter number for b: \")\n",
    "        a = int(a)\n",
    "        b = int(b)\n",
    "        if b == 0:\n",
    "            raise ValueError(\"Watch out: b == 0!!!\")\n",
    "        else:\n",
    "            print(\"a/b = %f\" % (a/b))\n",
    "            \n",
    "calculate_quotient()"
   ]
  },
  {
   "cell_type": "markdown",
   "id": "d0612d14",
   "metadata": {},
   "source": [
    "__Problem 2:__ Given a string. Write a function to generate a dictionary whose keys are characters of the string, whose values are the keys' frequency in the string. \n",
    "\n",
    "__Hint:__\n",
    "\n",
    "```Python\n",
    "    def string_to_dict(mystr):\n",
    "       #code here\n",
    "       return  mydict\n",
    "```\n",
    "Expectation:\n",
    "```Python\n",
    "    mystr = \"How are you doing?\"\n",
    "    string_to_dict(mystr) #{'d': 1, 'a': 1, 'y': 1, 'i': 1, 'n': 1, 'e': 1, ' ': 3, 'r': 1, 'H': 1, '?': 1, 'o': 3, 'u': 1, 'w': 1, 'g': 1}\n",
    "```\n"
   ]
  },
  {
   "cell_type": "code",
   "execution_count": 2,
   "id": "ce9c7767",
   "metadata": {},
   "outputs": [
    {
     "name": "stdout",
     "output_type": "stream",
     "text": [
      "{'H': 1, 'o': 3, 'w': 1, ' ': 3, 'a': 1, 'r': 1, 'e': 1, 'y': 1, 'u': 1, 'd': 1, 'i': 1, 'n': 1, 'g': 1, '?': 1}\n"
     ]
    }
   ],
   "source": [
    "# Note: Must print the dictionary return by string_to_dict\n",
    "\n",
    "def string_to_dict(mystr):\n",
    "    mydict = {}\n",
    "    count = 0\n",
    "    for i in mystr:\n",
    "        if i in mydict:\n",
    "            mydict[i] += 1\n",
    "        else:\n",
    "            mydict[i] = 1\n",
    "    return mydict\n",
    "    \n",
    "mystr = \"How are you doing?\"\n",
    "mydict = string_to_dict(mystr)\n",
    "print(mydict)"
   ]
  },
  {
   "cell_type": "markdown",
   "id": "f6ec66f8",
   "metadata": {},
   "source": [
    "__Problem 3:__ Given a string, extract all the email adresses and phone numbers that it has. \n",
    "\n",
    "NOTE: \n",
    "- email needs a domain, like: gmail.com, uidaho.edu. Example: bob@gmail.com, donal@uidaho.edu, etc.\n",
    "\n",
    "- a phone number has 10 digits, they can be seperated into groups of 3,3,4 digits. There may be a hyphen between the group. The first group may have the parenthesis. For examp, the following format are acceptable: (1) xxx-xxx-xxxx, (2) (xxx)-xxx-xxxx, (3) (xxx)xxxxxxx, etc.\n",
    "\n",
    "__Hint:__\n",
    "\n",
    "```Python\n",
    "    def phone_email(mystr):\n",
    "        #code here\n",
    "        return phone_list, email_list\n",
    "```\n",
    "__Expection:__\n",
    "\n",
    "```Python\n",
    "mystr = \"\"\"Nick sent me his email yesterday, here it is nick@gmail.com. I ask Tom and Cadie their emails too. However, they didn't give me their email addresses. They gave me their phone numbers instead; (208)-882-3333 and 2888880001\"\"\"\n",
    "\n",
    "phone_list, email_list = phone_email(mystr)\n",
    "print(phone_list) #[\"(208)-882-3333\", \"2888880001\"]\n",
    "print(email_list) #[\"nick@gmail.com\"]\n",
    "```\n"
   ]
  },
  {
   "cell_type": "code",
   "execution_count": 3,
   "id": "a266e3e3",
   "metadata": {},
   "outputs": [
    {
     "name": "stdout",
     "output_type": "stream",
     "text": [
      "Phones: ['(208)-882-3333', '2888880001']\n",
      "Emails: ['nick@gmail.com']\n"
     ]
    }
   ],
   "source": [
    "def extract_email_phone(mystr):\n",
    "    \n",
    "    import re\n",
    "    \n",
    "    phone_pattern = re.compile(r\"\\(?\\d{3}\\)?[-,' ']?\\d{3}[-,' ']?\\d{4}\")\n",
    "    email_pattern = re.compile(r\"[\\w]+\\.?[\\w]+@[\\w]+\\.?[\\w]+\")\n",
    "    phone_list = re.findall(phone_pattern, mystr)\n",
    "    email_list = re.findall(email_pattern, mystr)\n",
    "    return email_list, phone_list\n",
    "\n",
    "mystr = \"\"\"Nick sent me his email yesterday, here it is nick@gmail.com. \n",
    "I ask Tom and Cadie their emails too. However, they didn't give me their email addresses. \n",
    "They gave me their phone numbers instead; (208)-882-3333 and 2888880001\"\"\"\n",
    "\n",
    "emails, phones = extract_email_phone(mystr)\n",
    "print(\"Phones:\", phones)\n",
    "print(\"Emails:\", emails)"
   ]
  },
  {
   "cell_type": "markdown",
   "id": "a6874bb3",
   "metadata": {},
   "source": [
    "__Problem 4:__ Open the file \"tiny_shakespears.txt\". Write a function to read all the characters in the file. Save them as a sorted list.\n",
    "\n",
    "```Python\n",
    "def shakespears_char(file_name):\n",
    "    # your code here\n",
    "    return charlist\n",
    "charlist = shakespears_char(\"tiny_shakespears.txt\")\n",
    "print(charlist) \n",
    "```\n",
    "\n",
    "Expected result: \n",
    "```Python\n",
    "['\\n', ' ', '!', '$', '&', \"'\", ',', '-', '.', '3', ':', ';', '?', 'A', 'B', 'C', 'D', 'E', 'F', 'G', 'H', 'I', 'J', 'K', 'L', 'M', 'N', 'O', 'P', 'Q', 'R', 'S', 'T', 'U', 'V', 'W', 'X', 'Y', 'Z', 'a', 'b', 'c', 'd', 'e', 'f', 'g', 'h', 'i', 'j', 'k', 'l', 'm', 'n', 'o', 'p', 'q', 'r', 's', 't', 'u', 'v', 'w', 'x', 'y', 'z']\n",
    "```\n"
   ]
  },
  {
   "cell_type": "code",
   "execution_count": 2,
   "id": "f2431cea",
   "metadata": {},
   "outputs": [
    {
     "name": "stdout",
     "output_type": "stream",
     "text": [
      "['\\n', ' ', '!', '$', '&', \"'\", ',', '-', '.', '3', ':', ';', '?', 'A', 'B', 'C', 'D', 'E', 'F', 'G', 'H', 'I', 'J', 'K', 'L', 'M', 'N', 'O', 'P', 'Q', 'R', 'S', 'T', 'U', 'V', 'W', 'X', 'Y', 'Z', 'a', 'b', 'c', 'd', 'e', 'f', 'g', 'h', 'i', 'j', 'k', 'l', 'm', 'n', 'o', 'p', 'q', 'r', 's', 't', 'u', 'v', 'w', 'x', 'y', 'z']\n"
     ]
    }
   ],
   "source": [
    "def shakespeare_char(file_name):\n",
    "    with open(file_name, 'r') as f:\n",
    "        data = f.read()\n",
    "    charlist = sorted(list(set(data)))\n",
    "    return charlist\n",
    "\n",
    "charlist = shakespeare_char(\"tiny_shakespeare.txt\")\n",
    "print(charlist)"
   ]
  },
  {
   "cell_type": "markdown",
   "id": "172c220b",
   "metadata": {},
   "source": [
    "__Problem 5:__ Use the list in the previous problem. Create a dictionary whose keys are characters and values are the orders of the keys.\n",
    "\n",
    "NOTE: You dictionary be considered as a codebook, which you can use to encode your text file into numbers (instead of characters).\n",
    "\n",
    "```Python \n",
    "def code_book(charlist):\n",
    "    # Your code here  \n",
    "code_book(charlist)\n",
    "```\n",
    "__Expected result:__\n",
    "\n",
    "{'\\n': 0, ' ': 1, '!': 2, '$': 3, '&': 4, \"'\": 5, ',': 6, '-': 7, '.': 8, '3': 9, ':': 10, ';': 11, '?': 12, 'A': 13, 'B': 14, 'C': 15, 'D': 16, 'E': 17, 'F': 18, 'G': 19, 'H': 20, 'I': 21, 'J': 22, 'K': 23, 'L': 24, 'M': 25, 'N': 26, 'O': 27, 'P': 28, 'Q': 29, 'R': 30, 'S': 31, 'T': 32, 'U': 33, 'V': 34, 'W': 35, 'X': 36, 'Y': 37, 'Z': 38, 'a': 39, 'b': 40, 'c': 41, 'd': 42, 'e': 43, 'f': 44, 'g': 45, 'h': 46, 'i': 47, 'j': 48, 'k': 49, 'l': 50, 'm': 51, 'n': 52, 'o': 53, 'p': 54, 'q': 55, 'r': 56, 's': 57, 't': 58, 'u': 59, 'v': 60, 'w': 61, 'x': 62, 'y': 63, 'z': 64}\n"
   ]
  },
  {
   "cell_type": "code",
   "execution_count": 3,
   "id": "dcd6170c",
   "metadata": {},
   "outputs": [
    {
     "name": "stdout",
     "output_type": "stream",
     "text": [
      "{'\\n': 0, ' ': 1, '!': 2, '$': 3, '&': 4, \"'\": 5, ',': 6, '-': 7, '.': 8, '3': 9, ':': 10, ';': 11, '?': 12, 'A': 13, 'B': 14, 'C': 15, 'D': 16, 'E': 17, 'F': 18, 'G': 19, 'H': 20, 'I': 21, 'J': 22, 'K': 23, 'L': 24, 'M': 25, 'N': 26, 'O': 27, 'P': 28, 'Q': 29, 'R': 30, 'S': 31, 'T': 32, 'U': 33, 'V': 34, 'W': 35, 'X': 36, 'Y': 37, 'Z': 38, 'a': 39, 'b': 40, 'c': 41, 'd': 42, 'e': 43, 'f': 44, 'g': 45, 'h': 46, 'i': 47, 'j': 48, 'k': 49, 'l': 50, 'm': 51, 'n': 52, 'o': 53, 'p': 54, 'q': 55, 'r': 56, 's': 57, 't': 58, 'u': 59, 'v': 60, 'w': 61, 'x': 62, 'y': 63, 'z': 64}\n"
     ]
    }
   ],
   "source": [
    "def code_book(charlist):\n",
    "    my_code_book = {c:i for i, c in enumerate(charlist)}\n",
    "    return my_code_book\n",
    "\n",
    "my_code_book = code_book(charlist)\n",
    "print(my_code_book)"
   ]
  },
  {
   "cell_type": "markdown",
   "id": "f9179021",
   "metadata": {},
   "source": [
    "__Problem 6:__ Use the codebook in the above problem to encode the file \"tiny_shakespeare.txt\" to \"encrypted_shakespeare.txt\".\n",
    "\n",
    "```Python\n",
    "def encrypt(file_name):\n",
    "    # Your code here\n",
    "```    \n",
    "See the file \"Linh_encrypted_shakespeare.txt\" (posted in the announcement) for result.\n"
   ]
  },
  {
   "cell_type": "code",
   "execution_count": 4,
   "id": "ca63d366",
   "metadata": {},
   "outputs": [
    {
     "name": "stdout",
     "output_type": "stream",
     "text": [
      "[18, 47, 56, 57, 58, 1, 15, 47, 58, 47, 64, 43, 52, 10, 0, 14, 43, 44, 53, 56, 43, 1, 61, 43, 1, 54, 56, 53, 41, 43, 43, 42, 1, 39, 52, 63, 1, 44, 59, 56, 58, 46, 43, 56, 6, 1, 46, 43, 39, 56, 1, 51, 43, 1, 57, 54, 43, 39, 49, 8, 0, 0, 13, 50, 50, 10, 0, 31, 54, 43, 39, 49, 6, 1, 57, 54, 43, 39, 49, 8, 0, 0, 18, 47, 56, 57, 58, 1, 15, 47, 58, 47, 64, 43, 52, 10, 0, 37, 53, 59]\n"
     ]
    }
   ],
   "source": [
    "def encrypt(file_name, new_file):\n",
    "    with open(file_name, 'r') as f:\n",
    "        data = f.read()\n",
    "    data_list = [my_code_book[c] for c in data]\n",
    "    data_str = str(data_list)\n",
    "    with open(new_file, 'w') as f:\n",
    "        f.write(data_str)\n",
    "    return data_list\n",
    "\n",
    "data_list = encrypt(\"tiny_shakespeare.txt\", \"encrypted_tiny_shakespeare.txt\")\n",
    "print(data_list[:100])"
   ]
  },
  {
   "cell_type": "markdown",
   "id": "04b8e1c5",
   "metadata": {},
   "source": [
    "__Problem 7:__ Write the code to convert the encypted file back into the original file."
   ]
  },
  {
   "cell_type": "code",
   "execution_count": 1,
   "id": "4a702600",
   "metadata": {},
   "outputs": [
    {
     "ename": "NameError",
     "evalue": "name 'my_code_book' is not defined",
     "output_type": "error",
     "traceback": [
      "\u001b[1;31m---------------------------------------------------------------------------\u001b[0m",
      "\u001b[1;31mNameError\u001b[0m                                 Traceback (most recent call last)",
      "\u001b[1;32m~\\AppData\\Local\\Temp\\ipykernel_34456\\3872705263.py\u001b[0m in \u001b[0;36m<module>\u001b[1;34m\u001b[0m\n\u001b[0;32m     14\u001b[0m     \u001b[1;32mreturn\u001b[0m \u001b[0mdecrypted_data_str\u001b[0m\u001b[1;33m\u001b[0m\u001b[1;33m\u001b[0m\u001b[0m\n\u001b[0;32m     15\u001b[0m \u001b[1;33m\u001b[0m\u001b[0m\n\u001b[1;32m---> 16\u001b[1;33m \u001b[0mtext\u001b[0m \u001b[1;33m=\u001b[0m \u001b[0mdecrypt\u001b[0m\u001b[1;33m(\u001b[0m\u001b[1;34m\"encrypted_tiny_shakespeare.txt\"\u001b[0m\u001b[1;33m,\u001b[0m \u001b[1;34m\"decrypted_tiny_shakespeare.txt\"\u001b[0m\u001b[1;33m,\u001b[0m \u001b[0mmy_code_book\u001b[0m\u001b[1;33m)\u001b[0m\u001b[1;33m\u001b[0m\u001b[1;33m\u001b[0m\u001b[0m\n\u001b[0m\u001b[0;32m     17\u001b[0m \u001b[0mprint\u001b[0m\u001b[1;33m(\u001b[0m\u001b[0mtext\u001b[0m\u001b[1;33m[\u001b[0m\u001b[1;33m:\u001b[0m\u001b[1;36m1000\u001b[0m\u001b[1;33m]\u001b[0m\u001b[1;33m)\u001b[0m\u001b[1;33m\u001b[0m\u001b[1;33m\u001b[0m\u001b[0m\n",
      "\u001b[1;31mNameError\u001b[0m: name 'my_code_book' is not defined"
     ]
    }
   ],
   "source": [
    "# Note: Uses my_code_book which is a dictionary from problem 5\n",
    "# Note: A portion of the decrypted text is printed to see\n",
    "\n",
    "def decrypt(encrypted_file_name, decrypted_file_name, my_code_book):\n",
    "    with open(encrypted_file_name, 'r') as ef:\n",
    "        encrypted_data = ef.read()\n",
    "    encrypted_data_list = encrypted_data.strip(\"][\").split(\", \")\n",
    "    decrypted_data_str = \"\"\n",
    "    keys_list = list(my_code_book.keys())\n",
    "    for i in encrypted_data_list:\n",
    "        decrypted_data_str += keys_list[int(i)]\n",
    "    with open(decrypted_file_name, 'w') as f:\n",
    "        f.write(decrypted_data_str)\n",
    "    return decrypted_data_str\n",
    "\n",
    "text = decrypt(\"encrypted_tiny_shakespeare.txt\", \"decrypted_tiny_shakespeare.txt\", my_code_book)\n",
    "print(text[:1000])\n"
   ]
  }
 ],
 "metadata": {
  "kernelspec": {
   "display_name": "Python 3 (ipykernel)",
   "language": "python",
   "name": "python3"
  },
  "language_info": {
   "codemirror_mode": {
    "name": "ipython",
    "version": 3
   },
   "file_extension": ".py",
   "mimetype": "text/x-python",
   "name": "python",
   "nbconvert_exporter": "python",
   "pygments_lexer": "ipython3",
   "version": "3.9.13"
  }
 },
 "nbformat": 4,
 "nbformat_minor": 5
}
