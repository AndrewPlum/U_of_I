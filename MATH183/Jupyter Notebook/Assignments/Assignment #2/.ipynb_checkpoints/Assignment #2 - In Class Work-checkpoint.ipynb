{
 "cells": [
  {
   "cell_type": "markdown",
   "id": "67ccc64a",
   "metadata": {},
   "source": [
    "***Andrew Plum***"
   ]
  },
  {
   "cell_type": "markdown",
   "id": "c1bf4b87",
   "metadata": {},
   "source": [
    "***Math 183***"
   ]
  },
  {
   "cell_type": "markdown",
   "id": "97c85b1a",
   "metadata": {},
   "source": [
    "***Assignment #2***"
   ]
  },
  {
   "cell_type": "markdown",
   "id": "ceee75bc",
   "metadata": {},
   "source": [
    "***1/30/2023***"
   ]
  },
  {
   "cell_type": "markdown",
   "id": "fe203d3e",
   "metadata": {},
   "source": [
    "***Check-out Ticket 4***"
   ]
  },
  {
   "cell_type": "code",
   "execution_count": 3,
   "id": "f49e3e5b",
   "metadata": {},
   "outputs": [
    {
     "name": "stdout",
     "output_type": "stream",
     "text": [
      "Enter number for a: 3554\n",
      "Enter number for b: 234\n",
      "a/b = 15.188034\n",
      "Enter number for a: 54\n",
      "Enter number for b: 324\n",
      "a/b = 0.166667\n",
      "Enter number for a: 3245\n",
      "Enter number for b: 65546\n",
      "a/b = 0.049507\n",
      "Enter number for a: 76\n",
      "Enter number for b: 4434\n",
      "a/b = 0.017140\n",
      "Enter number for a: 546546\n",
      "Enter number for b: 7\n",
      "a/b = 78078.000000\n",
      "Enter number for a: 56\n",
      "Enter number for b: 345\n",
      "a/b = 0.162319\n",
      "Enter number for a: 43546\n",
      "Enter number for b: I'm done!\n",
      "Program ended\n"
     ]
    }
   ],
   "source": [
    "# Problem: \n",
    "# Write a program to let a user repeatedly input two numbers 𝑎, 𝑏.\n",
    "# • Return the quotient 𝑎/𝑏 if possible. \n",
    "# Otherwise, raise the error message “Watch out: b==0!!!” \n",
    "# and exit the program.\n",
    "# • Exit the program if the user inputs “I’m done!”.\n",
    "\n",
    "def calculate_quotient():\n",
    "    x = 1\n",
    "    while x == 1:\n",
    "        a = input(\"Enter number for a: \")\n",
    "        if a == \"I'm done!\":\n",
    "            print(\"Program ended\")\n",
    "            break\n",
    "        b = input(\"Enter number for b: \")\n",
    "        if b == \"I'm done!\":\n",
    "            print(\"Program ended\")\n",
    "            break\n",
    "        else:\n",
    "            a = int(a)\n",
    "            b = int(b)\n",
    "            if b == 0:\n",
    "                raise ValueError(\"Watch out: b == 0!\")\n",
    "            else:\n",
    "                print(\"a/b = %f\" % (a/b))\n",
    "            \n",
    "calculate_quotient()"
   ]
  },
  {
   "cell_type": "markdown",
   "id": "0063c46d",
   "metadata": {},
   "source": [
    "***Check-out Ticket 5***"
   ]
  },
  {
   "cell_type": "code",
   "execution_count": 2,
   "id": "219a9283",
   "metadata": {},
   "outputs": [
    {
     "name": "stdout",
     "output_type": "stream",
     "text": [
      "Enter string: hello my nmber is 234-123-8432\n"
     ]
    }
   ],
   "source": [
    "# Problem: \n",
    "# Given a string that contains a phone number in the format\n",
    "# “XXX-XXX-XXXX”, where X is a digit, \n",
    "# write a regular expression and a Python script that extracts\n",
    "# the phone number from the string and prints it to the console.\n",
    "\n",
    "import re\n",
    "\n",
    "#def extract_phone_number(s):\n",
    "#    pattern = re.compile(r\"^\\d{3}-\\d{3}-\\d{4}$\")\n",
    "#    if re.match(pattern, s):\n",
    "#       print(\"%s\" % (pattern))\n",
    " \n",
    "def extract_phone_number(s):\n",
    "    find_phone_number = re.compile(r'\\b\\d{3}-\\d{3}-\\d{4}\\b')\n",
    "    match = re.search(find_phone_number, s)\n",
    "    if match:\n",
    "        print(\"Phone number found:\", match.group())\n",
    "    else:\n",
    "        print(\"Phone number not found.\")\n",
    "    \n",
    "my_string = input(\"Enter string: \")\n",
    "extract_phone_number(my_string)"
   ]
  },
  {
   "cell_type": "markdown",
   "id": "e9919a62",
   "metadata": {},
   "source": [
    "***I DONT KNOW IF THESE ARE HOMEWORK PROBLEMS FOR HW2 - CHECK***"
   ]
  },
  {
   "cell_type": "code",
   "execution_count": 1,
   "id": "750fe7ab",
   "metadata": {},
   "outputs": [
    {
     "name": "stdout",
     "output_type": "stream",
     "text": [
      "{'r': 1, 'H': 1, 'i': 1, 'd': 1, 'n': 1, 'u': 1, 'g': 1, '?': 1, 'e': 1, 'w': 1, 'a': 1, ' ': 3, 'y': 1, 'o': 3}\n"
     ]
    }
   ],
   "source": [
    "# Practice Problems:\n",
    "# 1. Given a string, return a dictionary has the frequency of the characters in it\n",
    "\n",
    "def string_to_dict(mystr):\n",
    "    mydict = {}\n",
    "    myset = set(mystr)\n",
    "    for c in myset:\n",
    "        count = mystr.count(c) # quick way to count the frequency of a character in a string\n",
    "        mydict[c] = count # add {c:count} into your dictionary\n",
    "    return mydict\n",
    "mystr = \"How are you doing?\"\n",
    "\n",
    "print(string_to_dict(mystr))"
   ]
  },
  {
   "cell_type": "code",
   "execution_count": 5,
   "id": "26bf2aea",
   "metadata": {},
   "outputs": [
    {
     "ename": "error",
     "evalue": "unterminated character set at position 32",
     "output_type": "error",
     "traceback": [
      "\u001b[1;31m---------------------------------------------------------------------------\u001b[0m",
      "\u001b[1;31merror\u001b[0m                                     Traceback (most recent call last)",
      "\u001b[1;32m~\\AppData\\Local\\Temp\\ipykernel_14444\\1730749991.py\u001b[0m in \u001b[0;36m<module>\u001b[1;34m\u001b[0m\n\u001b[0;32m     17\u001b[0m They gave me their phone number instead; (208)-8821-3333 and 2888880001, (979-408-0000\"\"\"    \n\u001b[0;32m     18\u001b[0m \u001b[1;33m\u001b[0m\u001b[0m\n\u001b[1;32m---> 19\u001b[1;33m \u001b[0mphone_list\u001b[0m\u001b[1;33m,\u001b[0m \u001b[0memail_list\u001b[0m \u001b[1;33m=\u001b[0m \u001b[0mphone_email\u001b[0m\u001b[1;33m(\u001b[0m\u001b[0mmystr\u001b[0m\u001b[1;33m)\u001b[0m\u001b[1;33m\u001b[0m\u001b[1;33m\u001b[0m\u001b[0m\n\u001b[0m\u001b[0;32m     20\u001b[0m \u001b[0mprint\u001b[0m\u001b[1;33m(\u001b[0m\u001b[0mphone_list\u001b[0m\u001b[1;33m)\u001b[0m\u001b[1;33m\u001b[0m\u001b[1;33m\u001b[0m\u001b[0m\n\u001b[0;32m     21\u001b[0m \u001b[0mprint\u001b[0m\u001b[1;33m(\u001b[0m\u001b[0memail_list\u001b[0m\u001b[1;33m)\u001b[0m\u001b[1;33m\u001b[0m\u001b[1;33m\u001b[0m\u001b[0m\n",
      "\u001b[1;32m~\\AppData\\Local\\Temp\\ipykernel_14444\\1730749991.py\u001b[0m in \u001b[0;36mphone_email\u001b[1;34m(mystr)\u001b[0m\n\u001b[0;32m      7\u001b[0m \u001b[1;33m\u001b[0m\u001b[0m\n\u001b[0;32m      8\u001b[0m     \u001b[0mphone_pattern\u001b[0m \u001b[1;33m=\u001b[0m \u001b[1;34mr\"\\(?\\d{3}\\)?[-,' ']?\\d{3}[-,' ']?[d{4})\"\u001b[0m\u001b[1;33m\u001b[0m\u001b[1;33m\u001b[0m\u001b[0m\n\u001b[1;32m----> 9\u001b[1;33m     \u001b[0mphone_list\u001b[0m \u001b[1;33m=\u001b[0m \u001b[0mre\u001b[0m\u001b[1;33m.\u001b[0m\u001b[0mfindall\u001b[0m\u001b[1;33m(\u001b[0m\u001b[0mphone_pattern\u001b[0m\u001b[1;33m,\u001b[0m \u001b[0mmystr\u001b[0m\u001b[1;33m)\u001b[0m\u001b[1;33m\u001b[0m\u001b[1;33m\u001b[0m\u001b[0m\n\u001b[0m\u001b[0;32m     10\u001b[0m     \u001b[0memail_pattern\u001b[0m \u001b[1;33m=\u001b[0m \u001b[1;34mr'[\\w]+\\.[\\w]+@[\\w]+'\u001b[0m\u001b[1;33m\u001b[0m\u001b[1;33m\u001b[0m\u001b[0m\n\u001b[0;32m     11\u001b[0m     \u001b[0memail_list\u001b[0m \u001b[1;33m=\u001b[0m \u001b[0mre\u001b[0m\u001b[1;33m.\u001b[0m\u001b[0mfindall\u001b[0m\u001b[1;33m(\u001b[0m\u001b[0memail_pattern\u001b[0m\u001b[1;33m,\u001b[0m \u001b[0mmystr\u001b[0m\u001b[1;33m)\u001b[0m\u001b[1;33m\u001b[0m\u001b[1;33m\u001b[0m\u001b[0m\n",
      "\u001b[1;32m~\\anaconda3\\lib\\re.py\u001b[0m in \u001b[0;36mfindall\u001b[1;34m(pattern, string, flags)\u001b[0m\n\u001b[0;32m    239\u001b[0m \u001b[1;33m\u001b[0m\u001b[0m\n\u001b[0;32m    240\u001b[0m     Empty matches are included in the result.\"\"\"\n\u001b[1;32m--> 241\u001b[1;33m     \u001b[1;32mreturn\u001b[0m \u001b[0m_compile\u001b[0m\u001b[1;33m(\u001b[0m\u001b[0mpattern\u001b[0m\u001b[1;33m,\u001b[0m \u001b[0mflags\u001b[0m\u001b[1;33m)\u001b[0m\u001b[1;33m.\u001b[0m\u001b[0mfindall\u001b[0m\u001b[1;33m(\u001b[0m\u001b[0mstring\u001b[0m\u001b[1;33m)\u001b[0m\u001b[1;33m\u001b[0m\u001b[1;33m\u001b[0m\u001b[0m\n\u001b[0m\u001b[0;32m    242\u001b[0m \u001b[1;33m\u001b[0m\u001b[0m\n\u001b[0;32m    243\u001b[0m \u001b[1;32mdef\u001b[0m \u001b[0mfinditer\u001b[0m\u001b[1;33m(\u001b[0m\u001b[0mpattern\u001b[0m\u001b[1;33m,\u001b[0m \u001b[0mstring\u001b[0m\u001b[1;33m,\u001b[0m \u001b[0mflags\u001b[0m\u001b[1;33m=\u001b[0m\u001b[1;36m0\u001b[0m\u001b[1;33m)\u001b[0m\u001b[1;33m:\u001b[0m\u001b[1;33m\u001b[0m\u001b[1;33m\u001b[0m\u001b[0m\n",
      "\u001b[1;32m~\\anaconda3\\lib\\re.py\u001b[0m in \u001b[0;36m_compile\u001b[1;34m(pattern, flags)\u001b[0m\n\u001b[0;32m    302\u001b[0m     \u001b[1;32mif\u001b[0m \u001b[1;32mnot\u001b[0m \u001b[0msre_compile\u001b[0m\u001b[1;33m.\u001b[0m\u001b[0misstring\u001b[0m\u001b[1;33m(\u001b[0m\u001b[0mpattern\u001b[0m\u001b[1;33m)\u001b[0m\u001b[1;33m:\u001b[0m\u001b[1;33m\u001b[0m\u001b[1;33m\u001b[0m\u001b[0m\n\u001b[0;32m    303\u001b[0m         \u001b[1;32mraise\u001b[0m \u001b[0mTypeError\u001b[0m\u001b[1;33m(\u001b[0m\u001b[1;34m\"first argument must be string or compiled pattern\"\u001b[0m\u001b[1;33m)\u001b[0m\u001b[1;33m\u001b[0m\u001b[1;33m\u001b[0m\u001b[0m\n\u001b[1;32m--> 304\u001b[1;33m     \u001b[0mp\u001b[0m \u001b[1;33m=\u001b[0m \u001b[0msre_compile\u001b[0m\u001b[1;33m.\u001b[0m\u001b[0mcompile\u001b[0m\u001b[1;33m(\u001b[0m\u001b[0mpattern\u001b[0m\u001b[1;33m,\u001b[0m \u001b[0mflags\u001b[0m\u001b[1;33m)\u001b[0m\u001b[1;33m\u001b[0m\u001b[1;33m\u001b[0m\u001b[0m\n\u001b[0m\u001b[0;32m    305\u001b[0m     \u001b[1;32mif\u001b[0m \u001b[1;32mnot\u001b[0m \u001b[1;33m(\u001b[0m\u001b[0mflags\u001b[0m \u001b[1;33m&\u001b[0m \u001b[0mDEBUG\u001b[0m\u001b[1;33m)\u001b[0m\u001b[1;33m:\u001b[0m\u001b[1;33m\u001b[0m\u001b[1;33m\u001b[0m\u001b[0m\n\u001b[0;32m    306\u001b[0m         \u001b[1;32mif\u001b[0m \u001b[0mlen\u001b[0m\u001b[1;33m(\u001b[0m\u001b[0m_cache\u001b[0m\u001b[1;33m)\u001b[0m \u001b[1;33m>=\u001b[0m \u001b[0m_MAXCACHE\u001b[0m\u001b[1;33m:\u001b[0m\u001b[1;33m\u001b[0m\u001b[1;33m\u001b[0m\u001b[0m\n",
      "\u001b[1;32m~\\anaconda3\\lib\\sre_compile.py\u001b[0m in \u001b[0;36mcompile\u001b[1;34m(p, flags)\u001b[0m\n\u001b[0;32m    786\u001b[0m     \u001b[1;32mif\u001b[0m \u001b[0misstring\u001b[0m\u001b[1;33m(\u001b[0m\u001b[0mp\u001b[0m\u001b[1;33m)\u001b[0m\u001b[1;33m:\u001b[0m\u001b[1;33m\u001b[0m\u001b[1;33m\u001b[0m\u001b[0m\n\u001b[0;32m    787\u001b[0m         \u001b[0mpattern\u001b[0m \u001b[1;33m=\u001b[0m \u001b[0mp\u001b[0m\u001b[1;33m\u001b[0m\u001b[1;33m\u001b[0m\u001b[0m\n\u001b[1;32m--> 788\u001b[1;33m         \u001b[0mp\u001b[0m \u001b[1;33m=\u001b[0m \u001b[0msre_parse\u001b[0m\u001b[1;33m.\u001b[0m\u001b[0mparse\u001b[0m\u001b[1;33m(\u001b[0m\u001b[0mp\u001b[0m\u001b[1;33m,\u001b[0m \u001b[0mflags\u001b[0m\u001b[1;33m)\u001b[0m\u001b[1;33m\u001b[0m\u001b[1;33m\u001b[0m\u001b[0m\n\u001b[0m\u001b[0;32m    789\u001b[0m     \u001b[1;32melse\u001b[0m\u001b[1;33m:\u001b[0m\u001b[1;33m\u001b[0m\u001b[1;33m\u001b[0m\u001b[0m\n\u001b[0;32m    790\u001b[0m         \u001b[0mpattern\u001b[0m \u001b[1;33m=\u001b[0m \u001b[1;32mNone\u001b[0m\u001b[1;33m\u001b[0m\u001b[1;33m\u001b[0m\u001b[0m\n",
      "\u001b[1;32m~\\anaconda3\\lib\\sre_parse.py\u001b[0m in \u001b[0;36mparse\u001b[1;34m(str, flags, state)\u001b[0m\n\u001b[0;32m    953\u001b[0m \u001b[1;33m\u001b[0m\u001b[0m\n\u001b[0;32m    954\u001b[0m     \u001b[1;32mtry\u001b[0m\u001b[1;33m:\u001b[0m\u001b[1;33m\u001b[0m\u001b[1;33m\u001b[0m\u001b[0m\n\u001b[1;32m--> 955\u001b[1;33m         \u001b[0mp\u001b[0m \u001b[1;33m=\u001b[0m \u001b[0m_parse_sub\u001b[0m\u001b[1;33m(\u001b[0m\u001b[0msource\u001b[0m\u001b[1;33m,\u001b[0m \u001b[0mstate\u001b[0m\u001b[1;33m,\u001b[0m \u001b[0mflags\u001b[0m \u001b[1;33m&\u001b[0m \u001b[0mSRE_FLAG_VERBOSE\u001b[0m\u001b[1;33m,\u001b[0m \u001b[1;36m0\u001b[0m\u001b[1;33m)\u001b[0m\u001b[1;33m\u001b[0m\u001b[1;33m\u001b[0m\u001b[0m\n\u001b[0m\u001b[0;32m    956\u001b[0m     \u001b[1;32mexcept\u001b[0m \u001b[0mVerbose\u001b[0m\u001b[1;33m:\u001b[0m\u001b[1;33m\u001b[0m\u001b[1;33m\u001b[0m\u001b[0m\n\u001b[0;32m    957\u001b[0m         \u001b[1;31m# the VERBOSE flag was switched on inside the pattern.  to be\u001b[0m\u001b[1;33m\u001b[0m\u001b[1;33m\u001b[0m\u001b[0m\n",
      "\u001b[1;32m~\\anaconda3\\lib\\sre_parse.py\u001b[0m in \u001b[0;36m_parse_sub\u001b[1;34m(source, state, verbose, nested)\u001b[0m\n\u001b[0;32m    442\u001b[0m     \u001b[0mstart\u001b[0m \u001b[1;33m=\u001b[0m \u001b[0msource\u001b[0m\u001b[1;33m.\u001b[0m\u001b[0mtell\u001b[0m\u001b[1;33m(\u001b[0m\u001b[1;33m)\u001b[0m\u001b[1;33m\u001b[0m\u001b[1;33m\u001b[0m\u001b[0m\n\u001b[0;32m    443\u001b[0m     \u001b[1;32mwhile\u001b[0m \u001b[1;32mTrue\u001b[0m\u001b[1;33m:\u001b[0m\u001b[1;33m\u001b[0m\u001b[1;33m\u001b[0m\u001b[0m\n\u001b[1;32m--> 444\u001b[1;33m         itemsappend(_parse(source, state, verbose, nested + 1,\n\u001b[0m\u001b[0;32m    445\u001b[0m                            not nested and not items))\n\u001b[0;32m    446\u001b[0m         \u001b[1;32mif\u001b[0m \u001b[1;32mnot\u001b[0m \u001b[0msourcematch\u001b[0m\u001b[1;33m(\u001b[0m\u001b[1;34m\"|\"\u001b[0m\u001b[1;33m)\u001b[0m\u001b[1;33m:\u001b[0m\u001b[1;33m\u001b[0m\u001b[1;33m\u001b[0m\u001b[0m\n",
      "\u001b[1;32m~\\anaconda3\\lib\\sre_parse.py\u001b[0m in \u001b[0;36m_parse\u001b[1;34m(source, state, verbose, nested, first)\u001b[0m\n\u001b[0;32m    548\u001b[0m                 \u001b[0mthis\u001b[0m \u001b[1;33m=\u001b[0m \u001b[0msourceget\u001b[0m\u001b[1;33m(\u001b[0m\u001b[1;33m)\u001b[0m\u001b[1;33m\u001b[0m\u001b[1;33m\u001b[0m\u001b[0m\n\u001b[0;32m    549\u001b[0m                 \u001b[1;32mif\u001b[0m \u001b[0mthis\u001b[0m \u001b[1;32mis\u001b[0m \u001b[1;32mNone\u001b[0m\u001b[1;33m:\u001b[0m\u001b[1;33m\u001b[0m\u001b[1;33m\u001b[0m\u001b[0m\n\u001b[1;32m--> 550\u001b[1;33m                     raise source.error(\"unterminated character set\",\n\u001b[0m\u001b[0;32m    551\u001b[0m                                        source.tell() - here)\n\u001b[0;32m    552\u001b[0m                 \u001b[1;32mif\u001b[0m \u001b[0mthis\u001b[0m \u001b[1;33m==\u001b[0m \u001b[1;34m\"]\"\u001b[0m \u001b[1;32mand\u001b[0m \u001b[0mset\u001b[0m\u001b[1;33m:\u001b[0m\u001b[1;33m\u001b[0m\u001b[1;33m\u001b[0m\u001b[0m\n",
      "\u001b[1;31merror\u001b[0m: unterminated character set at position 32"
     ]
    }
   ],
   "source": [
    "# Practice Problems:\n",
    "# 2. Given a string, extract all of the email addresses and phone numbers in it\n",
    "\n",
    "def phone_email(mystr):\n",
    "    \n",
    "    import re\n",
    "    \n",
    "    phone_pattern = r\"\\(?\\d{3}\\)?[-,' ']?\\d{3}[-,' ']?[d{4})\"\n",
    "    phone_list = re.findall(phone_pattern, mystr)\n",
    "    email_pattern = r\"[\\w]+\\.[\\w]+@[\\w]+\"\n",
    "    email_list = re.findall(email_pattern, mystr)\n",
    "    return phone_list, email_list\n",
    "    \n",
    "mystr = \"\"\"Nick sent me his email yeterday, here it is nick@gmail.com \n",
    "I ask Tom and Cadie their emails too.\n",
    "However, they didn't give me their email address.\n",
    "They gave me their phone number instead; (208)-8821-3333 and 2888880001, (979-408-0000\"\"\"    \n",
    "\n",
    "phone_list, email_list = phone_email(mystr)\n",
    "print(phone_list)\n",
    "print(email_list)"
   ]
  },
  {
   "cell_type": "code",
   "execution_count": 6,
   "id": "c7b84700",
   "metadata": {},
   "outputs": [
    {
     "name": "stdout",
     "output_type": "stream",
     "text": [
      "['\\n', ' ', '!', '$', '&', \"'\", ',', '-', '.', '3', ':', ';', '?', 'A', 'B', 'C', 'D', 'E', 'F', 'G', 'H', 'I', 'J', 'K', 'L', 'M', 'N', 'O', 'P', 'Q', 'R', 'S', 'T', 'U', 'V', 'W', 'X', 'Y', 'Z', 'a', 'b', 'c', 'd', 'e', 'f', 'g', 'h', 'i', 'j', 'k', 'l', 'm', 'n', 'o', 'p', 'q', 'r', 's', 't', 'u', 'v', 'w', 'x', 'y', 'z']\n"
     ]
    }
   ],
   "source": [
    "# PROBLEM: SHAKESPEARE WORKSHOP PROBLEM\n",
    "\n",
    "def shakespeare_char(file_name):\n",
    "    with open(file_name, 'r') as f:\n",
    "        data = f.read()\n",
    "    charlist = sorted(list(set(data)))\n",
    "    return charlist\n",
    "\n",
    "charlist = shakespeare_char(\"tiny_shakespeare.txt\")\n",
    "print(charlist)"
   ]
  },
  {
   "cell_type": "code",
   "execution_count": 11,
   "id": "6b65958f",
   "metadata": {},
   "outputs": [
    {
     "name": "stdout",
     "output_type": "stream",
     "text": [
      "{'\\n': 0, ' ': 1, '!': 2, '$': 3, '&': 4, \"'\": 5, ',': 6, '-': 7, '.': 8, '3': 9, ':': 10, ';': 11, '?': 12, 'A': 13, 'B': 14, 'C': 15, 'D': 16, 'E': 17, 'F': 18, 'G': 19, 'H': 20, 'I': 21, 'J': 22, 'K': 23, 'L': 24, 'M': 25, 'N': 26, 'O': 27, 'P': 28, 'Q': 29, 'R': 30, 'S': 31, 'T': 32, 'U': 33, 'V': 34, 'W': 35, 'X': 36, 'Y': 37, 'Z': 38, 'a': 39, 'b': 40, 'c': 41, 'd': 42, 'e': 43, 'f': 44, 'g': 45, 'h': 46, 'i': 47, 'j': 48, 'k': 49, 'l': 50, 'm': 51, 'n': 52, 'o': 53, 'p': 54, 'q': 55, 'r': 56, 's': 57, 't': 58, 'u': 59, 'v': 60, 'w': 61, 'x': 62, 'y': 63, 'z': 64}\n"
     ]
    }
   ],
   "source": [
    "# PROBLEM: SHAKESPEARE WORKSHOP PROBLEM\n",
    "\n",
    "#def code_book(charlist):\n",
    "#    mydict = {}\n",
    "#    count = 0\n",
    "#    for c in charlist:\n",
    "#        mydict[c] = count\n",
    "#        count += 1\n",
    "#    return mydict\n",
    "\n",
    "#def code_book(charlist):\n",
    "#    mydict = {}\n",
    "#    count = 0\n",
    "#    for i,c in enumerate(charlist):\n",
    "#        mydict[c] = count\n",
    "#    return mydict\n",
    "\n",
    "def code_book(charlist):\n",
    "    mydict = {c:i for i, c in enumerate(charlist)}\n",
    "    return mydict\n",
    "\n",
    "\n",
    "mydict = code_book(charlist)\n",
    "print(mydict)"
   ]
  },
  {
   "cell_type": "code",
   "execution_count": 12,
   "id": "493726b8",
   "metadata": {},
   "outputs": [
    {
     "name": "stdout",
     "output_type": "stream",
     "text": [
      "[18, 47, 56, 57, 58, 1, 15, 47, 58, 47, 64, 43, 52, 10, 0, 14, 43, 44, 53, 56, 43, 1, 61, 43, 1, 54, 56, 53, 41, 43, 43, 42, 1, 39, 52, 63, 1, 44, 59, 56, 58, 46, 43, 56, 6, 1, 46, 43, 39, 56, 1, 51, 43, 1, 57, 54, 43, 39, 49, 8, 0, 0, 13, 50, 50, 10, 0, 31, 54, 43, 39, 49, 6, 1, 57, 54, 43, 39, 49, 8, 0, 0, 18, 47, 56, 57, 58, 1, 15, 47, 58, 47, 64, 43, 52, 10, 0, 37, 53, 59]\n"
     ]
    }
   ],
   "source": [
    "# PROBLEM: SHAKESPEARE WORKSHOP PROBLEM\n",
    "\n",
    "def encrypt(file_name, new_file):\n",
    "    with open(file_name, 'r') as f:\n",
    "        data = f.read()\n",
    "    data_list = [mydict[c] for c in data]\n",
    "    data_str = str(data_list)\n",
    "    with open(new_file, 'w') as f:\n",
    "        f.write(data_str)\n",
    "    return data_list\n",
    "\n",
    "data_list = encrypt(\"tiny_shakespeare.txt\", \"encrypted_tiny_shakespeare.txt\")\n",
    "print(data_list[:100])"
   ]
  },
  {
   "cell_type": "code",
   "execution_count": null,
   "id": "f342baaa",
   "metadata": {},
   "outputs": [],
   "source": []
  }
 ],
 "metadata": {
  "kernelspec": {
   "display_name": "Python 3 (ipykernel)",
   "language": "python",
   "name": "python3"
  },
  "language_info": {
   "codemirror_mode": {
    "name": "ipython",
    "version": 3
   },
   "file_extension": ".py",
   "mimetype": "text/x-python",
   "name": "python",
   "nbconvert_exporter": "python",
   "pygments_lexer": "ipython3",
   "version": "3.9.13"
  }
 },
 "nbformat": 4,
 "nbformat_minor": 5
}
