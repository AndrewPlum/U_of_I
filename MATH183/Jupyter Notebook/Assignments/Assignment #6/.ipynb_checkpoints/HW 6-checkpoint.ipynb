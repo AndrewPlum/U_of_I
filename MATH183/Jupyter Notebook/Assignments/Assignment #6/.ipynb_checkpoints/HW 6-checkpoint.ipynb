{
 "cells": [
  {
   "cell_type": "markdown",
   "id": "47a3135f",
   "metadata": {},
   "source": [
    "***Andrew Plum***"
   ]
  },
  {
   "cell_type": "markdown",
   "id": "c195343a",
   "metadata": {},
   "source": [
    "***MATH 183***"
   ]
  },
  {
   "cell_type": "markdown",
   "id": "70340280",
   "metadata": {},
   "source": [
    "***Assignment #6***"
   ]
  },
  {
   "cell_type": "markdown",
   "id": "747d66a3",
   "metadata": {},
   "source": [
    "***4/6/2023***"
   ]
  },
  {
   "cell_type": "markdown",
   "id": "a12bb049",
   "metadata": {},
   "source": [
    "## Instruction\n",
    "\n",
    "This homework is to practice/improve your skills on Numpy. Please use it as much as possible. It is a good idea to do a bit of Google search if something is new for you.\n",
    "\n"
   ]
  },
  {
   "cell_type": "markdown",
   "id": "00060e93",
   "metadata": {},
   "source": [
    "__Problem 1:__ Compute the sum without using loop \n",
    "$\\sum_{n=1}^{100} \\cos(n).$\n"
   ]
  },
  {
   "cell_type": "code",
   "execution_count": 21,
   "id": "50737188",
   "metadata": {},
   "outputs": [
    {
     "name": "stdout",
     "output_type": "stream",
     "text": [
      "-0.5322886082303911\n"
     ]
    }
   ],
   "source": [
    "import numpy as np\n",
    "\n",
    "arr = np.arange(1,101)\n",
    "answer_sum = np.sum(np.cos(arr))\n",
    "print(answer_sum)\n"
   ]
  },
  {
   "cell_type": "markdown",
   "id": "bff5c841",
   "metadata": {},
   "source": [
    "__Problem 2:__ The matrix $I$ is called an __identity__ matrix if: i) it is a square matrix (number of rows is equal to number of columns), ii) all elements in the diagonal are equal to $1$, iii) all the off-diagonal are equal to $0$. Use numpy to create an identity matrix of size $100 \\times 100$.\n"
   ]
  },
  {
   "cell_type": "code",
   "execution_count": 22,
   "id": "6d8aff6a",
   "metadata": {},
   "outputs": [
    {
     "name": "stdout",
     "output_type": "stream",
     "text": [
      "Matrix A shape:\n",
      " (100, 100)\n",
      "\n",
      "Matrix A:\n",
      " [[1. 0. 0. ... 0. 0. 0.]\n",
      " [0. 1. 0. ... 0. 0. 0.]\n",
      " [0. 0. 1. ... 0. 0. 0.]\n",
      " ...\n",
      " [0. 0. 0. ... 1. 0. 0.]\n",
      " [0. 0. 0. ... 0. 1. 0.]\n",
      " [0. 0. 0. ... 0. 0. 1.]]\n"
     ]
    }
   ],
   "source": [
    "import numpy as np\n",
    "\n",
    "A = np.identity(100)\n",
    "print(\"Matrix A shape:\\n\", A.shape)\n",
    "print(\"\\nMatrix A:\\n\", A)\n"
   ]
  },
  {
   "cell_type": "markdown",
   "id": "4c8be075",
   "metadata": {},
   "source": [
    "__Problem 3:__ Let $A$ be a matrix of size $m \\times n$. Then its __transpose__  $A^T$ is the matrix of size $n \\times m$ whose rows are columns of $A$ (and vice versa). Use numpy to generate a matrix of size $100 \\times 200$, and then find its transpose. \n"
   ]
  },
  {
   "cell_type": "code",
   "execution_count": 24,
   "id": "7caaf9df",
   "metadata": {},
   "outputs": [
    {
     "name": "stdout",
     "output_type": "stream",
     "text": [
      "Matrix A shape:\n",
      " (100, 200)\n",
      "\n",
      "Matrix A:\n",
      "[[ 45  45  83 ...  41  63  34]\n",
      " [ 71 100  79 ...  74  94  97]\n",
      " [ 48  82   4 ...  40  70  59]\n",
      " ...\n",
      " [ 37  37  90 ...  57  83  54]\n",
      " [  3  82  13 ...  19  44  83]\n",
      " [ 77   6  70 ...  52  97  54]] \n",
      "\n",
      "Matrix A transposed shape:\n",
      " (200, 100)\n",
      "\n",
      "Matrix A transposed:\n",
      "[[ 45  71  48 ...  37   3  77]\n",
      " [ 45 100  82 ...  37  82   6]\n",
      " [ 83  79   4 ...  90  13  70]\n",
      " ...\n",
      " [ 41  74  40 ...  57  19  52]\n",
      " [ 63  94  70 ...  83  44  97]\n",
      " [ 34  97  59 ...  54  83  54]] \n",
      "\n"
     ]
    }
   ],
   "source": [
    "import numpy as np\n",
    "\n",
    "A = np.random.randint(1,101, size=(100, 200))\n",
    "print(\"Matrix A shape:\\n\", A.shape)\n",
    "print(\"\\nMatrix A:\")\n",
    "print(A,\"\\n\")\n",
    "A_transposed = np.transpose(A)\n",
    "print(\"Matrix A transposed shape:\\n\", A_transposed.shape)\n",
    "print(\"\\nMatrix A transposed:\")\n",
    "print(A_transposed,\"\\n\")\n"
   ]
  },
  {
   "cell_type": "markdown",
   "id": "70c05e76",
   "metadata": {},
   "source": [
    "__Problems 4:__ A square matrix $A$ is called symmetric if $A^T = A$. Use numpy to generate a square matrix of size $100 \\times 100$."
   ]
  },
  {
   "cell_type": "code",
   "execution_count": 26,
   "id": "b9f14c81",
   "metadata": {},
   "outputs": [
    {
     "name": "stdout",
     "output_type": "stream",
     "text": [
      "Is the matrix symmetric:\n",
      "The matrix is symmetric.\n",
      "\n",
      "Symmetric matrix shape:\n",
      " (100, 100)\n",
      "\n",
      "100 x 100 symmetric matrix:\n",
      " [[ 90  30 148 ...  40  75 112]\n",
      " [ 30  18  91 ... 124 171 111]\n",
      " [148  91 186 ...  44 104 130]\n",
      " ...\n",
      " [ 40 124  44 ... 134 124  68]\n",
      " [ 75 171 104 ... 124 192  82]\n",
      " [112 111 130 ...  68  82  56]]\n",
      "\n",
      "Transpose of 100 x 100 symmetric matrix:\n",
      " [[ 90  30 148 ...  40  75 112]\n",
      " [ 30  18  91 ... 124 171 111]\n",
      " [148  91 186 ...  44 104 130]\n",
      " ...\n",
      " [ 40 124  44 ... 134 124  68]\n",
      " [ 75 171 104 ... 124 192  82]\n",
      " [112 111 130 ...  68  82  56]]\n"
     ]
    }
   ],
   "source": [
    "import numpy as np\n",
    "\n",
    "# Generate symmetric matrix\n",
    "\n",
    "A = np.random.randint(1, 101, size=(100, 100))\n",
    "symmetric_matrix = (A + A.T)\n",
    "\n",
    "# Check if matrix is symmetric\n",
    "\n",
    "is_matrix_symmetric = np.allclose(symmetric_matrix, symmetric_matrix.T)\n",
    "print(\"Is the matrix symmetric:\")\n",
    "if is_matrix_symmetric:\n",
    "    print(\"The matrix is symmetric.\\n\")\n",
    "else:\n",
    "    print(\"The matrix is not symmetric.\\n\")\n",
    "    \n",
    "# print symmetric matrix and its transpose\n",
    "\n",
    "print(\"Symmetric matrix shape:\\n\", symmetric_matrix.shape)\n",
    "print(\"\\n100 x 100 symmetric matrix:\\n\", symmetric_matrix)\n",
    "print(\"\\nTranspose of 100 x 100 symmetric matrix:\\n\", symmetric_matrix.T)\n"
   ]
  },
  {
   "cell_type": "markdown",
   "id": "38369535",
   "metadata": {},
   "source": [
    "__Problem 5:__ A square matrix $A$ of size $m \\times m$ is said to be positive definite if $x^T Ax > 0$ for any __nonzero colum vector__ $x$ of size $m$. Use numpy to generate positive definite matrix $A$.\n"
   ]
  },
  {
   "cell_type": "code",
   "execution_count": 50,
   "id": "2976ff6b",
   "metadata": {},
   "outputs": [
    {
     "name": "stdout",
     "output_type": "stream",
     "text": [
      "Is matrix A positive definite:\n",
      " True\n",
      "\n",
      "Matrix A:\n",
      " [[92 44  1 ... 61 54 20]\n",
      " [14  8 36 ... 65 50 67]\n",
      " [71  1 18 ... 41 83 75]\n",
      " ...\n",
      " [83 34 70 ...  3 79 96]\n",
      " [24 58 49 ...  6 49 47]\n",
      " [92 76 27 ... 23 93 20]]\n"
     ]
    }
   ],
   "source": [
    "import numpy as np\n",
    "\n",
    "# create positive definite matrix A\n",
    "\n",
    "m = 100\n",
    "A = np.random.randint(1, 101, size=(m, m)) # this should be a positive definite matrix\n",
    "\n",
    "# check if A is positive definite\n",
    "\n",
    "x = np.random.randint(1, 101, size=(m, 1))\n",
    "x_T = x.T\n",
    "x_T_A = np.dot(x_T, A)\n",
    "positive_definite_matrix = np.dot(x_T_A, x)\n",
    "eigen_values = np.linalg.eigvals(positive_definite_matrix)\n",
    "print(\"Is matrix A positive definite:\\n\", np.all(eigen_values > 0))\n",
    "\n",
    "# print A \n",
    "\n",
    "print(\"\\nMatrix A:\\n\", A)\n"
   ]
  },
  {
   "cell_type": "markdown",
   "id": "978c6b28",
   "metadata": {},
   "source": [
    "__Problem 6:__ Plot the function $f(x) = x^3-2x+1$ in the interval $[-3,3]$.\n"
   ]
  },
  {
   "cell_type": "code",
   "execution_count": 51,
   "id": "0af3b711",
   "metadata": {},
   "outputs": [
    {
     "data": {
      "image/png": "[encoded data removed]",
      "text/plain": [
       "<Figure size 640x480 with 1 Axes>"
      ]
     },
     "metadata": {},
     "output_type": "display_data"
    }
   ],
   "source": [
    "import numpy as np\n",
    "import matplotlib.pyplot as plt\n",
    "\n",
    "def f(x):\n",
    "    return x**3 - 2*x + 1\n",
    "\n",
    "x = np.linspace(-3, 3,1000)\n",
    "\n",
    "plt.plot(x, f(x), label='f(x) = x^3 - 2x + 1')\n",
    "plt.title('Plot of f(x) = x^3 - 2x + 1')\n",
    "plt.grid(True)\n",
    "plt.legend()\n",
    "plt.xlabel('x')\n",
    "plt.ylabel('f(x)')\n",
    "plt.show()\n"
   ]
  },
  {
   "cell_type": "markdown",
   "id": "84f4a582",
   "metadata": {},
   "source": [
    "__Problem 7:__ \n",
    "\n",
    "(a) Create a rank $3$ tensor of size $3 \\times 3 \\times 4$. "
   ]
  },
  {
   "cell_type": "code",
   "execution_count": 52,
   "id": "0c641427",
   "metadata": {},
   "outputs": [
    {
     "name": "stdout",
     "output_type": "stream",
     "text": [
      "Rank 3 tensor of size 3 x 3 x 4:\n",
      " [[[81 86 47 82]\n",
      "  [39 88 73 52]\n",
      "  [74 98 54 82]]\n",
      "\n",
      " [[65 82 77 32]\n",
      "  [72 63 81 73]\n",
      "  [81  1 68 42]]\n",
      "\n",
      " [[60 23 18 29]\n",
      "  [70 12 30 61]\n",
      "  [38 19 49 63]]]\n"
     ]
    }
   ],
   "source": [
    "import numpy as np\n",
    "\n",
    "rank_3_tensor = np.random.randint(1,100, size=(3, 3, 4))\n",
    "print(\"Rank 3 tensor of size 3 x 3 x 4:\\n\", rank_3_tensor)\n"
   ]
  },
  {
   "cell_type": "markdown",
   "id": "04dbd911",
   "metadata": {},
   "source": [
    "(b) Create a rank $4$ tensor of size $2 \\times 2 \\times 2 \\times 3$."
   ]
  },
  {
   "cell_type": "code",
   "execution_count": 53,
   "id": "10b0c403",
   "metadata": {},
   "outputs": [
    {
     "name": "stdout",
     "output_type": "stream",
     "text": [
      "Rank 4 tensor of size 2 x 2 x 2 x 3:\n",
      " [[[[87 53 45]\n",
      "   [78  2 16]]\n",
      "\n",
      "  [[51 12 36]\n",
      "   [16 89 80]]]\n",
      "\n",
      "\n",
      " [[[62 94 32]\n",
      "   [ 8  1 49]]\n",
      "\n",
      "  [[18 86 35]\n",
      "   [15 35  6]]]]\n"
     ]
    }
   ],
   "source": [
    "import numpy as np\n",
    "\n",
    "rank_4_tensor = np.random.randint(1,100, size=(2, 2, 2, 3))\n",
    "print(\"Rank 4 tensor of size 2 x 2 x 2 x 3:\\n\", rank_4_tensor)\n"
   ]
  }
 ],
 "metadata": {
  "kernelspec": {
   "display_name": "Python 3 (ipykernel)",
   "language": "python",
   "name": "python3"
  },
  "language_info": {
   "codemirror_mode": {
    "name": "ipython",
    "version": 3
   },
   "file_extension": ".py",
   "mimetype": "text/x-python",
   "name": "python",
   "nbconvert_exporter": "python",
   "pygments_lexer": "ipython3",
   "version": "3.9.13"
  }
 },
 "nbformat": 4,
 "nbformat_minor": 5
}
