{
 "cells": [
  {
   "cell_type": "code",
   "execution_count": null,
   "id": "94767f25",
   "metadata": {},
   "outputs": [],
   "source": [
    "# Recomended book for data science: Beautiful Data - its green"
   ]
  },
  {
   "cell_type": "code",
   "execution_count": 1,
   "id": "ef6b5edf",
   "metadata": {},
   "outputs": [
    {
     "name": "stdout",
     "output_type": "stream",
     "text": [
      "Empty Set:  set()\n",
      "My Set:  {1, 2, 3, 4, 5, 6, 7}\n",
      "Set with elements:  {1, 2, 3, 4, 5}\n",
      "Set with different data types:  {1, 'Hello', (1, 2, 3)}\n"
     ]
    }
   ],
   "source": [
    "# Sets\n",
    "# A set is an unordered collection of unique elements. It is defined by {}\n",
    "# Sets can be used to perform mathematiccal set operations like union, insertion, symmetric difference, etc'\n",
    "\n",
    "# Creating Sets\n",
    "empty_set = set()\n",
    "print(\"Empty Set: \", empty_set)\n",
    "\n",
    "# Creating set\n",
    "my_list = [1, 2, 3, 4, 5, 5, 6, 6, 7, 7]\n",
    "my_set = set(my_list) # set keeps one of each\n",
    "print(\"My Set: \", my_set)\n",
    "\n",
    "my_set = {1, 2, 3, 4, 5}\n",
    "print(\"Set with elements: \", my_set)\n",
    "\n",
    "my_set = {1, \"Hello\", (1, 2, 3)}\n",
    "print(\"Set with different data types: \", my_set) # prof believes sets can be in a set"
   ]
  },
  {
   "cell_type": "code",
   "execution_count": 2,
   "id": "58e1c677",
   "metadata": {},
   "outputs": [
    {
     "ename": "SyntaxError",
     "evalue": "invalid syntax (3332733602.py, line 7)",
     "output_type": "error",
     "traceback": [
      "\u001b[1;36m  File \u001b[1;32m\"C:\\Users\\a_j_p\\AppData\\Local\\Temp\\ipykernel_1928\\3332733602.py\"\u001b[1;36m, line \u001b[1;32m7\u001b[0m\n\u001b[1;33m    for element in my_set\u001b[0m\n\u001b[1;37m                         ^\u001b[0m\n\u001b[1;31mSyntaxError\u001b[0m\u001b[1;31m:\u001b[0m invalid syntax\n"
     ]
    }
   ],
   "source": [
    "# Accessing elements in a set (no indexes)\n",
    "\n",
    "# Check if an element exist in a set\n",
    "print(\"Is 1 in my_set:\", 1 in my_set)\n",
    "\n",
    "# Loop through the elements of the set\n",
    "for element in my_set\n",
    "    print(element)"
   ]
  },
  {
   "cell_type": "code",
   "execution_count": 3,
   "id": "9da6632d",
   "metadata": {},
   "outputs": [
    {
     "name": "stdout",
     "output_type": "stream",
     "text": [
      "\n",
      "Set Operations:\n"
     ]
    }
   ],
   "source": [
    "# Set operations\n",
    "\n",
    "print(\"\\nSet Operations:\")\n",
    "\n",
    "# Union\n",
    "set1 = {1, 2, 3}\n",
    "set2 = {4, 5, 6}\n",
    "print(\"Union: \", set1.union(set2)) # 1, 2, 3, 4, 5, 6\n",
    "\n",
    "# Intersetion\n",
    "\n",
    "# Difference\n",
    "\n",
    "# Symmetric Differencee"
   ]
  },
  {
   "cell_type": "code",
   "execution_count": 4,
   "id": "2e50f905",
   "metadata": {},
   "outputs": [
    {
     "name": "stdout",
     "output_type": "stream",
     "text": [
      "My set:  {1, 'hello', 6, (1, 1, 2)}\n",
      "My set:  {'hello', 6, (1, 1, 2)}\n",
      "My set:  set()\n"
     ]
    }
   ],
   "source": [
    "# Modifing Sets\n",
    "\n",
    "my_set = {1, \"hello\", (1, 1, 2)}\n",
    "\n",
    "# Add Elements\n",
    "my_set.add(6)\n",
    "print(\"My set: \", my_set)\n",
    "\n",
    "# Remove elements from a set\n",
    "my_set.remove(1)\n",
    "print(\"My set: \", my_set)\n",
    "\n",
    "# Clear all elements from a set\n",
    "my_set.clear()\n",
    "print(\"My set: \", my_set)"
   ]
  },
  {
   "cell_type": "code",
   "execution_count": 5,
   "id": "f96290fe",
   "metadata": {},
   "outputs": [
    {
     "ename": "SyntaxError",
     "evalue": "invalid syntax (2100865429.py, line 12)",
     "output_type": "error",
     "traceback": [
      "\u001b[1;36m  File \u001b[1;32m\"C:\\Users\\a_j_p\\AppData\\Local\\Temp\\ipykernel_1928\\2100865429.py\"\u001b[1;36m, line \u001b[1;32m12\u001b[0m\n\u001b[1;33m    isdisjoint() method\u001b[0m\n\u001b[1;37m                 ^\u001b[0m\n\u001b[1;31mSyntaxError\u001b[0m\u001b[1;31m:\u001b[0m invalid syntax\n"
     ]
    }
   ],
   "source": [
    "# Set Methods\n",
    "\n",
    "# len() method\n",
    "print(\"Length of set 1: \", set1.len())\n",
    "\n",
    "# copy()\n",
    "set3 = set1.copy(set3)\n",
    "\n",
    "# difference_update() method\n",
    "set1.difference_update(set2)\n",
    "\n",
    "isdisjoint() method\n"
   ]
  },
  {
   "cell_type": "code",
   "execution_count": 6,
   "id": "c1595507",
   "metadata": {},
   "outputs": [],
   "source": [
    "# Bitwise operation\n",
    "# The bitwise operator | is used for union\n",
    "# The bitwise operator & is used for intersection\n",
    "# The bitwise operator - is used for difference\n",
    "# The bitwise operator ^ is used for symmetric difference"
   ]
  },
  {
   "cell_type": "code",
   "execution_count": 7,
   "id": "12b3b9cb",
   "metadata": {},
   "outputs": [
    {
     "ename": "NameError",
     "evalue": "name 'list_word' is not defined",
     "output_type": "error",
     "traceback": [
      "\u001b[1;31m---------------------------------------------------------------------------\u001b[0m",
      "\u001b[1;31mNameError\u001b[0m                                 Traceback (most recent call last)",
      "\u001b[1;32m~\\AppData\\Local\\Temp\\ipykernel_1928\\3444495657.py\u001b[0m in \u001b[0;36m<module>\u001b[1;34m\u001b[0m\n\u001b[0;32m     13\u001b[0m \u001b[1;33m\u001b[0m\u001b[0m\n\u001b[0;32m     14\u001b[0m \u001b[0mwords\u001b[0m \u001b[1;33m=\u001b[0m \u001b[1;33m[\u001b[0m\u001b[1;34m\"the\"\u001b[0m\u001b[1;33m,\u001b[0m \u001b[1;34m\"cat\"\u001b[0m\u001b[1;33m,\u001b[0m \u001b[1;34m\"dog\"\u001b[0m\u001b[1;33m,\u001b[0m \u001b[1;34m\"hat\"\u001b[0m\u001b[1;33m,\u001b[0m \u001b[1;34m\"sdc\"\u001b[0m\u001b[1;33m,\u001b[0m \u001b[1;34m\"elephant\"\u001b[0m\u001b[1;33m]\u001b[0m\u001b[1;33m\u001b[0m\u001b[1;33m\u001b[0m\u001b[0m\n\u001b[1;32m---> 15\u001b[1;33m \u001b[0mlong_words\u001b[0m \u001b[1;33m=\u001b[0m \u001b[1;33m{\u001b[0m\u001b[0mword\u001b[0m \u001b[1;32mfor\u001b[0m \u001b[0mword\u001b[0m \u001b[1;32min\u001b[0m \u001b[0mlist_word\u001b[0m \u001b[1;32mif\u001b[0m \u001b[0mlen\u001b[0m\u001b[1;33m(\u001b[0m\u001b[0mword\u001b[0m\u001b[1;33m)\u001b[0m \u001b[1;33m>\u001b[0m \u001b[1;36m3\u001b[0m\u001b[1;33m}\u001b[0m\u001b[1;33m\u001b[0m\u001b[1;33m\u001b[0m\u001b[0m\n\u001b[0m\u001b[0;32m     16\u001b[0m \u001b[0mprint\u001b[0m\u001b[1;33m(\u001b[0m\u001b[0mlong_words\u001b[0m\u001b[1;33m)\u001b[0m\u001b[1;33m\u001b[0m\u001b[1;33m\u001b[0m\u001b[0m\n\u001b[0;32m     17\u001b[0m \u001b[1;33m\u001b[0m\u001b[0m\n",
      "\u001b[1;31mNameError\u001b[0m: name 'list_word' is not defined"
     ]
    }
   ],
   "source": [
    "# Practice problems:\n",
    "\n",
    "# 1) Given a list of numbers, create a new set that contains only the unique numbers from the list \n",
    "\n",
    "def create_set_from_list(l):\n",
    "    unique_elements = set(l)\n",
    "    print(\"Set: \", unique_numbers)\n",
    "    \n",
    "# 2)\n",
    "\n",
    "\n",
    "# 3)\n",
    "\n",
    "words = [\"the\", \"cat\", \"dog\", \"hat\", \"sdc\", \"elephant\"]\n",
    "long_words = {word for word in list_word if len(word) > 3}\n",
    "print(long_words) \n",
    "\n",
    "# 4) Given a set remove the even numbers\n",
    "\n",
    "numbers = {}\n",
    "odd_numbers = {x for x in numbers if x % 2 != 0}\n",
    "print(odd_numbers)\n",
    "\n",
    "\n",
    "\n"
   ]
  },
  {
   "cell_type": "code",
   "execution_count": 8,
   "id": "80938e1f",
   "metadata": {},
   "outputs": [],
   "source": [
    "# Code profiling\n",
    "# timeit\n",
    "#cProfile"
   ]
  },
  {
   "cell_type": "code",
   "execution_count": 9,
   "id": "05f5e46d",
   "metadata": {},
   "outputs": [],
   "source": [
    "# timeit\n",
    "\n",
    "import timeit\n",
    "def my_function():\n",
    "    #code\n",
    "    print(timeit.timeit(\"[i**2 for i in range(10000)]\", number = 10000))"
   ]
  },
  {
   "cell_type": "code",
   "execution_count": 10,
   "id": "0544883c",
   "metadata": {},
   "outputs": [
    {
     "ename": "NameError",
     "evalue": "name 'timemtime' is not defined",
     "output_type": "error",
     "traceback": [
      "\u001b[1;31m---------------------------------------------------------------------------\u001b[0m",
      "\u001b[1;31mNameError\u001b[0m                                 Traceback (most recent call last)",
      "\u001b[1;32m~\\AppData\\Local\\Temp\\ipykernel_1928\\3602567795.py\u001b[0m in \u001b[0;36m<module>\u001b[1;34m\u001b[0m\n\u001b[0;32m      3\u001b[0m \u001b[1;32mfor\u001b[0m \u001b[0mi\u001b[0m \u001b[1;32min\u001b[0m \u001b[0mrange\u001b[0m\u001b[1;33m(\u001b[0m\u001b[1;36m1000\u001b[0m\u001b[1;33m)\u001b[0m\u001b[1;33m:\u001b[0m\u001b[1;33m\u001b[0m\u001b[1;33m\u001b[0m\u001b[0m\n\u001b[0;32m      4\u001b[0m     \u001b[0mx\u001b[0m \u001b[1;33m=\u001b[0m \u001b[0msum\u001b[0m\u001b[1;33m(\u001b[0m\u001b[1;33m[\u001b[0m\u001b[0mi\u001b[0m\u001b[1;33m**\u001b[0m\u001b[1;36m2\u001b[0m \u001b[1;32mfor\u001b[0m \u001b[0mi\u001b[0m \u001b[1;32min\u001b[0m \u001b[0mrange\u001b[0m\u001b[1;33m(\u001b[0m\u001b[1;36m1000\u001b[0m\u001b[1;33m)\u001b[0m\u001b[1;33m]\u001b[0m\u001b[1;33m)\u001b[0m\u001b[1;33m\u001b[0m\u001b[1;33m\u001b[0m\u001b[0m\n\u001b[1;32m----> 5\u001b[1;33m     \u001b[0mend_time\u001b[0m \u001b[1;33m=\u001b[0m \u001b[0mtimemtime\u001b[0m\u001b[1;33m(\u001b[0m\u001b[1;33m)\u001b[0m\u001b[1;33m\u001b[0m\u001b[1;33m\u001b[0m\u001b[0m\n\u001b[0m\u001b[0;32m      6\u001b[0m \u001b[1;33m\u001b[0m\u001b[0m\n",
      "\u001b[1;31mNameError\u001b[0m: name 'timemtime' is not defined"
     ]
    }
   ],
   "source": [
    "# import timeit\n",
    "start_time = timeit.timeit()\n",
    "for i in range(1000):\n",
    "    x = sum([i**2 for i in range(1000)])\n",
    "    end_time = timemtime()\n",
    "    "
   ]
  },
  {
   "cell_type": "code",
   "execution_count": null,
   "id": "b04a54b2",
   "metadata": {},
   "outputs": [],
   "source": [
    "# cProfile\n",
    "# This is a bit more complicated to set up - need a script file - but it is more descriptive\n",
    "# Breaks down your code to a more atomic level so that you can see where the code is slow\n",
    "\n",
    "import cProfile\n",
    "import my_script # need to script code in another file\n",
    "\n",
    "cProfile.run(\"my_script\") # analyzes the script"
   ]
  }
 ],
 "metadata": {
  "kernelspec": {
   "display_name": "Python 3 (ipykernel)",
   "language": "python",
   "name": "python3"
  },
  "language_info": {
   "codemirror_mode": {
    "name": "ipython",
    "version": 3
   },
   "file_extension": ".py",
   "mimetype": "text/x-python",
   "name": "python",
   "nbconvert_exporter": "python",
   "pygments_lexer": "ipython3",
   "version": "3.9.13"
  }
 },
 "nbformat": 4,
 "nbformat_minor": 5
}
