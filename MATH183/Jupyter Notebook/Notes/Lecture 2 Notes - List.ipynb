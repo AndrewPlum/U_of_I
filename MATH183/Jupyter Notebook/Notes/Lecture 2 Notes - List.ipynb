{
 "cells": [
  {
   "cell_type": "code",
   "execution_count": 1,
   "id": "0405fbce-2be8-4143-88fb-7c63e96245a0",
   "metadata": {},
   "outputs": [
    {
     "name": "stdout",
     "output_type": "stream",
     "text": [
      "[1, 2, 3, 4, 5]\n"
     ]
    }
   ],
   "source": [
    "my_list = [1,2,3,4,5,]\n",
    "print(my_list)"
   ]
  },
  {
   "cell_type": "code",
   "execution_count": 2,
   "id": "05c75635-0e88-465b-8781-a576dd1bdc7e",
   "metadata": {},
   "outputs": [
    {
     "name": "stdout",
     "output_type": "stream",
     "text": [
      "[1, 2, 3, 4, 5, 6]\n"
     ]
    }
   ],
   "source": [
    "my_list.append(6)\n",
    "print(my_list)"
   ]
  },
  {
   "cell_type": "code",
   "execution_count": 5,
   "id": "c3a10c0d-ba8e-46b6-a407-991291645d9c",
   "metadata": {},
   "outputs": [
    {
     "name": "stdout",
     "output_type": "stream",
     "text": [
      "[1, 2, 3, 4, 5, 6, 7, 8, 9]\n"
     ]
    }
   ],
   "source": [
    "new_list = [7,8,9]\n",
    "my_list.extend(new_list)\n",
    "print(my_list)"
   ]
  },
  {
   "cell_type": "code",
   "execution_count": 7,
   "id": "dbec3e18-e172-4438-a596-65987540ba94",
   "metadata": {},
   "outputs": [
    {
     "name": "stdout",
     "output_type": "stream",
     "text": [
      "[1, 2, 3, 4, 5, 7, 8, 9]\n"
     ]
    }
   ],
   "source": [
    "my_list.remove(6)\n",
    "print(my_list)"
   ]
  },
  {
   "cell_type": "code",
   "execution_count": 9,
   "id": "8657463b-e252-427c-95c4-5a80c6ced367",
   "metadata": {},
   "outputs": [
    {
     "name": "stdout",
     "output_type": "stream",
     "text": [
      "[1, 2, 3, 4, 5, 6, 7, 8, 9]\n"
     ]
    }
   ],
   "source": [
    "my_list.insert(5,6)\n",
    "print(my_list)"
   ]
  },
  {
   "cell_type": "code",
   "execution_count": 10,
   "id": "40bcf788-609d-41e0-9fab-fd5d78a59fc5",
   "metadata": {},
   "outputs": [
    {
     "name": "stdout",
     "output_type": "stream",
     "text": [
      "[4, 5]\n"
     ]
    }
   ],
   "source": [
    "#slicing\n",
    "print(my_list[3:5])\n",
    "#leaves out last index by convention"
   ]
  },
  {
   "cell_type": "code",
   "execution_count": 14,
   "id": "7af764ba-e791-49fb-8496-c0cfd7d6fb44",
   "metadata": {},
   "outputs": [
    {
     "name": "stdout",
     "output_type": "stream",
     "text": [
      "None\n",
      "[4, 5, 6]\n"
     ]
    }
   ],
   "source": [
    "my_list.reverse()\n",
    "print(my_list)\n",
    "print(my_list[3:6])"
   ]
  },
  {
   "cell_type": "code",
   "execution_count": 13,
   "id": "fc18f48d-5b43-4e35-8eea-f219c8e66004",
   "metadata": {},
   "outputs": [
    {
     "name": "stdout",
     "output_type": "stream",
     "text": [
      "[2, 3, 4]\n"
     ]
    }
   ],
   "source": [
    "#print out 8,7,6\n",
    "print(my_list[1:4])"
   ]
  },
  {
   "cell_type": "code",
   "execution_count": 15,
   "id": "36127b57-a4c7-4862-947b-4e7aa4bd5592",
   "metadata": {},
   "outputs": [
    {
     "name": "stdout",
     "output_type": "stream",
     "text": [
      "[1, 2, 3, 4, 5, 6, 7, 8]\n"
     ]
    }
   ],
   "source": [
    "#lists are lifo\n",
    "my_list.pop()\n",
    "print(my_list)"
   ]
  },
  {
   "cell_type": "code",
   "execution_count": 18,
   "id": "ace3f770-4012-44f0-903d-4e670d8b609e",
   "metadata": {},
   "outputs": [
    {
     "name": "stdout",
     "output_type": "stream",
     "text": [
      "[1, 2, 3, 4, 5, 6, 7, 8, 9]\n"
     ]
    }
   ],
   "source": [
    "my_list.sort()\n",
    "my_list.append(9)\n",
    "print(my_list)"
   ]
  },
  {
   "cell_type": "code",
   "execution_count": 19,
   "id": "5db0cf86-c8f4-4531-8678-af97f95840ee",
   "metadata": {},
   "outputs": [
    {
     "data": {
      "text/plain": [
       "45"
      ]
     },
     "execution_count": 19,
     "metadata": {},
     "output_type": "execute_result"
    }
   ],
   "source": [
    "sum(my_list)"
   ]
  },
  {
   "cell_type": "code",
   "execution_count": 31,
   "id": "34fbb7ab-4a27-4242-8861-9d2ef3491d47",
   "metadata": {},
   "outputs": [
    {
     "name": "stdout",
     "output_type": "stream",
     "text": [
      "['kevin', 'dalton']\n"
     ]
    }
   ],
   "source": [
    "#problem create a prrogram that takes a list of words and returns a new list \n",
    "#with only the words that have a length of equal to or more than 5\n",
    "word_list = ['john', 'kevin', 'linh', \"dalton\"]\n",
    "#target new_list = ['kevin','xavier','dalton']\n",
    "new_list = []\n",
    "for word in word_list:\n",
    "    if len(word) >= 5:\n",
    "        new_list.append(word)\n",
    "print(new_list)"
   ]
  },
  {
   "cell_type": "code",
   "execution_count": 21,
   "id": "0c6f37ac-33af-47ff-a360-bd23a8948f03",
   "metadata": {},
   "outputs": [
    {
     "name": "stdout",
     "output_type": "stream",
     "text": [
      "[0, 1, 4, 9, 16, 25, 36, 49, 64, 81]\n"
     ]
    }
   ],
   "source": [
    "squares = [x**2 for x in range(10)]\n",
    "print(squares)"
   ]
  },
  {
   "cell_type": "code",
   "execution_count": 23,
   "id": "e23b6246-9669-44c2-9b6a-0a6394645573",
   "metadata": {},
   "outputs": [
    {
     "data": {
      "text/plain": [
       "333833500"
      ]
     },
     "execution_count": 23,
     "metadata": {},
     "output_type": "execute_result"
    }
   ],
   "source": [
    "#comput n^2 sum to 1000\n",
    "squares = [x**2 for x in range(1001)]\n",
    "sum(squares)"
   ]
  },
  {
   "cell_type": "code",
   "execution_count": 24,
   "id": "b03da9de-1303-4d07-8275-02cb1fc58958",
   "metadata": {},
   "outputs": [
    {
     "data": {
      "text/plain": [
       "('hello', 5)"
      ]
     },
     "execution_count": 24,
     "metadata": {},
     "output_type": "execute_result"
    }
   ],
   "source": [
    "def string_length(input_word):\n",
    "    return (input_word, len(input_word))\n",
    "\n",
    "#outputs a tuple which is a list that can't be changed\n",
    "string_length(\"hello\")"
   ]
  },
  {
   "cell_type": "code",
   "execution_count": 25,
   "id": "b6e0d8de-fccf-48fb-9b70-149e25a57091",
   "metadata": {},
   "outputs": [
    {
     "name": "stdout",
     "output_type": "stream",
     "text": [
      "giraffe\n"
     ]
    }
   ],
   "source": [
    "zoo = ('lion','tiger','giraffe','elephant','monkey')\n",
    "print(zoo[2])"
   ]
  },
  {
   "cell_type": "code",
   "execution_count": 27,
   "id": "d58dc1c5-83fb-48d9-b5b6-f87aa0b2e9a0",
   "metadata": {},
   "outputs": [
    {
     "name": "stdout",
     "output_type": "stream",
     "text": [
      "('rhinoceros',)\n"
     ]
    }
   ],
   "source": [
    "new_animal = (\"rhinoceros\",)\n",
    "print(new_animal)"
   ]
  },
  {
   "cell_type": "code",
   "execution_count": 28,
   "id": "cf083883-a4e5-4660-9d83-534f69256b83",
   "metadata": {},
   "outputs": [
    {
     "name": "stdout",
     "output_type": "stream",
     "text": [
      "('lion', 'tiger', 'giraffe', 'elephant', 'monkey', 'rhinoceros')\n"
     ]
    }
   ],
   "source": [
    "new_zoo = zoo + add_animal\n",
    "print(new_zoo)"
   ]
  },
  {
   "cell_type": "code",
   "execution_count": 29,
   "id": "5009558c-f5e1-4c4e-be22-93f7d5e5939b",
   "metadata": {},
   "outputs": [
    {
     "name": "stdout",
     "output_type": "stream",
     "text": [
      "['lion', 'tiger', 'giraffe', 'elephant', 'monkey', 'rhinoceros']\n"
     ]
    }
   ],
   "source": [
    "zoo_list = list(new_zoo)\n",
    "print(zoo_list)"
   ]
  },
  {
   "cell_type": "code",
   "execution_count": null,
   "id": "1642610e-73ed-4c05-bff7-f10fff8eda53",
   "metadata": {},
   "outputs": [],
   "source": []
  }
 ],
 "metadata": {
  "kernelspec": {
   "display_name": "Python 3 (ipykernel)",
   "language": "python",
   "name": "python3"
  },
  "language_info": {
   "codemirror_mode": {
    "name": "ipython",
    "version": 3
   },
   "file_extension": ".py",
   "mimetype": "text/x-python",
   "name": "python",
   "nbconvert_exporter": "python",
   "pygments_lexer": "ipython3",
   "version": "3.9.13"
  }
 },
 "nbformat": 4,
 "nbformat_minor": 5
}
