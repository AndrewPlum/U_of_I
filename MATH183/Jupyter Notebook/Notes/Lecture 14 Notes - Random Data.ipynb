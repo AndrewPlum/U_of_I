{
 "cells": [
  {
   "cell_type": "code",
   "execution_count": 1,
   "id": "e9595052",
   "metadata": {},
   "outputs": [],
   "source": [
    "# Generative machine learning - generates fake data you don't have"
   ]
  },
  {
   "cell_type": "code",
   "execution_count": 3,
   "id": "7bf96a93",
   "metadata": {},
   "outputs": [],
   "source": [
    "# Numpy works with vectors and matrices"
   ]
  },
  {
   "cell_type": "code",
   "execution_count": null,
   "id": "bb10acc4",
   "metadata": {},
   "outputs": [],
   "source": [
    "# Look a lecture notes"
   ]
  },
  {
   "cell_type": "code",
   "execution_count": 4,
   "id": "87b6bbb5",
   "metadata": {},
   "outputs": [],
   "source": [
    "# Random data"
   ]
  },
  {
   "cell_type": "code",
   "execution_count": null,
   "id": "ca5fe403",
   "metadata": {},
   "outputs": [],
   "source": [
    "# Pivot table"
   ]
  }
 ],
 "metadata": {
  "kernelspec": {
   "display_name": "Python 3 (ipykernel)",
   "language": "python",
   "name": "python3"
  },
  "language_info": {
   "codemirror_mode": {
    "name": "ipython",
    "version": 3
   },
   "file_extension": ".py",
   "mimetype": "text/x-python",
   "name": "python",
   "nbconvert_exporter": "python",
   "pygments_lexer": "ipython3",
   "version": "3.9.13"
  }
 },
 "nbformat": 4,
 "nbformat_minor": 5
}
