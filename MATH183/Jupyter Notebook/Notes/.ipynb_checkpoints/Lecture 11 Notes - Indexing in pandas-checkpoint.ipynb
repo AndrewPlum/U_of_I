{
 "cells": [
  {
   "cell_type": "code",
   "execution_count": 17,
   "id": "084c4f16",
   "metadata": {},
   "outputs": [
    {
     "name": "stdout",
     "output_type": "stream",
     "text": [
      "       A      B  C   D\n",
      "1 a  foo    one  1  10\n",
      "2 b  bar    one  2  20\n",
      "3 c  foo    two  3  30\n",
      "4 d  bar    one  4  40\n",
      "1 e  foo    two  5  50\n",
      "2 f  bar    two  6  60\n",
      "3 g  foo    one  7  70\n",
      "4 h  foo  three  8  80\n",
      "A    foo\n",
      "B    one\n",
      "C      1\n",
      "D     10\n",
      "Name: (1, a), dtype: object\n"
     ]
    }
   ],
   "source": [
    "# Indexing in pandas\n",
    "\n",
    "# DataFrame \n",
    "# They are mutable\n",
    "\n",
    "import pandas as pd\n",
    "\n",
    "# Creating a sample dataframe\n",
    "df = pd.DataFrame({\"A\" : [\"foo\", \"bar\", \"foo\", \"bar\", \"foo\", \"bar\", \"foo\", \"foo\"],\n",
    "                   \"B\" : [\"one\", \"one\", \"two\", \"one\", \"two\", \"two\", \"one\", \"three\"],\n",
    "                   \"C\" : [1, 2, 3, 4, 5, 6, 7, 8],\n",
    "                   \"D\" : [10, 20, 30, 40, 50, 60, 70, 80]},\n",
    "                   index = [[1, 2, 3, 4, 1, 2, 3, 4],[\"a\", \"b\", \"c\", \"d\", \"e\", \"f\", \"g\", \"h\"]])\n",
    "\n",
    "# Grouping the dataframe by columns \"A\"\n",
    "#grouped = df.groupby([\"A\"])\n",
    "\n",
    "# Grouping the dataframe by columns \"A\" and \"B\"\n",
    "#grouped = edf.groupby([\"A, \"B\"])\n",
    "\n",
    "# Calculating the sum of the values in columns 'C' and 'D' for each group\n",
    "#result = grouped.sum()\n",
    "\n",
    "df\n",
    "print(df)\n",
    "print(df.loc[1, 'a'])\n",
    "#print(\"Grouped result:\")\n",
    "#print(result)"
   ]
  },
  {
   "cell_type": "code",
   "execution_count": 19,
   "id": "e0079e39",
   "metadata": {},
   "outputs": [
    {
     "data": {
      "text/html": [
       "<div>\n",
       "<style scoped>\n",
       "    .dataframe tbody tr th:only-of-type {\n",
       "        vertical-align: middle;\n",
       "    }\n",
       "\n",
       "    .dataframe tbody tr th {\n",
       "        vertical-align: top;\n",
       "    }\n",
       "\n",
       "    .dataframe thead th {\n",
       "        text-align: right;\n",
       "    }\n",
       "</style>\n",
       "<table border=\"1\" class=\"dataframe\">\n",
       "  <thead>\n",
       "    <tr style=\"text-align: right;\">\n",
       "      <th></th>\n",
       "      <th></th>\n",
       "      <th>C</th>\n",
       "      <th>D</th>\n",
       "    </tr>\n",
       "  </thead>\n",
       "  <tbody>\n",
       "    <tr>\n",
       "      <th>1</th>\n",
       "      <th>a</th>\n",
       "      <td>1</td>\n",
       "      <td>10</td>\n",
       "    </tr>\n",
       "    <tr>\n",
       "      <th>2</th>\n",
       "      <th>b</th>\n",
       "      <td>2</td>\n",
       "      <td>20</td>\n",
       "    </tr>\n",
       "    <tr>\n",
       "      <th>3</th>\n",
       "      <th>c</th>\n",
       "      <td>3</td>\n",
       "      <td>30</td>\n",
       "    </tr>\n",
       "    <tr>\n",
       "      <th>4</th>\n",
       "      <th>d</th>\n",
       "      <td>4</td>\n",
       "      <td>40</td>\n",
       "    </tr>\n",
       "    <tr>\n",
       "      <th>1</th>\n",
       "      <th>e</th>\n",
       "      <td>5</td>\n",
       "      <td>50</td>\n",
       "    </tr>\n",
       "    <tr>\n",
       "      <th>2</th>\n",
       "      <th>f</th>\n",
       "      <td>6</td>\n",
       "      <td>60</td>\n",
       "    </tr>\n",
       "    <tr>\n",
       "      <th>3</th>\n",
       "      <th>g</th>\n",
       "      <td>7</td>\n",
       "      <td>70</td>\n",
       "    </tr>\n",
       "    <tr>\n",
       "      <th>4</th>\n",
       "      <th>h</th>\n",
       "      <td>8</td>\n",
       "      <td>80</td>\n",
       "    </tr>\n",
       "  </tbody>\n",
       "</table>\n",
       "</div>"
      ],
      "text/plain": [
       "     C   D\n",
       "1 a  1  10\n",
       "2 b  2  20\n",
       "3 c  3  30\n",
       "4 d  4  40\n",
       "1 e  5  50\n",
       "2 f  6  60\n",
       "3 g  7  70\n",
       "4 h  8  80"
      ]
     },
     "execution_count": 19,
     "metadata": {},
     "output_type": "execute_result"
    }
   ],
   "source": [
    "# Dropping a column from a dataframe\n",
    "\n",
    "ndf = df.drop([\"A\", \"B\"], axis = 1)\n",
    "ndf"
   ]
  },
  {
   "cell_type": "code",
   "execution_count": 21,
   "id": "885a0127",
   "metadata": {},
   "outputs": [
    {
     "data": {
      "text/plain": [
       "C     4.5\n",
       "D    45.0\n",
       "dtype: float64"
      ]
     },
     "execution_count": 21,
     "metadata": {},
     "output_type": "execute_result"
    }
   ],
   "source": [
    "# Statistics with dataframe\n",
    "\n",
    "ndf.mean()"
   ]
  },
  {
   "cell_type": "code",
   "execution_count": 24,
   "id": "7f1a0636",
   "metadata": {},
   "outputs": [
    {
     "data": {
      "text/plain": [
       "1  a     5.5\n",
       "2  b    11.0\n",
       "3  c    16.5\n",
       "4  d    22.0\n",
       "1  e    27.5\n",
       "2  f    33.0\n",
       "3  g    38.5\n",
       "4  h    44.0\n",
       "dtype: float64"
      ]
     },
     "execution_count": 24,
     "metadata": {},
     "output_type": "execute_result"
    }
   ],
   "source": [
    "# Changing the axis\n",
    "# Columns are called a feature \n",
    "# Rows are a data point - instance\n",
    "\n",
    "ndf.mean(axis=\"columns\")"
   ]
  },
  {
   "cell_type": "code",
   "execution_count": 27,
   "id": "afe18940",
   "metadata": {},
   "outputs": [
    {
     "data": {
      "text/html": [
       "<div>\n",
       "<style scoped>\n",
       "    .dataframe tbody tr th:only-of-type {\n",
       "        vertical-align: middle;\n",
       "    }\n",
       "\n",
       "    .dataframe tbody tr th {\n",
       "        vertical-align: top;\n",
       "    }\n",
       "\n",
       "    .dataframe thead th {\n",
       "        text-align: right;\n",
       "    }\n",
       "</style>\n",
       "<table border=\"1\" class=\"dataframe\">\n",
       "  <thead>\n",
       "    <tr style=\"text-align: right;\">\n",
       "      <th></th>\n",
       "      <th>C</th>\n",
       "      <th>D</th>\n",
       "    </tr>\n",
       "    <tr>\n",
       "      <th>A</th>\n",
       "      <th></th>\n",
       "      <th></th>\n",
       "    </tr>\n",
       "  </thead>\n",
       "  <tbody>\n",
       "    <tr>\n",
       "      <th>bar</th>\n",
       "      <td>4.0</td>\n",
       "      <td>40.0</td>\n",
       "    </tr>\n",
       "    <tr>\n",
       "      <th>foo</th>\n",
       "      <td>4.8</td>\n",
       "      <td>48.0</td>\n",
       "    </tr>\n",
       "  </tbody>\n",
       "</table>\n",
       "</div>"
      ],
      "text/plain": [
       "       C     D\n",
       "A             \n",
       "bar  4.0  40.0\n",
       "foo  4.8  48.0"
      ]
     },
     "execution_count": 27,
     "metadata": {},
     "output_type": "execute_result"
    }
   ],
   "source": [
    "# groupby()\n",
    "\n",
    "grouped = df.groupby(\"A\") # groups by characteristics bar and foo - 3 bar and 5 foo\n",
    "grouped.mean()"
   ]
  },
  {
   "cell_type": "code",
   "execution_count": 29,
   "id": "23d5fc47",
   "metadata": {},
   "outputs": [
    {
     "name": "stderr",
     "output_type": "stream",
     "text": [
      "C:\\Users\\a_j_p\\AppData\\Local\\Temp\\ipykernel_1220\\1116678969.py:4: FutureWarning: ['B'] did not aggregate successfully. If any error is raised this will raise in a future version of pandas. Drop these columns/ops to avoid this warning.\n",
      "  df.groupby(\"A\").aggregate([\"mean\", np.median, max])\n"
     ]
    },
    {
     "data": {
      "text/html": [
       "<div>\n",
       "<style scoped>\n",
       "    .dataframe tbody tr th:only-of-type {\n",
       "        vertical-align: middle;\n",
       "    }\n",
       "\n",
       "    .dataframe tbody tr th {\n",
       "        vertical-align: top;\n",
       "    }\n",
       "\n",
       "    .dataframe thead tr th {\n",
       "        text-align: left;\n",
       "    }\n",
       "\n",
       "    .dataframe thead tr:last-of-type th {\n",
       "        text-align: right;\n",
       "    }\n",
       "</style>\n",
       "<table border=\"1\" class=\"dataframe\">\n",
       "  <thead>\n",
       "    <tr>\n",
       "      <th></th>\n",
       "      <th colspan=\"3\" halign=\"left\">C</th>\n",
       "      <th colspan=\"3\" halign=\"left\">D</th>\n",
       "    </tr>\n",
       "    <tr>\n",
       "      <th></th>\n",
       "      <th>mean</th>\n",
       "      <th>median</th>\n",
       "      <th>max</th>\n",
       "      <th>mean</th>\n",
       "      <th>median</th>\n",
       "      <th>max</th>\n",
       "    </tr>\n",
       "    <tr>\n",
       "      <th>A</th>\n",
       "      <th></th>\n",
       "      <th></th>\n",
       "      <th></th>\n",
       "      <th></th>\n",
       "      <th></th>\n",
       "      <th></th>\n",
       "    </tr>\n",
       "  </thead>\n",
       "  <tbody>\n",
       "    <tr>\n",
       "      <th>bar</th>\n",
       "      <td>4.0</td>\n",
       "      <td>4.0</td>\n",
       "      <td>6</td>\n",
       "      <td>40.0</td>\n",
       "      <td>40.0</td>\n",
       "      <td>60</td>\n",
       "    </tr>\n",
       "    <tr>\n",
       "      <th>foo</th>\n",
       "      <td>4.8</td>\n",
       "      <td>5.0</td>\n",
       "      <td>8</td>\n",
       "      <td>48.0</td>\n",
       "      <td>50.0</td>\n",
       "      <td>80</td>\n",
       "    </tr>\n",
       "  </tbody>\n",
       "</table>\n",
       "</div>"
      ],
      "text/plain": [
       "       C                D           \n",
       "    mean median max  mean median max\n",
       "A                                   \n",
       "bar  4.0    4.0   6  40.0   40.0  60\n",
       "foo  4.8    5.0   8  48.0   50.0  80"
      ]
     },
     "execution_count": 29,
     "metadata": {},
     "output_type": "execute_result"
    }
   ],
   "source": [
    "# groupby aggregate\n",
    "\n",
    "import numpy as np\n",
    "df.groupby(\"A\").aggregate([\"mean\", np.median, max])"
   ]
  },
  {
   "cell_type": "code",
   "execution_count": 32,
   "id": "209671c6",
   "metadata": {},
   "outputs": [
    {
     "name": "stdout",
     "output_type": "stream",
     "text": [
      "       A      B  C   D\n",
      "1 a  foo    one  1  10\n",
      "2 b  bar    one  2  20\n",
      "3 c  foo    two  3  30\n",
      "4 d  bar    one  4  40\n",
      "1 e  foo    two  5  50\n",
      "2 f  bar    two  6  60\n",
      "3 g  foo    one  7  70\n",
      "4 h  foo  three  8  80\n"
     ]
    },
    {
     "data": {
      "text/html": [
       "<div>\n",
       "<style scoped>\n",
       "    .dataframe tbody tr th:only-of-type {\n",
       "        vertical-align: middle;\n",
       "    }\n",
       "\n",
       "    .dataframe tbody tr th {\n",
       "        vertical-align: top;\n",
       "    }\n",
       "\n",
       "    .dataframe thead th {\n",
       "        text-align: right;\n",
       "    }\n",
       "</style>\n",
       "<table border=\"1\" class=\"dataframe\">\n",
       "  <thead>\n",
       "    <tr style=\"text-align: right;\">\n",
       "      <th></th>\n",
       "      <th>C</th>\n",
       "      <th>D</th>\n",
       "    </tr>\n",
       "    <tr>\n",
       "      <th>A</th>\n",
       "      <th></th>\n",
       "      <th></th>\n",
       "    </tr>\n",
       "  </thead>\n",
       "  <tbody>\n",
       "    <tr>\n",
       "      <th>bar</th>\n",
       "      <td>2</td>\n",
       "      <td>40.0</td>\n",
       "    </tr>\n",
       "    <tr>\n",
       "      <th>foo</th>\n",
       "      <td>1</td>\n",
       "      <td>50.0</td>\n",
       "    </tr>\n",
       "  </tbody>\n",
       "</table>\n",
       "</div>"
      ],
      "text/plain": [
       "     C     D\n",
       "A           \n",
       "bar  2  40.0\n",
       "foo  1  50.0"
      ]
     },
     "execution_count": 32,
     "metadata": {},
     "output_type": "execute_result"
    }
   ],
   "source": [
    "# groupby aggregate\n",
    "\n",
    "print(df)\n",
    "df.groupby(\"A\").aggregate({\"C\" : \"min\", \"D\" : np.median})"
   ]
  },
  {
   "cell_type": "code",
   "execution_count": null,
   "id": "42433b2c",
   "metadata": {},
   "outputs": [],
   "source": []
  }
 ],
 "metadata": {
  "kernelspec": {
   "display_name": "Python 3 (ipykernel)",
   "language": "python",
   "name": "python3"
  },
  "language_info": {
   "codemirror_mode": {
    "name": "ipython",
    "version": 3
   },
   "file_extension": ".py",
   "mimetype": "text/x-python",
   "name": "python",
   "nbconvert_exporter": "python",
   "pygments_lexer": "ipython3",
   "version": "3.9.13"
  }
 },
 "nbformat": 4,
 "nbformat_minor": 5
}
