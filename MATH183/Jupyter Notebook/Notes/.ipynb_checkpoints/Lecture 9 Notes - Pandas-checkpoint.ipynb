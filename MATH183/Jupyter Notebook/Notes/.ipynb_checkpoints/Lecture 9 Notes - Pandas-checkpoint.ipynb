{
 "cells": [
  {
   "cell_type": "code",
   "execution_count": 1,
   "id": "56b25c66",
   "metadata": {},
   "outputs": [],
   "source": [
    "# Pandas\n",
    "# Used to work with tabular data\n",
    "# Used for data analysis\n",
    "# Two main data strctures: series and data frame"
   ]
  },
  {
   "cell_type": "code",
   "execution_count": 2,
   "id": "2ddb1a3b",
   "metadata": {},
   "outputs": [
    {
     "ename": "AttributeError",
     "evalue": "module 'pandas' has no attribute 'series'",
     "output_type": "error",
     "traceback": [
      "\u001b[1;31m---------------------------------------------------------------------------\u001b[0m",
      "\u001b[1;31mAttributeError\u001b[0m                            Traceback (most recent call last)",
      "\u001b[1;32m~\\AppData\\Local\\Temp\\ipykernel_2324\\2000173179.py\u001b[0m in \u001b[0;36m<module>\u001b[1;34m\u001b[0m\n\u001b[0;32m      4\u001b[0m \u001b[1;33m\u001b[0m\u001b[0m\n\u001b[0;32m      5\u001b[0m \u001b[0mdata\u001b[0m \u001b[1;33m=\u001b[0m \u001b[1;33m[\u001b[0m\u001b[1;36m10\u001b[0m\u001b[1;33m,\u001b[0m \u001b[1;36m40\u001b[0m\u001b[1;33m,\u001b[0m \u001b[1;36m3\u001b[0m\u001b[1;33m,\u001b[0m \u001b[1;36m1\u001b[0m\u001b[1;33m,\u001b[0m \u001b[1;36m6\u001b[0m\u001b[1;33m]\u001b[0m\u001b[1;33m\u001b[0m\u001b[1;33m\u001b[0m\u001b[0m\n\u001b[1;32m----> 6\u001b[1;33m \u001b[0ms\u001b[0m \u001b[1;33m=\u001b[0m \u001b[0mpd\u001b[0m\u001b[1;33m.\u001b[0m\u001b[0mseries\u001b[0m\u001b[1;33m(\u001b[0m\u001b[0mdata\u001b[0m\u001b[1;33m)\u001b[0m\u001b[1;33m\u001b[0m\u001b[1;33m\u001b[0m\u001b[0m\n\u001b[0m\u001b[0;32m      7\u001b[0m \u001b[0mprint\u001b[0m\u001b[1;33m(\u001b[0m\u001b[1;34m\"Data series:\\n\"\u001b[0m\u001b[1;33m,\u001b[0m \u001b[0ms\u001b[0m\u001b[1;33m)\u001b[0m\u001b[1;33m\u001b[0m\u001b[1;33m\u001b[0m\u001b[0m\n\u001b[0;32m      8\u001b[0m \u001b[0mprint\u001b[0m\u001b[1;33m(\u001b[0m\u001b[1;34m\"Data type of s:\"\u001b[0m\u001b[1;33m,\u001b[0m \u001b[0mseries\u001b[0m\u001b[1;33m(\u001b[0m\u001b[0ms\u001b[0m\u001b[1;33m)\u001b[0m\u001b[1;33m)\u001b[0m\u001b[1;33m\u001b[0m\u001b[1;33m\u001b[0m\u001b[0m\n",
      "\u001b[1;32m~\\anaconda3\\lib\\site-packages\\pandas\\__init__.py\u001b[0m in \u001b[0;36m__getattr__\u001b[1;34m(name)\u001b[0m\n\u001b[0;32m    259\u001b[0m         \u001b[1;32mreturn\u001b[0m \u001b[0m_SparseArray\u001b[0m\u001b[1;33m\u001b[0m\u001b[1;33m\u001b[0m\u001b[0m\n\u001b[0;32m    260\u001b[0m \u001b[1;33m\u001b[0m\u001b[0m\n\u001b[1;32m--> 261\u001b[1;33m     \u001b[1;32mraise\u001b[0m \u001b[0mAttributeError\u001b[0m\u001b[1;33m(\u001b[0m\u001b[1;34mf\"module 'pandas' has no attribute '{name}'\"\u001b[0m\u001b[1;33m)\u001b[0m\u001b[1;33m\u001b[0m\u001b[1;33m\u001b[0m\u001b[0m\n\u001b[0m\u001b[0;32m    262\u001b[0m \u001b[1;33m\u001b[0m\u001b[0m\n\u001b[0;32m    263\u001b[0m \u001b[1;33m\u001b[0m\u001b[0m\n",
      "\u001b[1;31mAttributeError\u001b[0m: module 'pandas' has no attribute 'series'"
     ]
    }
   ],
   "source": [
    "# panda series\n",
    "# I think only 1 dimensional\n",
    "\n",
    "import pandas as pd\n",
    "\n",
    "data = [10, 40, 3, 1, 6]\n",
    "s = pd.series(data)\n",
    "print(\"Data series:\\n\", s)\n",
    "print(\"Data type of s:\", series(s))"
   ]
  },
  {
   "cell_type": "code",
   "execution_count": 4,
   "id": "a3e653ad",
   "metadata": {},
   "outputs": [
    {
     "name": "stdout",
     "output_type": "stream",
     "text": [
      "[[1, 2, 3], [4, 5, 6], [7, 8, 9]]\n",
      "3\n"
     ]
    }
   ],
   "source": [
    "# DataFrame by list\n",
    "# I think DataFrames are only 2 dimensional\n",
    "\n",
    "data = [[1, 2, 3], [4, 5, 6], [7, 8, 9]]\n",
    "print(data)\n",
    "print(data[0][2])"
   ]
  },
  {
   "cell_type": "code",
   "execution_count": 6,
   "id": "2a44c70d",
   "metadata": {},
   "outputs": [
    {
     "name": "stdout",
     "output_type": "stream",
     "text": [
      "data frame by list \n",
      "    0  1  2\n",
      "0  1  2  3\n",
      "1  4  5  6\n",
      "2  7  8  9\n",
      "(3, 3)\n"
     ]
    }
   ],
   "source": [
    "# Convert data to DataFrame\n",
    "\n",
    "df = pd.DataFrame(data)\n",
    "print(\"data frame by list \\n\", df)\n",
    "# DataFrame shape\n",
    "print(df.shape) # (3, 3)\n",
    "#print(type(df))"
   ]
  },
  {
   "cell_type": "code",
   "execution_count": 15,
   "id": "7ee5f297",
   "metadata": {},
   "outputs": [
    {
     "name": "stdout",
     "output_type": "stream",
     "text": [
      "   bob  tom  mary\n",
      "0    1    4     7\n",
      "1    2    5     8\n",
      "2    3    6     9\n",
      "(3, 3)\n"
     ]
    }
   ],
   "source": [
    "# DataFrame by dictionary\n",
    "\n",
    "data = { \"bob\" : [1, 2, 3],\n",
    "         \"tom\" : [4, 5, 6],\n",
    "         \"mary\" : [7, 8, 9]}\n",
    "df = pd.DataFrame(data)\n",
    "print(df)\n",
    "print(df.shape)"
   ]
  },
  {
   "cell_type": "code",
   "execution_count": 11,
   "id": "396cb68c",
   "metadata": {},
   "outputs": [
    {
     "name": "stdout",
     "output_type": "stream",
     "text": [
      "0    1\n",
      "1    2\n",
      "2    3\n",
      "Name: a, dtype: int64\n",
      "<class 'pandas.core.series.Series'>\n"
     ]
    }
   ],
   "source": [
    "# Selecting columns\n",
    "\n",
    "col = df['a']\n",
    "print(col)\n",
    "print(type(col))"
   ]
  },
  {
   "cell_type": "code",
   "execution_count": 12,
   "id": "03f1be4a",
   "metadata": {},
   "outputs": [
    {
     "name": "stdout",
     "output_type": "stream",
     "text": [
      "a    1\n",
      "b    1\n",
      "c    1\n",
      "Name: 0, dtype: int64\n",
      "<class 'pandas.core.series.Series'>\n"
     ]
    }
   ],
   "source": [
    "# selecting rows\n",
    "\n",
    "r = df.loc[0]\n",
    "print(r)\n",
    "print(type(r))"
   ]
  },
  {
   "cell_type": "code",
   "execution_count": 16,
   "id": "4cec7e78",
   "metadata": {},
   "outputs": [
    {
     "name": "stdout",
     "output_type": "stream",
     "text": [
      "   bob  tom  mary\n",
      "0    1  4.0     7\n",
      "1    2  NaN     8\n",
      "2    3  6.0     9\n"
     ]
    }
   ],
   "source": [
    "# Handling with mussing data\n",
    "\n",
    "import numpy as np\n",
    "\n",
    "data = { \"bob\" : [1, 2, 3],\n",
    "         \"tom\" : [4, np.NaN, 6], # NaN - means not a number\n",
    "         \"mary\" : [7, 8, 9]}\n",
    "df = pd.DataFrame(data)\n",
    "print(df)"
   ]
  },
  {
   "cell_type": "code",
   "execution_count": 17,
   "id": "0f204f61",
   "metadata": {},
   "outputs": [
    {
     "name": "stdout",
     "output_type": "stream",
     "text": [
      "   bob  tom  mary\n",
      "0    1  4.0     7\n",
      "2    3  6.0     9\n"
     ]
    }
   ],
   "source": [
    "# Drop missing values\n",
    "\n",
    "print(df.dropna()) # drops NaN - drop a row instead of a column because a row is an instance of a data sample\n"
   ]
  },
  {
   "cell_type": "code",
   "execution_count": 18,
   "id": "d49bc40b",
   "metadata": {},
   "outputs": [
    {
     "name": "stdout",
     "output_type": "stream",
     "text": [
      "   bob  tom  mary\n",
      "0    1  4.0     7\n",
      "1    2  0.0     8\n",
      "2    3  6.0     9\n"
     ]
    }
   ],
   "source": [
    "# Another common practice is to replace NaN with 0, or mean, or median, etc.\n",
    "\n",
    "print(df.fillna(0))"
   ]
  },
  {
   "cell_type": "code",
   "execution_count": 19,
   "id": "0509871f",
   "metadata": {},
   "outputs": [],
   "source": [
    "# Concatenating\n",
    "# pd.concat\n"
   ]
  },
  {
   "cell_type": "code",
   "execution_count": 20,
   "id": "c823162a",
   "metadata": {},
   "outputs": [
    {
     "ename": "SyntaxError",
     "evalue": "invalid syntax (2790846781.py, line 4)",
     "output_type": "error",
     "traceback": [
      "\u001b[1;36m  File \u001b[1;32m\"C:\\Users\\a_j_p\\AppData\\Local\\Temp\\ipykernel_2324\\2790846781.py\"\u001b[1;36m, line \u001b[1;32m4\u001b[0m\n\u001b[1;33m    \"B\" : [\"B1\", \"B2\"]\u001b[0m\n\u001b[1;37m    ^\u001b[0m\n\u001b[1;31mSyntaxError\u001b[0m\u001b[1;31m:\u001b[0m invalid syntax\n"
     ]
    }
   ],
   "source": [
    "# Row-wise concatenation\n",
    "\n",
    "df1 = {\"A\" : [\"A1\", \"A2\"],\n",
    "       \"B\" : [\"B1\", \"B2\"]\n",
    "        index=[0, 1, 3, 4]}\n",
    "df2 = \n",
    "\n",
    "df = pd.concat[df1, df2]"
   ]
  },
  {
   "cell_type": "code",
   "execution_count": 21,
   "id": "e820e1f9",
   "metadata": {},
   "outputs": [],
   "source": [
    "# Column-wise concatenation\n",
    "# Look slides"
   ]
  },
  {
   "cell_type": "code",
   "execution_count": 22,
   "id": "90222235",
   "metadata": {},
   "outputs": [],
   "source": [
    "# When concatening DataFrames with different keys you'll get NaN when concatenating"
   ]
  },
  {
   "cell_type": "code",
   "execution_count": 28,
   "id": "72f03d55",
   "metadata": {},
   "outputs": [
    {
     "ename": "TypeError",
     "evalue": "'function' object is not subscriptable",
     "output_type": "error",
     "traceback": [
      "\u001b[1;31m---------------------------------------------------------------------------\u001b[0m",
      "\u001b[1;31mTypeError\u001b[0m                                 Traceback (most recent call last)",
      "\u001b[1;32m~\\AppData\\Local\\Temp\\ipykernel_2324\\3840874629.py\u001b[0m in \u001b[0;36m<module>\u001b[1;34m\u001b[0m\n\u001b[0;32m     13\u001b[0m \u001b[0mdf1\u001b[0m \u001b[1;33m=\u001b[0m \u001b[0mpd\u001b[0m\u001b[1;33m.\u001b[0m\u001b[0mDataFrame\u001b[0m\u001b[1;33m(\u001b[0m\u001b[0mdata2\u001b[0m\u001b[1;33m)\u001b[0m\u001b[1;33m\u001b[0m\u001b[1;33m\u001b[0m\u001b[0m\n\u001b[0;32m     14\u001b[0m \u001b[1;33m\u001b[0m\u001b[0m\n\u001b[1;32m---> 15\u001b[1;33m \u001b[0mresult\u001b[0m \u001b[1;33m=\u001b[0m \u001b[0mpd\u001b[0m\u001b[1;33m.\u001b[0m\u001b[0mconcat\u001b[0m\u001b[1;33m[\u001b[0m\u001b[0mdf1\u001b[0m\u001b[1;33m,\u001b[0m \u001b[0mdf2\u001b[0m\u001b[1;33m]\u001b[0m\u001b[1;33m\u001b[0m\u001b[1;33m\u001b[0m\u001b[0m\n\u001b[0m\u001b[0;32m     16\u001b[0m \u001b[1;33m\u001b[0m\u001b[0m\n\u001b[0;32m     17\u001b[0m \u001b[0mprint\u001b[0m\u001b[1;33m(\u001b[0m\u001b[0mresult\u001b[0m\u001b[1;33m)\u001b[0m\u001b[1;33m\u001b[0m\u001b[1;33m\u001b[0m\u001b[0m\n",
      "\u001b[1;31mTypeError\u001b[0m: 'function' object is not subscriptable"
     ]
    }
   ],
   "source": [
    "# Practice Problem 1:\n",
    "\n",
    "\n",
    "\n",
    "data1 = {\"A\" : [1.0, 1.0, 1.0],\n",
    "       \"B\" : [1.0, 1.0, 1.0]\n",
    "}\n",
    "df1 = pd.DataFrame(data1)\n",
    "\n",
    "data2 = {\"C\" : [2.0, 2.0, 2.0],\n",
    "       \"D\" : [2.0, 2.0, 2.0]\n",
    "}\n",
    "df1 = pd.DataFrame(data2)\n",
    "\n",
    "result = pd.concat[df1, df2]\n",
    "\n",
    "print(result)"
   ]
  },
  {
   "cell_type": "code",
   "execution_count": 29,
   "id": "cff841a5",
   "metadata": {},
   "outputs": [],
   "source": [
    "# Merging \n",
    "# pd.merge\n",
    "# Used when at least two common columns keys are the same\n",
    "# Ignores uncommmon values between matrices\n",
    "# 'comon' and 'outer' learn\n",
    "# on='key' and how='left' and how='right'\n",
    "\n",
    "# Look at slides for examples"
   ]
  },
  {
   "cell_type": "code",
   "execution_count": null,
   "id": "39f7a0a7",
   "metadata": {},
   "outputs": [],
   "source": [
    "# Reading data files like csv file"
   ]
  }
 ],
 "metadata": {
  "kernelspec": {
   "display_name": "Python 3 (ipykernel)",
   "language": "python",
   "name": "python3"
  },
  "language_info": {
   "codemirror_mode": {
    "name": "ipython",
    "version": 3
   },
   "file_extension": ".py",
   "mimetype": "text/x-python",
   "name": "python",
   "nbconvert_exporter": "python",
   "pygments_lexer": "ipython3",
   "version": "3.9.13"
  }
 },
 "nbformat": 4,
 "nbformat_minor": 5
}
