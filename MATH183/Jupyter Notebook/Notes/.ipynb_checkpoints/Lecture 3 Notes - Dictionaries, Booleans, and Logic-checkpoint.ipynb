{
 "cells": [
  {
   "cell_type": "code",
   "execution_count": 6,
   "id": "1377878c",
   "metadata": {},
   "outputs": [
    {
     "name": "stdout",
     "output_type": "stream",
     "text": [
      "{'apple': 2, 'banana': 4, 'grape': '2 lbs'}\n"
     ]
    },
    {
     "data": {
      "text/plain": [
       "4"
      ]
     },
     "execution_count": 6,
     "metadata": {},
     "output_type": "execute_result"
    }
   ],
   "source": [
    "# Create a dictionarie\n",
    "fruit_dict ={'apple' : 2, 'banana' : 4, 'grape' : '2 lbs'}\n",
    "print(fruit_dict)\n",
    "fruit_dict['banana']"
   ]
  },
  {
   "cell_type": "code",
   "execution_count": 7,
   "id": "7e7c2982",
   "metadata": {},
   "outputs": [
    {
     "name": "stdout",
     "output_type": "stream",
     "text": [
      "{'apple': 2, 'banana': 4, 'grape': '2 lbs', 'orange': 0}\n"
     ]
    }
   ],
   "source": [
    "# add an item to dictionairy\n",
    "fruit_dict['orange'] = 0\n",
    "print(fruit_dict)"
   ]
  },
  {
   "cell_type": "code",
   "execution_count": 8,
   "id": "4aca779e",
   "metadata": {},
   "outputs": [
    {
     "name": "stdout",
     "output_type": "stream",
     "text": [
      "{'apple': 2, 'banana': 4, 'grape': '2 lbs', 'orange': 2}\n"
     ]
    }
   ],
   "source": [
    "# updating an element \n",
    "fruit_dict[\"orange\"] = 2\n",
    "print(fruit_dict)"
   ]
  },
  {
   "cell_type": "code",
   "execution_count": 9,
   "id": "413c28fa",
   "metadata": {},
   "outputs": [
    {
     "name": "stdout",
     "output_type": "stream",
     "text": [
      "{'apple': 2, 'grape': '2 lbs', 'orange': 2}\n"
     ]
    }
   ],
   "source": [
    "# delete an item\n",
    "del fruit_dict[\"banana\"]\n",
    "print(fruit_dict)"
   ]
  },
  {
   "cell_type": "code",
   "execution_count": 10,
   "id": "2bd12cec",
   "metadata": {},
   "outputs": [
    {
     "name": "stdout",
     "output_type": "stream",
     "text": [
      "apple 2\n",
      "grape 2 lbs\n",
      "orange 2\n"
     ]
    }
   ],
   "source": [
    "# Iterating over dictionary\n",
    "for key in fruit_dict:\n",
    "    print(key, fruit_dict[key])"
   ]
  },
  {
   "cell_type": "code",
   "execution_count": 11,
   "id": "1baedb62",
   "metadata": {},
   "outputs": [
    {
     "data": {
      "text/plain": [
       "'o'"
      ]
     },
     "execution_count": 11,
     "metadata": {},
     "output_type": "execute_result"
    }
   ],
   "source": [
    "# Dictionaries are unordered - don't try to access using indexes\n",
    "# The keys in a dictionary must be immutable. They can only be strings, numbers, and tuples - not lists\n",
    "# The values can be of any data type\n",
    "\n",
    "# Try creating a dictionary with list, tuple, ...\n",
    "new_dict = {() : 'a', 'origin' : 'o'}\n",
    "new_dict['origin']"
   ]
  },
  {
   "cell_type": "code",
   "execution_count": 21,
   "id": "7582b17b",
   "metadata": {},
   "outputs": [
    {
     "name": "stdout",
     "output_type": "stream",
     "text": [
      "my dictionary: {'Math': 0, 'Computer Science': 1, 'Economics': 2, 'Philosophy': 3, 'Physics': 4}\n",
      "dict_keys(['Math', 'Computer Science', 'Economics', 'Philosophy', 'Physics'])\n",
      "dict_values([0, 1, 2, 3, 4])\n",
      "dict_items([('Math', 0), ('Computer Science', 1), ('Economics', 2), ('Philosophy', 3), ('Physics', 4)])\n",
      "1\n",
      "1\n",
      "{'Math': 0, 'Economics': 2, 'Philosophy': 3, 'Physics': 4}\n"
     ]
    }
   ],
   "source": [
    "# features of dictionaries include:\n",
    "# keys(), values(), items(), get(key), pop(key), clear()\n",
    "\n",
    "my_dict = {'Math' : 0, 'Computer Science' : 1, 'Economics' : 2, 'Philosophy' : 3, 'Physics' : 4}\n",
    "\n",
    "print('my dictionary:', my_dict)\n",
    "\n",
    "print(my_dict.keys())\n",
    "\n",
    "print(my_dict.values())\n",
    "\n",
    "print(my_dict.items())\n",
    "\n",
    "print(my_dict.get(\"Computer Science\"))\n",
    "#print(my_dict.get(\"Political Science\")) # Prints out None because \n",
    "\n",
    "print(my_dict.pop('Computer Science'))\n",
    "print(my_dict)\n",
    "\n",
    "#my_dict.clear()"
   ]
  },
  {
   "cell_type": "code",
   "execution_count": 22,
   "id": "4120eeab",
   "metadata": {},
   "outputs": [
    {
     "name": "stdout",
     "output_type": "stream",
     "text": [
      "False\n"
     ]
    }
   ],
   "source": [
    "# Boolean data type\n",
    "# Assigning value to a Boolean variable\n",
    "# like ==, !=, <, >, <=, and >=\n",
    "\n",
    "a = 1\n",
    "b = 2\n",
    "z = (a == b)\n",
    "print(z)"
   ]
  },
  {
   "cell_type": "code",
   "execution_count": 23,
   "id": "32b690b7",
   "metadata": {},
   "outputs": [
    {
     "name": "stdout",
     "output_type": "stream",
     "text": [
      "True\n",
      "True\n"
     ]
    }
   ],
   "source": [
    "# Logic\n",
    "\n",
    "x = 5\n",
    "y = 10\n",
    "z = 15\n",
    "print((x < y) and (y < z))\n",
    "print(not (x > z))"
   ]
  },
  {
   "cell_type": "code",
   "execution_count": 26,
   "id": "a671dff1",
   "metadata": {},
   "outputs": [
    {
     "name": "stdout",
     "output_type": "stream",
     "text": [
      "x is positive\n"
     ]
    }
   ],
   "source": [
    "# Conditional statements \n",
    "#if condition:\n",
    "    # code to be executed\n",
    "\n",
    "x = -1\n",
    "if x > 0:\n",
    "    print(\"x is positive\")\n",
    "x = 5\n",
    "if x > 0:\n",
    "    print(\"x is positive\")"
   ]
  },
  {
   "cell_type": "code",
   "execution_count": 28,
   "id": "6541e504",
   "metadata": {},
   "outputs": [
    {
     "name": "stdout",
     "output_type": "stream",
     "text": [
      "x is not positive\n"
     ]
    }
   ],
   "source": [
    "# Conditional statements \n",
    "#if condition\n",
    "    #code\n",
    "#else\n",
    "    #code\n",
    "    \n",
    "x = -1\n",
    "if x > 0: \n",
    "    print(\"x is positive\")\n",
    "else: \n",
    "    print(\"x is not positive\")"
   ]
  },
  {
   "cell_type": "code",
   "execution_count": 29,
   "id": "8395fb46",
   "metadata": {},
   "outputs": [
    {
     "name": "stdout",
     "output_type": "stream",
     "text": [
      "x is negative\n"
     ]
    }
   ],
   "source": [
    "# Conditional statements \n",
    "#if condition\n",
    "    #code\n",
    "#elif\n",
    "    #code\n",
    "#else\n",
    "    #code\n",
    "    \n",
    "x = -1\n",
    "if x > 0: \n",
    "    print(\"x is positive\")\n",
    "elif x == 0: \n",
    "    print(\"x is zero\")\n",
    "else:\n",
    "    print(\"x is negative\")"
   ]
  },
  {
   "cell_type": "code",
   "execution_count": 30,
   "id": "3b8f5e94",
   "metadata": {},
   "outputs": [],
   "source": [
    "# Conditional statements \n",
    "# Combination of logical operators\n",
    "\n",
    "x = -1\n",
    "y = 2\n",
    "if x > 0 and y > 0:\n",
    "    print(\"x and y are positive\")"
   ]
  },
  {
   "cell_type": "code",
   "execution_count": 32,
   "id": "efdffc81",
   "metadata": {},
   "outputs": [
    {
     "data": {
      "text/plain": [
       "{1: 1}"
      ]
     },
     "execution_count": 32,
     "metadata": {},
     "output_type": "execute_result"
    }
   ],
   "source": [
    "# Check out ticket #3\n",
    "def count_frequency(nums):\n",
    "    list_frequency_dict = {}\n",
    "    for item in nums:\n",
    "        if item in list_frequency_dict:\n",
    "            list_frequency_dict[item] += 1\n",
    "        else:\n",
    "            list_frequency_dict[item] = 1\n",
    "        return list_frequency_dict\n",
    "\n",
    "nums = [1, 2, 3, 2, 4, 1, 5, 2, 1]\n",
    "\n",
    "count_frequency(nums)"
   ]
  },
  {
   "cell_type": "code",
   "execution_count": null,
   "id": "d947c367",
   "metadata": {},
   "outputs": [],
   "source": []
  }
 ],
 "metadata": {
  "kernelspec": {
   "display_name": "Python 3 (ipykernel)",
   "language": "python",
   "name": "python3"
  },
  "language_info": {
   "codemirror_mode": {
    "name": "ipython",
    "version": 3
   },
   "file_extension": ".py",
   "mimetype": "text/x-python",
   "name": "python",
   "nbconvert_exporter": "python",
   "pygments_lexer": "ipython3",
   "version": "3.9.13"
  }
 },
 "nbformat": 4,
 "nbformat_minor": 5
}
