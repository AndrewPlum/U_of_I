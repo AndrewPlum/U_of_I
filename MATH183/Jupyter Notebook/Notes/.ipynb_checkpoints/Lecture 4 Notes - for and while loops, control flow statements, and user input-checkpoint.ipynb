{
 "cells": [
  {
   "cell_type": "markdown",
   "id": "609b55af",
   "metadata": {},
   "source": [
    "Loops"
   ]
  },
  {
   "cell_type": "code",
   "execution_count": 2,
   "id": "d5cfd3f4",
   "metadata": {},
   "outputs": [
    {
     "name": "stdout",
     "output_type": "stream",
     "text": [
      "0\n",
      "2\n",
      "3\n",
      "4\n",
      "5\n"
     ]
    }
   ],
   "source": [
    "numbers = [0, 2, 3, 4, 5]\n",
    "for number in numbers:\n",
    "    print(number)"
   ]
  },
  {
   "cell_type": "code",
   "execution_count": 4,
   "id": "ee4b729a",
   "metadata": {},
   "outputs": [
    {
     "name": "stdout",
     "output_type": "stream",
     "text": [
      "0\n",
      "1\n",
      "2\n",
      "3\n",
      "4\n"
     ]
    }
   ],
   "source": [
    "x = 0\n",
    "while x < 5:\n",
    "    print(x)\n",
    "    x += 1"
   ]
  },
  {
   "cell_type": "code",
   "execution_count": null,
   "id": "4324d4be",
   "metadata": {},
   "outputs": [],
   "source": [
    "# Use a while loop to print the numbers from $1$ to $10$\n",
    "\n",
    "count = 0 \n",
    "while count < 10:\n",
    "    print(count + 1)\n",
    "    count += 1\n",
    "    \n",
    "count = 1\n",
    "while count <= 10:\n",
    "    print(count)\n",
    "    count += 1"
   ]
  },
  {
   "cell_type": "code",
   "execution_count": 9,
   "id": "279fe6d3",
   "metadata": {},
   "outputs": [
    {
     "name": "stdout",
     "output_type": "stream",
     "text": [
      "10\n"
     ]
    }
   ],
   "source": [
    "# Create function where the parameter is a list a prints the first 3 even numbers\n",
    "\n",
    "def three_first_even(a):\n",
    "    count = 0\n",
    "    ind = 0\n",
    "    while count < 3 and ind < len(a): \n",
    "        if a[ind] % 2 == 0:\n",
    "            print(a[ind])\n",
    "            count += 1\n",
    "        ind += 1\n",
    "        \n",
    "a = [10, 3, 7]\n",
    "three_first_even(a)"
   ]
  },
  {
   "cell_type": "markdown",
   "id": "07945a0d",
   "metadata": {},
   "source": [
    "Control Flow Statements"
   ]
  },
  {
   "cell_type": "code",
   "execution_count": 10,
   "id": "e37788e0",
   "metadata": {},
   "outputs": [
    {
     "name": "stdout",
     "output_type": "stream",
     "text": [
      "1\n",
      "2\n",
      "3\n"
     ]
    }
   ],
   "source": [
    "# Break statements\n",
    "\n",
    "numbers = [1, 2, 3, 4, 5]\n",
    "for number in numbers:\n",
    "    if number == 4:\n",
    "        break\n",
    "    print(number)"
   ]
  },
  {
   "cell_type": "code",
   "execution_count": 11,
   "id": "e2845523",
   "metadata": {},
   "outputs": [
    {
     "name": "stdout",
     "output_type": "stream",
     "text": [
      "1\n",
      "2\n",
      "3\n",
      "5\n"
     ]
    }
   ],
   "source": [
    "# Continue statements - skips iterations like break but continues\n",
    "\n",
    "numbers = [1, 2, 3, 4, 5]\n",
    "for number in numbers:\n",
    "    if number == 4:\n",
    "        continue\n",
    "    print(number)"
   ]
  },
  {
   "cell_type": "code",
   "execution_count": 15,
   "id": "230e14b9",
   "metadata": {},
   "outputs": [
    {
     "name": "stdout",
     "output_type": "stream",
     "text": [
      "1\n",
      "2\n",
      "3\n",
      "5\n"
     ]
    }
   ],
   "source": [
    "# Pass statement - used as a placeholder but it does nothing - basically no operation and do nothing\n",
    "\n",
    "numbers = [1, 2, 3, 4, 5]\n",
    "for number in numbers:\n",
    "    if number == 4:\n",
    "        pass\n",
    "    else:\n",
    "        print(number)"
   ]
  },
  {
   "cell_type": "code",
   "execution_count": 17,
   "id": "da2cd55d",
   "metadata": {},
   "outputs": [
    {
     "name": "stdout",
     "output_type": "stream",
     "text": [
      "Your name: Andrew\n",
      "My name is:  Andrew\n"
     ]
    }
   ],
   "source": [
    "# Input function - gathers input from the user as a string\n",
    "\n",
    "name = input(\"Your name: \")\n",
    "print(\"My name is: \", name)"
   ]
  },
  {
   "cell_type": "code",
   "execution_count": null,
   "id": "333ef8dd",
   "metadata": {},
   "outputs": [],
   "source": [
    "# Changing user input from string to integer\n",
    "\n",
    "def square():\n",
    "    x = input(\"Enter your favorite number: \") \n",
    "    x = int(x)\n",
    "    return x**2\n",
    "\n",
    "square()"
   ]
  },
  {
   "cell_type": "code",
   "execution_count": null,
   "id": "d01ee9f0",
   "metadata": {},
   "outputs": [],
   "source": [
    "# Practice problem: Write down a function to check that whether a number given by the user is even or odd\n",
    "\n",
    "def even_or_odd():\n",
    "    x = input(\"Give me your number: \")\n",
    "    x = int(x)\n",
    "    if x % 2 == 0:\n",
    "        print(\"Your number is even\")\n",
    "    else: \n",
    "        print(\"Your number is odd\")\n",
    "        \n",
    "even_or_odd()"
   ]
  },
  {
   "cell_type": "code",
   "execution_count": null,
   "id": "b03eb127",
   "metadata": {},
   "outputs": [],
   "source": [
    "# Error handling: try and except statements\n",
    "\n",
    "try:\n",
    "    x = 5/0\n",
    "except ZeroDivisionError:\n",
    "    print(\"Hi there, we cannot divide by zero\")"
   ]
  },
  {
   "cell_type": "code",
   "execution_count": 24,
   "id": "92cc89f6",
   "metadata": {},
   "outputs": [
    {
     "ename": "ValueError",
     "evalue": "Hi there, we cannot divide by zero",
     "output_type": "error",
     "traceback": [
      "\u001b[1;31m---------------------------------------------------------------------------\u001b[0m",
      "\u001b[1;31mValueError\u001b[0m                                Traceback (most recent call last)",
      "\u001b[1;32m~\\AppData\\Local\\Temp\\ipykernel_13904\\765238034.py\u001b[0m in \u001b[0;36m<module>\u001b[1;34m\u001b[0m\n\u001b[0;32m      6\u001b[0m     \u001b[1;32mreturn\u001b[0m \u001b[0mx\u001b[0m\u001b[1;33m/\u001b[0m\u001b[0my\u001b[0m\u001b[1;33m\u001b[0m\u001b[1;33m\u001b[0m\u001b[0m\n\u001b[0;32m      7\u001b[0m \u001b[1;33m\u001b[0m\u001b[0m\n\u001b[1;32m----> 8\u001b[1;33m \u001b[0mdivide\u001b[0m\u001b[1;33m(\u001b[0m\u001b[1;36m1\u001b[0m\u001b[1;33m,\u001b[0m \u001b[1;36m0\u001b[0m\u001b[1;33m)\u001b[0m\u001b[1;33m\u001b[0m\u001b[1;33m\u001b[0m\u001b[0m\n\u001b[0m",
      "\u001b[1;32m~\\AppData\\Local\\Temp\\ipykernel_13904\\765238034.py\u001b[0m in \u001b[0;36mdivide\u001b[1;34m(x, y)\u001b[0m\n\u001b[0;32m      3\u001b[0m \u001b[1;32mdef\u001b[0m \u001b[0mdivide\u001b[0m\u001b[1;33m(\u001b[0m\u001b[0mx\u001b[0m\u001b[1;33m,\u001b[0m \u001b[0my\u001b[0m\u001b[1;33m)\u001b[0m\u001b[1;33m:\u001b[0m\u001b[1;33m\u001b[0m\u001b[1;33m\u001b[0m\u001b[0m\n\u001b[0;32m      4\u001b[0m     \u001b[1;32mif\u001b[0m \u001b[0my\u001b[0m \u001b[1;33m==\u001b[0m \u001b[1;36m0\u001b[0m\u001b[1;33m:\u001b[0m\u001b[1;33m\u001b[0m\u001b[1;33m\u001b[0m\u001b[0m\n\u001b[1;32m----> 5\u001b[1;33m         \u001b[1;32mraise\u001b[0m \u001b[0mValueError\u001b[0m\u001b[1;33m(\u001b[0m\u001b[1;34m\"Hi there, we cannot divide by zero\"\u001b[0m\u001b[1;33m)\u001b[0m\u001b[1;33m\u001b[0m\u001b[1;33m\u001b[0m\u001b[0m\n\u001b[0m\u001b[0;32m      6\u001b[0m     \u001b[1;32mreturn\u001b[0m \u001b[0mx\u001b[0m\u001b[1;33m/\u001b[0m\u001b[0my\u001b[0m\u001b[1;33m\u001b[0m\u001b[1;33m\u001b[0m\u001b[0m\n\u001b[0;32m      7\u001b[0m \u001b[1;33m\u001b[0m\u001b[0m\n",
      "\u001b[1;31mValueError\u001b[0m: Hi there, we cannot divide by zero"
     ]
    }
   ],
   "source": [
    "# Error handling: raise\n",
    "\n",
    "def divide(x, y):\n",
    "    if y == 0:\n",
    "        raise ValueError(\"Hi there, we cannot divide by zero\")\n",
    "    return x/y\n",
    "\n",
    "divide(1, 0)"
   ]
  },
  {
   "cell_type": "code",
   "execution_count": 25,
   "id": "90364053",
   "metadata": {},
   "outputs": [
    {
     "ename": "IndentationError",
     "evalue": "expected an indented block (2385040022.py, line 9)",
     "output_type": "error",
     "traceback": [
      "\u001b[1;36m  File \u001b[1;32m\"C:\\Users\\a_j_p\\AppData\\Local\\Temp\\ipykernel_13904\\2385040022.py\"\u001b[1;36m, line \u001b[1;32m9\u001b[0m\n\u001b[1;33m    else:\u001b[0m\n\u001b[1;37m    ^\u001b[0m\n\u001b[1;31mIndentationError\u001b[0m\u001b[1;31m:\u001b[0m expected an indented block\n"
     ]
    }
   ],
   "source": [
    "# Error handling: else and finally\n",
    "\n",
    "try:\n",
    "    x = 5\n",
    "    y = 0\n",
    "    result = x / y\n",
    "except ZeroDivisionError:\n",
    "    \n",
    "else:\n",
    "    \n",
    "finally:"
   ]
  },
  {
   "cell_type": "code",
   "execution_count": null,
   "id": "fdf796a3",
   "metadata": {},
   "outputs": [],
   "source": [
    "# Check out ticket 4\n",
    "# Write a program to let the user repeatedly input two numbers a, b.\n",
    "# Return the quotient a/b if possible. Otherwise, raise the error message \"Watch out: b == 0!\" and exit the program\n",
    "# Exit the program if the user input \"I'm done!\"\n",
    "\n",
    "a = input(\"Input: \")\n",
    "print(\"Test\")\n",
    "\n",
    "def calculate_quotient():\n",
    "    x = 1\n",
    "    a = input(\"Enter number for a: \")\n",
    "    b = input(\"Enter number for b: \")\n",
    "    while x == 1:\n",
    "        a = input(\"Enter number for a: \")\n",
    "        b = input(\"Enter number for b: \")\n",
    "        if a == \"I'm done!\" or b == \"I'm done!\":\n",
    "            print(\"Program ended\")\n",
    "            break\n",
    "        else:\n",
    "            a = int(a)\n",
    "            b = int(b)\n",
    "            #if b == 0:\n",
    "                #raise ValueError(\"Watch out: b == 0!\")\n",
    "            #else:\n",
    "                print(a/b)\n",
    "            \n",
    "calculate_quotient()\n",
    "    "
   ]
  },
  {
   "cell_type": "code",
   "execution_count": null,
   "id": "1492c4be",
   "metadata": {},
   "outputs": [],
   "source": []
  }
 ],
 "metadata": {
  "kernelspec": {
   "display_name": "Python 3 (ipykernel)",
   "language": "python",
   "name": "python3"
  },
  "language_info": {
   "codemirror_mode": {
    "name": "ipython",
    "version": 3
   },
   "file_extension": ".py",
   "mimetype": "text/x-python",
   "name": "python",
   "nbconvert_exporter": "python",
   "pygments_lexer": "ipython3",
   "version": "3.9.13"
  }
 },
 "nbformat": 4,
 "nbformat_minor": 5
}
