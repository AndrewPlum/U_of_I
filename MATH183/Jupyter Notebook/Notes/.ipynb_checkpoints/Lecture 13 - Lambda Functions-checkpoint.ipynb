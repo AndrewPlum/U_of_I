{
 "cells": [
  {
   "cell_type": "code",
   "execution_count": null,
   "id": "852a084d",
   "metadata": {},
   "outputs": [],
   "source": [
    "# Most of lecture was done in sent out lecture in lecture folder"
   ]
  },
  {
   "cell_type": "code",
   "execution_count": 1,
   "id": "984f2af6",
   "metadata": {},
   "outputs": [],
   "source": [
    "# Read csv file \n",
    "\n",
    "import pandas as pd\n",
    "\n",
    "df = pd.read_csv(\"supermarket_data.csv\") # you get this say from the internet"
   ]
  },
  {
   "cell_type": "code",
   "execution_count": 4,
   "id": "abe15df8",
   "metadata": {},
   "outputs": [
    {
     "data": {
      "text/html": [
       "<div>\n",
       "<style scoped>\n",
       "    .dataframe tbody tr th:only-of-type {\n",
       "        vertical-align: middle;\n",
       "    }\n",
       "\n",
       "    .dataframe tbody tr th {\n",
       "        vertical-align: top;\n",
       "    }\n",
       "\n",
       "    .dataframe thead th {\n",
       "        text-align: right;\n",
       "    }\n",
       "</style>\n",
       "<table border=\"1\" class=\"dataframe\">\n",
       "  <thead>\n",
       "    <tr style=\"text-align: right;\">\n",
       "      <th></th>\n",
       "      <th>Invoice ID</th>\n",
       "      <th>Unit price</th>\n",
       "      <th>Updated unit price</th>\n",
       "    </tr>\n",
       "  </thead>\n",
       "  <tbody>\n",
       "    <tr>\n",
       "      <th>0</th>\n",
       "      <td>750-67-8428</td>\n",
       "      <td>74.69</td>\n",
       "      <td>70.9555</td>\n",
       "    </tr>\n",
       "    <tr>\n",
       "      <th>1</th>\n",
       "      <td>226-31-3081</td>\n",
       "      <td>15.28</td>\n",
       "      <td>14.5160</td>\n",
       "    </tr>\n",
       "    <tr>\n",
       "      <th>2</th>\n",
       "      <td>631-41-3108</td>\n",
       "      <td>46.33</td>\n",
       "      <td>44.0135</td>\n",
       "    </tr>\n",
       "    <tr>\n",
       "      <th>3</th>\n",
       "      <td>123-19-1176</td>\n",
       "      <td>58.22</td>\n",
       "      <td>55.3090</td>\n",
       "    </tr>\n",
       "    <tr>\n",
       "      <th>4</th>\n",
       "      <td>373-73-7910</td>\n",
       "      <td>86.31</td>\n",
       "      <td>81.9945</td>\n",
       "    </tr>\n",
       "    <tr>\n",
       "      <th>...</th>\n",
       "      <td>...</td>\n",
       "      <td>...</td>\n",
       "      <td>...</td>\n",
       "    </tr>\n",
       "    <tr>\n",
       "      <th>995</th>\n",
       "      <td>233-67-5758</td>\n",
       "      <td>40.35</td>\n",
       "      <td>38.3325</td>\n",
       "    </tr>\n",
       "    <tr>\n",
       "      <th>996</th>\n",
       "      <td>303-96-2227</td>\n",
       "      <td>97.38</td>\n",
       "      <td>92.5110</td>\n",
       "    </tr>\n",
       "    <tr>\n",
       "      <th>997</th>\n",
       "      <td>727-02-1313</td>\n",
       "      <td>31.84</td>\n",
       "      <td>30.2480</td>\n",
       "    </tr>\n",
       "    <tr>\n",
       "      <th>998</th>\n",
       "      <td>347-56-2442</td>\n",
       "      <td>65.82</td>\n",
       "      <td>62.5290</td>\n",
       "    </tr>\n",
       "    <tr>\n",
       "      <th>999</th>\n",
       "      <td>849-09-3807</td>\n",
       "      <td>88.34</td>\n",
       "      <td>83.9230</td>\n",
       "    </tr>\n",
       "  </tbody>\n",
       "</table>\n",
       "<p>1000 rows × 3 columns</p>\n",
       "</div>"
      ],
      "text/plain": [
       "      Invoice ID  Unit price  Updated unit price\n",
       "0    750-67-8428       74.69             70.9555\n",
       "1    226-31-3081       15.28             14.5160\n",
       "2    631-41-3108       46.33             44.0135\n",
       "3    123-19-1176       58.22             55.3090\n",
       "4    373-73-7910       86.31             81.9945\n",
       "..           ...         ...                 ...\n",
       "995  233-67-5758       40.35             38.3325\n",
       "996  303-96-2227       97.38             92.5110\n",
       "997  727-02-1313       31.84             30.2480\n",
       "998  347-56-2442       65.82             62.5290\n",
       "999  849-09-3807       88.34             83.9230\n",
       "\n",
       "[1000 rows x 3 columns]"
      ]
     },
     "execution_count": 4,
     "metadata": {},
     "output_type": "execute_result"
    }
   ],
   "source": [
    "# Problem: The retail company decides to give 5 discount to all of its product. Generate a column that containthe unit price for all invoices\n",
    "\n",
    "df[\"Updated unit price\"] = df [\"Unit price\"].apply(lambda x: x*.95)\n",
    "df[[\"Invoice ID\", \"Unit price\", \"Updated unit price\"]]"
   ]
  },
  {
   "cell_type": "code",
   "execution_count": null,
   "id": "6d25b02a",
   "metadata": {},
   "outputs": [],
   "source": [
    "# Problem: The retail company decides to give %\n",
    "\n",
    "# LOOK AT REST OF LECTURE DONE IN LECTURE 13 lIVE DONE IN LECTURES FOLDER"
   ]
  }
 ],
 "metadata": {
  "kernelspec": {
   "display_name": "Python 3 (ipykernel)",
   "language": "python",
   "name": "python3"
  },
  "language_info": {
   "codemirror_mode": {
    "name": "ipython",
    "version": 3
   },
   "file_extension": ".py",
   "mimetype": "text/x-python",
   "name": "python",
   "nbconvert_exporter": "python",
   "pygments_lexer": "ipython3",
   "version": "3.9.13"
  }
 },
 "nbformat": 4,
 "nbformat_minor": 5
}
