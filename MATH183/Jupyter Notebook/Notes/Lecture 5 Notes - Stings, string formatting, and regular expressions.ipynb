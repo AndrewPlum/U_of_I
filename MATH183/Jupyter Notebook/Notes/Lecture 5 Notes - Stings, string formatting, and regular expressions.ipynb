{
 "cells": [
  {
   "cell_type": "code",
   "execution_count": 1,
   "id": "11c9eb07",
   "metadata": {},
   "outputs": [],
   "source": [
    "# Strings\n",
    "# A sequence of characters in single or double quotes\n",
    "# Strings are immutable and can't be changed after creating it\n",
    "\n",
    "# Creating Strings\n",
    "strin1 = \"Hello World!\"\n",
    "\n",
    "num = 42\n",
    "string2 = str(num)"
   ]
  },
  {
   "cell_type": "code",
   "execution_count": 4,
   "id": "a00d52ef",
   "metadata": {},
   "outputs": [],
   "source": [
    "# multi_line string\n",
    "\n",
    "string1 = \"\"\"Hello Wolrd!\"\"\""
   ]
  },
  {
   "cell_type": "code",
   "execution_count": 7,
   "id": "09978c00",
   "metadata": {},
   "outputs": [
    {
     "name": "stdout",
     "output_type": "stream",
     "text": [
      "!\n",
      "olrd!\n",
      "H\n"
     ]
    }
   ],
   "source": [
    "# String indexing and slicing\n",
    "strin1 = \"Hello World!\"\n",
    "\n",
    "print(string1[-1]) #\"!\"\n",
    "print(string1[7:12]) # \"world!\" - gets characters from 7 to 11\n",
    "print(string1[0])"
   ]
  },
  {
   "cell_type": "code",
   "execution_count": 11,
   "id": "4899783f",
   "metadata": {},
   "outputs": [
    {
     "name": "stdout",
     "output_type": "stream",
     "text": [
      "12\n",
      "HELLO WOLRD!\n",
      "Hello Wolrd!\n",
      "['Hello', 'Wolrd!']\n"
     ]
    }
   ],
   "source": [
    "# String methods \n",
    "# len()\n",
    "# lower()\n",
    "# upper()\n",
    "# str.replace(old, new) - creates a new string and replaces old one\n",
    "# str.split(sep) - Splits the strings into substrings\n",
    "# str.join(iterable) - Combine substrings into string or tuple, etc.\n",
    "\n",
    "strin1 = \"Hello World!\"\n",
    "print(len(strin1))\n",
    "print(string1.upper())\n",
    "print(string1.replace(\"World\", \"Math 183\"))\n",
    "print(string1.split(\" \"))"
   ]
  },
  {
   "cell_type": "code",
   "execution_count": 14,
   "id": "809b625c",
   "metadata": {},
   "outputs": [
    {
     "name": "stdout",
     "output_type": "stream",
     "text": [
      "Hello World!\n",
      "Hello World!Hello World!Hello World!\n"
     ]
    }
   ],
   "source": [
    "# String concatenation and repitition\n",
    "# You can concatenate strings using \"+\" operator\n",
    "\n",
    "string1 = \"Hello \"\n",
    "string2 = \"World!\"\n",
    "string1 = string1 + string2\n",
    "print(string1)\n",
    "print(string1*3)"
   ]
  },
  {
   "cell_type": "code",
   "execution_count": 17,
   "id": "8c36ce6c",
   "metadata": {},
   "outputs": [
    {
     "name": "stdout",
     "output_type": "stream",
     "text": [
      "My name is Andrew and I am 19 years old\n"
     ]
    },
    {
     "ename": "NameError",
     "evalue": "name 'my_name' is not defined",
     "output_type": "error",
     "traceback": [
      "\u001b[1;31m---------------------------------------------------------------------------\u001b[0m",
      "\u001b[1;31mNameError\u001b[0m                                 Traceback (most recent call last)",
      "\u001b[1;32m~\\AppData\\Local\\Temp\\ipykernel_4148\\3516701372.py\u001b[0m in \u001b[0;36m<module>\u001b[1;34m\u001b[0m\n\u001b[0;32m      5\u001b[0m \u001b[0mage\u001b[0m \u001b[1;33m=\u001b[0m \u001b[1;36m19\u001b[0m\u001b[1;33m\u001b[0m\u001b[1;33m\u001b[0m\u001b[0m\n\u001b[0;32m      6\u001b[0m \u001b[0mprint\u001b[0m\u001b[1;33m(\u001b[0m\u001b[1;34m\"My name is {} and I am {} years old\"\u001b[0m\u001b[1;33m.\u001b[0m\u001b[0mformat\u001b[0m\u001b[1;33m(\u001b[0m\u001b[0mname\u001b[0m\u001b[1;33m,\u001b[0m \u001b[0mage\u001b[0m\u001b[1;33m)\u001b[0m\u001b[1;33m)\u001b[0m\u001b[1;33m\u001b[0m\u001b[1;33m\u001b[0m\u001b[0m\n\u001b[1;32m----> 7\u001b[1;33m \u001b[0mprint\u001b[0m\u001b[1;33m(\u001b[0m\u001b[1;34m\"My name is {} and I am {} years old\"\u001b[0m\u001b[1;33m.\u001b[0m\u001b[0mformat\u001b[0m\u001b[1;33m(\u001b[0m\u001b[0mname\u001b[0m \u001b[1;33m=\u001b[0m \u001b[0mmy_name\u001b[0m\u001b[1;33m,\u001b[0m \u001b[0mage\u001b[0m \u001b[1;33m=\u001b[0m \u001b[0mmy_age\u001b[0m\u001b[1;33m)\u001b[0m\u001b[1;33m)\u001b[0m\u001b[1;33m\u001b[0m\u001b[1;33m\u001b[0m\u001b[0m\n\u001b[0m",
      "\u001b[1;31mNameError\u001b[0m: name 'my_name' is not defined"
     ]
    }
   ],
   "source": [
    "# Formating\n",
    "# format() - method with positional arguments\n",
    "\n",
    "name = \"Andrew\"\n",
    "age = 19\n",
    "print(\"My name is {} and I am {} years old\".format(name, age))"
   ]
  },
  {
   "cell_type": "code",
   "execution_count": 18,
   "id": "2db744b6",
   "metadata": {},
   "outputs": [
    {
     "name": "stdout",
     "output_type": "stream",
     "text": [
      "My name is Andrew and I am 19 years old\n"
     ]
    }
   ],
   "source": [
    "# format()\n",
    "\n",
    "my_name = \"Andrew\"\n",
    "my_age = 19\n",
    "print(\"My name is {name} and I am {age} years old\".format(name = my_name, age = my_age))"
   ]
  },
  {
   "cell_type": "code",
   "execution_count": 24,
   "id": "006899d6",
   "metadata": {},
   "outputs": [
    {
     "name": "stdout",
     "output_type": "stream",
     "text": [
      "My name is Andrew and I am 19 years old\n",
      "My name is Andrew and I am 19 years old\n"
     ]
    }
   ],
   "source": [
    "# f-string\n",
    "\n",
    "print(f\"My name is {name} and I am {age} years old\")\n",
    "print(\"My name is %s and I am %d years old\" % (name, age))"
   ]
  },
  {
   "cell_type": "code",
   "execution_count": 33,
   "id": "5f45c523",
   "metadata": {},
   "outputs": [
    {
     "name": "stdout",
     "output_type": "stream",
     "text": [
      "Enter your name: Andrew \n",
      "Enter your age: 19\n",
      "Hello, my name is Andrew , and I am 19 years old\n"
     ]
    }
   ],
   "source": [
    "# Practice problem:\n",
    "# Write a function that takes the name and age from the user.\n",
    "# Then print out their self introduction:\n",
    "# \"Hello, my name is ... and I am ... years old.\"\n",
    "\n",
    "def get_user_info():\n",
    "    name = input(\"Enter your name: \")\n",
    "    age = input(\"Enter your age: \")\n",
    "    age = int(age)\n",
    "    print(\"Hello, my name is %s, and I am %d years old\" % (name, age))\n",
    "    \n",
    "get_user_info()"
   ]
  },
  {
   "cell_type": "code",
   "execution_count": null,
   "id": "cc9c5279",
   "metadata": {},
   "outputs": [],
   "source": [
    "# Advanced practice problems\n",
    "# 1. Palindrome checker\n",
    "\n"
   ]
  },
  {
   "cell_type": "code",
   "execution_count": 34,
   "id": "a90a378f",
   "metadata": {},
   "outputs": [
    {
     "ename": "SyntaxError",
     "evalue": "EOL while scanning string literal (2667923654.py, line 19)",
     "output_type": "error",
     "traceback": [
      "\u001b[1;36m  File \u001b[1;32m\"C:\\Users\\a_j_p\\AppData\\Local\\Temp\\ipykernel_4148\\2667923654.py\"\u001b[1;36m, line \u001b[1;32m19\u001b[0m\n\u001b[1;33m    matches = re.search(r\"\\w+\", text\")\u001b[0m\n\u001b[1;37m                                      ^\u001b[0m\n\u001b[1;31mSyntaxError\u001b[0m\u001b[1;31m:\u001b[0m EOL while scanning string literal\n"
     ]
    }
   ],
   "source": [
    "# Regular Expressions\n",
    "# Normally called \"regex\"\n",
    "# Powerful tool for matching patterns in string \n",
    "# They are used in Python to search, edit, and manipulate text\n",
    "# Works only with raw string\n",
    "# re modukle hs to be loaded in\n",
    "# search\n",
    "# findall\n",
    "# sub\n",
    "# compile\n",
    "\n",
    "import re\n",
    "\n",
    "# search\n",
    "text = \"The quick brown fox jumps over the lazy dog\"\n",
    "match = re.search(r\"fox\", text)\n",
    "print(\"search result\", match.start(), match.end())\n",
    "\n",
    "#findall\n",
    "text = \"The quick brown fox jumps over the lazy dog\"\n",
    "matches = re.search(r\"\\w+\", text\")\n",
    "print(\"search result\", matches\n",
    "\n",
    "# sub\n",
    "text = \"The quick brown fox jumps over the lazy dog\"\n",
    "new_text = re.search(r\"fox\", text)\n",
    "print(\"search result\", match.start(), match.end())\n",
    "\n",
    "# compile\n",
    "text = \"The quick brown fox jumps over the lazy dog\"\n",
    "patterns = re.compile(r\"fox\", text)\n",
    "print(\"search result\", match.start(), match.end())\n",
    "\n",
    "# FIX"
   ]
  },
  {
   "cell_type": "code",
   "execution_count": 42,
   "id": "b5fb0ea2",
   "metadata": {},
   "outputs": [
    {
     "name": "stdout",
     "output_type": "stream",
     "text": [
      "(123) 456-7890 is not a valid phone number\n"
     ]
    }
   ],
   "source": [
    "# Special characters - regular expessions\n",
    "# \".\" represents any character\n",
    "# \"*\" represents \n",
    "# Way more - look at lectures uploaded\n",
    "\n",
    "import re\n",
    "\n",
    "def is_valid_phone(phone):\n",
    "    pattern = r\"^\\(d{3}\\) \\d{3}-\\d{4}$\"\n",
    "    if re.match(pattern, phone):\n",
    "        return True\n",
    "    return False\n",
    "\n",
    "phone = \"(123) 456-7890\"\n",
    "if is_valid_phone(phone):\n",
    "    print(f\"{phone} is a valid phone number\")\n",
    "else:\n",
    "    print(f\"{phone} is not a valid phone number\")\n",
    "\n"
   ]
  }
 ],
 "metadata": {
  "kernelspec": {
   "display_name": "Python 3 (ipykernel)",
   "language": "python",
   "name": "python3"
  },
  "language_info": {
   "codemirror_mode": {
    "name": "ipython",
    "version": 3
   },
   "file_extension": ".py",
   "mimetype": "text/x-python",
   "name": "python",
   "nbconvert_exporter": "python",
   "pygments_lexer": "ipython3",
   "version": "3.9.13"
  }
 },
 "nbformat": 4,
 "nbformat_minor": 5
}
