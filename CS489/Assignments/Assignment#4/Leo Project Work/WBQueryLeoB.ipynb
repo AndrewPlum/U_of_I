{
 "cells": [
  {
   "cell_type": "code",
   "execution_count": 4,
   "id": "9001a674-3d95-4fc4-8ced-4683893f0c15",
   "metadata": {},
   "outputs": [
    {
     "name": "stdout",
     "output_type": "stream",
     "text": [
      "       Country Country Code  Year  inflation_rate  unemployment_rate  \\\n",
      "3      Albania          ALB  2022        6.725203             11.588   \n",
      "9      Armenia          ARM  2022        8.640911              8.608   \n",
      "11   Australia          AUS  2022        6.594097              3.701   \n",
      "12     Austria          AUT  2022        8.546870              4.992   \n",
      "13  Azerbaijan          AZE  2022       13.852259              5.650   \n",
      "\n",
      "    debt_to_gdp_ratio  foreign_direct_investment  \n",
      "3           82.113599                   7.619756  \n",
      "9           46.551899                   5.114699  \n",
      "11          57.974748                   4.056694  \n",
      "12          75.051176                   2.147699  \n",
      "13          16.868498                  -5.677737  \n"
     ]
    }
   ],
   "source": [
    "import pandas as pd\n",
    "import requests\n",
    "import io\n",
    "\n",
    "#Query to the World Bank API to retreive inflation rate, unemployment rate, depttogdp ratio, and foreign direct investment.\n",
    "\n",
    "start_date = 2015\n",
    "end_date = 2022\n",
    "\n",
    "indicators = {\n",
    "    'FP.CPI.TOTL.ZG': 'inflation_rate',\n",
    "    'SL.UEM.TOTL.ZS': 'unemployment_rate',\n",
    "    'GC.DOD.TOTL.GD.ZS': 'debt_to_gdp_ratio',\n",
    "    'BX.KLT.DINV.WD.GD.ZS': 'foreign_direct_investment'\n",
    "}\n",
    "\n",
    "base_url = \"http://api.worldbank.org/v2/country/all/indicator/\"\n",
    "indicator_data = []\n",
    "\n",
    "for indicator, name in indicators.items():\n",
    "    url = f\"{base_url}{indicator}?date={start_date}:{end_date}&format=json&per_page=20000\"\n",
    "    response = requests.get(url)\n",
    "    if response.status_code == 200:\n",
    "        data = response.json()\n",
    "        if len(data) > 1 and 'country' in data[1][0]:\n",
    "            records = [\n",
    "                {\n",
    "                    'Country': entry['country']['value'],\n",
    "                    'Country Code': entry['countryiso3code'],\n",
    "                    'Year': entry['date'],\n",
    "                    name: entry['value']\n",
    "                }\n",
    "                for entry in data[1] if entry['value'] is not None\n",
    "            ]\n",
    "            indicator_data.append(pd.DataFrame(records))\n",
    "\n",
    "if indicator_data:\n",
    "    df = indicator_data[0]\n",
    "    for additional_df in indicator_data[1:]:\n",
    "        df = pd.merge(df, additional_df, on=['Country', 'Country Code', 'Year'], how='outer')\n",
    "    df.sort_values(by=['Country', 'Year'], ascending=[True, False], inplace=True)\n",
    "    df = df.groupby(['Country', 'Country Code']).first().reset_index()\n",
    "    df.dropna(inplace=True)\n",
    "    df.to_csv('world_bank_economic_data.csv', index=False)\n",
    "    print(df.head())\n",
    "else:\n",
    "    print(\"No data\")\n"
   ]
  },
  {
   "cell_type": "code",
   "execution_count": null,
   "id": "c442cd97-8ae7-4e7a-8bfa-a9db9f222788",
   "metadata": {},
   "outputs": [],
   "source": []
  }
 ],
 "metadata": {
  "kernelspec": {
   "display_name": "Python 3 (ipykernel)",
   "language": "python",
   "name": "python3"
  },
  "language_info": {
   "codemirror_mode": {
    "name": "ipython",
    "version": 3
   },
   "file_extension": ".py",
   "mimetype": "text/x-python",
   "name": "python",
   "nbconvert_exporter": "python",
   "pygments_lexer": "ipython3",
   "version": "3.9.20"
  }
 },
 "nbformat": 4,
 "nbformat_minor": 5
}
