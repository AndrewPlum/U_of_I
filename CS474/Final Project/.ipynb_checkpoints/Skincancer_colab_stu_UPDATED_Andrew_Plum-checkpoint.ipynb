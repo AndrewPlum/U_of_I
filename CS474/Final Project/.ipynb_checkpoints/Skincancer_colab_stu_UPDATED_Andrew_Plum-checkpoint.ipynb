{
 "cells": [
  {
   "cell_type": "markdown",
   "id": "739208d3-75a7-44df-9fad-61fdc2ed1ef4",
   "metadata": {},
   "source": [
    "***Andrew Plum***<br/>\n",
    "***CS 474***<br/>\n",
    "***11/30/2024***"
   ]
  },
  {
   "cell_type": "markdown",
   "id": "2cea0786",
   "metadata": {
    "id": "2cea0786"
   },
   "source": [
    "## Skin Cancer Detection¶\n",
    "#### Project description\n",
    "Skin cancer is the most common form of cancer, globally accounting for at least 40% of cancer cases. People with lighter skin are at higher risk. There are three main types of skin cancers: basal-cell skin cancer (BCC), squamous-cell skin cancer (SCC), and melanoma. Globally in 2012, melanoma occurred in 232,000 people and resulted in 55,000 deaths. Between 20% and 30% of melanomas develop from moles.\n",
    "\n",
    "#### Task\n",
    "In this project, we will develop deep learning-based solutions to classify images of skin moles into benign or malignant categories.\n",
    "\n",
    "#### Data\n",
    "The training and test set contains 2,637 and 660 images, respectively. The dataset is from a Kaggle Competition at https://www.kaggle.com/fanconic/skin-cancer-malignant-vs-benign. The 'data' folder structure is as below\n",
    "\n",
    "- data\n",
    "    - train\n",
    "        - benign\n",
    "        - malignant\n",
    "    - test\n",
    "        - benign\n",
    "        - malignant\n",
    "\n",
    "#### Code templates\n",
    "- If you have a computer with a large-size RAM (>8GB) and a fast CPU, you can download the data(zip file) to work on your own computer. You need to manually unzip the data file.\n",
    " - If you would like to use google colab, you can download the 'colab' template, and upload the code file and data zip file to your Google Drive; then open and edit the code using the Google Colab. The 3rd code cell will unzip the data file automatically."
   ]
  },
  {
   "cell_type": "code",
   "execution_count": 1,
   "id": "wRMy-gtk3o4y",
   "metadata": {
    "colab": {
     "base_uri": "https://localhost:8080/"
    },
    "executionInfo": {
     "elapsed": 25316,
     "status": "ok",
     "timestamp": 1636683919915,
     "user": {
      "displayName": "Min Xian",
      "photoUrl": "https://lh3.googleusercontent.com/a/default-user=s64",
      "userId": "03812459907123711158"
     },
     "user_tz": 420
    },
    "id": "wRMy-gtk3o4y",
    "outputId": "c1eca5e6-a044-49f6-e0fb-7fe8d683faa7"
   },
   "outputs": [
    {
     "ename": "ModuleNotFoundError",
     "evalue": "No module named 'google.colab'",
     "output_type": "error",
     "traceback": [
      "\u001b[1;31m---------------------------------------------------------------------------\u001b[0m",
      "\u001b[1;31mModuleNotFoundError\u001b[0m                       Traceback (most recent call last)",
      "Cell \u001b[1;32mIn[1], line 1\u001b[0m\n\u001b[1;32m----> 1\u001b[0m \u001b[38;5;28;01mfrom\u001b[39;00m \u001b[38;5;21;01mgoogle\u001b[39;00m\u001b[38;5;21;01m.\u001b[39;00m\u001b[38;5;21;01mcolab\u001b[39;00m \u001b[38;5;28;01mimport\u001b[39;00m drive\n\u001b[0;32m      2\u001b[0m drive\u001b[38;5;241m.\u001b[39mmount(\u001b[38;5;124m'\u001b[39m\u001b[38;5;124m/content/drive\u001b[39m\u001b[38;5;124m'\u001b[39m)\n",
      "\u001b[1;31mModuleNotFoundError\u001b[0m: No module named 'google.colab'"
     ]
    }
   ],
   "source": [
    "from google.colab import drive\n",
    "drive.mount('/content/drive')"
   ]
  },
  {
   "cell_type": "code",
   "execution_count": 3,
   "id": "CoZlE_J_PvzG",
   "metadata": {
    "colab": {
     "base_uri": "https://localhost:8080/"
    },
    "id": "CoZlE_J_PvzG",
    "outputId": "f44aba48-b93d-4c76-bef2-4dcce850768a"
   },
   "outputs": [
    {
     "name": "stdout",
     "output_type": "stream",
     "text": [
      "unziped the image set to /content/drive/MyDrive/Colab Notebooks/\n"
     ]
    },
    {
     "name": "stderr",
     "output_type": "stream",
     "text": [
      "'unzip' is not recognized as an internal or external command,\n",
      "operable program or batch file.\n"
     ]
    }
   ],
   "source": [
    "#unzip the image set. You only need to run this cell once.\n",
    "#you may need to change the folders bellow\n",
    "!unzip '/content/drive/MyDrive/Colab Notebooks/data.zip' -d '/content/drive/MyDrive/Colab Notebooks/'\n",
    "print('unziped the image set to /content/drive/MyDrive/Colab Notebooks/')"
   ]
  },
  {
   "cell_type": "code",
   "execution_count": 82,
   "id": "8d85e6f1",
   "metadata": {
    "id": "8d85e6f1"
   },
   "outputs": [],
   "source": [
    "import matplotlib.pyplot as plt\n",
    "import numpy as np\n",
    "from tensorflow import keras\n",
    "#from sklearn.model_selection import train_test_split\n",
    "from sklearn.metrics import accuracy_score"
   ]
  },
  {
   "cell_type": "markdown",
   "id": "53355827",
   "metadata": {
    "id": "53355827"
   },
   "source": [
    "### 1. Data preparation"
   ]
  },
  {
   "cell_type": "code",
   "execution_count": 3,
   "id": "80c329df",
   "metadata": {
    "colab": {
     "base_uri": "https://localhost:8080/"
    },
    "executionInfo": {
     "elapsed": 15682,
     "status": "ok",
     "timestamp": 1636608323200,
     "user": {
      "displayName": "Min Xian",
      "photoUrl": "https://lh3.googleusercontent.com/a/default-user=s64",
      "userId": "03812459907123711158"
     },
     "user_tz": 420
    },
    "id": "80c329df",
    "outputId": "7a77ec3b-4853-4d88-ca7e-fce684f24b1c"
   },
   "outputs": [
    {
     "name": "stdout",
     "output_type": "stream",
     "text": [
      "# training images: 2637\n",
      "# test images: 660\n",
      "loading images ...\n",
      ".   training set shape: (2637, 224, 224, 3)\n",
      ".   test set shape: (660, 224, 224, 3)\n",
      "loading ended.\n",
      ".    training target shape:  (2637,)\n",
      ".    test target shape (660,)\n",
      "shuffling data ...\n",
      "Dataset is ready for using.\n"
     ]
    }
   ],
   "source": [
    "import os\n",
    "from PIL import Image\n",
    "\n",
    "#1.1 get image lists\n",
    "train_b = 'data/train/benign'\n",
    "train_m = 'data/train/malignant'\n",
    "\n",
    "test_b = 'data/test/benign'\n",
    "test_m = 'data/test/malignant'\n",
    "\n",
    "def getImList(folder):\n",
    "    # get the list of file names in 'folder'\n",
    "    imList = os.listdir(folder) # get all names\n",
    "    fPath = [os.path.join(folder, fName) for fName in imList] # add path to names\n",
    "    \n",
    "    return fPath\n",
    "\n",
    "trainList_b = getImList(train_b)\n",
    "trainList_m = getImList(train_m)\n",
    "trainList = trainList_b + trainList_m\n",
    "print(\"# training images:\", len(trainList))\n",
    "\n",
    "testList_b = getImList(test_b)\n",
    "testList_m = getImList(test_m)\n",
    "testList = testList_b + testList_m\n",
    "print(\"# test images:\", len(testList))\n",
    "\n",
    "#1.2 load all images\n",
    "read = lambda imName: np.asarray(Image.open(imName).convert(\"RGB\"))\n",
    "print('loading images ...')\n",
    "X_train = [read(name) for name in trainList]\n",
    "X_train = np.array(X_train, dtype='uint8')/255\n",
    "print('.   training set shape:', X_train.shape)\n",
    "\n",
    "X_test = [read(name) for name in testList]\n",
    "X_test = np.array(X_test, dtype='uint8')/255\n",
    "print('.   test set shape:', X_test.shape)\n",
    "\n",
    "print('loading ended.')\n",
    "\n",
    "# 1.3 Create target labels\n",
    "y_benign_train = np.zeros(len(trainList_b))\n",
    "y_malignant_train = np.ones(len(trainList_m))\n",
    "y_train = np.concatenate((y_benign_train, y_malignant_train), axis = 0)\n",
    "print('.    training target shape: ', y_train.shape)\n",
    "y_benign_test = np.zeros(len(testList_b))\n",
    "y_malignant_test = np.ones(len(testList_m))\n",
    "y_test = np.concatenate((y_benign_test, y_malignant_test), axis = 0)\n",
    "print('.    test target shape', y_test.shape)\n",
    "\n",
    "# 1.4 Shuffle data\n",
    "print('shuffling data ...')\n",
    "s = np.arange(X_train.shape[0])\n",
    "np.random.shuffle(s)\n",
    "X_train = X_train[s]\n",
    "y_train = y_train[s]\n",
    "\n",
    "s = np.arange(X_test.shape[0])\n",
    "np.random.shuffle(s)\n",
    "X_test = X_test[s]\n",
    "y_test = y_test[s]\n",
    "\n",
    "print('Dataset is ready for using.')"
   ]
  },
  {
   "cell_type": "code",
   "execution_count": null,
   "id": "1cf627f3-e71e-4dcc-b5ae-5a0a44fa6e97",
   "metadata": {},
   "outputs": [],
   "source": []
  },
  {
   "cell_type": "markdown",
   "id": "54e8c634-af5f-4aec-9c82-67f00f5a7ee8",
   "metadata": {},
   "source": [
    "### Familiarizing Myself WIth the Data"
   ]
  },
  {
   "cell_type": "code",
   "execution_count": 12,
   "id": "28d9fe13-5074-4ed3-91ae-43f728f3a1f9",
   "metadata": {},
   "outputs": [
    {
     "data": {
      "text/plain": [
       "array([[[0.91764706, 0.65490196, 0.63137255],\n",
       "        [0.9254902 , 0.65882353, 0.64705882],\n",
       "        [0.92156863, 0.67058824, 0.6627451 ],\n",
       "        ...,\n",
       "        [0.9372549 , 0.72941176, 0.70588235],\n",
       "        [0.92941176, 0.72156863, 0.69803922],\n",
       "        [0.92941176, 0.72156863, 0.70588235]],\n",
       "\n",
       "       [[0.90980392, 0.64705882, 0.62352941],\n",
       "        [0.90980392, 0.65490196, 0.63921569],\n",
       "        [0.9254902 , 0.65882353, 0.65490196],\n",
       "        ...,\n",
       "        [0.9254902 , 0.72941176, 0.70196078],\n",
       "        [0.92156863, 0.7254902 , 0.69803922],\n",
       "        [0.94117647, 0.72941176, 0.72156863]],\n",
       "\n",
       "       [[0.91764706, 0.65490196, 0.63137255],\n",
       "        [0.90588235, 0.65098039, 0.62745098],\n",
       "        [0.91372549, 0.65098039, 0.62745098],\n",
       "        ...,\n",
       "        [0.92941176, 0.72941176, 0.71372549],\n",
       "        [0.93333333, 0.7254902 , 0.70980392],\n",
       "        [0.91764706, 0.71764706, 0.70196078]],\n",
       "\n",
       "       ...,\n",
       "\n",
       "       [[0.89803922, 0.69019608, 0.65882353],\n",
       "        [0.88627451, 0.6745098 , 0.62745098],\n",
       "        [0.89019608, 0.66666667, 0.63137255],\n",
       "        ...,\n",
       "        [0.87843137, 0.63921569, 0.65882353],\n",
       "        [0.86666667, 0.63529412, 0.65098039],\n",
       "        [0.86666667, 0.63529412, 0.64313725]],\n",
       "\n",
       "       [[0.88235294, 0.6745098 , 0.61960784],\n",
       "        [0.89019608, 0.67058824, 0.61960784],\n",
       "        [0.8745098 , 0.66666667, 0.61176471],\n",
       "        ...,\n",
       "        [0.87843137, 0.63921569, 0.65882353],\n",
       "        [0.87058824, 0.62745098, 0.64705882],\n",
       "        [0.86666667, 0.62745098, 0.64705882]],\n",
       "\n",
       "       [[0.8745098 , 0.67058824, 0.61568627],\n",
       "        [0.88235294, 0.6745098 , 0.61960784],\n",
       "        [0.88235294, 0.6745098 , 0.61960784],\n",
       "        ...,\n",
       "        [0.86666667, 0.63529412, 0.65882353],\n",
       "        [0.86666667, 0.63137255, 0.63921569],\n",
       "        [0.8627451 , 0.63529412, 0.63137255]]])"
      ]
     },
     "execution_count": 12,
     "metadata": {},
     "output_type": "execute_result"
    }
   ],
   "source": [
    "X_train[0]"
   ]
  },
  {
   "cell_type": "code",
   "execution_count": 43,
   "id": "d94ae122-5f94-4de4-860f-43bc933832be",
   "metadata": {},
   "outputs": [
    {
     "name": "stdout",
     "output_type": "stream",
     "text": [
      "Third RGB value (the Blue) of the fifth row of the forth column of the first image\n"
     ]
    },
    {
     "data": {
      "text/plain": [
       "0.6235294117647059"
      ]
     },
     "execution_count": 43,
     "metadata": {},
     "output_type": "execute_result"
    }
   ],
   "source": [
    "print(\"Third RGB value (the Blue) of the fifth row of the forth column of the first image\")\n",
    "X_train[0][4][3][2]"
   ]
  },
  {
   "cell_type": "markdown",
   "id": "99a38b0a-796a-4cb8-b96c-639ee5d7116f",
   "metadata": {},
   "source": [
    "### Create Validation Data From Training Data"
   ]
  },
  {
   "cell_type": "code",
   "execution_count": null,
   "id": "8c5608fe-68c3-4a30-9ee8-012ea0a4bdd0",
   "metadata": {},
   "outputs": [],
   "source": [
    "###X_train, X_val, y_train, y_val = train_test_split(X_train, y_train, test_size=0.5, random_state = 0)"
   ]
  },
  {
   "cell_type": "markdown",
   "id": "bdfb2650-f9dc-473c-bf78-f4deffd34e6f",
   "metadata": {},
   "source": [
    "### Build Model"
   ]
  },
  {
   "cell_type": "code",
   "execution_count": 76,
   "id": "d966db14-d6b9-4940-b525-c16168ae6aed",
   "metadata": {},
   "outputs": [
    {
     "name": "stdout",
     "output_type": "stream",
     "text": [
      "Model: \"sequential_3\"\n",
      "_________________________________________________________________\n",
      " Layer (type)                Output Shape              Param #   \n",
      "=================================================================\n",
      " conv2d_9 (Conv2D)           (None, 222, 222, 32)      896       \n",
      "                                                                 \n",
      " max_pooling2d_6 (MaxPooling  (None, 111, 111, 32)     0         \n",
      " 2D)                                                             \n",
      "                                                                 \n",
      " conv2d_10 (Conv2D)          (None, 109, 109, 64)      18496     \n",
      "                                                                 \n",
      " max_pooling2d_7 (MaxPooling  (None, 54, 54, 64)       0         \n",
      " 2D)                                                             \n",
      "                                                                 \n",
      " conv2d_11 (Conv2D)          (None, 52, 52, 64)        36928     \n",
      "                                                                 \n",
      " flatten_3 (Flatten)         (None, 173056)            0         \n",
      "                                                                 \n",
      " dense_6 (Dense)             (None, 64)                11075648  \n",
      "                                                                 \n",
      " dense_7 (Dense)             (None, 1)                 65        \n",
      "                                                                 \n",
      "=================================================================\n",
      "Total params: 11,132,033\n",
      "Trainable params: 11,132,033\n",
      "Non-trainable params: 0\n",
      "_________________________________________________________________\n"
     ]
    }
   ],
   "source": [
    "CNN_model = keras.models.Sequential([\n",
    "    keras.layers.Conv2D(32, (3, 3), activation='relu', input_shape=(224, 224, 3)),\n",
    "    keras.layers.MaxPooling2D((2, 2)),\n",
    "    keras.layers.Conv2D(64, (3, 3), activation='relu'),\n",
    "    keras.layers.MaxPooling2D((2, 2)),\n",
    "    keras.layers.Conv2D(64, (3, 3), activation='relu'),\n",
    "    keras.layers.Flatten(),\n",
    "    keras.layers.Dense(64, activation='relu'),\n",
    "    keras.layers.Dense(1, activation='sigmoid')\n",
    "])\n",
    "\n",
    "CNN_model.compile(optimizer='adam', loss='binary_crossentropy', metrics=['accuracy'])\n",
    "\n",
    "CNN_model.summary()"
   ]
  },
  {
   "cell_type": "markdown",
   "id": "93e38f71-18fc-4d69-b2e4-3e1e87b6f6a1",
   "metadata": {},
   "source": [
    "### Train the Model"
   ]
  },
  {
   "cell_type": "code",
   "execution_count": 78,
   "id": "c9b96d89-95f1-48f9-8fcb-4ea32dca9c1f",
   "metadata": {},
   "outputs": [
    {
     "name": "stdout",
     "output_type": "stream",
     "text": [
      "Epoch 1/3\n",
      "83/83 [==============================] - 102s 1s/step - loss: 0.7451 - accuracy: 0.6769\n",
      "Epoch 2/3\n",
      "83/83 [==============================] - 55s 660ms/step - loss: 0.4741 - accuracy: 0.7641\n",
      "Epoch 3/3\n",
      "83/83 [==============================] - 55s 662ms/step - loss: 0.4291 - accuracy: 0.7827\n"
     ]
    },
    {
     "data": {
      "text/plain": [
       "<keras.callbacks.History at 0x1f115dc6a00>"
      ]
     },
     "execution_count": 78,
     "metadata": {},
     "output_type": "execute_result"
    }
   ],
   "source": [
    "#CNN_model_hist = CNN_model.fit(X_train, y_train, epochs = 3, verbose = 1)\n",
    "CNN_model.fit(X_train, y_train, epochs = 3, verbose = 1)"
   ]
  },
  {
   "cell_type": "code",
   "execution_count": 86,
   "id": "d9baa437-5460-4af9-a25a-1f547c954b95",
   "metadata": {},
   "outputs": [
    {
     "name": "stdout",
     "output_type": "stream",
     "text": [
      "83/83 [==============================] - 20s 220ms/step\n",
      "21/21 [==============================] - 4s 196ms/step\n",
      "Train accuracy: 0.7986348122866894\n",
      "Test accuracy: 0.7863636363636364\n",
      "\n",
      "Train accuracy: 0.7986348122866894\n",
      "Test accuracy: 0.7863636363636364\n",
      "\n"
     ]
    }
   ],
   "source": [
    "y_train_hat = CNN_model.predict(X_train)\n",
    "y_train_hat = (0.5 < y_train_hat).astype(int)\n",
    "\n",
    "y_test_hat = CNN_model.predict(X_test)\n",
    "y_test_hat = (0.5 < y_test_hat).astype(int)\n",
    "\n",
    "y_train_hat = y_train_hat.flatten()\n",
    "y_test_hat = y_test_hat.flatten()\n",
    "\n",
    "train_accuracy = accuracy_score(y_train, y_train_hat)\n",
    "test_accuracy = accuracy_score(y_test, y_test_hat)\n",
    "\n",
    "print(\"Train accuracy:\", train_accuracy)\n",
    "print(\"Test accuracy:\", test_accuracy)\n",
    "print()\n",
    "\n",
    "train_accuracy = (sum(y_train == y_train_hat) / y_train_hat.shape[0])\n",
    "test_accuracy = (sum(y_test == y_test_hat) / y_test_hat.shape[0])\n",
    "\n",
    "print(\"Train accuracy:\", train_accuracy)\n",
    "print(\"Test accuracy:\", test_accuracy)\n",
    "print()"
   ]
  }
 ],
 "metadata": {
  "colab": {
   "collapsed_sections": [],
   "name": "HW4_skincancer_colab_stu_UPDATED.ipynb",
   "provenance": []
  },
  "kernelspec": {
   "display_name": "py3.10",
   "language": "python",
   "name": "py3.10"
  },
  "language_info": {
   "codemirror_mode": {
    "name": "ipython",
    "version": 3
   },
   "file_extension": ".py",
   "mimetype": "text/x-python",
   "name": "python",
   "nbconvert_exporter": "python",
   "pygments_lexer": "ipython3",
   "version": "3.9.15"
  }
 },
 "nbformat": 4,
 "nbformat_minor": 5
}
