{
 "cells": [
  {
   "cell_type": "markdown",
   "metadata": {},
   "source": [
    "# Scopes and Namespaces\n",
    "1. A namespace is a mapping from names to objects. Namespace examples:\n",
    "    1. built-in names\n",
    "    2. global names in a module\n",
    "    3. local names in function\n",
    "2. There is no relation between names in different namespaces. Two different modules may have functions with same names\n",
    "3. Namespaces are created at different moments and have different lifetimes.\n",
    "    1. Built-in names is created when the Python interpreter starts up, and is never deleted\n",
    "    2. The global namespace for a module is created when the module definition is read in; normally, module namespaces also last until the inter\n",
    "    3. The local namespace for a function is created when the function is called, and deleted when the function returns or raises an exception that is not handled within the function\n",
    "2. A scope is a textual region of a Python program where a namespace is directly accessible."
   ]
  },
  {
   "cell_type": "code",
   "execution_count": 1,
   "metadata": {
    "collapsed": true,
    "scrolled": true
   },
   "outputs": [],
   "source": [
    "import builtins\n",
    "#dir(builtins)"
   ]
  },
  {
   "cell_type": "code",
   "execution_count": 2,
   "metadata": {},
   "outputs": [
    {
     "name": "stdout",
     "output_type": "stream",
     "text": [
      "After local assignment: local string\n",
      "After nonlocal assignment: nonlocal string\n",
      "After global assignment(function scope): nonlocal string\n",
      "After global assignment(module scope): Changed global string\n"
     ]
    }
   ],
   "source": [
    "# Scopes and Namespaces Example\n",
    "def scope_test():\n",
    "    def do_local(str0):\n",
    "        str0 = \"local string\"\n",
    "        return str0\n",
    "\n",
    "    def do_nonlocal():\n",
    "        nonlocal str0\n",
    "        str0 = \"nonlocal string\"\n",
    "\n",
    "    def do_global():\n",
    "        global str0\n",
    "        str0 = \"Changed global string\"\n",
    "\n",
    "    str0 = \"test string\" # local name in this function\n",
    "    str0 = do_local(str0)\n",
    "    print(\"After local assignment:\", str0)\n",
    "    do_nonlocal()\n",
    "    print(\"After nonlocal assignment:\", str0)\n",
    "    do_global()\n",
    "    print(\"After global assignment(function scope):\", str0)\n",
    "    \n",
    "str0 = 'global string'\n",
    "scope_test()\n",
    "print(\"After global assignment(module scope):\", str0)"
   ]
  },
  {
   "cell_type": "markdown",
   "metadata": {},
   "source": [
    "# Python Object Oriented  Programming"
   ]
  },
  {
   "cell_type": "markdown",
   "metadata": {
    "collapsed": true
   },
   "source": [
    "## Why use classes?\n",
    "1. Inheritance\n",
    "2. Composition\n",
    "3. multi-instance using class instantiation"
   ]
  },
  {
   "cell_type": "code",
   "execution_count": 8,
   "metadata": {},
   "outputs": [
    {
     "name": "stdout",
     "output_type": "stream",
     "text": [
      "2000\n",
      "3000\n",
      "2000\n",
      "100 100\n"
     ]
    }
   ],
   "source": [
    "class FirstClass:\n",
    "    data0 = 1000 # class attribute\n",
    "    \n",
    "    #two methods\n",
    "    def __init__(self):\n",
    "        self.data0 = 100\n",
    "        \n",
    "    def setData(self, value):\n",
    "        self.data = value # instance attribute\n",
    "    def displayData(self):\n",
    "        print(self.data)\n",
    "        \n",
    "x = FirstClass()\n",
    "x.setData(2000)\n",
    "x.displayData()\n",
    "\n",
    "y = FirstClass()\n",
    "y.setData(3000)\n",
    "y.displayData()\n",
    "\n",
    "x.displayData()\n",
    "print(x.data0, y.data0)"
   ]
  },
  {
   "cell_type": "markdown",
   "metadata": {},
   "source": [
    "Data attributes:\n",
    "    1. instance attributes: unique to each instance\n",
    "    2. class attributes: shared by all instances (careful)"
   ]
  },
  {
   "cell_type": "code",
   "execution_count": 14,
   "metadata": {},
   "outputs": [
    {
     "name": "stdout",
     "output_type": "stream",
     "text": [
      "100\n",
      "200\n"
     ]
    },
    {
     "data": {
      "text/plain": [
       "100"
      ]
     },
     "execution_count": 14,
     "metadata": {},
     "output_type": "execute_result"
    }
   ],
   "source": [
    "class FirstClass():\n",
    "    \"\"\"First Class Example\"\"\"\n",
    "    i = 1000 # DATA ATTRIBUTES 1\n",
    "    \n",
    "    def __init__(self):\n",
    "        self.data = 100 # 2: DIFFERENCE\n",
    "    # METHODS\n",
    "    def setData(self, value): \n",
    "        self.data = value\n",
    "    def displayData(self):\n",
    "        print(self.data)\n",
    "        \n",
    "x = FirstClass()\n",
    "x.displayData()\n",
    "\n",
    "x.setData(200)\n",
    "x.displayData()\n",
    "x.data\n",
    "\n",
    "y = FirstClass()\n",
    "y.data"
   ]
  },
  {
   "cell_type": "code",
   "execution_count": 37,
   "metadata": {},
   "outputs": [
    {
     "name": "stdout",
     "output_type": "stream",
     "text": [
      "1000\n",
      "100\n"
     ]
    }
   ],
   "source": [
    "# inheritance\n",
    "class SecondClass(FirstClass):\n",
    "    pass\n",
    "\n",
    "z = SecondClass()\n",
    "print(z.data0)\n",
    "z.setData(100)\n",
    "z.displayData()"
   ]
  },
  {
   "cell_type": "code",
   "execution_count": 6,
   "metadata": {},
   "outputs": [
    {
     "name": "stdout",
     "output_type": "stream",
     "text": [
      "a local string\n",
      "a changed local string\n",
      "a changed local string\n",
      "a changed global string\n"
     ]
    }
   ],
   "source": [
    "# Scopes and Namespaces Example\n",
    "def scope_test():\n",
    "\n",
    "    def do_nonlocal():\n",
    "        nonlocal str0\n",
    "        str0 = \"a changed local string\"\n",
    "\n",
    "    def do_global():\n",
    "        global str0\n",
    "        str0 = \"a changed global string\"\n",
    "\n",
    "    str0 = \"a local string\"\n",
    "    print(str0)\n",
    "\n",
    "    do_nonlocal()\n",
    "    print(str0)\n",
    "\n",
    "    do_global()\n",
    "    print(str0)\n",
    "    \n",
    "str0 = 'a global string'\n",
    "scope_test()\n",
    "print(str0)"
   ]
  },
  {
   "cell_type": "code",
   "execution_count": 20,
   "metadata": {},
   "outputs": [
    {
     "name": "stdout",
     "output_type": "stream",
     "text": [
      "('Jone', 'CS', 3.5)\n",
      "1500\n"
     ]
    }
   ],
   "source": [
    "class Student:\n",
    "    def __init__(self, name, dpt):\n",
    "        self.name = name\n",
    "        self.dpt = dpt\n",
    "    def setGPA(self, gpa):\n",
    "        self.gpa = gpa\n",
    "    def getInfo(self):\n",
    "        return self.name, self.dpt, self.gpa \n",
    "\n",
    "class TA(Student):\n",
    "    salary = 1500\n",
    "    \n",
    "s = Student('Jone', 'CS')\n",
    "s.setGPA(3.5)\n",
    "print(s.getInfo())\n",
    "\n",
    "s1 = TA('Rayan', 'CS')\n",
    "s1.setGPA(4)\n",
    "print(s1.salary)"
   ]
  },
  {
   "cell_type": "markdown",
   "metadata": {},
   "source": [
    "## Recommendation for using OOP in Python programming\n",
    "\n",
    "1. Long-term projects\n",
    "2. Short in time projects"
   ]
  }
 ],
 "metadata": {
  "kernelspec": {
   "display_name": "Python 3",
   "language": "python",
   "name": "python3"
  },
  "language_info": {
   "codemirror_mode": {
    "name": "ipython",
    "version": 3
   },
   "file_extension": ".py",
   "mimetype": "text/x-python",
   "name": "python",
   "nbconvert_exporter": "python",
   "pygments_lexer": "ipython3",
   "version": "3.6.3"
  }
 },
 "nbformat": 4,
 "nbformat_minor": 2
}
