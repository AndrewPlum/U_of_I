{
 "cells": [
  {
   "cell_type": "markdown",
   "metadata": {},
   "source": [
    "# Python Basics: Data Structures"
   ]
  },
  {
   "cell_type": "markdown",
   "metadata": {},
   "source": [
    "## Lists\n",
    "In Python, lists are the most flexible ordered built-in collection object type.\n",
    "#### 1. Major properties :\n",
    "(1) Ordered collections of arbitrary objects: a left-to-right positional ordering of the items.\n",
    "\n",
    "(2) Access by offset; fetch an item by indexing the list on the object's offset\n",
    "\n",
    "(3) Variable length: can grow and shrink in place\n",
    "\n",
    "(4) Mutable\n",
    "\n",
    "(5) Lists are arrays (in standard Python interpreter)"
   ]
  },
  {
   "cell_type": "code",
   "execution_count": 16,
   "metadata": {},
   "outputs": [
    {
     "name": "stdout",
     "output_type": "stream",
     "text": [
      "[1, 2, 3.5, 'str', [2, 3, 4]] \n",
      " 1\n"
     ]
    }
   ],
   "source": [
    "#(1) Ordered collections of arbitrary objects: a left-to-right positional ordering of the items.\n",
    "L = []\n",
    "L = [1,2, 3.5, 'str']\n",
    "L = [1,2, 3.5, 'str', [2, 3,4]] # arbitrary nesting\n",
    "\n",
    "\n",
    "print(L, '\\n', L[0])"
   ]
  },
  {
   "cell_type": "code",
   "execution_count": 17,
   "metadata": {},
   "outputs": [
    {
     "data": {
      "text/plain": [
       "['p', 'y', 't', 'h', 'o', 'n']"
      ]
     },
     "execution_count": 17,
     "metadata": {},
     "output_type": "execute_result"
    }
   ],
   "source": [
    "# extra\n",
    "L = list(range(0, 10))\n",
    "L = list('python')\n",
    "\n",
    "L"
   ]
  },
  {
   "cell_type": "code",
   "execution_count": 18,
   "metadata": {},
   "outputs": [
    {
     "data": {
      "text/plain": [
       "[2, 3, 4]"
      ]
     },
     "execution_count": 18,
     "metadata": {},
     "output_type": "execute_result"
    }
   ],
   "source": [
    "#(2) Access by offset; fetch an item by indexing the list on the object's offset\n",
    "#index: L[i] for 1d, L[i][j] for 2d\n",
    "L = [1,2, 3.5, 'str', [2, 3,4]] # arbitrary nesting\n",
    "\n",
    "L[4]"
   ]
  },
  {
   "cell_type": "code",
   "execution_count": 22,
   "metadata": {},
   "outputs": [
    {
     "data": {
      "text/plain": [
       "[1, 2, 3.5, 1, 2, 3.5]"
      ]
     },
     "execution_count": 22,
     "metadata": {},
     "output_type": "execute_result"
    }
   ],
   "source": [
    "#(3) Variable length: can grow and shrink in place\n",
    "L = [1,2, 3.5]\n",
    "L1 = L*2 # repetition expression\n",
    "L1 = L + L\n",
    "\n",
    "L1"
   ]
  },
  {
   "cell_type": "code",
   "execution_count": 29,
   "metadata": {},
   "outputs": [
    {
     "data": {
      "text/plain": [
       "[0, 3.5]"
      ]
     },
     "execution_count": 29,
     "metadata": {},
     "output_type": "execute_result"
    }
   ],
   "source": [
    "#(4) Mutable\n",
    "L = [1,2, 3.5]\n",
    "L[0] = 0\n",
    "\n",
    "#shrink\n",
    "#del L[1]\n",
    "L.remove(2)\n",
    "L"
   ]
  },
  {
   "cell_type": "code",
   "execution_count": 36,
   "metadata": {},
   "outputs": [
    {
     "data": {
      "text/plain": [
       "[1, 2, 3, 1, 2, 3, 1, 2, 3, 1, 2, 3]"
      ]
     },
     "execution_count": 36,
     "metadata": {},
     "output_type": "execute_result"
    }
   ],
   "source": [
    "4*[1, 2, 3]"
   ]
  },
  {
   "cell_type": "markdown",
   "metadata": {},
   "source": [
    "#### 2. List Operations\n",
    "(1) length,: len()\n",
    "\n",
    "(2) concatenation: +, extend\n",
    "\n",
    "(3) repetition: *\n",
    "\n",
    "(4) membership: in\n",
    "\n",
    "(5) deletion: del or []\n",
    "\n",
    "(6) insertion\n",
    "\n",
    "(7) replacement\n",
    "\n",
    "(8) iteration and comprehensions\n",
    "\n",
    "(9) Matrix"
   ]
  },
  {
   "cell_type": "code",
   "execution_count": 3,
   "metadata": {},
   "outputs": [
    {
     "name": "stdout",
     "output_type": "stream",
     "text": [
      "[1, 2, 5]\n"
     ]
    }
   ],
   "source": [
    "#(5) -(7)\n",
    "L = [1, 2, 3, 5]\n",
    "L[2:3] = [] # del L[1]\n",
    "\n",
    "print(L)"
   ]
  },
  {
   "cell_type": "code",
   "execution_count": 41,
   "metadata": {},
   "outputs": [
    {
     "name": "stdout",
     "output_type": "stream",
     "text": [
      "1 2 3.5 \n",
      "L1 is [1, 4, 12.25]\n"
     ]
    }
   ],
   "source": [
    "# (8) \n",
    "#List iteration and comprehensions\n",
    "L = [1, 2, 3.5]\n",
    "for i in L:\n",
    "    print(i, end = ' ') # do not use: print i\n",
    "\n",
    "# comprehensions build a new list by applying an expression\n",
    "L1 = [i**2 for i in L]\n",
    "print('\\nL1 is', L1)"
   ]
  },
  {
   "cell_type": "code",
   "execution_count": 44,
   "metadata": {},
   "outputs": [
    {
     "name": "stdout",
     "output_type": "stream",
     "text": [
      "[[1, 2, 3.5], [1, 2, 3.5], [1, 2, 3.5]] [1, 2, 3.5]\n"
     ]
    }
   ],
   "source": [
    "#(9) matrix\n",
    "L = [1, 2, 3.5]\n",
    "m = [L, L, L]\n",
    "print(m, m[1])"
   ]
  },
  {
   "cell_type": "markdown",
   "metadata": {},
   "source": [
    "#### 3. One tip for list assignment and copy\n",
    "(1) few examples"
   ]
  },
  {
   "cell_type": "code",
   "execution_count": 20,
   "metadata": {},
   "outputs": [
    {
     "name": "stdout",
     "output_type": "stream",
     "text": [
      "Practice 1: before change\n",
      "L is: [1, 2, 3.5] \n",
      "L1 is: [1, 2, 3.5]\n",
      "Practice 1: after change\n",
      "L is: [1, 2, '3'] \n",
      "L1 is: [1, 2, '3']\n"
     ]
    }
   ],
   "source": [
    "#practice 1\n",
    "L = [1, 2, 3.5]\n",
    "L1 = L\n",
    "print('Practice 1: before change\\nL is: {} \\nL1 is: {}'.format(L, L1))\n",
    "L1[2] = '3'\n",
    "print('Practice 1: after change\\nL is: {} \\nL1 is: {}'.format(L, L1))"
   ]
  },
  {
   "cell_type": "code",
   "execution_count": null,
   "metadata": {
    "collapsed": true
   },
   "outputs": [],
   "source": [
    "#practice 2 \n",
    "L = [1, 2, 3.5]\n",
    "L1 = L.copy()\n",
    "print('\\nPractice 2: before change\\nL is: {} \\nL1 is: {}'.format(L, L1))\n",
    "L1[2] = '3'\n",
    "print('Practice 2: after change\\nL is: {} \\nL1 is: {}'.format(L, L1))"
   ]
  },
  {
   "cell_type": "code",
   "execution_count": 21,
   "metadata": {},
   "outputs": [
    {
     "name": "stdout",
     "output_type": "stream",
     "text": [
      "\n",
      "Practice 2: before change\n",
      "L is: [1, 2, 3.5] \n",
      "L1 is: [1, 2, 3.5]\n",
      "Practice 2: after change\n",
      "L is: [1, 2, 3.5] \n",
      "L1 is: [1, 2, '3']\n"
     ]
    }
   ],
   "source": [
    "# extra practice 3 \n",
    "L = [1, 2, 3.5]\n",
    "L1 = L[:] # slicing will create a new list\n",
    "print('\\nPractice 2: before change\\nL is: {} \\nL1 is: {}'.format(L, L1))\n",
    "L1[2] = '3'\n",
    "print('Practice 2: after change\\nL is: {} \\nL1 is: {}'.format(L, L1))"
   ]
  },
  {
   "cell_type": "code",
   "execution_count": 22,
   "metadata": {},
   "outputs": [
    {
     "name": "stdout",
     "output_type": "stream",
     "text": [
      "\n",
      "Practice 2: before change\n",
      "L is: [1, 2, 3.5] \n",
      "L1 is: [1, 2, 3.5]\n",
      "Practice 2: after change\n",
      "L is: [1, 2, 3.5] \n",
      "L1 is: [1, 2, '3']\n"
     ]
    }
   ],
   "source": [
    "# extra practice 4 \n",
    "L = [1, 2, 3.5]\n",
    "L1 = list(L) # list() constructor will alsio create a new list\n",
    "print('\\nPractice 2: before change\\nL is: {} \\nL1 is: {}'.format(L, L1))\n",
    "L1[2] = '3'\n",
    "print('Practice 2: after change\\nL is: {} \\nL1 is: {}'.format(L, L1))"
   ]
  },
  {
   "cell_type": "markdown",
   "metadata": {},
   "source": [
    "(2) Memory management in python\n",
    "     Stack              privare heap\n",
    "List name(references)-->List content\n",
    "\n",
    "L1 = L only copies refences, and L and L1 point to the same contend on the heap\n",
    "\n",
    "Tip: use 'is' operator to test if two objects are physically the same"
   ]
  },
  {
   "cell_type": "code",
   "execution_count": 25,
   "metadata": {},
   "outputs": [
    {
     "name": "stdout",
     "output_type": "stream",
     "text": [
      "True\n",
      "False\n"
     ]
    }
   ],
   "source": [
    "L = [1, 2, 3.5]\n",
    "L1 = L\n",
    "print(L is L1)\n",
    "\n",
    "L1 = L[:]\n",
    "print(L is L1)"
   ]
  },
  {
   "cell_type": "markdown",
   "metadata": {},
   "source": [
    "## Dictionary\n",
    "\n",
    "Flexible unordered built-in collection object type. Items are sorted and fetched by key instead of by positional offset.\n",
    "#### Main properties\n",
    "(1) accessed by key\n",
    "\n",
    "(2) unsorted collections of arbitrary objects\n",
    "\n",
    "(3) variable-length\n",
    "\n",
    "(4) mutable\n",
    "\n",
    "(5) implemented as hash tables"
   ]
  },
  {
   "cell_type": "code",
   "execution_count": 28,
   "metadata": {},
   "outputs": [
    {
     "name": "stdout",
     "output_type": "stream",
     "text": [
      "{'name': 'Tim', 'age': 22}\n",
      "Tim\n",
      "{'name': 'Tim', 'age': 23}\n",
      "{'name': 'Tim', 'age': 23, 'gender': 'm'}\n"
     ]
    }
   ],
   "source": [
    "D = {'name': 'Tim', 'age': 22}\n",
    "print(D)\n",
    "\n",
    "print(D['name']) # (1) accessed by key\n",
    "D['age'] = 23 # (4) mutable\n",
    "print(D)\n",
    "\n",
    "D['gender'] = 'm'  # (3) variable-length\n",
    "\n",
    "print(D)"
   ]
  },
  {
   "cell_type": "markdown",
   "metadata": {},
   "source": [
    "#### Dict operations\n",
    "(1) length,: len()\n",
    "\n",
    "(2) membership: in\n",
    "\n",
    "(3) get keys: list(D.keys())\n",
    "\n",
    "(4) deletion: D.pop(key), del D[key]\n",
    "\n",
    "(5) comprehensions"
   ]
  },
  {
   "cell_type": "code",
   "execution_count": 59,
   "metadata": {},
   "outputs": [
    {
     "name": "stdout",
     "output_type": "stream",
     "text": [
      "{0: 0, 1: 1, 2: 4, 3: 9, 4: 16}\n"
     ]
    }
   ],
   "source": [
    "# (5) comprehensions\n",
    "D = {i:  i**2 for i in range(5)}\n",
    "print(D)"
   ]
  },
  {
   "cell_type": "markdown",
   "metadata": {},
   "source": [
    "## Tuples\n",
    "Immutable groups of objects\n",
    "\n",
    "#### Main properties\n",
    "(1) Ordered collections of arbitrary objects: a left-to-right positional ordering of the items.\n",
    "\n",
    "(2) Access by offset; fetch an item by indexing the list on the object's offset\n",
    "\n",
    "(3) fixed-length\n",
    "\n",
    "(4) immutable\n",
    "\n",
    "(5) tuples are arrays"
   ]
  },
  {
   "cell_type": "code",
   "execution_count": 4,
   "metadata": {},
   "outputs": [
    {
     "name": "stdout",
     "output_type": "stream",
     "text": [
      "('I', 'am', 'a', 'tuple')\n"
     ]
    },
    {
     "ename": "TypeError",
     "evalue": "'tuple' object does not support item assignment",
     "output_type": "error",
     "traceback": [
      "\u001b[1;31m---------------------------------------------------------------------------\u001b[0m",
      "\u001b[1;31mTypeError\u001b[0m                                 Traceback (most recent call last)",
      "\u001b[1;32m<ipython-input-4-bd3d5ed0c85f>\u001b[0m in \u001b[0;36m<module>\u001b[1;34m()\u001b[0m\n\u001b[0;32m      1\u001b[0m \u001b[0mt\u001b[0m \u001b[1;33m=\u001b[0m \u001b[1;34m'I'\u001b[0m\u001b[1;33m,\u001b[0m \u001b[1;34m'am'\u001b[0m\u001b[1;33m,\u001b[0m \u001b[1;34m'a'\u001b[0m\u001b[1;33m,\u001b[0m \u001b[1;34m'tuple'\u001b[0m\u001b[1;33m\u001b[0m\u001b[0m\n\u001b[0;32m      2\u001b[0m \u001b[0mprint\u001b[0m\u001b[1;33m(\u001b[0m\u001b[0mt\u001b[0m\u001b[1;33m)\u001b[0m\u001b[1;33m\u001b[0m\u001b[0m\n\u001b[1;32m----> 3\u001b[1;33m \u001b[0mt\u001b[0m\u001b[1;33m[\u001b[0m\u001b[1;36m1\u001b[0m\u001b[1;33m]\u001b[0m \u001b[1;33m=\u001b[0m \u001b[1;34m'am not'\u001b[0m\u001b[1;33m\u001b[0m\u001b[0m\n\u001b[0m",
      "\u001b[1;31mTypeError\u001b[0m: 'tuple' object does not support item assignment"
     ]
    }
   ],
   "source": [
    "t = 'I', 'am', 'a', 'tuple'\n",
    "print(t)\n",
    "t[1] = 'am not' # Tuple is immutable. If we try to change any value in it, we will get the TypeError"
   ]
  },
  {
   "cell_type": "code",
   "execution_count": 7,
   "metadata": {},
   "outputs": [
    {
     "name": "stdout",
     "output_type": "stream",
     "text": [
      "[0, 4, 16, 36, 64]\n"
     ]
    }
   ],
   "source": [
    "L = list(range(0, 9))\n",
    "L1 = [i**2 for i in L if i%2 == 0]\n",
    "print(L1)"
   ]
  },
  {
   "cell_type": "code",
   "execution_count": null,
   "metadata": {
    "collapsed": true
   },
   "outputs": [],
   "source": []
  }
 ],
 "metadata": {
  "kernelspec": {
   "display_name": "Python 3",
   "language": "python",
   "name": "python3"
  },
  "language_info": {
   "codemirror_mode": {
    "name": "ipython",
    "version": 3
   },
   "file_extension": ".py",
   "mimetype": "text/x-python",
   "name": "python",
   "nbconvert_exporter": "python",
   "pygments_lexer": "ipython3",
   "version": "3.6.3"
  }
 },
 "nbformat": 4,
 "nbformat_minor": 2
}
