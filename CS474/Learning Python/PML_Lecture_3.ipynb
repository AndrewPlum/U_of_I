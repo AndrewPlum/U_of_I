{
 "cells": [
  {
   "cell_type": "code",
   "execution_count": 1,
   "metadata": {},
   "outputs": [
    {
     "name": "stdout",
     "output_type": "stream",
     "text": [
      "[1, 2, 10] [1, 2, 10]\n"
     ]
    }
   ],
   "source": [
    "#before class: list assignment\n",
    "L = [1, 2, 3]\n",
    "L1 = L\n",
    "L1[2] = 10\n",
    "\n",
    "print(L, L1)"
   ]
  },
  {
   "cell_type": "code",
   "execution_count": 2,
   "metadata": {},
   "outputs": [
    {
     "name": "stdout",
     "output_type": "stream",
     "text": [
      "[1, 2, 3] [1, 2, 10]\n"
     ]
    }
   ],
   "source": [
    "L = [1, 2, 3]\n",
    "L1 = L[:]\n",
    "L1[2] = 10\n",
    "\n",
    "print(L, L1)"
   ]
  },
  {
   "cell_type": "code",
   "execution_count": 3,
   "metadata": {},
   "outputs": [
    {
     "name": "stdout",
     "output_type": "stream",
     "text": [
      "[1, 2, 3] [1, 2, 10]\n"
     ]
    }
   ],
   "source": [
    "L = [1, 2, 3]\n",
    "L1 = L.copy()\n",
    "L1[2] = 10\n",
    "\n",
    "print(L, L1)"
   ]
  },
  {
   "cell_type": "markdown",
   "metadata": {},
   "source": [
    "# Data Types, Functions and Scopes\n"
   ]
  },
  {
   "cell_type": "markdown",
   "metadata": {},
   "source": [
    "## Data Types and Operations\n",
    "\n",
    "1. Numbers: \n",
    "    1. Integer: int: 2, 4, 5,\n",
    "    2. floating-point numbers: float: 1.2, 1.5, 3.7\n",
    "    3. Decimal\n",
    "    4. Fraction\n",
    "    5: Complex\n",
    "2. Strings: \n",
    "    1. record both textual information and arbitrary collections of bytes. \n",
    "    2. Encolsed in single quotes or double quotes\n",
    "    3. Immutable\n",
    "    4. use + for concatenation\n",
    "    5. can be indexed with the first character having index 0:"
   ]
  },
  {
   "cell_type": "code",
   "execution_count": 65,
   "metadata": {},
   "outputs": [
    {
     "name": "stdout",
     "output_type": "stream",
     "text": [
      "0.2 0 1\n"
     ]
    }
   ],
   "source": [
    "# numbers\n",
    "i = 1\n",
    "f0 = 1.5\n",
    "\n",
    "f  = 1 / 5 # division always return float number\n",
    "f1  = 1 // 5 # floored division\n",
    "print(f, f1, 1%5)"
   ]
  },
  {
   "cell_type": "code",
   "execution_count": 66,
   "metadata": {},
   "outputs": [
    {
     "name": "stdout",
     "output_type": "stream",
     "text": [
      "11 p g ng\n",
      "Help on built-in function format:\n",
      "\n",
      "format(...) method of builtins.str instance\n",
      "    S.format(*args, **kwargs) -> str\n",
      "    \n",
      "    Return a formatted version of S, using substitutions from args and kwargs.\n",
      "    The substitutions are identified by braces ('{' and '}').\n",
      "\n",
      "I love Python programming.\n"
     ]
    }
   ],
   "source": [
    "# string\n",
    "str0 = 'Python'\n",
    "str1 = 'programming' #concatenation\n",
    "\n",
    "print(len(str1), str1[0], str1[-1], str1[-2:]) # len, index and slice\n",
    "#str1[0] = 'p' #error, strings are immutable\n",
    "\n",
    "str2 = 's' * 10 # repetition\n",
    "\n",
    "# all methods and get help\n",
    "dir(str2)\n",
    "help(str2.format)\n",
    "\n",
    "#example\n",
    "str3 = 'I love {0} {1}.'.format(str0, str1)\n",
    "print(str3)"
   ]
  },
  {
   "cell_type": "markdown",
   "metadata": {},
   "source": [
    "## Functions, Scopes and  Modules"
   ]
  },
  {
   "cell_type": "markdown",
   "metadata": {
    "slideshow": {
     "slide_type": "slide"
    }
   },
   "source": [
    "## Functions:\n",
    "1. Why do we need functions?\n",
    "    1. maximize code reuse and reduce redundancy. Functions are the simplest way to package logic we may want to use in more than one place and more than one time. \n",
    "    2. procedural decomposition. Functions provide a tool for splitting systems into pieces that have well-defined roles. Take implementing a machine learning program for example, it includes the following subtasks:\n",
    "        1. data loading\n",
    "        2. data preprocessing\n",
    "        3. feature extraction\n",
    "        4. training\n",
    "        5. test and evaluation\n",
    "        6. model persistance\n",
    "2. Python built-in functions and user-defined functions\n",
    "    1. Python built-in functions: https://docs.python.org/3.6/library/functions.html#len\n",
    "    2. User-defined functions\n",
    "        1. **def** statement creates an object and assign it a name\n",
    "        2. **return** sends a result object back to the caller\n",
    "        3. **global**: module level variable\n",
    "        4. **nonlocal**: function level\n",
    "    3. Function arguments\n",
    "    4. **lambda** creates an object (anonymous function) but return it  as a results"
   ]
  },
  {
   "cell_type": "code",
   "execution_count": 82,
   "metadata": {},
   "outputs": [
    {
     "name": "stdout",
     "output_type": "stream",
     "text": [
      "[1, 2, 1, 2, 1, 2, 1, 2]\n"
     ]
    }
   ],
   "source": [
    "#B. Practice user-defined functions\n",
    "def times(x, y):\n",
    "    return x*y\n",
    "\n",
    "z = times(10, 4)\n",
    "z = times('P', 4)\n",
    "z = times([1, 2], 4)\n",
    "\n",
    "print(z)"
   ]
  },
  {
   "cell_type": "code",
   "execution_count": 80,
   "metadata": {},
   "outputs": [
    {
     "data": {
      "text/plain": [
       "20"
      ]
     },
     "execution_count": 80,
     "metadata": {},
     "output_type": "execute_result"
    }
   ],
   "source": [
    "# function rename\n",
    "my_tm = times\n",
    "my_tm(1, 20)"
   ]
  },
  {
   "cell_type": "code",
   "execution_count": 84,
   "metadata": {},
   "outputs": [
    {
     "data": {
      "text/plain": [
       "40"
      ]
     },
     "execution_count": 84,
     "metadata": {},
     "output_type": "execute_result"
    }
   ],
   "source": [
    "# C. Function arguments\n",
    "# C1.1: default arguments\n",
    "def times2(x, y = 2):\n",
    "    # x is mandatory: required non-default\n",
    "    # y has a default value: default arg.\n",
    "    return x*y\n",
    "\n",
    "times2(10)\n",
    "times2(10, 4)"
   ]
  },
  {
   "cell_type": "code",
   "execution_count": 5,
   "metadata": {},
   "outputs": [
    {
     "ename": "SyntaxError",
     "evalue": "non-default argument follows default argument (<ipython-input-5-77c0d1ca5b42>, line 3)",
     "output_type": "error",
     "traceback": [
      "\u001b[1;36m  File \u001b[1;32m\"<ipython-input-5-77c0d1ca5b42>\"\u001b[1;36m, line \u001b[1;32m3\u001b[0m\n\u001b[1;33m    def times2(y = 2, x):\u001b[0m\n\u001b[1;37m              ^\u001b[0m\n\u001b[1;31mSyntaxError\u001b[0m\u001b[1;31m:\u001b[0m non-default argument follows default argument\n"
     ]
    }
   ],
   "source": [
    "# C1.2: default argument position: default argument must \n",
    "# follow non-default arguments \n",
    "def times2(y = 2, x):\n",
    "    return x*y"
   ]
  },
  {
   "cell_type": "code",
   "execution_count": 1,
   "metadata": {},
   "outputs": [
    {
     "data": {
      "text/plain": [
       "300"
      ]
     },
     "execution_count": 1,
     "metadata": {},
     "output_type": "execute_result"
    }
   ],
   "source": [
    "#C2.1: using keyword args to call a function\n",
    "def power(x, base =10,  y = 2):\n",
    "    return x*(base**y)\n",
    "\n",
    "# call function using positional args.\n",
    "power(2)\n",
    "power(2, 10)\n",
    "power(2, 10, 3) # positional args.\n",
    "\n",
    "#call function using keyword args: kwarg = value\n",
    "power(x=2, y=3) #x, y are keyword args.\n",
    "#the order is not important\n",
    "power(y=2, x=3)"
   ]
  },
  {
   "cell_type": "code",
   "execution_count": 3,
   "metadata": {},
   "outputs": [
    {
     "data": {
      "text/plain": [
       "300"
      ]
     },
     "execution_count": 3,
     "metadata": {},
     "output_type": "execute_result"
    }
   ],
   "source": [
    "def power(x, base =10,  y = 2):\n",
    "    return x*(base**y)\n",
    "\n",
    "power(y=2, x=3)"
   ]
  },
  {
   "cell_type": "code",
   "execution_count": 90,
   "metadata": {},
   "outputs": [
    {
     "ename": "SyntaxError",
     "evalue": "positional argument follows keyword argument (<ipython-input-90-4574272266b6>, line 2)",
     "output_type": "error",
     "traceback": [
      "\u001b[1;36m  File \u001b[1;32m\"<ipython-input-90-4574272266b6>\"\u001b[1;36m, line \u001b[1;32m2\u001b[0m\n\u001b[1;33m    power(y=2, 3)\u001b[0m\n\u001b[1;37m              ^\u001b[0m\n\u001b[1;31mSyntaxError\u001b[0m\u001b[1;31m:\u001b[0m positional argument follows keyword argument\n"
     ]
    }
   ],
   "source": [
    "# C2.2: the order is not important, but...\n",
    "power() # need value for the required arg. x\n",
    "power(y=2, 3) # no positional args. after key args."
   ]
  },
  {
   "cell_type": "code",
   "execution_count": 109,
   "metadata": {},
   "outputs": [
    {
     "name": "stdout",
     "output_type": "stream",
     "text": [
      "x is 2.\n",
      "10 is in *args\n",
      "100 is in *args\n",
      "1000 is in *args\n",
      "2 is in **kwds\n",
      "3 is in **kwds\n",
      "4 is in **kwds\n",
      "x is 2.\n",
      "10 is in *args\n",
      "100 is in *args\n",
      "1000 is in *args\n",
      "2 is in **kwds\n",
      "3 is in **kwds\n",
      "4 is in **kwds\n"
     ]
    },
    {
     "data": {
      "text/plain": [
       "[200, 2000000, 2000000000000]"
      ]
     },
     "execution_count": 109,
     "metadata": {},
     "output_type": "execute_result"
    }
   ],
   "source": [
    "#C3.1 functons with args. *name, **name\n",
    "# make the arg. list short\n",
    "def power(x, *args,  **kwds):\n",
    "    #*args receives a tuple containing positional args.: (t1, t2, t3, ...)\n",
    "    #**kwds recieves a dictionary containing all keyword args.: {k1: v1, k2: v2, ...}\n",
    "    res = []\n",
    "    print('x is {}.'.format(x))\n",
    "    for t in args:\n",
    "        print('{} is in *args'.format(t))\n",
    "    i = 0\n",
    "    for d in kwds:\n",
    "        print('{} is in **kwds'.format(kwds[d]))\n",
    "        res.append(x * args[i]**kwds[d])\n",
    "        i += 1\n",
    "    return res\n",
    "\n",
    "power(2, 10, 100, 1000, p1=2, p2=3, p3=4)\n",
    "\n",
    "base = (10, 100, 1000)\n",
    "powers = {'p1':2, 'p2':3, 'p3':4}\n",
    "power(2, *base, **powers)"
   ]
  },
  {
   "cell_type": "code",
   "execution_count": 110,
   "metadata": {},
   "outputs": [
    {
     "name": "stdout",
     "output_type": "stream",
     "text": [
      "1 is in args.\n",
      "2 is in args.\n",
      "4 is in args.\n",
      "8 is in args.\n",
      "16 is in args.\n"
     ]
    }
   ],
   "source": [
    "#C3.2 arbitray argument list\n",
    "def ablist(*args):\n",
    "    for t in args:\n",
    "        print('{} is in args.'.format(t))\n",
    "\n",
    "ablist(1, 2, 4, 8, 16)"
   ]
  },
  {
   "cell_type": "code",
   "execution_count": 94,
   "metadata": {},
   "outputs": [
    {
     "data": {
      "text/plain": [
       "5"
      ]
     },
     "execution_count": 94,
     "metadata": {},
     "output_type": "execute_result"
    }
   ],
   "source": [
    "#4: lambda: small anonymous in-line functions \n",
    "# format: lambda parameters: expression. It behaves like\n",
    "# def <lambda>(parameters): expression\n",
    "\n",
    "add  = lambda a, b: a+b\n",
    "add(3, 2)"
   ]
  },
  {
   "cell_type": "markdown",
   "metadata": {},
   "source": [
    "# Modules and Packages\n",
    "1. A module is a file containing Python definitions and statements. The file name is the module name with the suffix .py appended, e.g.,math.py.\n",
    "2. A package are a collections of modules. Refer to Section 6.4.\n",
    "3. Python standard modules: https://docs.python.org/3.6/py-modindex.html.   "
   ]
  },
  {
   "cell_type": "code",
   "execution_count": 4,
   "metadata": {
    "collapsed": true,
    "scrolled": true
   },
   "outputs": [],
   "source": [
    "import math\n",
    "#dir(math) # all attributes in math module"
   ]
  },
  {
   "cell_type": "markdown",
   "metadata": {},
   "source": [
    "### Built-in functions and Modules\n",
    "1. Python built-in functions: https://docs.python.org/3.6/library/functions.html#len\n",
    "2. Python standard modules: https://docs.python.org/3.6/py-modindex.html \n",
    "    . A module is a file containing Python definitions and statements. The file name is the module name with the suffix .py appended"
   ]
  },
  {
   "cell_type": "code",
   "execution_count": 116,
   "metadata": {
    "scrolled": true
   },
   "outputs": [
    {
     "name": "stdout",
     "output_type": "stream",
     "text": [
      "Help on built-in function acos in module math:\n",
      "\n",
      "acos(...)\n",
      "    acos(x)\n",
      "    \n",
      "    Return the arc cosine (measured in radians) of x.\n",
      "\n"
     ]
    }
   ],
   "source": [
    "import math\n",
    "dir(math)\n",
    "help(math.acos)"
   ]
  },
  {
   "cell_type": "code",
   "execution_count": 12,
   "metadata": {},
   "outputs": [
    {
     "name": "stdout",
     "output_type": "stream",
     "text": [
      "args:\n",
      "2,10,100,1000,\n",
      "kwds:\n",
      "2,3,4,"
     ]
    }
   ],
   "source": [
    "def my_func(*args,  **kwds):\n",
    "    print('args:')\n",
    "    for t in args:\n",
    "        print(t, end = ',')\n",
    "    print('\\nkwds:')\n",
    "    for d in kwds:\n",
    "        print(kwds[d], end =',')\n",
    "\n",
    "my_func(2, 10, 100, 1000, p1=2, p2=3, p3=4)"
   ]
  },
  {
   "cell_type": "code",
   "execution_count": 11,
   "metadata": {},
   "outputs": [
    {
     "ename": "SyntaxError",
     "evalue": "no binding for nonlocal 'a' found (<ipython-input-11-f47ee87a6bfc>, line 4)",
     "output_type": "error",
     "traceback": [
      "\u001b[1;36m  File \u001b[1;32m\"<ipython-input-11-f47ee87a6bfc>\"\u001b[1;36m, line \u001b[1;32m4\u001b[0m\n\u001b[1;33m    nonlocal a\u001b[0m\n\u001b[1;37m    ^\u001b[0m\n\u001b[1;31mSyntaxError\u001b[0m\u001b[1;31m:\u001b[0m no binding for nonlocal 'a' found\n"
     ]
    }
   ],
   "source": [
    "a = 5\n",
    "\n",
    "def func():\n",
    "    global a\n",
    "    a = 3\n",
    "    print(a)\n",
    "func()\n",
    "print(a)"
   ]
  },
  {
   "cell_type": "code",
   "execution_count": null,
   "metadata": {
    "collapsed": true
   },
   "outputs": [],
   "source": []
  }
 ],
 "metadata": {
  "kernelspec": {
   "display_name": "Python 3",
   "language": "python",
   "name": "python3"
  },
  "language_info": {
   "codemirror_mode": {
    "name": "ipython",
    "version": 3
   },
   "file_extension": ".py",
   "mimetype": "text/x-python",
   "name": "python",
   "nbconvert_exporter": "python",
   "pygments_lexer": "ipython3",
   "version": "3.6.3"
  }
 },
 "nbformat": 4,
 "nbformat_minor": 2
}
