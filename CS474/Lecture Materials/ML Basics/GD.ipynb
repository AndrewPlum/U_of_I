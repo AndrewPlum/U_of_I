{
 "cells": [
  {
   "cell_type": "markdown",
   "metadata": {},
   "source": [
    "# Gradient Descent: An Example\n",
    "## Wine Quality Prediction\n",
    "\n",
    "![Fig.1](wine_quality.jpg \"Wine Quality\")\n",
    "\n",
    "### Data Set Information:\n",
    "\n",
    "The two datasets are related to red and white variants of the Portuguese \"Vinho Verde\" wine. \n",
    "These datasets can be viewed as classification or regression tasks.\n",
    "http://archive.ics.uci.edu/ml/machine-learning-databases/wine-quality/\n",
    "\n",
    "#### Input features (based on physicochemical tests):\n",
    "1 - fixed acidity.\n",
    "2 - volatile acidity.\n",
    "3 - citric acid.\n",
    "4 - residual sugar.\n",
    "5 - chlorides.\n",
    "6 - free sulfur dioxide.\n",
    "7 - total sulfur dioxide.\n",
    "8 - density.\n",
    "9 - pH.\n",
    "10 - sulphates.\n",
    "11 - alcohol.\n",
    "\n",
    "#### Output variable (based on sensory data):\n",
    "12 - quality (score between 0 and 10)\n"
   ]
  },
  {
   "cell_type": "code",
   "execution_count": 1,
   "metadata": {
    "tags": []
   },
   "outputs": [],
   "source": [
    "import pandas as pd\n",
    "import numpy as np"
   ]
  },
  {
   "cell_type": "code",
   "execution_count": 2,
   "metadata": {
    "tags": []
   },
   "outputs": [
    {
     "name": "stdout",
     "output_type": "stream",
     "text": [
      "(4898, 11) (4898,)\n"
     ]
    },
    {
     "data": {
      "text/plain": [
       "array([1., 1., 1., 1., 1., 1., 1., 1., 1., 1., 1.])"
      ]
     },
     "execution_count": 2,
     "metadata": {},
     "output_type": "execute_result"
    }
   ],
   "source": [
    "## (1) Data preparation\n",
    "df=pd.read_csv('winequality-white.csv', sep = ';')\n",
    "df\n",
    "X = df.values[:, :11]\n",
    "Y = df.values[:, 11]\n",
    "print(X.shape, Y.shape)\n",
    "\n",
    "# data normalization. rescale data\n",
    "min_vals = np.min(X, axis = 0)\n",
    "max_vals = np.max(X, axis = 0)\n",
    "X1 = (X-min_vals)/(max_vals-min_vals)# --> 0 to 1\n",
    "np.max(X1, axis = 0)"
   ]
  },
  {
   "cell_type": "code",
   "execution_count": 3,
   "metadata": {
    "tags": []
   },
   "outputs": [
    {
     "name": "stdout",
     "output_type": "stream",
     "text": [
      "y_hat: [[2.00111141]] \n",
      " weights: [[0.8556156 ]\n",
      " [0.76293629]\n",
      " [0.11000545]\n",
      " [0.73832553]\n",
      " [0.14577048]\n",
      " [0.13324515]\n",
      " [0.02297844]\n",
      " [0.31304911]\n",
      " [0.65988156]\n",
      " [0.62101906]\n",
      " [0.75487557]\n",
      " [0.1078213 ]]\n"
     ]
    }
   ],
   "source": [
    "##(2) Assume a linear mode that y = w0*1 + w_1*x_1 +w_2*x_2+...+ w_11*x_11\n",
    "def predict(x, w):\n",
    "    '''\n",
    "    x: input feature vector\n",
    "    w: weights\n",
    "    \n",
    "    return y_hat\n",
    "    '''\n",
    "    \n",
    "    y_hat = w[0] + np.dot(w[1:].T, np.c_[x]) # linear model\n",
    "    \n",
    "    return y_hat\n",
    "\n",
    "#test\n",
    "w = np.random.rand(12, 1) # random w\n",
    "x = X1[0, :] # first sample\n",
    "\n",
    "y_hat = predict(x, w)\n",
    "print('y_hat:', y_hat, '\\n', 'weights:', w)"
   ]
  },
  {
   "cell_type": "code",
   "execution_count": 4,
   "metadata": {
    "tags": []
   },
   "outputs": [
    {
     "data": {
      "text/plain": [
       "array([[38720.51325894]])"
      ]
     },
     "execution_count": 4,
     "metadata": {},
     "output_type": "execute_result"
    }
   ],
   "source": [
    "## (3) Loss function: L = 1/2 * sum(y_hat_i - y_i)^2\n",
    "def loss(w, X, Y):\n",
    "    '''\n",
    "    w: weights\n",
    "    X: input feature vector\n",
    "    Y: targets\n",
    "    '''\n",
    "    m = len(Y)\n",
    "    loss = 0\n",
    "    for i in range(m):\n",
    "        y_hat = predict(X[i, :], w)\n",
    "        loss = loss + np.square(Y[i] - y_hat)\n",
    "        #print(i, y_hat, Y[i], loss)\n",
    "    loss = loss/2\n",
    "    \n",
    "    return loss\n",
    "\n",
    "loss(w, X1, Y)"
   ]
  },
  {
   "cell_type": "code",
   "execution_count": null,
   "metadata": {
    "scrolled": true,
    "tags": []
   },
   "outputs": [
    {
     "name": "stdout",
     "output_type": "stream",
     "text": [
      "iteration: 0 loss is:  [[44416.16896152]]\n",
      "iteration: 1 loss is:  [[2451869.31848247]]\n",
      "iteration: 2 loss is:  [[1.41585503e+08]]\n",
      "iteration: 3 loss is:  [[8.18215097e+09]]\n",
      "iteration: 4 loss is:  [[4.7284807e+11]]\n",
      "iteration: 5 loss is:  [[2.73259862e+13]]\n",
      "iteration: 6 loss is:  [[1.57917431e+15]]\n",
      "iteration: 7 loss is:  [[9.12608048e+16]]\n",
      "iteration: 8 loss is:  [[5.27398049e+18]]\n",
      "iteration: 9 loss is:  [[3.04784407e+20]]\n"
     ]
    }
   ],
   "source": [
    "#(4) Optimization: Gradient Descent\n",
    "def GD(X, Y, init_w, lr = 0.001, delta = 0.01, max_iter = 100):\n",
    "    '''GD\n",
    "    parameters:\n",
    "        init_w: w^0\n",
    "        X: training data\n",
    "        Y: training target\n",
    "        lr: learning rate\n",
    "        max_iter: the max iterations of the while loop\n",
    "        delta: threshold for the stopping condition\n",
    "    \n",
    "    return:\n",
    "        w_star: w*\n",
    "        \n",
    "    '''\n",
    "    \n",
    "    m = len(Y)\n",
    "    b = np.reshape(Y, [Y.shape[0],1])\n",
    "    w = init_w\n",
    "    A = np.c_[np.ones((m, 1)), X]\n",
    "    gradient = A.T.dot(np.dot(A, w)-b) # calculate the gradient\n",
    "    \n",
    "    loss_hist = np.zeros(max_iter)\n",
    "    w_hist = np.zeros((max_iter, init_w.shape[0])) # recored the whole w sequence\n",
    "    i = 0                  \n",
    "    while(np.linalg.norm(gradient) > delta) and (i < max_iter):\n",
    "        w_hist[i,:] = w.T\n",
    "        loss_w = loss(w, X, Y) # calculate the loss\n",
    "        print('iteration:', i, 'loss is: ', loss_w)\n",
    "        loss_hist[i] = loss_w\n",
    "        \n",
    "        w = w - lr*gradient   # update weights      \n",
    "        gradient = A.T.dot(np.dot(A, w)-b) # calculate the new grad at the new w\n",
    "        i = i + 1\n",
    "        \n",
    "    w_star = w  \n",
    "    return w_star, loss_hist, w_hist\n",
    "        \n",
    "init_w = np.random.rand(12, 1)\n",
    "w_star, loss_hist, w_hist = GD(X1, Y, init_w, lr = 0.001, delta = 0.01, max_iter = 100)"
   ]
  },
  {
   "cell_type": "code",
   "execution_count": 6,
   "metadata": {
    "tags": []
   },
   "outputs": [
    {
     "data": {
      "image/png": "[encoded data removed]",
      "text/plain": [
       "<Figure size 640x480 with 1 Axes>"
      ]
     },
     "metadata": {},
     "output_type": "display_data"
    }
   ],
   "source": [
    "# show the Loss curve\n",
    "from matplotlib import pyplot as plt\n",
    "plt.plot(range(100), loss_hist)\n",
    "plt.xlabel('Iterations')\n",
    "plt.ylabel('Loss')\n",
    "plt.show()"
   ]
  },
  {
   "cell_type": "code",
   "execution_count": 7,
   "metadata": {
    "tags": []
   },
   "outputs": [
    {
     "name": "stdout",
     "output_type": "stream",
     "text": [
      "[6. 6. 6. 6. 6. 6. 6. 6. 6. 6.] [-1.02247095e+294 -1.07334884e+294 -1.10634789e+294 -1.09052693e+294\n",
      " -1.09052693e+294 -1.10634789e+294 -1.04122289e+294 -1.02247095e+294\n",
      " -1.07334884e+294 -1.13723736e+294]\n"
     ]
    }
   ],
   "source": [
    "# Prediction\n",
    "Y_hat = np.zeros((len(Y)))\n",
    "for idx, x in enumerate(X1):\n",
    "    Y_hat[idx] = predict(x, w_star)              \n",
    "    \n",
    "print(Y[:10], Y_hat[:10])"
   ]
  }
 ],
 "metadata": {
  "kernelspec": {
   "display_name": "Python 3 (ipykernel)",
   "language": "python",
   "name": "python3"
  },
  "language_info": {
   "codemirror_mode": {
    "name": "ipython",
    "version": 3
   },
   "file_extension": ".py",
   "mimetype": "text/x-python",
   "name": "python",
   "nbconvert_exporter": "python",
   "pygments_lexer": "ipython3",
   "version": "3.11.4"
  }
 },
 "nbformat": 4,
 "nbformat_minor": 4
}
