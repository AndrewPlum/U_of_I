{
 "cells": [
  {
   "cell_type": "markdown",
   "metadata": {},
   "source": [
    "***Andrew Plum***</br>\n",
    "***CS 474***</br>\n",
    "***9/17/2024***"
   ]
  },
  {
   "cell_type": "markdown",
   "metadata": {
    "tags": []
   },
   "source": [
    "## Homework 2: SGD(minibatch) Method for Wine Quality Prediction \n",
    "\n",
    "Add your code to the following sections:\n",
    "\n",
    "    ## add your code here\n",
    "    #--------------------------------\n",
    "\n",
    "    #---------------------------------\n",
    "    \n",
    "Description: In this homework, we will practice cross-validation and implement the stochastic gradient optimization (mini-batch) to solve the wine quality prediction problem. Using the following code as your template. Specific requirements:\n",
    "\n",
    "1. Use all function definitions given in the code (e.g., def SGD(X, Y, lr = 0.001, batch_size = 32, epoch = 100):); and do not change the function names and input arguments.\n",
    "\n",
    "2. Evaluate (Cross-validation) the model trained using GD (20 points)\n",
    "\n",
    "3. SGD implementation. 40 pts\n",
    "   \n",
    "4. Calculate and print out the MSE and MAE values of SGD for the training and test sets (15 points)\n",
    "5. Plot the loss curve of the SGD. (5 points)\n",
    "6. Plot the mse curves on the training and test sets using different models (w_hist). (20 points)\n",
    "\n",
    "### Common mistakes\n",
    "    \n",
    "1. Call GD and SGD using the whole dataset\n",
    "\n",
    "    -- GD and SGD are used to train the model (learn w); and we should call them using the training sets\n",
    "   \n",
    "2. Calculate gradient using the whole training set for SGD\n",
    "    \n",
    "    -- In SGD, update gradient only using mini-batches\n",
    "  \n",
    "3. Calculate the loss of each epoch using the average of all minibatches\n",
    "    \n",
    "    -- should use the w of the last mini-batch and the whole training set to calculate the loss  \n",
    "   \n",
    "4. Mix concepts of loss function and evaulation metrics\n",
    "    -- loss function: for optimization purpose (gradient). We use the sum of square errors in this homework. L = 1/2 * sum(y_hat_i - y_i)^2\n",
    "    \n",
    "    -- evaluation metrics: mse and mae: mse = 1/m * sum(y_hat_i - y_i)^2, mae = 1/m * sum(abs(y_hat_i - y_i))"
   ]
  },
  {
   "cell_type": "markdown",
   "metadata": {},
   "source": [
    "### 1. Load data, implement the model, loss function and GD "
   ]
  },
  {
   "cell_type": "code",
   "execution_count": 1,
   "metadata": {
    "tags": []
   },
   "outputs": [
    {
     "name": "stdout",
     "output_type": "stream",
     "text": [
      "Data shape: X: (4898, 11) Y: (4898,)\n"
     ]
    }
   ],
   "source": [
    "import pandas as pd\n",
    "import numpy as np\n",
    "from matplotlib import pyplot as plt\n",
    "\n",
    "## (1) Data preparation\n",
    "df=pd.read_csv('winequality-white.csv', sep = ';')\n",
    "df\n",
    "X = df.values[:, :11] #input feature vectors\n",
    "Y = df.values[:, 11] # target values\n",
    "print('Data shape:', 'X:', X.shape, 'Y:', Y.shape)\n",
    "\n",
    "# data normalization. Please use X1 rather than X in the rest of this homework\n",
    "min_vals = np.min(X, axis = 0)\n",
    "max_vals = np.max(X, axis = 0)\n",
    "X1 = (X-min_vals)/(max_vals-min_vals)\n",
    "\n",
    "##(2) Assume a linear mode that y = w0*1 + w_1*x_1 +w_2*x_2+...+ w_11*x_11\n",
    "def predict(X, w):\n",
    "    '''\n",
    "    X: input feature vectors:n_samples * n_features\n",
    "    w: weights\n",
    "    \n",
    "    return Y_hat\n",
    "    '''\n",
    "    # \n",
    "    Y_hat = np.zeros((X.shape[0]))\n",
    "    for idx, x in enumerate(X):          \n",
    "        y_hat = w[0] + np.dot(w[1:].T, np.c_[x]) # linear model\n",
    "        Y_hat[idx] = y_hat # DEPRECATION WARNING HERE?\n",
    "    return Y_hat\n",
    "\n",
    "## (3) Loss function: L = 1/2 * sum(y_hat_i - y_i)^2\n",
    "def loss(w, X, Y):\n",
    "    '''\n",
    "    w: weights\n",
    "    X: input feature vectors\n",
    "    Y: targets\n",
    "    '''\n",
    "    Y_hat = predict(X, w)\n",
    "    loss = 1/2* np.sum(np.square(Y - Y_hat))\n",
    "    \n",
    "    return loss\n",
    "\n",
    "# Optimization Algo 1: Gradient Descent\n",
    "def GD(X, Y, lr = 0.001, delta = 0.01, max_iter = 100):\n",
    "    '''\n",
    "    X: training data\n",
    "    Y: training target\n",
    "    lr: learning rate\n",
    "    max_iter: the max iterations\n",
    "    '''\n",
    "    \n",
    "    m = len(Y)\n",
    "    b = np.reshape(Y, [Y.shape[0],1])\n",
    "    w = np.random.rand(X.shape[1] + 1, 1) #w^0\n",
    "    A = np.c_[np.ones((m, 1)), X]\n",
    "    gradient = A.T.dot(np.dot(A, w)-b)\n",
    "    \n",
    "    loss_hist = np.zeros(max_iter) # history of loss\n",
    "    w_hist = np.zeros((max_iter, w.shape[0])) # history of weight\n",
    "    loss_w = 0\n",
    "    i = 0                  \n",
    "    while(np.linalg.norm(gradient) > delta) and (i < max_iter):\n",
    "        w_hist[i,:] = w.T\n",
    "        loss_w = loss(w, X, Y)\n",
    "        print(i, 'loss:', loss_w)\n",
    "        loss_hist[i] = loss_w\n",
    "        \n",
    "        w = w - lr*gradient        \n",
    "        gradient = A.T.dot(np.dot(A, w)-b) # update the gradient using new w\n",
    "        i = i + 1\n",
    "        \n",
    "    w_star = w  \n",
    "    return w_star, loss_hist, w_hist"
   ]
  },
  {
   "cell_type": "markdown",
   "metadata": {},
   "source": [
    "### 2. Model evaluation using cross-validation (25 points)"
   ]
  },
  {
   "cell_type": "markdown",
   "metadata": {},
   "source": [
    "#### 2.1 Split the dataset (X1, Y) into a training (70%) set, (X_train, y_train), and a test (30%) set, (X_test, y_test). (5 points)"
   ]
  },
  {
   "cell_type": "code",
   "execution_count": 2,
   "metadata": {},
   "outputs": [
    {
     "name": "stdout",
     "output_type": "stream",
     "text": [
      "(3428, 11) (1470, 11)\n"
     ]
    }
   ],
   "source": [
    "from sklearn.model_selection import train_test_split\n",
    "\n",
    "## add your code here\n",
    "#-----------------------\n",
    "\n",
    "X_train, X_test, y_train, y_test = train_test_split(X1, Y, test_size = 0.3)\n",
    "\n",
    "print(X_train.shape, X_test.shape)\n",
    "\n",
    "#---------------------------------"
   ]
  },
  {
   "cell_type": "markdown",
   "metadata": {},
   "source": [
    "#### 2.2 Model training using the GD function with different learning rate (10 points )"
   ]
  },
  {
   "cell_type": "code",
   "execution_count": 3,
   "metadata": {
    "tags": []
   },
   "outputs": [
    {
     "name": "stdout",
     "output_type": "stream",
     "text": [
      "0 loss: 24223.396679318328\n",
      "1 loss: 21540.209253880763\n",
      "2 loss: 19170.11171729473\n"
     ]
    },
    {
     "name": "stderr",
     "output_type": "stream",
     "text": [
      "C:\\Users\\plumz\\AppData\\Local\\Temp\\ipykernel_24316\\3605411607.py:29: DeprecationWarning: Conversion of an array with ndim > 0 to a scalar is deprecated, and will error in future. Ensure you extract a single element from your array before performing this operation. (Deprecated NumPy 1.25.)\n",
      "  Y_hat[idx] = y_hat # DEPRECATION WARNING HERE?\n"
     ]
    },
    {
     "name": "stdout",
     "output_type": "stream",
     "text": [
      "3 loss: 17076.56750353617\n",
      "4 loss: 15227.303750596924\n",
      "5 loss: 13593.81373942424\n",
      "6 loss: 12150.91739669596\n",
      "7 loss: 10876.373085561396\n",
      "8 loss: 9750.53469920109\n",
      "9 loss: 8756.048770506743\n",
      "10 loss: 7877.586928123921\n",
      "11 loss: 7101.609574046439\n",
      "12 loss: 6416.157139303947\n",
      "13 loss: 5810.665699464667\n",
      "14 loss: 5275.804107238194\n",
      "15 loss: 4803.330131199416\n",
      "16 loss: 4385.963382678066\n",
      "17 loss: 4017.2730716868937\n",
      "18 loss: 3691.578861385599\n",
      "19 loss: 3403.8632925219317\n",
      "20 loss: 3149.6944276694267\n",
      "21 loss: 2925.1575226431487\n",
      "22 loss: 2726.7946716497236\n",
      "23 loss: 2551.5514956615298\n",
      "24 loss: 2396.730052092609\n",
      "25 loss: 2259.9472397696272\n",
      "26 loss: 2139.098057913978\n",
      "27 loss: 2032.3231526869395\n",
      "28 loss: 1937.9801509525569\n",
      "29 loss: 1854.618339301666\n",
      "30 loss: 1780.9562979554305\n",
      "31 loss: 1715.8621447231035\n",
      "32 loss: 1658.336084428768\n",
      "33 loss: 1607.4949947659543\n",
      "34 loss: 1562.5588109353139\n",
      "35 loss: 1522.838499152931\n",
      "36 loss: 1487.7254336129847\n",
      "37 loss: 1456.682013125984\n",
      "38 loss: 1429.2333727662779\n",
      "39 loss: 1404.9600627446414\n",
      "40 loss: 1383.4915816337698\n",
      "41 loss: 1364.5006642463384\n",
      "42 loss: 1347.69823610001\n",
      "43 loss: 1332.8289566807582\n",
      "44 loss: 1319.6672827935645\n",
      "45 loss: 1308.013991307901\n",
      "46 loss: 1297.6931076880521\n",
      "47 loss: 1288.5491929544385\n",
      "48 loss: 1280.4449472481556\n",
      "49 loss: 1273.2590930521114\n",
      "50 loss: 1266.8845054337062\n",
      "51 loss: 1261.226560482397\n",
      "52 loss: 1256.201676479493\n",
      "53 loss: 1251.7360253089125\n",
      "54 loss: 1247.7643942423174\n",
      "55 loss: 1244.2291805503992\n",
      "56 loss: 1241.0795034399116\n",
      "57 loss: 1238.2704196249047\n",
      "58 loss: 1235.7622304383653\n",
      "59 loss: 1233.5198698017823\n",
      "60 loss: 1231.5123636167705\n",
      "61 loss: 1229.7123522440143\n",
      "62 loss: 1228.095668707443\n",
      "63 loss: 1226.6409661206692\n",
      "64 loss: 1225.329388591608\n",
      "65 loss: 1224.1442805315098\n",
      "66 loss: 1223.070929886725\n",
      "67 loss: 1222.0963413345273\n",
      "68 loss: 1221.2090359462813\n",
      "69 loss: 1220.3988742292975\n",
      "70 loss: 1219.6568998191524\n",
      "71 loss: 1218.975201412633\n",
      "72 loss: 1218.3467908126747\n",
      "73 loss: 1217.7654952050789\n",
      "74 loss: 1217.225862006202\n",
      "75 loss: 1216.7230748146249\n",
      "76 loss: 1216.2528791709988\n",
      "77 loss: 1215.8115169814882\n",
      "78 loss: 1215.3956685937953\n",
      "79 loss: 1215.002401632728\n",
      "80 loss: 1214.629125806501\n",
      "81 loss: 1214.2735529870004\n",
      "82 loss: 1213.9336619485548\n",
      "83 loss: 1213.607667221584\n",
      "84 loss: 1213.2939915809284\n",
      "85 loss: 1212.991241744703\n",
      "86 loss: 1212.6981869090214\n",
      "87 loss: 1212.413739787648\n",
      "88 loss: 1212.1369398642646\n",
      "89 loss: 1211.8669385991423\n",
      "90 loss: 1211.602986362152\n",
      "91 loss: 1211.3444208906458\n",
      "92 loss: 1211.0906570942723\n",
      "93 loss: 1210.8411780495335\n",
      "94 loss: 1210.59552704525\n",
      "95 loss: 1210.3533005562938\n",
      "96 loss: 1210.1141420372642\n",
      "97 loss: 1209.8777364404227\n",
      "98 loss: 1209.6438053733634\n",
      "99 loss: 1209.4121028217724\n"
     ]
    }
   ],
   "source": [
    "## add your code here\n",
    "#-----------------------\n",
    "\n",
    "lr = 0.00001\n",
    "w_star, loss_hist, w_hist = GD(X_train, y_train, lr)\n",
    "\n",
    "#---------------------------------"
   ]
  },
  {
   "cell_type": "code",
   "execution_count": 4,
   "metadata": {},
   "outputs": [
    {
     "name": "stdout",
     "output_type": "stream",
     "text": [
      "0 loss: 25775.72471265244\n"
     ]
    },
    {
     "name": "stderr",
     "output_type": "stream",
     "text": [
      "C:\\Users\\plumz\\AppData\\Local\\Temp\\ipykernel_24316\\3605411607.py:29: DeprecationWarning: Conversion of an array with ndim > 0 to a scalar is deprecated, and will error in future. Ensure you extract a single element from your array before performing this operation. (Deprecated NumPy 1.25.)\n",
      "  Y_hat[idx] = y_hat # DEPRECATION WARNING HERE?\n"
     ]
    },
    {
     "name": "stdout",
     "output_type": "stream",
     "text": [
      "1 loss: 5317.972819532841\n",
      "2 loss: 2064.1035961524876\n",
      "3 loss: 1541.3211526196528\n",
      "4 loss: 1452.2241860885965\n",
      "5 loss: 1432.1210641078742\n",
      "6 loss: 1423.1166232899016\n",
      "7 loss: 1416.0163872086332\n",
      "8 loss: 1409.3567051284035\n",
      "9 loss: 1402.9012346893733\n",
      "10 loss: 1396.6085764635868\n",
      "11 loss: 1390.4683936117708\n",
      "12 loss: 1384.4753940804042\n",
      "13 loss: 1378.6251970668525\n",
      "14 loss: 1372.9136734783078\n",
      "15 loss: 1367.336837953333\n",
      "16 loss: 1361.890828539083\n",
      "17 loss: 1356.5719003809734\n",
      "18 loss: 1351.3764217317198\n",
      "19 loss: 1346.3008704206627\n",
      "20 loss: 1341.3418304854285\n",
      "21 loss: 1336.4959889158733\n",
      "22 loss: 1331.7601324996886\n",
      "23 loss: 1327.131144765402\n",
      "24 loss: 1322.6060030195854\n",
      "25 loss: 1318.1817754753229\n",
      "26 loss: 1313.8556184691342\n",
      "27 loss: 1309.624773763609\n",
      "28 loss: 1305.48656593311\n",
      "29 loss: 1301.4383998299813\n",
      "30 loss: 1297.4777581287794\n",
      "31 loss: 1293.6021989461124\n",
      "32 loss: 1289.8093535337603\n",
      "33 loss: 1286.096924042809\n",
      "34 loss: 1282.4626813566128\n",
      "35 loss: 1278.9044629904542\n",
      "36 loss: 1275.420171055848\n",
      "37 loss: 1272.0077702874898\n",
      "38 loss: 1268.6652861309249\n",
      "39 loss: 1265.3908028890496\n",
      "40 loss: 1262.182461925645\n",
      "41 loss: 1259.0384599241713\n",
      "42 loss: 1255.9570472001258\n",
      "43 loss: 1252.9365260653058\n",
      "44 loss: 1249.9752492423809\n",
      "45 loss: 1247.0716183282166\n",
      "46 loss: 1244.2240823044517\n",
      "47 loss: 1241.4311360938655\n",
      "48 loss: 1238.6913191611268\n",
      "49 loss: 1236.003214156553\n",
      "50 loss: 1233.3654456015565\n",
      "51 loss: 1230.7766786144866\n",
      "52 loss: 1228.2356176756266\n",
      "53 loss: 1225.741005430136\n",
      "54 loss: 1223.2916215277678\n",
      "55 loss: 1220.8862814982265\n",
      "56 loss: 1218.5238356610707\n",
      "57 loss: 1216.2031680690893\n",
      "58 loss: 1213.9231954841262\n",
      "59 loss: 1211.682866384347\n",
      "60 loss: 1209.481160001983\n",
      "61 loss: 1207.317085390609\n",
      "62 loss: 1205.1896805210486\n",
      "63 loss: 1203.0980114050203\n",
      "64 loss: 1201.041171245673\n",
      "65 loss: 1199.0182796141794\n",
      "66 loss: 1197.0284816515864\n",
      "67 loss: 1195.070947295143\n",
      "68 loss: 1193.1448705283506\n",
      "69 loss: 1191.2494686540076\n",
      "70 loss: 1189.3839815895346\n",
      "71 loss: 1187.5476711839017\n",
      "72 loss: 1185.739820555483\n",
      "73 loss: 1183.9597334502016\n",
      "74 loss: 1182.2067336193352\n",
      "75 loss: 1180.480164216379\n",
      "76 loss: 1178.7793872123787\n",
      "77 loss: 1177.103782829162\n",
      "78 loss: 1175.4527489899237\n",
      "79 loss: 1173.825700786622\n",
      "80 loss: 1172.222069963676\n",
      "81 loss: 1170.6413044174556\n",
      "82 loss: 1169.0828677110835\n",
      "83 loss: 1167.5462386040763\n",
      "84 loss: 1166.0309105963622\n",
      "85 loss: 1164.5363914862437\n",
      "86 loss: 1163.062202941866\n",
      "87 loss: 1161.6078800857817\n",
      "88 loss: 1160.172971092205\n",
      "89 loss: 1158.757036796568\n",
      "90 loss: 1157.3596503170006\n",
      "91 loss: 1155.9803966873615\n",
      "92 loss: 1154.618872501474\n",
      "93 loss: 1153.2746855682162\n",
      "94 loss: 1151.9474545771309\n",
      "95 loss: 1150.6368087742349\n",
      "96 loss: 1149.342387647716\n",
      "97 loss: 1148.0638406232051\n",
      "98 loss: 1146.80082676834\n",
      "99 loss: 1145.553014506325\n"
     ]
    }
   ],
   "source": [
    "## add your code here\n",
    "#-----------------------\n",
    "\n",
    "lr = 0.0001\n",
    "w_star, loss_hist, w_hist = GD(X_train, y_train, lr)\n",
    "\n",
    "#---------------------------------"
   ]
  },
  {
   "cell_type": "markdown",
   "metadata": {},
   "source": [
    "##### What do you observed from the results of two learning rates?\n",
    "Add your response here:\n",
    "\n",
    "\n",
    "\n",
    "\n",
    "\n"
   ]
  },
  {
   "cell_type": "markdown",
   "metadata": {},
   "source": [
    "What I observed from the results of the two learning rates is that early on in the training, the second learning rate (lr = 0.0001) decreased the loss more quickly each iteration than the first learning rate (lr = 0.00001). It also seems that towards the end of the trainging, the rate of improvement was greater with the second learning rate than it was with the first learning rate. I also tried other learning rates and from the ones I tried, lr = 0.0001 yielded the best final loss value. "
   ]
  },
  {
   "cell_type": "markdown",
   "metadata": {},
   "source": [
    "#### 2.3. Evaluate the trained model (w_star) using the MSE and MAE on the training set and test set, respectively. (10 points)"
   ]
  },
  {
   "cell_type": "code",
   "execution_count": 5,
   "metadata": {},
   "outputs": [
    {
     "name": "stdout",
     "output_type": "stream",
     "text": [
      "My training mse: 0.6676313193338513 and my training mae:0.639552800277896\n",
      "Sklearn training mse: 0.6676313193338513 and sklearn training mae:0.639552800277896\n",
      "\n",
      "My test mse: 0.733201327757855 and my test mae:0.6528491129532209\n",
      "Sklearn test mse: 0.733201327757855 and sklearn test mae:0.6528491129532209\n"
     ]
    },
    {
     "name": "stderr",
     "output_type": "stream",
     "text": [
      "C:\\Users\\plumz\\AppData\\Local\\Temp\\ipykernel_24316\\3605411607.py:29: DeprecationWarning: Conversion of an array with ndim > 0 to a scalar is deprecated, and will error in future. Ensure you extract a single element from your array before performing this operation. (Deprecated NumPy 1.25.)\n",
      "  Y_hat[idx] = y_hat # DEPRECATION WARNING HERE?\n",
      "C:\\Users\\plumz\\AppData\\Local\\Temp\\ipykernel_24316\\3605411607.py:29: DeprecationWarning: Conversion of an array with ndim > 0 to a scalar is deprecated, and will error in future. Ensure you extract a single element from your array before performing this operation. (Deprecated NumPy 1.25.)\n",
      "  Y_hat[idx] = y_hat # DEPRECATION WARNING HERE?\n"
     ]
    }
   ],
   "source": [
    "#training error: MSE, MAE\n",
    "## add your code here\n",
    "#-----------------------\n",
    "\n",
    "from sklearn.metrics import mean_squared_error, mean_absolute_error\n",
    "\n",
    "def myMSE(y_true, y_pred):\n",
    "    \n",
    "    MSE = np.mean((y_true - y_pred)**2)\n",
    "    \n",
    "    return MSE\n",
    "    \n",
    "def myMAE(y_true, y_pred):\n",
    "    \n",
    "    MAE = np.mean(np.abs(y_true - y_pred))\n",
    "    \n",
    "    return MAE\n",
    "\n",
    "y_hat_train = predict(X_train, w_star)\n",
    "\n",
    "my_mse_train = myMSE(y_train, y_hat_train)\n",
    "my_mae_train = myMAE(y_train, y_hat_train)\n",
    "print('My training mse: {} and my training mae:{}'.format(my_mse_train, my_mae_train))\n",
    "\n",
    "mse_train = mean_squared_error(y_train, y_hat_train)\n",
    "mae_train = mean_absolute_error(y_train, y_hat_train)\n",
    "print('Sklearn training mse: {} and sklearn training mae:{}'.format(mse_train, mae_train))\n",
    "\n",
    "print()\n",
    "\n",
    "#---------------------------------\n",
    "\n",
    "\n",
    "## test error: MAE, MSE\n",
    "## add your code here\n",
    "#-----------------------\n",
    "\n",
    "y_hat_test = predict(X_test, w_star)\n",
    "\n",
    "my_mse_test = myMSE(y_test, y_hat_test)\n",
    "my_mae_test = myMAE(y_test, y_hat_test)\n",
    "print('My test mse: {} and my test mae:{}'.format(my_mse_test, my_mae_test))\n",
    "\n",
    "mse_test = mean_squared_error(y_test, y_hat_test)\n",
    "mae_test = mean_absolute_error(y_test, y_hat_test)\n",
    "print('Sklearn test mse: {} and sklearn test mae:{}'.format(mse_test, mae_test))\n",
    "\n",
    "#---------------------------------"
   ]
  },
  {
   "cell_type": "markdown",
   "metadata": {},
   "source": [
    "### 3. SGD implementation (35 points)\n",
    "Use the SGD function definition given in the code (def SGD(X, Y, lr = 0.001, batch_size = 32, epoch = 100):); and do not change it."
   ]
  },
  {
   "cell_type": "code",
   "execution_count": 6,
   "metadata": {
    "scrolled": true
   },
   "outputs": [],
   "source": [
    "def SGD(X, Y, lr = 0.001, batch_size = 32, epoch = 100): \n",
    "    '''Implement the minibatch Gradient Desent approach\n",
    "    \n",
    "        X: training data\n",
    "        Y: training target\n",
    "        lr: learning rate\n",
    "        batch_size: batch size\n",
    "        epoch: number of max epoches\n",
    "        \n",
    "        return: w_star, w_hist, loss_hist\n",
    "    '''\n",
    "    m = len(Y)\n",
    "    np.random.seed(9)\n",
    "    w = np.random.rand(X.shape[1]+1, 1)    #(12,1) values in [0, 1)\n",
    "    w_hist = np.zeros((epoch, w.shape[0])) # (epoch,12) \n",
    "    loss_hist = np.zeros(epoch)            # (epoch,)\n",
    "   \n",
    "    \n",
    "    ## add your code here\n",
    "    #-----------------------\n",
    "    \n",
    "    from sklearn.utils import shuffle\n",
    "    \n",
    "    for i in range(epoch):\n",
    "        #(1) Shuffle data (X and Y) at the beginning of each epoch. (5 points)\n",
    "        \n",
    "        # shuffle X and Y TOGETHER here\n",
    "        X_shuffled, y_shuffled = shuffle(X, Y)\n",
    "        \n",
    "        #(2) go through all minibatches and update w. (25 points)\n",
    "        \n",
    "        for b in range(int(m/batch_size)): \n",
    "            \n",
    "            #prepare the bth minibatch X_batch and Y_batch. \n",
    "\n",
    "            start_of_batch = b * batch_size\n",
    "            end_of_batch = (b + 1) * batch_size\n",
    "            X_batch = X_shuffled[start_of_batch:end_of_batch] # remember the upper number of the slice is exclusive\n",
    "            y_batch = y_shuffled[start_of_batch:end_of_batch]\n",
    "            \n",
    "            #prepare A and b for current minibatch. \n",
    "\n",
    "            # concatenate a row of 1s to A to create A_batch to allow bias\n",
    "            A_batch = np.concatenate((np.ones((batch_size, 1)), X_batch), axis=1)\n",
    "            B_batch = y_batch.reshape(-1, 1)\n",
    "            \n",
    "            #gradient calcualation and w update. \n",
    "            \n",
    "            gradient = A_batch.T.dot(A_batch.dot(w) - B_batch)\n",
    "            w = w + (lr * (-gradient))\n",
    "            \n",
    "        ## (3) Save the loss(on whole training set) and the weight for current epoch. 5 points\n",
    "\n",
    "        w_hist[i, :] = w.T # i is the current epoch\n",
    "        loss_hist[i] = loss(w, X, Y)\n",
    "        #print(i, loss_hist[i])\n",
    "        \n",
    "        ##(4) Decay learning rate at the end of each epoch. \n",
    "        \n",
    "        lr = lr * 0.9\n",
    "    \n",
    "    #---------------------------------\n",
    "    \n",
    "    w_star = w\n",
    "    return w_star, w_hist, loss_hist  "
   ]
  },
  {
   "cell_type": "markdown",
   "metadata": {},
   "source": [
    "### 4. Calculate and print out the MSE and MAE values of SGD for the training and test sets (15 points)"
   ]
  },
  {
   "cell_type": "code",
   "execution_count": 7,
   "metadata": {
    "tags": []
   },
   "outputs": [
    {
     "name": "stderr",
     "output_type": "stream",
     "text": [
      "C:\\Users\\plumz\\AppData\\Local\\Temp\\ipykernel_24316\\3605411607.py:29: DeprecationWarning: Conversion of an array with ndim > 0 to a scalar is deprecated, and will error in future. Ensure you extract a single element from your array before performing this operation. (Deprecated NumPy 1.25.)\n",
      "  Y_hat[idx] = y_hat # DEPRECATION WARNING HERE?\n"
     ]
    },
    {
     "name": "stdout",
     "output_type": "stream",
     "text": [
      "Sample 0) Predicted wine quality value: 6.189910094059237\n",
      "Sample 0) True wine quality value: 6.0\n",
      "Sample 1) Predicted wine quality value: 6.162189714233206\n",
      "Sample 1) True wine quality value: 5.0\n",
      "Sample 2) Predicted wine quality value: 5.408135402230842\n",
      "Sample 2) True wine quality value: 6.0\n",
      "Sample 3) Predicted wine quality value: 6.439804539657887\n",
      "Sample 3) True wine quality value: 6.0\n",
      "Sample 4) Predicted wine quality value: 5.941716383541216\n",
      "Sample 4) True wine quality value: 5.0\n",
      "Sample 5) Predicted wine quality value: 5.543858499832046\n",
      "Sample 5) True wine quality value: 6.0\n",
      "Sample 6) Predicted wine quality value: 5.636168019738563\n",
      "Sample 6) True wine quality value: 7.0\n",
      "Sample 7) Predicted wine quality value: 5.4956151781266005\n",
      "Sample 7) True wine quality value: 5.0\n",
      "Sample 8) Predicted wine quality value: 6.438685139939688\n",
      "Sample 8) True wine quality value: 6.0\n",
      "Sample 9) Predicted wine quality value: 5.714489193119416\n",
      "Sample 9) True wine quality value: 7.0\n",
      "\n",
      "My training mse: 0.7157654470989169 and my training mae:0.6628269245215846\n",
      "Sklearn training mse: 0.7157654470989169 and sklearn training mae:0.6628269245215846\n",
      "\n",
      "My test mse: 0.7895199492803305 and my test mae:0.6773727234110047\n",
      "Sklearn test mse: 0.7895199492803305 and sklearn test mae:0.6773727234110047\n"
     ]
    },
    {
     "name": "stderr",
     "output_type": "stream",
     "text": [
      "C:\\Users\\plumz\\AppData\\Local\\Temp\\ipykernel_24316\\3605411607.py:29: DeprecationWarning: Conversion of an array with ndim > 0 to a scalar is deprecated, and will error in future. Ensure you extract a single element from your array before performing this operation. (Deprecated NumPy 1.25.)\n",
      "  Y_hat[idx] = y_hat # DEPRECATION WARNING HERE?\n"
     ]
    }
   ],
   "source": [
    "batch_size = 32\n",
    "n_epochs = 50\n",
    "\n",
    "#train model using SGD\n",
    "w_star_SGD, w_hist_SGD, loss_hist_SGD = SGD(X_train, y_train, lr = 0.0001, batch_size = batch_size, epoch = n_epochs)\n",
    "\n",
    "## add your code here\n",
    "#-----------------------\n",
    "#(1) print out the predicted wine quality values and the true quality \n",
    "# values of the first 10 data samples in the test dataset.  5 points\n",
    "\n",
    "y_hat_test = predict(X_train, w_star_SGD)\n",
    "\n",
    "for i in range(10):\n",
    "    print(f\"Sample {i}) Predicted wine quality value: {y_hat_test[i]}\")\n",
    "    print(f\"Sample {i}) True wine quality value: {y_test[i]}\")\n",
    "\n",
    "#(2) model's MSE and MAE on the training set using w_star_SGD. 5 points\n",
    "\n",
    "y_hat_train = predict(X_train, w_star_SGD)\n",
    "\n",
    "print()\n",
    "\n",
    "my_mse_train = myMSE(y_train, y_hat_train)\n",
    "my_mae_train = myMAE(y_train, y_hat_train)\n",
    "print('My training mse: {} and my training mae:{}'.format(my_mse_train, my_mae_train))\n",
    "\n",
    "mse_train = mean_squared_error(y_train, y_hat_train)\n",
    "mae_train = mean_absolute_error(y_train, y_hat_train)\n",
    "print('Sklearn training mse: {} and sklearn training mae:{}'.format(mse_train, mae_train))\n",
    "\n",
    "print()\n",
    "\n",
    "#(3) model's MSE and MAE on the test set. 5 points\n",
    "\n",
    "y_hat_test = predict(X_test, w_star_SGD)\n",
    "\n",
    "my_mse_test = myMSE(y_test, y_hat_test)\n",
    "my_mae_test = myMAE(y_test, y_hat_test)\n",
    "print('My test mse: {} and my test mae:{}'.format(my_mse_test, my_mae_test))\n",
    "\n",
    "mse_test = mean_squared_error(y_test, y_hat_test)\n",
    "mae_test = mean_absolute_error(y_test, y_hat_test)\n",
    "print('Sklearn test mse: {} and sklearn test mae:{}'.format(mse_test, mae_test))\n",
    "\n",
    "#---------------------------------"
   ]
  },
  {
   "cell_type": "markdown",
   "metadata": {},
   "source": [
    "### 5. Plot the loss curve of SGD returned from the training. (5 points)\n",
    "Plot the values in loss_hist_SGD. The horizontal axis is epoch."
   ]
  },
  {
   "cell_type": "code",
   "execution_count": 8,
   "metadata": {},
   "outputs": [
    {
     "data": {
      "image/png": "[encoded data removed]",
      "text/plain": [
       "<Figure size 640x480 with 1 Axes>"
      ]
     },
     "metadata": {},
     "output_type": "display_data"
    }
   ],
   "source": [
    "## add your code here\n",
    "#-----------------------\n",
    "\n",
    "plt.plot(loss_hist_SGD)\n",
    "plt.xlabel('Epoch')\n",
    "plt.ylabel('Loss')\n",
    "plt.title('Stochastic Gradient Descent Loss Curve')\n",
    "plt.show()\n",
    "\n",
    "#---------------------------------"
   ]
  },
  {
   "cell_type": "markdown",
   "metadata": {},
   "source": [
    "### 6. Plot the MSE curves on the training and test sets using different models (w_hist). (20 points)\n",
    "- each row in w_hist_SGD defines one linear model\n",
    "- apply each linear model to predict results for the training and test sets\n",
    "- calculate mse for both training and test sets.\n",
    "\n",
    "~~~python\n",
    "\n",
    "#sample code\n",
    "    for i in range(n_epochs):\n",
    "        #y_train_SGD_pred = # call predict using X_train and w_hist_SGD[i]\n",
    "        #y_test_SGD_pred = # call predict using X_test and w_hist_SGD[i]\n",
    "\n",
    "        #mse_SGD_train[i] = \n",
    "        #mse_SGD_test[i] = \n",
    "\n",
    "    #plot the mse curve on the training set\n",
    "    #plot the mse curve on the test set\n",
    "~~~"
   ]
  },
  {
   "cell_type": "code",
   "execution_count": 9,
   "metadata": {},
   "outputs": [
    {
     "name": "stderr",
     "output_type": "stream",
     "text": [
      "C:\\Users\\plumz\\AppData\\Local\\Temp\\ipykernel_24316\\3605411607.py:29: DeprecationWarning: Conversion of an array with ndim > 0 to a scalar is deprecated, and will error in future. Ensure you extract a single element from your array before performing this operation. (Deprecated NumPy 1.25.)\n",
      "  Y_hat[idx] = y_hat # DEPRECATION WARNING HERE?\n",
      "C:\\Users\\plumz\\AppData\\Local\\Temp\\ipykernel_24316\\3605411607.py:29: DeprecationWarning: Conversion of an array with ndim > 0 to a scalar is deprecated, and will error in future. Ensure you extract a single element from your array before performing this operation. (Deprecated NumPy 1.25.)\n",
      "  Y_hat[idx] = y_hat # DEPRECATION WARNING HERE?\n",
      "C:\\Users\\plumz\\AppData\\Local\\Temp\\ipykernel_24316\\3605411607.py:29: DeprecationWarning: Conversion of an array with ndim > 0 to a scalar is deprecated, and will error in future. Ensure you extract a single element from your array before performing this operation. (Deprecated NumPy 1.25.)\n",
      "  Y_hat[idx] = y_hat # DEPRECATION WARNING HERE?\n",
      "C:\\Users\\plumz\\AppData\\Local\\Temp\\ipykernel_24316\\3605411607.py:29: DeprecationWarning: Conversion of an array with ndim > 0 to a scalar is deprecated, and will error in future. Ensure you extract a single element from your array before performing this operation. (Deprecated NumPy 1.25.)\n",
      "  Y_hat[idx] = y_hat # DEPRECATION WARNING HERE?\n",
      "C:\\Users\\plumz\\AppData\\Local\\Temp\\ipykernel_24316\\3605411607.py:29: DeprecationWarning: Conversion of an array with ndim > 0 to a scalar is deprecated, and will error in future. Ensure you extract a single element from your array before performing this operation. (Deprecated NumPy 1.25.)\n",
      "  Y_hat[idx] = y_hat # DEPRECATION WARNING HERE?\n",
      "C:\\Users\\plumz\\AppData\\Local\\Temp\\ipykernel_24316\\3605411607.py:29: DeprecationWarning: Conversion of an array with ndim > 0 to a scalar is deprecated, and will error in future. Ensure you extract a single element from your array before performing this operation. (Deprecated NumPy 1.25.)\n",
      "  Y_hat[idx] = y_hat # DEPRECATION WARNING HERE?\n",
      "C:\\Users\\plumz\\AppData\\Local\\Temp\\ipykernel_24316\\3605411607.py:29: DeprecationWarning: Conversion of an array with ndim > 0 to a scalar is deprecated, and will error in future. Ensure you extract a single element from your array before performing this operation. (Deprecated NumPy 1.25.)\n",
      "  Y_hat[idx] = y_hat # DEPRECATION WARNING HERE?\n",
      "C:\\Users\\plumz\\AppData\\Local\\Temp\\ipykernel_24316\\3605411607.py:29: DeprecationWarning: Conversion of an array with ndim > 0 to a scalar is deprecated, and will error in future. Ensure you extract a single element from your array before performing this operation. (Deprecated NumPy 1.25.)\n",
      "  Y_hat[idx] = y_hat # DEPRECATION WARNING HERE?\n",
      "C:\\Users\\plumz\\AppData\\Local\\Temp\\ipykernel_24316\\3605411607.py:29: DeprecationWarning: Conversion of an array with ndim > 0 to a scalar is deprecated, and will error in future. Ensure you extract a single element from your array before performing this operation. (Deprecated NumPy 1.25.)\n",
      "  Y_hat[idx] = y_hat # DEPRECATION WARNING HERE?\n",
      "C:\\Users\\plumz\\AppData\\Local\\Temp\\ipykernel_24316\\3605411607.py:29: DeprecationWarning: Conversion of an array with ndim > 0 to a scalar is deprecated, and will error in future. Ensure you extract a single element from your array before performing this operation. (Deprecated NumPy 1.25.)\n",
      "  Y_hat[idx] = y_hat # DEPRECATION WARNING HERE?\n",
      "C:\\Users\\plumz\\AppData\\Local\\Temp\\ipykernel_24316\\3605411607.py:29: DeprecationWarning: Conversion of an array with ndim > 0 to a scalar is deprecated, and will error in future. Ensure you extract a single element from your array before performing this operation. (Deprecated NumPy 1.25.)\n",
      "  Y_hat[idx] = y_hat # DEPRECATION WARNING HERE?\n",
      "C:\\Users\\plumz\\AppData\\Local\\Temp\\ipykernel_24316\\3605411607.py:29: DeprecationWarning: Conversion of an array with ndim > 0 to a scalar is deprecated, and will error in future. Ensure you extract a single element from your array before performing this operation. (Deprecated NumPy 1.25.)\n",
      "  Y_hat[idx] = y_hat # DEPRECATION WARNING HERE?\n",
      "C:\\Users\\plumz\\AppData\\Local\\Temp\\ipykernel_24316\\3605411607.py:29: DeprecationWarning: Conversion of an array with ndim > 0 to a scalar is deprecated, and will error in future. Ensure you extract a single element from your array before performing this operation. (Deprecated NumPy 1.25.)\n",
      "  Y_hat[idx] = y_hat # DEPRECATION WARNING HERE?\n",
      "C:\\Users\\plumz\\AppData\\Local\\Temp\\ipykernel_24316\\3605411607.py:29: DeprecationWarning: Conversion of an array with ndim > 0 to a scalar is deprecated, and will error in future. Ensure you extract a single element from your array before performing this operation. (Deprecated NumPy 1.25.)\n",
      "  Y_hat[idx] = y_hat # DEPRECATION WARNING HERE?\n",
      "C:\\Users\\plumz\\AppData\\Local\\Temp\\ipykernel_24316\\3605411607.py:29: DeprecationWarning: Conversion of an array with ndim > 0 to a scalar is deprecated, and will error in future. Ensure you extract a single element from your array before performing this operation. (Deprecated NumPy 1.25.)\n",
      "  Y_hat[idx] = y_hat # DEPRECATION WARNING HERE?\n",
      "C:\\Users\\plumz\\AppData\\Local\\Temp\\ipykernel_24316\\3605411607.py:29: DeprecationWarning: Conversion of an array with ndim > 0 to a scalar is deprecated, and will error in future. Ensure you extract a single element from your array before performing this operation. (Deprecated NumPy 1.25.)\n",
      "  Y_hat[idx] = y_hat # DEPRECATION WARNING HERE?\n",
      "C:\\Users\\plumz\\AppData\\Local\\Temp\\ipykernel_24316\\3605411607.py:29: DeprecationWarning: Conversion of an array with ndim > 0 to a scalar is deprecated, and will error in future. Ensure you extract a single element from your array before performing this operation. (Deprecated NumPy 1.25.)\n",
      "  Y_hat[idx] = y_hat # DEPRECATION WARNING HERE?\n",
      "C:\\Users\\plumz\\AppData\\Local\\Temp\\ipykernel_24316\\3605411607.py:29: DeprecationWarning: Conversion of an array with ndim > 0 to a scalar is deprecated, and will error in future. Ensure you extract a single element from your array before performing this operation. (Deprecated NumPy 1.25.)\n",
      "  Y_hat[idx] = y_hat # DEPRECATION WARNING HERE?\n",
      "C:\\Users\\plumz\\AppData\\Local\\Temp\\ipykernel_24316\\3605411607.py:29: DeprecationWarning: Conversion of an array with ndim > 0 to a scalar is deprecated, and will error in future. Ensure you extract a single element from your array before performing this operation. (Deprecated NumPy 1.25.)\n",
      "  Y_hat[idx] = y_hat # DEPRECATION WARNING HERE?\n",
      "C:\\Users\\plumz\\AppData\\Local\\Temp\\ipykernel_24316\\3605411607.py:29: DeprecationWarning: Conversion of an array with ndim > 0 to a scalar is deprecated, and will error in future. Ensure you extract a single element from your array before performing this operation. (Deprecated NumPy 1.25.)\n",
      "  Y_hat[idx] = y_hat # DEPRECATION WARNING HERE?\n",
      "C:\\Users\\plumz\\AppData\\Local\\Temp\\ipykernel_24316\\3605411607.py:29: DeprecationWarning: Conversion of an array with ndim > 0 to a scalar is deprecated, and will error in future. Ensure you extract a single element from your array before performing this operation. (Deprecated NumPy 1.25.)\n",
      "  Y_hat[idx] = y_hat # DEPRECATION WARNING HERE?\n",
      "C:\\Users\\plumz\\AppData\\Local\\Temp\\ipykernel_24316\\3605411607.py:29: DeprecationWarning: Conversion of an array with ndim > 0 to a scalar is deprecated, and will error in future. Ensure you extract a single element from your array before performing this operation. (Deprecated NumPy 1.25.)\n",
      "  Y_hat[idx] = y_hat # DEPRECATION WARNING HERE?\n",
      "C:\\Users\\plumz\\AppData\\Local\\Temp\\ipykernel_24316\\3605411607.py:29: DeprecationWarning: Conversion of an array with ndim > 0 to a scalar is deprecated, and will error in future. Ensure you extract a single element from your array before performing this operation. (Deprecated NumPy 1.25.)\n",
      "  Y_hat[idx] = y_hat # DEPRECATION WARNING HERE?\n",
      "C:\\Users\\plumz\\AppData\\Local\\Temp\\ipykernel_24316\\3605411607.py:29: DeprecationWarning: Conversion of an array with ndim > 0 to a scalar is deprecated, and will error in future. Ensure you extract a single element from your array before performing this operation. (Deprecated NumPy 1.25.)\n",
      "  Y_hat[idx] = y_hat # DEPRECATION WARNING HERE?\n",
      "C:\\Users\\plumz\\AppData\\Local\\Temp\\ipykernel_24316\\3605411607.py:29: DeprecationWarning: Conversion of an array with ndim > 0 to a scalar is deprecated, and will error in future. Ensure you extract a single element from your array before performing this operation. (Deprecated NumPy 1.25.)\n",
      "  Y_hat[idx] = y_hat # DEPRECATION WARNING HERE?\n",
      "C:\\Users\\plumz\\AppData\\Local\\Temp\\ipykernel_24316\\3605411607.py:29: DeprecationWarning: Conversion of an array with ndim > 0 to a scalar is deprecated, and will error in future. Ensure you extract a single element from your array before performing this operation. (Deprecated NumPy 1.25.)\n",
      "  Y_hat[idx] = y_hat # DEPRECATION WARNING HERE?\n",
      "C:\\Users\\plumz\\AppData\\Local\\Temp\\ipykernel_24316\\3605411607.py:29: DeprecationWarning: Conversion of an array with ndim > 0 to a scalar is deprecated, and will error in future. Ensure you extract a single element from your array before performing this operation. (Deprecated NumPy 1.25.)\n",
      "  Y_hat[idx] = y_hat # DEPRECATION WARNING HERE?\n",
      "C:\\Users\\plumz\\AppData\\Local\\Temp\\ipykernel_24316\\3605411607.py:29: DeprecationWarning: Conversion of an array with ndim > 0 to a scalar is deprecated, and will error in future. Ensure you extract a single element from your array before performing this operation. (Deprecated NumPy 1.25.)\n",
      "  Y_hat[idx] = y_hat # DEPRECATION WARNING HERE?\n",
      "C:\\Users\\plumz\\AppData\\Local\\Temp\\ipykernel_24316\\3605411607.py:29: DeprecationWarning: Conversion of an array with ndim > 0 to a scalar is deprecated, and will error in future. Ensure you extract a single element from your array before performing this operation. (Deprecated NumPy 1.25.)\n",
      "  Y_hat[idx] = y_hat # DEPRECATION WARNING HERE?\n",
      "C:\\Users\\plumz\\AppData\\Local\\Temp\\ipykernel_24316\\3605411607.py:29: DeprecationWarning: Conversion of an array with ndim > 0 to a scalar is deprecated, and will error in future. Ensure you extract a single element from your array before performing this operation. (Deprecated NumPy 1.25.)\n",
      "  Y_hat[idx] = y_hat # DEPRECATION WARNING HERE?\n",
      "C:\\Users\\plumz\\AppData\\Local\\Temp\\ipykernel_24316\\3605411607.py:29: DeprecationWarning: Conversion of an array with ndim > 0 to a scalar is deprecated, and will error in future. Ensure you extract a single element from your array before performing this operation. (Deprecated NumPy 1.25.)\n",
      "  Y_hat[idx] = y_hat # DEPRECATION WARNING HERE?\n",
      "C:\\Users\\plumz\\AppData\\Local\\Temp\\ipykernel_24316\\3605411607.py:29: DeprecationWarning: Conversion of an array with ndim > 0 to a scalar is deprecated, and will error in future. Ensure you extract a single element from your array before performing this operation. (Deprecated NumPy 1.25.)\n",
      "  Y_hat[idx] = y_hat # DEPRECATION WARNING HERE?\n",
      "C:\\Users\\plumz\\AppData\\Local\\Temp\\ipykernel_24316\\3605411607.py:29: DeprecationWarning: Conversion of an array with ndim > 0 to a scalar is deprecated, and will error in future. Ensure you extract a single element from your array before performing this operation. (Deprecated NumPy 1.25.)\n",
      "  Y_hat[idx] = y_hat # DEPRECATION WARNING HERE?\n",
      "C:\\Users\\plumz\\AppData\\Local\\Temp\\ipykernel_24316\\3605411607.py:29: DeprecationWarning: Conversion of an array with ndim > 0 to a scalar is deprecated, and will error in future. Ensure you extract a single element from your array before performing this operation. (Deprecated NumPy 1.25.)\n",
      "  Y_hat[idx] = y_hat # DEPRECATION WARNING HERE?\n",
      "C:\\Users\\plumz\\AppData\\Local\\Temp\\ipykernel_24316\\3605411607.py:29: DeprecationWarning: Conversion of an array with ndim > 0 to a scalar is deprecated, and will error in future. Ensure you extract a single element from your array before performing this operation. (Deprecated NumPy 1.25.)\n",
      "  Y_hat[idx] = y_hat # DEPRECATION WARNING HERE?\n",
      "C:\\Users\\plumz\\AppData\\Local\\Temp\\ipykernel_24316\\3605411607.py:29: DeprecationWarning: Conversion of an array with ndim > 0 to a scalar is deprecated, and will error in future. Ensure you extract a single element from your array before performing this operation. (Deprecated NumPy 1.25.)\n",
      "  Y_hat[idx] = y_hat # DEPRECATION WARNING HERE?\n",
      "C:\\Users\\plumz\\AppData\\Local\\Temp\\ipykernel_24316\\3605411607.py:29: DeprecationWarning: Conversion of an array with ndim > 0 to a scalar is deprecated, and will error in future. Ensure you extract a single element from your array before performing this operation. (Deprecated NumPy 1.25.)\n",
      "  Y_hat[idx] = y_hat # DEPRECATION WARNING HERE?\n",
      "C:\\Users\\plumz\\AppData\\Local\\Temp\\ipykernel_24316\\3605411607.py:29: DeprecationWarning: Conversion of an array with ndim > 0 to a scalar is deprecated, and will error in future. Ensure you extract a single element from your array before performing this operation. (Deprecated NumPy 1.25.)\n",
      "  Y_hat[idx] = y_hat # DEPRECATION WARNING HERE?\n",
      "C:\\Users\\plumz\\AppData\\Local\\Temp\\ipykernel_24316\\3605411607.py:29: DeprecationWarning: Conversion of an array with ndim > 0 to a scalar is deprecated, and will error in future. Ensure you extract a single element from your array before performing this operation. (Deprecated NumPy 1.25.)\n",
      "  Y_hat[idx] = y_hat # DEPRECATION WARNING HERE?\n",
      "C:\\Users\\plumz\\AppData\\Local\\Temp\\ipykernel_24316\\3605411607.py:29: DeprecationWarning: Conversion of an array with ndim > 0 to a scalar is deprecated, and will error in future. Ensure you extract a single element from your array before performing this operation. (Deprecated NumPy 1.25.)\n",
      "  Y_hat[idx] = y_hat # DEPRECATION WARNING HERE?\n",
      "C:\\Users\\plumz\\AppData\\Local\\Temp\\ipykernel_24316\\3605411607.py:29: DeprecationWarning: Conversion of an array with ndim > 0 to a scalar is deprecated, and will error in future. Ensure you extract a single element from your array before performing this operation. (Deprecated NumPy 1.25.)\n",
      "  Y_hat[idx] = y_hat # DEPRECATION WARNING HERE?\n",
      "C:\\Users\\plumz\\AppData\\Local\\Temp\\ipykernel_24316\\3605411607.py:29: DeprecationWarning: Conversion of an array with ndim > 0 to a scalar is deprecated, and will error in future. Ensure you extract a single element from your array before performing this operation. (Deprecated NumPy 1.25.)\n",
      "  Y_hat[idx] = y_hat # DEPRECATION WARNING HERE?\n",
      "C:\\Users\\plumz\\AppData\\Local\\Temp\\ipykernel_24316\\3605411607.py:29: DeprecationWarning: Conversion of an array with ndim > 0 to a scalar is deprecated, and will error in future. Ensure you extract a single element from your array before performing this operation. (Deprecated NumPy 1.25.)\n",
      "  Y_hat[idx] = y_hat # DEPRECATION WARNING HERE?\n",
      "C:\\Users\\plumz\\AppData\\Local\\Temp\\ipykernel_24316\\3605411607.py:29: DeprecationWarning: Conversion of an array with ndim > 0 to a scalar is deprecated, and will error in future. Ensure you extract a single element from your array before performing this operation. (Deprecated NumPy 1.25.)\n",
      "  Y_hat[idx] = y_hat # DEPRECATION WARNING HERE?\n",
      "C:\\Users\\plumz\\AppData\\Local\\Temp\\ipykernel_24316\\3605411607.py:29: DeprecationWarning: Conversion of an array with ndim > 0 to a scalar is deprecated, and will error in future. Ensure you extract a single element from your array before performing this operation. (Deprecated NumPy 1.25.)\n",
      "  Y_hat[idx] = y_hat # DEPRECATION WARNING HERE?\n",
      "C:\\Users\\plumz\\AppData\\Local\\Temp\\ipykernel_24316\\3605411607.py:29: DeprecationWarning: Conversion of an array with ndim > 0 to a scalar is deprecated, and will error in future. Ensure you extract a single element from your array before performing this operation. (Deprecated NumPy 1.25.)\n",
      "  Y_hat[idx] = y_hat # DEPRECATION WARNING HERE?\n",
      "C:\\Users\\plumz\\AppData\\Local\\Temp\\ipykernel_24316\\3605411607.py:29: DeprecationWarning: Conversion of an array with ndim > 0 to a scalar is deprecated, and will error in future. Ensure you extract a single element from your array before performing this operation. (Deprecated NumPy 1.25.)\n",
      "  Y_hat[idx] = y_hat # DEPRECATION WARNING HERE?\n",
      "C:\\Users\\plumz\\AppData\\Local\\Temp\\ipykernel_24316\\3605411607.py:29: DeprecationWarning: Conversion of an array with ndim > 0 to a scalar is deprecated, and will error in future. Ensure you extract a single element from your array before performing this operation. (Deprecated NumPy 1.25.)\n",
      "  Y_hat[idx] = y_hat # DEPRECATION WARNING HERE?\n",
      "C:\\Users\\plumz\\AppData\\Local\\Temp\\ipykernel_24316\\3605411607.py:29: DeprecationWarning: Conversion of an array with ndim > 0 to a scalar is deprecated, and will error in future. Ensure you extract a single element from your array before performing this operation. (Deprecated NumPy 1.25.)\n",
      "  Y_hat[idx] = y_hat # DEPRECATION WARNING HERE?\n",
      "C:\\Users\\plumz\\AppData\\Local\\Temp\\ipykernel_24316\\3605411607.py:29: DeprecationWarning: Conversion of an array with ndim > 0 to a scalar is deprecated, and will error in future. Ensure you extract a single element from your array before performing this operation. (Deprecated NumPy 1.25.)\n",
      "  Y_hat[idx] = y_hat # DEPRECATION WARNING HERE?\n"
     ]
    },
    {
     "data": {
      "image/png": "[encoded data removed]",
      "text/plain": [
       "<Figure size 640x480 with 1 Axes>"
      ]
     },
     "metadata": {},
     "output_type": "display_data"
    },
    {
     "data": {
      "image/png": "[encoded data removed]",
      "text/plain": [
       "<Figure size 640x480 with 1 Axes>"
      ]
     },
     "metadata": {},
     "output_type": "display_data"
    },
    {
     "name": "stdout",
     "output_type": "stream",
     "text": [
      "Plotted together so it is easier to compare the curves:\n"
     ]
    },
    {
     "data": {
      "image/png": "[encoded data removed]",
      "text/plain": [
       "<Figure size 640x480 with 1 Axes>"
      ]
     },
     "metadata": {},
     "output_type": "display_data"
    }
   ],
   "source": [
    "mse_SGD_train=np.zeros(n_epochs)\n",
    "mse_SGD_test=np.zeros(n_epochs)\n",
    "\n",
    "## add your code here\n",
    "#-----------------------\n",
    "\n",
    "for i in range(n_epochs):\n",
    "    \n",
    "    # Calculate y_train_SGD_pred by calling predict() using X_train and w_hist_SGD[i]\n",
    "    \n",
    "    y_train_SGD_pred = predict(X_train, w_hist_SGD[i])\n",
    "    \n",
    "    # Calculate y_test_SGD_pred by calling predict() using X_test and w_hist_SGD[i]\n",
    "\n",
    "    y_test_SGD_pred = predict(X_test, w_hist_SGD[i])\n",
    "    \n",
    "    # Calculate mse_SGD_train[i] \n",
    "    \n",
    "    mse_SGD_train[i] = mean_squared_error(y_train, y_train_SGD_pred)\n",
    "    \n",
    "    # Calculate mse_SGD_test[i] \n",
    "\n",
    "    mse_SGD_test[i] = mean_squared_error(y_test, y_test_SGD_pred)\n",
    "    \n",
    "# Plot the mse curve on the training set\n",
    "\n",
    "plt.plot(mse_SGD_train)\n",
    "plt.xlabel(\"Epoch\")\n",
    "plt.ylabel(\"MSE Train Value\")\n",
    "plt.title(\"Stochastic Gradient Descent MSE Curve on Training Set\")\n",
    "plt.show()\n",
    "\n",
    "# Plot the mse curve on the test set\n",
    "\n",
    "plt.plot(mse_SGD_test)\n",
    "plt.xlabel(\"Epoch\")\n",
    "plt.ylabel(\"MSE Test Value\")\n",
    "plt.title(\"Stochastic Gradient Descent MSE Curve on Testing Set\")\n",
    "plt.show()\n",
    "\n",
    "# Together\n",
    "\n",
    "print(\"Plotted together so it is easier to compare the curves:\")\n",
    "plt.plot(mse_SGD_train, label = \"MSE SGD TRAIN\")\n",
    "plt.plot(mse_SGD_test, label = \"MSE SGD TEST\")\n",
    "plt.legend()\n",
    "plt.xlabel(\"Epoch\")\n",
    "plt.ylabel(\"MSE Value\")\n",
    "plt.title(\"Stochastic Gradient Descent MSE Curve on Training and Test Set\")\n",
    "plt.show()\n",
    "\n",
    "#---------------------------------"
   ]
  },
  {
   "cell_type": "code",
   "execution_count": null,
   "metadata": {
    "collapsed": true,
    "jupyter": {
     "outputs_hidden": true
    },
    "tags": []
   },
   "outputs": [],
   "source": []
  }
 ],
 "metadata": {
  "kernelspec": {
   "display_name": "Python 3 (ipykernel)",
   "language": "python",
   "name": "python3"
  },
  "language_info": {
   "codemirror_mode": {
    "name": "ipython",
    "version": 3
   },
   "file_extension": ".py",
   "mimetype": "text/x-python",
   "name": "python",
   "nbconvert_exporter": "python",
   "pygments_lexer": "ipython3",
   "version": "3.9.18"
  }
 },
 "nbformat": 4,
 "nbformat_minor": 4
}
