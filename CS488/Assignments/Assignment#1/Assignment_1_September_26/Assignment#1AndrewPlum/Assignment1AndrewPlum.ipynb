{
 "cells": [
  {
   "cell_type": "markdown",
   "metadata": {},
   "source": [
    "***Andrew Plum***\n",
    "\n",
    "***CS 488***\n",
    "\n",
    "***9/6/2024***"
   ]
  },
  {
   "cell_type": "markdown",
   "metadata": {},
   "source": [
    "# Homework Assignment 1 \n",
    "\n",
    "The homework assignment is due by the end of the day on Thursday, September 5.\n",
    "\n",
    "Please attempt to solve the assignment problems yourself and obey the academic honesty and integrity policies of the university. It is acceptable to discuss the problems with the classmates, but it is not acceptable to get access to the solutions from the classmates. Obviously, it is not acceptable to copy and paste solutions to the assignment problems from solutions by coding assistants, from webpages, or anywhere else.\n",
    "\n",
    "To avoid potential conflicts between variable names, you can restart the kernel often or restart it for every new problem by selecting `Kernel -> Restart Kernel...`. Also, when you complete all problems and before submitting the notebook, it is recommended to select `Kernel -> Restart Kernel and Run All Cells...` to ensure that all cells are executed without any errors.\n",
    "\n",
    "**Total points: 25**"
   ]
  },
  {
   "cell_type": "markdown",
   "metadata": {},
   "source": [
    "# Problem 1 - Strings (4 points)"
   ]
  },
  {
   "cell_type": "markdown",
   "metadata": {},
   "source": [
    "(a) For the given string `s1`, print out the letter `o` using indexing.\n",
    "\n",
    "0.5 points"
   ]
  },
  {
   "cell_type": "code",
   "execution_count": 1,
   "metadata": {
    "tags": []
   },
   "outputs": [
    {
     "name": "stdout",
     "output_type": "stream",
     "text": [
      "o\n"
     ]
    }
   ],
   "source": [
    "s1 ='computer'\n",
    "\n",
    "# Your Code Here\n",
    "\n",
    "for c in s1:\n",
    "    if c == 'o':\n",
    "        print('o')"
   ]
  },
  {
   "cell_type": "markdown",
   "metadata": {},
   "source": [
    "(b) Print out the last letter in `s1` using negative indices for indexing.\n",
    "\n",
    "0.5 points"
   ]
  },
  {
   "cell_type": "code",
   "execution_count": 2,
   "metadata": {
    "tags": []
   },
   "outputs": [
    {
     "name": "stdout",
     "output_type": "stream",
     "text": [
      "r\n"
     ]
    }
   ],
   "source": [
    "# Your Code Here\n",
    "\n",
    "print(s1[-1])"
   ]
  },
  {
   "cell_type": "markdown",
   "metadata": {},
   "source": [
    "(c) Reverse the string `s1` using slicing.\n",
    "\n",
    "0.5 points"
   ]
  },
  {
   "cell_type": "code",
   "execution_count": 3,
   "metadata": {
    "tags": []
   },
   "outputs": [
    {
     "data": {
      "text/plain": [
       "'retupmoc'"
      ]
     },
     "execution_count": 3,
     "metadata": {},
     "output_type": "execute_result"
    }
   ],
   "source": [
    "# Your Code Here\n",
    "\n",
    "s1[::-1]"
   ]
  },
  {
   "cell_type": "markdown",
   "metadata": {},
   "source": [
    "(d) Concatenate the following two strings `s2` and `s3`, and make sure there is an empty space between them in the concatenated string. Assign the concatenated string to variable `s4` and print it.\n",
    "\n",
    "0.5 points"
   ]
  },
  {
   "cell_type": "code",
   "execution_count": 4,
   "metadata": {
    "tags": []
   },
   "outputs": [
    {
     "data": {
      "text/plain": [
       "'first name'"
      ]
     },
     "execution_count": 4,
     "metadata": {},
     "output_type": "execute_result"
    }
   ],
   "source": [
    "s2 = 'first'\n",
    "s3 = 'name'\n",
    "\n",
    "# Your Code Here\n",
    "\n",
    "s4 = s2 + ' ' + s3\n",
    "s4"
   ]
  },
  {
   "cell_type": "markdown",
   "metadata": {},
   "source": [
    "(e) Assign the name `Albert Einstein` to a variable `famous_person`, and then print it first in lowercase and afterward in uppercase characters.\n",
    "\n",
    "0.5 points"
   ]
  },
  {
   "cell_type": "code",
   "execution_count": 5,
   "metadata": {
    "tags": []
   },
   "outputs": [
    {
     "name": "stdout",
     "output_type": "stream",
     "text": [
      "albert einstein\n"
     ]
    }
   ],
   "source": [
    "# Your Code Here\n",
    "\n",
    "famous_person = \"Albert Einstein\"\n",
    "print(famous_person.lower())"
   ]
  },
  {
   "cell_type": "code",
   "execution_count": 6,
   "metadata": {
    "tags": []
   },
   "outputs": [
    {
     "name": "stdout",
     "output_type": "stream",
     "text": [
      "ALBERT EINSTEIN\n"
     ]
    }
   ],
   "source": [
    "# Your Code Here\n",
    "\n",
    "print(famous_person.upper())"
   ]
  },
  {
   "cell_type": "markdown",
   "metadata": {},
   "source": [
    "(f) Separate the first and last name in `famous_person`, assign them to variables `first` and `last`, and print the two variables.\n",
    "\n",
    "0.5 points"
   ]
  },
  {
   "cell_type": "code",
   "execution_count": 7,
   "metadata": {
    "tags": []
   },
   "outputs": [
    {
     "name": "stdout",
     "output_type": "stream",
     "text": [
      "Albert\n",
      "Einstein\n"
     ]
    }
   ],
   "source": [
    "# Your Code Here\n",
    "\n",
    "first, last = famous_person.split(\" \")\n",
    "print(first)\n",
    "print(last)"
   ]
  },
  {
   "cell_type": "markdown",
   "metadata": {},
   "source": [
    "(g) Create a string 'Objects in Python can have built-in methods.' and assign it to a variable `s5`. Use the `replace()` function to change the string to 'Objects in Python can work with built-in methods.' and assign it to variable `s6`. Print the variables `s5` and `s6`.\n",
    "\n",
    "1 point"
   ]
  },
  {
   "cell_type": "code",
   "execution_count": 8,
   "metadata": {
    "tags": []
   },
   "outputs": [
    {
     "name": "stdout",
     "output_type": "stream",
     "text": [
      "Objects in Python can have built-in methods.\n",
      "Objects in Python can work with built-in methods.\n"
     ]
    }
   ],
   "source": [
    "# Your Code Here\n",
    "\n",
    "s5 = \"Objects in Python can have built-in methods.\"\n",
    "s6 = s5.replace(\"have\", \"work with\")\n",
    "print(s5)\n",
    "print(s6)"
   ]
  },
  {
   "cell_type": "markdown",
   "metadata": {
    "tags": []
   },
   "source": [
    "# Problem 2 - Lists (3 points)"
   ]
  },
  {
   "cell_type": "markdown",
   "metadata": {},
   "source": [
    "(a) Sort the following list in descending order, and print the output.\n",
    "\n",
    "0.5 points"
   ]
  },
  {
   "cell_type": "code",
   "execution_count": 9,
   "metadata": {
    "tags": []
   },
   "outputs": [
    {
     "name": "stdout",
     "output_type": "stream",
     "text": [
      "[6, 5, 4, 3, 1]\n"
     ]
    }
   ],
   "source": [
    "list1 = [5,3,4,6,1]\n",
    "\n",
    "# Your Code Here\n",
    "\n",
    "print(sorted(list1, reverse = 1))"
   ]
  },
  {
   "cell_type": "markdown",
   "metadata": {},
   "source": [
    "(b) Use list comprehension to create a list named `list2` consisting of the squared numbers from 1 to 10. Note again that it is required to use list comprehension.\n",
    "\n",
    "0.5 points"
   ]
  },
  {
   "cell_type": "code",
   "execution_count": 10,
   "metadata": {
    "tags": []
   },
   "outputs": [
    {
     "name": "stdout",
     "output_type": "stream",
     "text": [
      "[1, 4, 9, 16, 25, 36, 49, 64, 81, 100]\n",
      "[1, 4, 9, 16, 25, 36, 49, 64, 81, 100]\n"
     ]
    }
   ],
   "source": [
    "# Your Code Here\n",
    "\n",
    "list2 = [n**2 for n in range(11) if n != 0] # exclude 0\n",
    "print(list2)\n",
    "\n",
    "# can also do it this way\n",
    "\n",
    "list2 = [x**2 for x in range(1, 11)]\n",
    "print(list2)"
   ]
  },
  {
   "cell_type": "markdown",
   "metadata": {},
   "source": [
    "(c) Use list comprehension to select the words in `list3` that end with the letter t. Hint: use `.endswith()`.\n",
    "\n",
    "0.5 points"
   ]
  },
  {
   "cell_type": "code",
   "execution_count": 11,
   "metadata": {
    "tags": []
   },
   "outputs": [],
   "source": [
    "list3 = ['spot', 'tea', 'day', 'belt', 'stop', 'spam', 'first']"
   ]
  },
  {
   "cell_type": "code",
   "execution_count": 12,
   "metadata": {
    "tags": []
   },
   "outputs": [
    {
     "name": "stdout",
     "output_type": "stream",
     "text": [
      "['spot', 'belt', 'first']\n"
     ]
    }
   ],
   "source": [
    "# Your Code Here\n",
    "print([n for n in list3 if n.endswith(\"t\")])"
   ]
  },
  {
   "cell_type": "markdown",
   "metadata": {},
   "source": [
    "(d) Convert the following code into a list comprehension. In other words, write a list comprehension that squares the elements in `a` greater than 4.\n",
    "\n",
    "0.5 points"
   ]
  },
  {
   "cell_type": "code",
   "execution_count": 13,
   "metadata": {
    "collapsed": false,
    "jupyter": {
     "outputs_hidden": false
    },
    "tags": []
   },
   "outputs": [
    {
     "data": {
      "text/plain": [
       "[49, 36, 64, 144]"
      ]
     },
     "execution_count": 13,
     "metadata": {},
     "output_type": "execute_result"
    }
   ],
   "source": [
    "# Filter elements greater than 4 and return squared values\n",
    "a = [3, 7, 4, 6, 2, 8, -3, 12]\n",
    "b = []\n",
    "\n",
    "for i in a:\n",
    "    if i > 4:\n",
    "        b.append(i**2)\n",
    "b"
   ]
  },
  {
   "cell_type": "code",
   "execution_count": 14,
   "metadata": {
    "tags": []
   },
   "outputs": [
    {
     "name": "stdout",
     "output_type": "stream",
     "text": [
      "[49, 36, 64, 144]\n"
     ]
    }
   ],
   "source": [
    "# Your Code Here\n",
    "\n",
    "print([n**2 for n in a if n > 4])"
   ]
  },
  {
   "cell_type": "markdown",
   "metadata": {},
   "source": [
    "(e) Use indexing to select the element 'hello' in the nested list `list4` and change the element to 'goodbye'.\n",
    "\n",
    "0.5 points"
   ]
  },
  {
   "cell_type": "code",
   "execution_count": 15,
   "metadata": {
    "tags": []
   },
   "outputs": [
    {
     "data": {
      "text/plain": [
       "[1, 2, [3, [4, 5, ['goodbye']]]]"
      ]
     },
     "execution_count": 15,
     "metadata": {},
     "output_type": "execute_result"
    }
   ],
   "source": [
    "list4 = [1, 2, [3, [4, 5, ['hello']]]]\n",
    "\n",
    "# Your Code Here\n",
    "\n",
    "list4[2][1][2][0] = \"goodbye\"\n",
    "list4"
   ]
  },
  {
   "cell_type": "markdown",
   "metadata": {
    "tags": []
   },
   "source": [
    "(f) Using `pop()` and `insert()`, change `list5` so that numbers 3 and 7 are switched.\n",
    "\n",
    "0.5 points"
   ]
  },
  {
   "cell_type": "code",
   "execution_count": 16,
   "metadata": {
    "tags": []
   },
   "outputs": [
    {
     "name": "stdout",
     "output_type": "stream",
     "text": [
      "[1, 2, 7, 4, 5, 6, 3, 8]\n"
     ]
    }
   ],
   "source": [
    "list5 = [1, 2, 3, 4, 5, 6, 7, 8]\n",
    "\n",
    "# Your Code Here\n",
    "\n",
    "list5.pop(6)\n",
    "list5.insert(6,3)\n",
    "list5.pop(2)\n",
    "list5.insert(2,7)\n",
    "print(list5)"
   ]
  },
  {
   "cell_type": "markdown",
   "metadata": {},
   "source": [
    "# Problem 3 - Dictionaries (3 points)"
   ]
  },
  {
   "cell_type": "markdown",
   "metadata": {},
   "source": [
    "(a) For the given dictionary `languages`, print the keys and values. Then, change the values 'c' and 'ruby' to be uppercase letters. \n",
    "\n",
    "1 point"
   ]
  },
  {
   "cell_type": "code",
   "execution_count": 17,
   "metadata": {
    "tags": []
   },
   "outputs": [],
   "source": [
    "languages = {'alice':'python', 'bob': 'c', 'sarah':'ruby', 'ed': 'python'}"
   ]
  },
  {
   "cell_type": "code",
   "execution_count": 18,
   "metadata": {
    "tags": []
   },
   "outputs": [
    {
     "data": {
      "text/plain": [
       "dict_keys(['alice', 'bob', 'sarah', 'ed'])"
      ]
     },
     "execution_count": 18,
     "metadata": {},
     "output_type": "execute_result"
    }
   ],
   "source": [
    "# Your Code Here\n",
    "\n",
    "languages.keys()"
   ]
  },
  {
   "cell_type": "code",
   "execution_count": 19,
   "metadata": {
    "tags": []
   },
   "outputs": [
    {
     "data": {
      "text/plain": [
       "dict_values(['python', 'c', 'ruby', 'python'])"
      ]
     },
     "execution_count": 19,
     "metadata": {},
     "output_type": "execute_result"
    }
   ],
   "source": [
    "# Your Code Here\n",
    "\n",
    "languages.values()"
   ]
  },
  {
   "cell_type": "code",
   "execution_count": 20,
   "metadata": {
    "tags": []
   },
   "outputs": [
    {
     "data": {
      "text/plain": [
       "{'alice': 'python', 'bob': 'C', 'sarah': 'ruby', 'ed': 'python'}"
      ]
     },
     "execution_count": 20,
     "metadata": {},
     "output_type": "execute_result"
    }
   ],
   "source": [
    "# Your Code Here\n",
    "\n",
    "languages[\"bob\"] = languages[\"bob\"].upper()\n",
    "languages"
   ]
  },
  {
   "cell_type": "code",
   "execution_count": 21,
   "metadata": {
    "tags": []
   },
   "outputs": [
    {
     "data": {
      "text/plain": [
       "{'alice': 'python', 'bob': 'C', 'sarah': 'RUBY', 'ed': 'python'}"
      ]
     },
     "execution_count": 21,
     "metadata": {},
     "output_type": "execute_result"
    }
   ],
   "source": [
    "# Your Code Here\n",
    "\n",
    "languages[\"sarah\"] = languages[\"sarah\"].upper()\n",
    "languages"
   ]
  },
  {
   "cell_type": "markdown",
   "metadata": {},
   "source": [
    "(b) Use keys and indexing to access the value 'hello' from the following nested dictionaries.\n",
    "\n",
    "1 point"
   ]
  },
  {
   "cell_type": "code",
   "execution_count": 22,
   "metadata": {
    "tags": []
   },
   "outputs": [
    {
     "data": {
      "text/plain": [
       "'hello'"
      ]
     },
     "execution_count": 22,
     "metadata": {},
     "output_type": "execute_result"
    }
   ],
   "source": [
    "dict1 = {'k1':{'k2':'hello'}}\n",
    "\n",
    "# Your Code Here\n",
    "\n",
    "dict1[\"k1\"][\"k2\"]"
   ]
  },
  {
   "cell_type": "code",
   "execution_count": 23,
   "metadata": {
    "tags": []
   },
   "outputs": [
    {
     "data": {
      "text/plain": [
       "'hello'"
      ]
     },
     "execution_count": 23,
     "metadata": {},
     "output_type": "execute_result"
    }
   ],
   "source": [
    "dict2 = {'k1':[1,2,{'k2':['this is tricky',{'tough':[1,2,['hello']]}]}]}\n",
    "\n",
    "# Your Code Here\n",
    "dict2[\"k1\"][2][\"k2\"][1][\"tough\"][2][0]"
   ]
  },
  {
   "cell_type": "markdown",
   "metadata": {},
   "source": [
    "(c) Similar to list comprehensions, in Python dictionary comprehensions can be used to create new dictionaries, where the syntax is `{x:y for x,y in dict.items()}`, with `x` and `y` being the keys and values in the dictionary. \n",
    "\n",
    "Write a dictionary comprehension to create a new dictionary named `new_dict3` that has the same keys as the dictionary `dict3` below and has the corresponding values incremented by 10.\n",
    "\n",
    "1 point"
   ]
  },
  {
   "cell_type": "code",
   "execution_count": 24,
   "metadata": {
    "collapsed": false,
    "jupyter": {
     "outputs_hidden": false
    },
    "tags": []
   },
   "outputs": [
    {
     "data": {
      "text/plain": [
       "{'a': 1, 'b': 2, 'c': 3}"
      ]
     },
     "execution_count": 24,
     "metadata": {},
     "output_type": "execute_result"
    }
   ],
   "source": [
    "dict3 = {'a': 1, 'b': 2, 'c': 3}\n",
    "dict3"
   ]
  },
  {
   "cell_type": "code",
   "execution_count": 25,
   "metadata": {
    "tags": []
   },
   "outputs": [
    {
     "data": {
      "text/plain": [
       "{'a': 11, 'b': 12, 'c': 13}"
      ]
     },
     "execution_count": 25,
     "metadata": {},
     "output_type": "execute_result"
    }
   ],
   "source": [
    "# Your Code Here\n",
    "\n",
    "new_dict3 = {x: y + 10 for x, y in dict3.items()}\n",
    "new_dict3"
   ]
  },
  {
   "cell_type": "markdown",
   "metadata": {
    "tags": []
   },
   "source": [
    "# Problem 4 - Tuples (3 points)"
   ]
  },
  {
   "cell_type": "markdown",
   "metadata": {},
   "source": [
    "(a) Create a tuple `t1` consisting of the numbers from 1 to 5. Convert the tuple to a list `list1`, then use the `sort()` function for lists to sort the numbers in a reversing order. Convert the list back to a tuple `t2`.\n",
    "\n",
    "1 point"
   ]
  },
  {
   "cell_type": "code",
   "execution_count": 26,
   "metadata": {
    "tags": []
   },
   "outputs": [
    {
     "data": {
      "text/plain": [
       "(1, 2, 3, 4, 5)"
      ]
     },
     "execution_count": 26,
     "metadata": {},
     "output_type": "execute_result"
    }
   ],
   "source": [
    "# Create the tuple r\n",
    "t1 = (1, 2, 3, 4, 5)\n",
    "t1"
   ]
  },
  {
   "cell_type": "code",
   "execution_count": 27,
   "metadata": {
    "tags": []
   },
   "outputs": [
    {
     "name": "stdout",
     "output_type": "stream",
     "text": [
      "[1, 2, 3, 4, 5]\n",
      "[5, 4, 3, 2, 1]\n"
     ]
    }
   ],
   "source": [
    "# Your Code Here\n",
    "\n",
    "list_t1 = list(t1)\n",
    "print(list_t1)\n",
    "list_t1.sort(reverse = 1)\n",
    "print(list_t1)"
   ]
  },
  {
   "cell_type": "code",
   "execution_count": 28,
   "metadata": {
    "tags": []
   },
   "outputs": [
    {
     "data": {
      "text/plain": [
       "(5, 4, 3, 2, 1)"
      ]
     },
     "execution_count": 28,
     "metadata": {},
     "output_type": "execute_result"
    }
   ],
   "source": [
    "# Your Code Here\n",
    "\n",
    "t2 = tuple(list_t1)\n",
    "t2"
   ]
  },
  {
   "cell_type": "markdown",
   "metadata": {},
   "source": [
    "(b) Use indexing to access the value 20 from the following nested tuple.\n",
    "\n",
    "0.5 points"
   ]
  },
  {
   "cell_type": "code",
   "execution_count": 29,
   "metadata": {
    "tags": []
   },
   "outputs": [],
   "source": [
    "tuple3 = ('Orange', [10, 5, (15, ['Apple'], [25, [20, 30]])])"
   ]
  },
  {
   "cell_type": "code",
   "execution_count": 30,
   "metadata": {
    "tags": []
   },
   "outputs": [
    {
     "data": {
      "text/plain": [
       "20"
      ]
     },
     "execution_count": 30,
     "metadata": {},
     "output_type": "execute_result"
    }
   ],
   "source": [
    "# Your Code Here\n",
    "\n",
    "tuple3[1][2][2][1][0]"
   ]
  },
  {
   "cell_type": "markdown",
   "metadata": {},
   "source": [
    "(c) Use indexing to access the value 'Apple' from the nested tuple `tuple3` .\n",
    "\n",
    "0.5 points"
   ]
  },
  {
   "cell_type": "code",
   "execution_count": 31,
   "metadata": {
    "tags": []
   },
   "outputs": [
    {
     "data": {
      "text/plain": [
       "'Apple'"
      ]
     },
     "execution_count": 31,
     "metadata": {},
     "output_type": "execute_result"
    }
   ],
   "source": [
    "# Your Code Here\n",
    "\n",
    "tuple3[1][2][1][0]"
   ]
  },
  {
   "cell_type": "markdown",
   "metadata": {},
   "source": [
    "(d) In `tuple4` given below, can we change the value 20 to 200? If yes, provide the code and write your explanation. And if not, explain why.\n",
    "\n",
    "1 point"
   ]
  },
  {
   "cell_type": "code",
   "execution_count": 32,
   "metadata": {
    "tags": []
   },
   "outputs": [],
   "source": [
    "tuple4 = (10, [20, 30], 40, 50)"
   ]
  },
  {
   "cell_type": "code",
   "execution_count": 33,
   "metadata": {},
   "outputs": [
    {
     "data": {
      "text/plain": [
       "(10, [200, 30], 40, 50)"
      ]
     },
     "execution_count": 33,
     "metadata": {},
     "output_type": "execute_result"
    }
   ],
   "source": [
    "# Your Answer Here\n",
    "\n",
    "tuple4[1][0] = 200\n",
    "tuple4"
   ]
  },
  {
   "cell_type": "markdown",
   "metadata": {},
   "source": [
    "***Explanation:***\n",
    "\n",
    "Although elements of the tuple are immutable, the elements inside of the list are mutable.\n",
    "The element in the tuple which is a list can not be removed or reassigned, but the elements inside this list can. "
   ]
  },
  {
   "cell_type": "markdown",
   "metadata": {
    "tags": []
   },
   "source": [
    "# Problem 5 - Sets (3 points)"
   ]
  },
  {
   "cell_type": "markdown",
   "metadata": {},
   "source": [
    "(a) Create two sets `set1` and `set2` corresponding to the words 'manufacturing' and 'factory'. Print the letters that appear in both words.\n",
    "\n",
    "0.5 points"
   ]
  },
  {
   "cell_type": "code",
   "execution_count": 34,
   "metadata": {
    "tags": []
   },
   "outputs": [
    {
     "name": "stdout",
     "output_type": "stream",
     "text": [
      "{'r', 'c', 'f', 'a', 't'}\n"
     ]
    }
   ],
   "source": [
    "# Your Code Here\n",
    "set1 = set(\"manufacturing\")\n",
    "set2 = set(\"factory\")\n",
    "\n",
    "print(set1 & set2)\n",
    "#{'a', 'c', 'f', 'r', 't'}"
   ]
  },
  {
   "cell_type": "markdown",
   "metadata": {},
   "source": [
    "(b) The following two sets list the names of company employees in two groups `engineers` and `managers`. \n",
    "\n",
    "Use set expressions to list employees who are both engineers and managers.\n",
    "\n",
    "0.5 points"
   ]
  },
  {
   "cell_type": "code",
   "execution_count": 35,
   "metadata": {
    "tags": []
   },
   "outputs": [
    {
     "name": "stdout",
     "output_type": "stream",
     "text": [
      "{'sue'}\n"
     ]
    }
   ],
   "source": [
    "engineers = {'bob', 'sue', 'ann', 'vic', 'joe', 'eli'}\n",
    "managers = {'tom', 'sue', 'can', 'mia'}\n",
    "\n",
    "# Your Code Here\n",
    "\n",
    "print(engineers & managers)"
   ]
  },
  {
   "cell_type": "markdown",
   "metadata": {},
   "source": [
    "(c) Use set expressions to list employees who are engineers but are not managers.\n",
    "\n",
    "0.5 points"
   ]
  },
  {
   "cell_type": "code",
   "execution_count": 36,
   "metadata": {
    "tags": []
   },
   "outputs": [
    {
     "name": "stdout",
     "output_type": "stream",
     "text": [
      "{'ann', 'eli', 'vic', 'bob', 'joe'}\n"
     ]
    }
   ],
   "source": [
    "# Your Code Here\n",
    "\n",
    "print(engineers - managers)"
   ]
  },
  {
   "cell_type": "markdown",
   "metadata": {},
   "source": [
    "(d) Use set expressions to list all people who are either engineers or managers.\n",
    "\n",
    "0.5 points"
   ]
  },
  {
   "cell_type": "code",
   "execution_count": 37,
   "metadata": {
    "tags": []
   },
   "outputs": [
    {
     "name": "stdout",
     "output_type": "stream",
     "text": [
      "{'ann', 'sue', 'eli', 'can', 'mia', 'vic', 'bob', 'joe', 'tom'}\n"
     ]
    }
   ],
   "source": [
    "# Your Code Here\n",
    "\n",
    "print(engineers | managers)\n",
    "#{'ann', 'bob', 'can', 'eli', 'joe', 'mia', 'sue', 'tom', 'vic'}"
   ]
  },
  {
   "cell_type": "markdown",
   "metadata": {},
   "source": [
    "(e) Use set expressions to list employees who are managers but are not engineers.\n",
    "\n",
    "0.5 points"
   ]
  },
  {
   "cell_type": "code",
   "execution_count": 38,
   "metadata": {
    "tags": []
   },
   "outputs": [
    {
     "name": "stdout",
     "output_type": "stream",
     "text": [
      "{'can', 'mia', 'tom'}\n"
     ]
    }
   ],
   "source": [
    "# Your Code Here\n",
    "\n",
    "print(managers - engineers)"
   ]
  },
  {
   "cell_type": "markdown",
   "metadata": {
    "tags": []
   },
   "source": [
    "(f) Use set expressions to check if all managers are engineers. Hint: consider superset in sets.\n",
    "\n",
    "0.5 points"
   ]
  },
  {
   "cell_type": "code",
   "execution_count": 39,
   "metadata": {
    "tags": []
   },
   "outputs": [
    {
     "name": "stdout",
     "output_type": "stream",
     "text": [
      "False\n"
     ]
    }
   ],
   "source": [
    "# Your Code Here\n",
    "print(engineers >= managers) # return bool of if engineers is superset of managers"
   ]
  },
  {
   "cell_type": "markdown",
   "metadata": {},
   "source": [
    "# Problem 6 - If-else Tests (5 points)"
   ]
  },
  {
   "cell_type": "markdown",
   "metadata": {},
   "source": [
    "(a) Write an `if-else` test that for a given number `x` prints whether it is an even or odd number. Hint: use the modulus operator `%`.\n",
    "\n",
    "0.5 points"
   ]
  },
  {
   "cell_type": "code",
   "execution_count": 40,
   "metadata": {
    "tags": []
   },
   "outputs": [
    {
     "name": "stdout",
     "output_type": "stream",
     "text": [
      "5 is an odd number\n"
     ]
    }
   ],
   "source": [
    "x = 5\n",
    "\n",
    "# Your Code Here\n",
    "\n",
    "if x % 2 == 0:\n",
    "    print(x, \"is an even number\")\n",
    "else:\n",
    "    print(x, \"is an odd number\")"
   ]
  },
  {
   "cell_type": "markdown",
   "metadata": {},
   "source": [
    "(b) In the cell below, explain why we used double quotes in the last print line, and we used single quotes in the first print line?\n",
    "\n",
    "0.5 points"
   ]
  },
  {
   "cell_type": "code",
   "execution_count": 41,
   "metadata": {},
   "outputs": [
    {
     "name": "stdout",
     "output_type": "stream",
     "text": [
      "Welcome, what's your name?\n"
     ]
    }
   ],
   "source": [
    "person = 'Jim'\n",
    "\n",
    "if person == 'Joe':\n",
    "    print('Welcome Joe!')\n",
    "elif person =='George':\n",
    "    print('Welcome George!')\n",
    "else:\n",
    "    print(\"Welcome, what's your name?\")"
   ]
  },
  {
   "cell_type": "code",
   "execution_count": 42,
   "metadata": {},
   "outputs": [],
   "source": [
    "# Your Answer Here\n",
    "\n",
    "# We used double quotes in the last print line because within that string is an apostrophe (single quote).\n",
    "# We need double quotes to delineate where the entire string starts and ends; if we used just \n",
    "# single quotes in the last string, then the string boundary would be reached prematurely.\n",
    "# We don't have to do this for the other strings because they have no apostrophe (single quote) in them.\n",
    "# If we wanted to use only single quotes, then we would need to us the escape character to escape the single quote apostrophe."
   ]
  },
  {
   "cell_type": "markdown",
   "metadata": {},
   "source": [
    "(c) Using `if-else` and the `input()` function, create a program that asks to enter a password, and if the password is 123456 it displays 'Welcome!' and if not it displays 'Access denied!'.\n",
    "\n",
    "0.5 points"
   ]
  },
  {
   "cell_type": "code",
   "execution_count": 43,
   "metadata": {
    "tags": []
   },
   "outputs": [
    {
     "name": "stdin",
     "output_type": "stream",
     "text": [
      "Enter your password:  123456\n"
     ]
    },
    {
     "name": "stdout",
     "output_type": "stream",
     "text": [
      "Welcome!\n"
     ]
    }
   ],
   "source": [
    "password = input(\"Enter your password: \")\n",
    "\n",
    "# Your Code Here\n",
    "\n",
    "if password == \"123456\":\n",
    "    print(\"Welcome!\")\n",
    "else:\n",
    "    print(\"Access denied!\")\n",
    "\n",
    "#Enter your password:  123456\n",
    "#Welcome!"
   ]
  },
  {
   "cell_type": "markdown",
   "metadata": {},
   "source": [
    "(d) Write code that for given marks will print the grade, where F grade is less than 60 marks, D is 60 to 69 marks, C is 70 to 79 marks, B is 80 to 89, and A is 90 to 100.  \n",
    "\n",
    "1 point"
   ]
  },
  {
   "cell_type": "code",
   "execution_count": 44,
   "metadata": {},
   "outputs": [
    {
     "name": "stdout",
     "output_type": "stream",
     "text": [
      "grade is B\n"
     ]
    }
   ],
   "source": [
    "grade = 85\n",
    "\n",
    "# Your Code Here\n",
    "\n",
    "# this assumes grade is only an int for correct grading\n",
    "# if grade is 69.5 then didn't know if it should be a D or C so implemented the system for integers \n",
    "\n",
    "if grade < 60:\n",
    "    print(\"grade is F\")\n",
    "elif grade <= 69:\n",
    "    print(\"grade is D\")\n",
    "elif grade <= 79:\n",
    "    print(\"grade is C\")\n",
    "elif grade <= 89:\n",
    "    print(\"grade is B\")\n",
    "elif grade <= 100:\n",
    "    print(\"grade is A\")\n",
    "else:\n",
    "    print(\"grade score not in grade score range\")\n",
    "\n",
    "\n",
    "\n",
    "# grade is B"
   ]
  },
  {
   "cell_type": "markdown",
   "metadata": {},
   "source": [
    "(e) Using `if-elif-else tests`, write a code asking the user to enter a word. Then if the word is 'hi' print 'Hi to you too!', if the word is 'hello' print 'Hello hello!', if the word is 'howdy' print 'Howdyyyy!', if the word is 'hey' print \"hey hey hey!', and the word is none of the above words print 'I don't know what this word means.'\n",
    "\n",
    "1 point"
   ]
  },
  {
   "cell_type": "code",
   "execution_count": 45,
   "metadata": {},
   "outputs": [
    {
     "name": "stdin",
     "output_type": "stream",
     "text": [
      "Enter one word:  hey\n"
     ]
    },
    {
     "name": "stdout",
     "output_type": "stream",
     "text": [
      "hey hey hey!\n"
     ]
    }
   ],
   "source": [
    "word = input(\"Enter one word: \")\n",
    "\n",
    "# Your Code Here\n",
    "\n",
    "if word == \"hi\":\n",
    "    print(\"Hi to you too!\")\n",
    "elif word == \"hello\":\n",
    "    print(\"Hello hello!\")\n",
    "elif word == \"howdy\":\n",
    "    print(\"Howdyyyy!\")\n",
    "elif word == \"hey\":\n",
    "    print(\"hey hey hey!\")\n",
    "else:\n",
    "    print(\"I don't know what this word means.\")\n",
    "\n",
    "#Enter one word:  hey\n",
    "#Hey hey hey!"
   ]
  },
  {
   "cell_type": "markdown",
   "metadata": {},
   "source": [
    "(f) Using `if-elif-else tests`, write a program to print the number of days for a given month.\n",
    "\n",
    "1 point"
   ]
  },
  {
   "cell_type": "code",
   "execution_count": 46,
   "metadata": {
    "tags": []
   },
   "outputs": [
    {
     "name": "stdout",
     "output_type": "stream",
     "text": [
      "May has 31 days.\n"
     ]
    }
   ],
   "source": [
    "month = 'May'\n",
    "\n",
    "# Your Code Here\n",
    "\n",
    "if month == \"January\":\n",
    "    print(\"January has 31 days.\")\n",
    "elif month == \"February\":\n",
    "    print(\"February has 28 on a normal year and 29 days on a leap year.\")\n",
    "elif month == \"March\":\n",
    "    print(\"March has 31 days.\")\n",
    "elif month == \"April\":\n",
    "    print(\"April has 30 days.\")\n",
    "elif month == \"May\":\n",
    "    print(\"May has 31 days.\")\n",
    "elif month == \"June\":\n",
    "    print(\"June has 30 days.\")\n",
    "elif month == \"July\":\n",
    "    print(\"July has 31 days.\")\n",
    "elif month == \"August\":\n",
    "    print(\"August has 31 days.\")\n",
    "elif month == \"September\":\n",
    "    print(\"September has 30 days.\")\n",
    "elif month == \"October\":\n",
    "    print(\"October has 31 days.\")\n",
    "elif month == \"November\":\n",
    "    print(\"November has 30 days.\")\n",
    "elif month == \"December\":\n",
    "    print(\"December has 31 days.\")\n",
    "else:\n",
    "    print(\"The string is not a properly spelled month.\")\n",
    "\n",
    "#May has 31 days."
   ]
  },
  {
   "cell_type": "markdown",
   "metadata": {},
   "source": [
    "(g) Use the `break` statement in a for loop to calculate the sum of all elements in a list that precede the number 100. Explain what would have happened if you replaced `break` with a `continue` statement in your code.\n",
    "\n",
    "0.5 points"
   ]
  },
  {
   "cell_type": "code",
   "execution_count": 47,
   "metadata": {
    "tags": []
   },
   "outputs": [],
   "source": [
    "list6 = [3, 66, 70, 25, 43, 29, 100, 50, 88, 28, 96]"
   ]
  },
  {
   "cell_type": "code",
   "execution_count": 48,
   "metadata": {
    "tags": []
   },
   "outputs": [
    {
     "name": "stdout",
     "output_type": "stream",
     "text": [
      "236\n"
     ]
    }
   ],
   "source": [
    "# Your Code Here  \n",
    "\n",
    "total = 0\n",
    "\n",
    "for n in list6:\n",
    "    if n == 100:\n",
    "        break\n",
    "    total = total + n\n",
    "    \n",
    "print(total)\n",
    "    \n",
    "# 236"
   ]
  },
  {
   "cell_type": "markdown",
   "metadata": {},
   "source": [
    "***Explanation of replacing break with continue***\n",
    "\n",
    "If we replace break with continue, then the for loop is not terminated (like when we used break) and it would just skip the current iteration and go on to execute the subsequent iterations until the loop terminates."
   ]
  },
  {
   "cell_type": "markdown",
   "metadata": {
    "tags": []
   },
   "source": [
    "# Problem 7 - Files (4 points)"
   ]
  },
  {
   "cell_type": "markdown",
   "metadata": {},
   "source": [
    "(a) Open the file `file1.txt` that is available in the Assignment 1 folder, and write a program to count the total number of words in the text file, and print it. \n",
    "\n",
    "2 points"
   ]
  },
  {
   "cell_type": "code",
   "execution_count": 49,
   "metadata": {
    "tags": []
   },
   "outputs": [
    {
     "name": "stdout",
     "output_type": "stream",
     "text": [
      "53\n"
     ]
    }
   ],
   "source": [
    "# Your Code Here\n",
    "\n",
    "file1 = open(\"file1.txt\", \"r\")\n",
    "text = file1.read()\n",
    "\n",
    "word_count = 0 \n",
    "prev_char_is_space = False\n",
    "\n",
    "for character in text:\n",
    "    if character != \" \":\n",
    "        prev_char_is_space == False\n",
    "        continue\n",
    "    if character == \" \" and prev_char_is_space == False:\n",
    "        word_count += 1\n",
    "        prev_char_is_space\n",
    "if text[len(text) - 1] != \" \": # count last word if last character is not a space\n",
    "    word_count += 1\n",
    "\n",
    "print(word_count)"
   ]
  },
  {
   "cell_type": "markdown",
   "metadata": {},
   "source": [
    "(b) Using the `file1.txt` again, write a program to print the longest word in the file. \n",
    "\n",
    "2 points"
   ]
  },
  {
   "cell_type": "code",
   "execution_count": 50,
   "metadata": {
    "tags": []
   },
   "outputs": [
    {
     "name": "stdout",
     "output_type": "stream",
     "text": [
      "instructions\n"
     ]
    }
   ],
   "source": [
    "# Your Code Here\n",
    "\n",
    "file1 = open(\"file1.txt\", \"r\")\n",
    "text = file1.read()\n",
    "\n",
    "longest_word = \"\"\n",
    "curr_word = \"\"\n",
    "longest_word_length = 0\n",
    "\n",
    "for character in text:\n",
    "    if character != \" \":\n",
    "        curr_word += character\n",
    "    else:\n",
    "        if len(curr_word) > longest_word_length:\n",
    "            longest_word = curr_word\n",
    "            longest_word_length = len(curr_word)\n",
    "        curr_word = \"\"\n",
    "        \n",
    "    if len(curr_word) > longest_word_length:\n",
    "        longest_word = curr_word\n",
    "        \n",
    "if longest_word == \"\":\n",
    "    print(\"No words found in the text.\")\n",
    "else:\n",
    "    print(longest_word)\n",
    "\n",
    "#instructions"
   ]
  }
 ],
 "metadata": {
  "kernelspec": {
   "display_name": "Python 3 (ipykernel)",
   "language": "python",
   "name": "python3"
  },
  "language_info": {
   "codemirror_mode": {
    "name": "ipython",
    "version": 3
   },
   "file_extension": ".py",
   "mimetype": "text/x-python",
   "name": "python",
   "nbconvert_exporter": "python",
   "pygments_lexer": "ipython3",
   "version": "3.9.18"
  }
 },
 "nbformat": 4,
 "nbformat_minor": 4
}
