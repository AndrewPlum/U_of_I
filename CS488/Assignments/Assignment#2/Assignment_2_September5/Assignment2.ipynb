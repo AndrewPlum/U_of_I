{
 "cells": [
  {
   "cell_type": "markdown",
   "metadata": {},
   "source": [
    "# Homework Assignment 2 \n",
    "\n",
    "The homework assignment is due by the end of the day on Sunday, September 15.\n",
    "\n",
    "Please attempt to solve the assignment problems yourself and obey the academic honesty and integrity policies of the university. It is not acceptable to copy and paste solutions to the assignment problems from your classmates, the internet, or anywhere else.\n",
    "\n",
    "To avoid potential conflicts between variable names, you can restart the kernel often or for every new problem by selecting `Kernel -> Restart Kernel...`. Also, when you complete all problems and before submitting the notebook, it is recommended to select `Kernel -> Restart Kernel and Run All Cells...` to ensure that all cells are executed without any errors.\n",
    "\n",
    "**Total points: 25**"
   ]
  },
  {
   "cell_type": "markdown",
   "metadata": {},
   "source": [
    "## Problem 1 - Functions (8 points)"
   ]
  },
  {
   "cell_type": "markdown",
   "metadata": {},
   "source": [
    "(a) Write a function called `number_letters` which takes as input a string, and returns the number of upper case characters and lower case characters in the string. \n",
    "    \n",
    "1 point"
   ]
  },
  {
   "cell_type": "code",
   "execution_count": 1,
   "metadata": {
    "tags": []
   },
   "outputs": [],
   "source": [
    "def number_letters():\n",
    "    # Your Code Here\n",
    "    "
   ]
  },
  {
   "cell_type": "code",
   "execution_count": 2,
   "metadata": {
    "tags": []
   },
   "outputs": [
    {
     "name": "stdout",
     "output_type": "stream",
     "text": [
      "Original String :  Applied Data Science with Python\n",
      "No. of Upper case characters :  4\n",
      "No. of Lower case Characters :  24\n"
     ]
    }
   ],
   "source": [
    "number_letters('Applied Data Science with Python')"
   ]
  },
  {
   "cell_type": "markdown",
   "metadata": {},
   "source": [
    "(b) Write a function called `sum_34`, which takes as an input a list of integers, and returns the sum of the integers in the list, except that it should ignore any sequence of numbers in the list that starts with a `3` and ends with a `4` (that is, ignore `3` and `4` and any other numbers between `3` and `4`). \n",
    "    \n",
    "1.5 points"
   ]
  },
  {
   "cell_type": "code",
   "execution_count": 3,
   "metadata": {},
   "outputs": [],
   "source": [
    "def sum_34():\n",
    "    # Your Code Here\n",
    "\n",
    "    "
   ]
  },
  {
   "cell_type": "code",
   "execution_count": 4,
   "metadata": {},
   "outputs": [
    {
     "data": {
      "text/plain": [
       "8"
      ]
     },
     "execution_count": 4,
     "metadata": {},
     "output_type": "execute_result"
    }
   ],
   "source": [
    "# Check\n",
    "sum_34([1, 2, 5])"
   ]
  },
  {
   "cell_type": "code",
   "execution_count": 5,
   "metadata": {},
   "outputs": [
    {
     "data": {
      "text/plain": [
       "15"
      ]
     },
     "execution_count": 5,
     "metadata": {},
     "output_type": "execute_result"
    }
   ],
   "source": [
    "# Check (ignore 3, 8, and 4)\n",
    "sum_34([4, 5, 6, 3, 8, 4])"
   ]
  },
  {
   "cell_type": "code",
   "execution_count": 6,
   "metadata": {},
   "outputs": [
    {
     "data": {
      "text/plain": [
       "14"
      ]
     },
     "execution_count": 6,
     "metadata": {},
     "output_type": "execute_result"
    }
   ],
   "source": [
    "# Check (ignore 3 and 4)\n",
    "sum_34([2, 1, 3, 4, 11])"
   ]
  },
  {
   "cell_type": "markdown",
   "metadata": {},
   "source": [
    "(c) Write a function named `same_beginnings` that takes as input two strings, and returns the longest sequence of characters that are the same in the beginnings of both strings.\n",
    "\n",
    "1.5 points"
   ]
  },
  {
   "cell_type": "code",
   "execution_count": 7,
   "metadata": {},
   "outputs": [],
   "source": [
    "def same_beginnings():\n",
    "    # Your Code Here\n",
    "\n",
    "    "
   ]
  },
  {
   "cell_type": "code",
   "execution_count": 8,
   "metadata": {},
   "outputs": [
    {
     "data": {
      "text/plain": [
       "'cow'"
      ]
     },
     "execution_count": 8,
     "metadata": {},
     "output_type": "execute_result"
    }
   ],
   "source": [
    "same_beginnings('cowboy', 'cowgirl')"
   ]
  },
  {
   "cell_type": "code",
   "execution_count": 9,
   "metadata": {},
   "outputs": [
    {
     "data": {
      "text/plain": [
       "''"
      ]
     },
     "execution_count": 9,
     "metadata": {},
     "output_type": "execute_result"
    }
   ],
   "source": [
    "same_beginnings('cinema', 'movie')"
   ]
  },
  {
   "cell_type": "markdown",
   "metadata": {},
   "source": [
    "(d) Write a function named `number_of_characters` that takes as input a string, counts the number of repeated characters in the string, and returns a new string having the characters and the number of each character. \n",
    "\n",
    "1.5 point"
   ]
  },
  {
   "cell_type": "code",
   "execution_count": 10,
   "metadata": {
    "tags": []
   },
   "outputs": [],
   "source": [
    "def number_of_characters():\n",
    "    # Your Code Here\n",
    "\n",
    "    "
   ]
  },
  {
   "cell_type": "code",
   "execution_count": 11,
   "metadata": {},
   "outputs": [
    {
     "data": {
      "text/plain": [
       "'a2b3c1'"
      ]
     },
     "execution_count": 11,
     "metadata": {},
     "output_type": "execute_result"
    }
   ],
   "source": [
    "number_of_characters('aabbbc')"
   ]
  },
  {
   "cell_type": "code",
   "execution_count": 12,
   "metadata": {},
   "outputs": [
    {
     "data": {
      "text/plain": [
       "'M1i1s2i1s2i1p2i1'"
      ]
     },
     "execution_count": 12,
     "metadata": {},
     "output_type": "execute_result"
    }
   ],
   "source": [
    "number_of_characters('Mississippi')"
   ]
  },
  {
   "cell_type": "markdown",
   "metadata": {},
   "source": [
    "(e) Write a function named `monthpay` which requests that the end-user enter the values of the arguments `loan amount`, `duration in months`, and `interest rate` via the keyboard with the `input` function.\n",
    "\n",
    "Use the calculations shown in the cell below to calculate the monthly payment for the loan. \n",
    "\n",
    "Return the output shown below, by first using the modulo `%` placeholder for displaying the output, next using the `format` method, and afterward using f-string literals. In the displayed output, limit the interest rate to 1 decimal place, and the payment amount to 2 decimal places, as shown below.  \n",
    "\n",
    "1.5 points"
   ]
  },
  {
   "cell_type": "code",
   "execution_count": 13,
   "metadata": {},
   "outputs": [],
   "source": [
    "def monthpay():\n",
    "\n",
    "    monthly_rate = rate / 100 / 12\n",
    "    payment = (monthly_rate / (1 - (1 + monthly_rate)**(-months))) * loan\n",
    "\n",
    "    # Your Code Here\n",
    "\n",
    "    "
   ]
  },
  {
   "cell_type": "code",
   "execution_count": 14,
   "metadata": {},
   "outputs": [
    {
     "name": "stdin",
     "output_type": "stream",
     "text": [
      "Enter loan value:  200000\n",
      "Enter mortgage term (in months):  120\n",
      "Enter interest rate:  6.5\n"
     ]
    },
    {
     "name": "stdout",
     "output_type": "stream",
     "text": [
      "\n",
      "Output with Modulo Placeholders string representations\n",
      "The monthly payments for a 120 months mortgage at a total value of 200000 dollars at 6.5 percent interest rate are: 2270.96 dollars.\n",
      "\n",
      "Output with Format Method string representations\n",
      "The monthly payments for a 120 month mortgage at a total value of 200000 dollars at 6.5 percent interest rate are: 2270.96 dollars.\n",
      "\n",
      "Output with f-String Literals string representations\n",
      "The monthly payments for a 120 years mortgage at a total value of 200000.0 dollars at 6.5 percent interest rate are: 2270.96 dollars.\n"
     ]
    }
   ],
   "source": [
    "monthpay()"
   ]
  },
  {
   "cell_type": "markdown",
   "metadata": {},
   "source": [
    "(f) The following mathematical expression can be used to approximate the value of $1/\\pi$.\n",
    "\n",
    "$$\\frac{1}{\\pi} = \\frac{2\\sqrt{2}}{9801} \n",
    "\\sum^\\infty_{k=0} \\frac{(4k)!(1103+26390k)}{(k!)^4 396^{4k}} $$\n",
    "\n",
    "Write a function called `calc_pi` that implements the above formula to estimate the value of $\\pi$. \n",
    "\n",
    "Hint: use a `while` loop to compute the terms inside the sum, and break out of the loop when the terms are smaller than $10^{-15}$. \n",
    "\n",
    "1 point"
   ]
  },
  {
   "cell_type": "code",
   "execution_count": 16,
   "metadata": {},
   "outputs": [],
   "source": [
    "def calc_pi():\n",
    "    # Your Code Here\n",
    "\n",
    "    "
   ]
  },
  {
   "cell_type": "code",
   "execution_count": 17,
   "metadata": {},
   "outputs": [
    {
     "name": "stdout",
     "output_type": "stream",
     "text": [
      "3.141592653589793\n"
     ]
    }
   ],
   "source": [
    "print(calc_pi())"
   ]
  },
  {
   "cell_type": "markdown",
   "metadata": {},
   "source": [
    "## Problem 2 - Files and Statements (5 points)"
   ]
  },
  {
   "cell_type": "markdown",
   "metadata": {},
   "source": [
    "(a) Create e new text file named `greetingfile.txt` that contains a single sentence `Hi there!`.\n",
    "\n",
    "Afterward, write a `greet` function that opens the file and reads its content by using the `with/as` context manager. Call the `greet` function. \n",
    "\n",
    "1 point"
   ]
  },
  {
   "cell_type": "code",
   "execution_count": 18,
   "metadata": {},
   "outputs": [],
   "source": [
    "# Your Code Here\n",
    "\n"
   ]
  },
  {
   "cell_type": "code",
   "execution_count": 19,
   "metadata": {},
   "outputs": [],
   "source": [
    "def greet():\n",
    "    # Your Code Here\n",
    "    "
   ]
  },
  {
   "cell_type": "code",
   "execution_count": 20,
   "metadata": {},
   "outputs": [
    {
     "name": "stdout",
     "output_type": "stream",
     "text": [
      "Hi there!\n"
     ]
    }
   ],
   "source": [
    "greet()"
   ]
  },
  {
   "cell_type": "markdown",
   "metadata": {},
   "source": [
    "(b) Create another function named `ask_yes_no` that asks the user to enter `yes` or `no`, and, if the user enters `yes` return `True`, and if the user enters `no` return `False`. Use a `while` statement, so that if the user does not enter `yes` or `no`, he/she will be prompted to enter again.\n",
    "\n",
    "1 point"
   ]
  },
  {
   "cell_type": "code",
   "execution_count": 21,
   "metadata": {},
   "outputs": [],
   "source": [
    "def ask_yes_no():\n",
    "    # Your Code Here\n",
    "\n"
   ]
  },
  {
   "cell_type": "code",
   "execution_count": 22,
   "metadata": {},
   "outputs": [
    {
     "name": "stdin",
     "output_type": "stream",
     "text": [
      "Would you like to create a new greeting? (yes or no)  yes\n"
     ]
    },
    {
     "data": {
      "text/plain": [
       "True"
      ]
     },
     "execution_count": 22,
     "metadata": {},
     "output_type": "execute_result"
    }
   ],
   "source": [
    "ask_yes_no(\"Would you like to create a new greeting?\")"
   ]
  },
  {
   "cell_type": "code",
   "execution_count": 23,
   "metadata": {},
   "outputs": [
    {
     "name": "stdin",
     "output_type": "stream",
     "text": [
      "Would you like to create a new greeting? (yes or no)  later\n",
      "Would you like to create a new greeting? (yes or no)  no\n"
     ]
    },
    {
     "data": {
      "text/plain": [
       "False"
      ]
     },
     "execution_count": 23,
     "metadata": {},
     "output_type": "execute_result"
    }
   ],
   "source": [
    "ask_yes_no(\"Would you like to create a new greeting?\")"
   ]
  },
  {
   "cell_type": "markdown",
   "metadata": {},
   "source": [
    "(c) Modify the `ask_yes_no` function to accept not only `yes`, but also `Y`, `y`, and `Yes`. Also, accept `N`, `n`, and `No`.\n",
    "\n",
    "1 point"
   ]
  },
  {
   "cell_type": "code",
   "execution_count": 24,
   "metadata": {},
   "outputs": [],
   "source": [
    "def ask_yes_no():\n",
    "    # Your Code Here\n",
    "\n",
    "\n",
    "    "
   ]
  },
  {
   "cell_type": "code",
   "execution_count": 25,
   "metadata": {},
   "outputs": [
    {
     "name": "stdin",
     "output_type": "stream",
     "text": [
      "Would you like to create a new greeting? (yes or no)  y\n"
     ]
    },
    {
     "data": {
      "text/plain": [
       "True"
      ]
     },
     "execution_count": 25,
     "metadata": {},
     "output_type": "execute_result"
    }
   ],
   "source": [
    "ask_yes_no(\"Would you like to create a new greeting?\")"
   ]
  },
  {
   "cell_type": "code",
   "execution_count": 26,
   "metadata": {},
   "outputs": [
    {
     "name": "stdin",
     "output_type": "stream",
     "text": [
      "Would you like to create a new greeting? (yes or no)  n\n"
     ]
    },
    {
     "data": {
      "text/plain": [
       "False"
      ]
     },
     "execution_count": 26,
     "metadata": {},
     "output_type": "execute_result"
    }
   ],
   "source": [
    "ask_yes_no(\"Would you like to create a new greeting?\")"
   ]
  },
  {
   "cell_type": "markdown",
   "metadata": {},
   "source": [
    "(d) Write an `if` statement that will check whether the entered input to the `ask_yes_no` function is yes or no. \n",
    "\n",
    "If it is yes, then ask the user the enter a greeting message, and write the message in the `greetingfile.txt`. Use the `greet` function to display the content of the greeting file.\n",
    "\n",
    "If it is not, display the current message in the greeting file using the `greet` function.\n",
    "\n",
    "2 points"
   ]
  },
  {
   "cell_type": "code",
   "execution_count": 27,
   "metadata": {},
   "outputs": [
    {
     "name": "stdin",
     "output_type": "stream",
     "text": [
      "Would you like to create a default greeting file? (yes or no)  no\n"
     ]
    },
    {
     "name": "stdout",
     "output_type": "stream",
     "text": [
      "Hi there!\n"
     ]
    }
   ],
   "source": [
    "# Your Code Here\n",
    "\n"
   ]
  },
  {
   "cell_type": "code",
   "execution_count": 28,
   "metadata": {},
   "outputs": [
    {
     "name": "stdin",
     "output_type": "stream",
     "text": [
      "Would you like to create a default greeting file? (yes or no)  yes\n",
      "Enter you greeting here Howdy\n"
     ]
    },
    {
     "name": "stdout",
     "output_type": "stream",
     "text": [
      "Howdy\n"
     ]
    }
   ],
   "source": [
    "# Your Code Here\n",
    "\n"
   ]
  },
  {
   "cell_type": "markdown",
   "metadata": {},
   "source": [
    "## Problem 3 - Functions with Variable Number of Arguments (5 points)"
   ]
  },
  {
   "cell_type": "markdown",
   "metadata": {},
   "source": [
    "(a) Write a function named `numbers_stats`, that takes as input an arbitrary number of integers, then calculates the mean, median, and standard deviation of the numbers, and returns a dictionary with these values as shown in the example below. \n",
    "\n",
    "Hint: you can use the Python module `statistics` to calculate the mean, median, and standard deviation. \n",
    "\n",
    "1 point"
   ]
  },
  {
   "cell_type": "code",
   "execution_count": 29,
   "metadata": {},
   "outputs": [],
   "source": [
    "def number_stats():\n",
    "    # Your Code Here\n",
    "\n",
    "    "
   ]
  },
  {
   "cell_type": "code",
   "execution_count": 30,
   "metadata": {},
   "outputs": [
    {
     "data": {
      "text/plain": [
       "{'mean': 3.857142857142857,\n",
       " 'median': 4,\n",
       " 'standard deviation': 1.5735915849388864}"
      ]
     },
     "execution_count": 30,
     "metadata": {},
     "output_type": "execute_result"
    }
   ],
   "source": [
    "import statistics\n",
    "\n",
    "number_stats(2, 2, 3, 4, 5, 5, 6)"
   ]
  },
  {
   "cell_type": "markdown",
   "metadata": {},
   "source": [
    "(b) Write a function named `sorted_lists` that takes as input an arbitrary number of lists with numbers, and outputs one combined list that contains all elements of the input lists sorted in descending order. \n",
    "\n",
    "2 points"
   ]
  },
  {
   "cell_type": "code",
   "execution_count": 31,
   "metadata": {},
   "outputs": [],
   "source": [
    "def sorted_lists():\n",
    "    # Your Code Here\n",
    "\n",
    "    "
   ]
  },
  {
   "cell_type": "code",
   "execution_count": 32,
   "metadata": {},
   "outputs": [
    {
     "data": {
      "text/plain": [
       "[8, 7, 6, 5, 4, 3, 2, 1]"
      ]
     },
     "execution_count": 32,
     "metadata": {},
     "output_type": "execute_result"
    }
   ],
   "source": [
    "sorted_lists([3, 2, 1], [6, 4, 2], [8, 7, 4, 5, 6])"
   ]
  },
  {
   "cell_type": "markdown",
   "metadata": {},
   "source": [
    "(c) Write a function named `dict_keys_values` that takes as inputs a dictionary and an arbitrary number of keyword arguments, then checks if any of the entered keyword arguments are also found in the dictionary, and returns the keyword arguments that match the keys and values in the dictionary. \n",
    "\n",
    "2 points"
   ]
  },
  {
   "cell_type": "code",
   "execution_count": 33,
   "metadata": {},
   "outputs": [],
   "source": [
    "def dict_key_values():\n",
    "    # Your Code Here\n",
    "\n",
    "\n",
    "    "
   ]
  },
  {
   "cell_type": "code",
   "execution_count": 34,
   "metadata": {},
   "outputs": [
    {
     "data": {
      "text/plain": [
       "{'language2': 'java', 'language1': 'python'}"
      ]
     },
     "execution_count": 34,
     "metadata": {},
     "output_type": "execute_result"
    }
   ],
   "source": [
    "dict1 = {'language1':'python', 'language2':'java', 'language3':'c++'}\n",
    "\n",
    "dict_key_values(d=dict1, item1='c++', language3='c', language2='java', language1='python',)"
   ]
  },
  {
   "cell_type": "markdown",
   "metadata": {},
   "source": [
    "## Problem 4 - Iterators (2 points)\n",
    "\n",
    "For the given dictionary object D, check if it is its own iterator, or whether it requires to create an iterator object using `iter()` in order to loop over the items.\n",
    "\n",
    "After that, write a `while` loop to iterate through the dictionary using the `__next__()` method and print the keys and values, and use `try/except` to stop the iteration at the end of the dictionary (similar to the examples in the lecture notes)."
   ]
  },
  {
   "cell_type": "code",
   "execution_count": 35,
   "metadata": {},
   "outputs": [
    {
     "data": {
      "text/plain": [
       "{'a': 1, 'b': 2, 'c': 3}"
      ]
     },
     "execution_count": 35,
     "metadata": {},
     "output_type": "execute_result"
    }
   ],
   "source": [
    "D = {'a':1, 'b':2, 'c':3}\n",
    "D"
   ]
  },
  {
   "cell_type": "code",
   "execution_count": 37,
   "metadata": {},
   "outputs": [
    {
     "name": "stdout",
     "output_type": "stream",
     "text": [
      "a 1\n",
      "b 2\n",
      "c 3\n"
     ]
    }
   ],
   "source": [
    "# Your Code Here\n",
    "\n",
    "\n"
   ]
  },
  {
   "cell_type": "markdown",
   "metadata": {},
   "source": [
    "## Problem 5 - Classes (5 points)\n",
    "\n",
    "(a) Create a class named `Cart` that should correspond to a shopping cart in a store. Assign it the following instance attributes: `products` and `cost`. The attribute `products` should be initialized as an empty dictionary, to which afterward products will be added. The attribute `cost` should be initialized to 0.\n",
    "\n",
    "- Create a method `add_product`, with arguments `product_name` and `product_price`. The method should add new items to the dictionary `products` and return the dictionary with keys `product_name` and values `product_price` after new products have been added. The method should update the `cost`.\n",
    "\n",
    "- Create a method `remove_product` that similar to the above method should remove a product from the dictionary of `products`. The method should update the `cost`.\n",
    "\n",
    "2 points"
   ]
  },
  {
   "cell_type": "code",
   "execution_count": 39,
   "metadata": {},
   "outputs": [],
   "source": [
    "class Cart:\n",
    "    # Your Code Here\n",
    "\n",
    "\n",
    "    "
   ]
  },
  {
   "cell_type": "code",
   "execution_count": 40,
   "metadata": {},
   "outputs": [],
   "source": [
    "cart1 = Cart()"
   ]
  },
  {
   "cell_type": "code",
   "execution_count": 41,
   "metadata": {},
   "outputs": [
    {
     "data": {
      "text/plain": [
       "{'Bread': 3.0}"
      ]
     },
     "execution_count": 41,
     "metadata": {},
     "output_type": "execute_result"
    }
   ],
   "source": [
    "cart1.add_product('Bread', 3.00)"
   ]
  },
  {
   "cell_type": "code",
   "execution_count": 42,
   "metadata": {},
   "outputs": [
    {
     "data": {
      "text/plain": [
       "{'Bread': 3.0, 'Milk': 4.5}"
      ]
     },
     "execution_count": 42,
     "metadata": {},
     "output_type": "execute_result"
    }
   ],
   "source": [
    "cart1.add_product('Milk', 4.50)"
   ]
  },
  {
   "cell_type": "code",
   "execution_count": 43,
   "metadata": {},
   "outputs": [
    {
     "data": {
      "text/plain": [
       "{'Bread': 3.0, 'Milk': 4.5, 'Apples': 3.5}"
      ]
     },
     "execution_count": 43,
     "metadata": {},
     "output_type": "execute_result"
    }
   ],
   "source": [
    "cart1.add_product('Apples', 3.50)"
   ]
  },
  {
   "cell_type": "code",
   "execution_count": 44,
   "metadata": {},
   "outputs": [
    {
     "data": {
      "text/plain": [
       "{'Bread': 3.0, 'Apples': 3.5}"
      ]
     },
     "execution_count": 44,
     "metadata": {},
     "output_type": "execute_result"
    }
   ],
   "source": [
    "cart1.remove_product('Milk')"
   ]
  },
  {
   "cell_type": "code",
   "execution_count": 45,
   "metadata": {},
   "outputs": [
    {
     "data": {
      "text/plain": [
       "6.5"
      ]
     },
     "execution_count": 45,
     "metadata": {},
     "output_type": "execute_result"
    }
   ],
   "source": [
    "cart1.cost"
   ]
  },
  {
   "cell_type": "code",
   "execution_count": 46,
   "metadata": {},
   "outputs": [
    {
     "data": {
      "text/plain": [
       "{'Bread': 3.0, 'Apples': 3.5, 'Oranges': 2.0}"
      ]
     },
     "execution_count": 46,
     "metadata": {},
     "output_type": "execute_result"
    }
   ],
   "source": [
    "cart1.add_product('Oranges', 2.00)"
   ]
  },
  {
   "cell_type": "code",
   "execution_count": 47,
   "metadata": {},
   "outputs": [
    {
     "data": {
      "text/plain": [
       "8.5"
      ]
     },
     "execution_count": 47,
     "metadata": {},
     "output_type": "execute_result"
    }
   ],
   "source": [
    "cart1.cost"
   ]
  },
  {
   "cell_type": "markdown",
   "metadata": {},
   "source": [
    "(b) Rewrite the class `Cart` to introduce the following:\n",
    "- Reuse the same attributes `products` and `cost`, but this time initialize the `products` in the cart as an empty list. Each new product will be added to this list. The cost should be initialized to 0.\n",
    "- Update the method `add_product` to include an optional argument `product_quantity` with a default value of 1. Each product should represent a dictionary with the following key-value pairs `{'name':product_name, 'price':product_price, 'quantity':product_quantity}`. The method `add_product` will add new items to the cart and update the `cost`. If an item is added that already exists in the cart, then it will just update the quantity for that item and the `cost` of the cart.   \n",
    "- Add a method `view_cart`, where if the cart is empty it will display the message \"The cart is empty\", otherwise it will list the products with their prices (with 2 decimal places) and quantities, and it will display the total `cost` of the cart. \n",
    "- Update the method `remove_product`, so that it has as arguments both `product_name` and `product_quantity` with a default value of 1. The method should remove products from the cart and update the cost. \n",
    "\n",
    "3 points"
   ]
  },
  {
   "cell_type": "code",
   "execution_count": 48,
   "metadata": {},
   "outputs": [],
   "source": [
    "class Cart:\n",
    "    # Your Code Here\n",
    "    \n",
    "\n",
    "\n"
   ]
  },
  {
   "cell_type": "code",
   "execution_count": 49,
   "metadata": {},
   "outputs": [],
   "source": [
    "cart2 = Cart()"
   ]
  },
  {
   "cell_type": "code",
   "execution_count": 50,
   "metadata": {},
   "outputs": [
    {
     "name": "stdout",
     "output_type": "stream",
     "text": [
      "The cart is empty.\n"
     ]
    }
   ],
   "source": [
    "cart2.view_cart()"
   ]
  },
  {
   "cell_type": "code",
   "execution_count": 51,
   "metadata": {},
   "outputs": [],
   "source": [
    "cart2.add_product('Bread', 3.00)"
   ]
  },
  {
   "cell_type": "code",
   "execution_count": 52,
   "metadata": {},
   "outputs": [
    {
     "name": "stdout",
     "output_type": "stream",
     "text": [
      "Product: Bread --- Cost: $3.00 --- Quantity: 1\n",
      "________________\n",
      "Total cost: $3.00\n"
     ]
    }
   ],
   "source": [
    "cart2.view_cart()"
   ]
  },
  {
   "cell_type": "code",
   "execution_count": 53,
   "metadata": {},
   "outputs": [],
   "source": [
    "cart2.add_product('Milk', 4.50, 3)"
   ]
  },
  {
   "cell_type": "code",
   "execution_count": 54,
   "metadata": {},
   "outputs": [
    {
     "name": "stdout",
     "output_type": "stream",
     "text": [
      "Product: Bread --- Cost: $3.00 --- Quantity: 1\n",
      "Product: Milk --- Cost: $4.50 --- Quantity: 3\n",
      "________________\n",
      "Total cost: $16.50\n"
     ]
    }
   ],
   "source": [
    "cart2.view_cart()"
   ]
  },
  {
   "cell_type": "code",
   "execution_count": 55,
   "metadata": {},
   "outputs": [],
   "source": [
    "cart2.add_product('Apples', 3.50)"
   ]
  },
  {
   "cell_type": "code",
   "execution_count": 56,
   "metadata": {},
   "outputs": [
    {
     "name": "stdout",
     "output_type": "stream",
     "text": [
      "Product: Bread --- Cost: $3.00 --- Quantity: 1\n",
      "Product: Milk --- Cost: $4.50 --- Quantity: 3\n",
      "Product: Apples --- Cost: $3.50 --- Quantity: 1\n",
      "________________\n",
      "Total cost: $20.00\n"
     ]
    }
   ],
   "source": [
    "cart2.view_cart()"
   ]
  },
  {
   "cell_type": "code",
   "execution_count": 57,
   "metadata": {},
   "outputs": [],
   "source": [
    "cart2.add_product('Apples', 3.50, 5)"
   ]
  },
  {
   "cell_type": "code",
   "execution_count": 58,
   "metadata": {},
   "outputs": [
    {
     "name": "stdout",
     "output_type": "stream",
     "text": [
      "Product: Bread --- Cost: $3.00 --- Quantity: 1\n",
      "Product: Milk --- Cost: $4.50 --- Quantity: 3\n",
      "Product: Apples --- Cost: $3.50 --- Quantity: 6\n",
      "________________\n",
      "Total cost: $37.50\n"
     ]
    }
   ],
   "source": [
    "cart2.view_cart()"
   ]
  },
  {
   "cell_type": "code",
   "execution_count": 59,
   "metadata": {},
   "outputs": [],
   "source": [
    "cart2.remove_product('Bread')"
   ]
  },
  {
   "cell_type": "code",
   "execution_count": 60,
   "metadata": {},
   "outputs": [
    {
     "name": "stdout",
     "output_type": "stream",
     "text": [
      "Product: Milk --- Cost: $4.50 --- Quantity: 3\n",
      "Product: Apples --- Cost: $3.50 --- Quantity: 6\n",
      "________________\n",
      "Total cost: $34.50\n"
     ]
    }
   ],
   "source": [
    "cart2.view_cart()"
   ]
  },
  {
   "cell_type": "code",
   "execution_count": 61,
   "metadata": {},
   "outputs": [],
   "source": [
    "cart2.remove_product('Apples', 6)"
   ]
  },
  {
   "cell_type": "code",
   "execution_count": 62,
   "metadata": {},
   "outputs": [
    {
     "name": "stdout",
     "output_type": "stream",
     "text": [
      "Product: Milk --- Cost: $4.50 --- Quantity: 3\n",
      "________________\n",
      "Total cost: $13.50\n"
     ]
    }
   ],
   "source": [
    "cart2.view_cart()"
   ]
  }
 ],
 "metadata": {
  "kernelspec": {
   "display_name": "Python 3 (ipykernel)",
   "language": "python",
   "name": "python3"
  },
  "language_info": {
   "codemirror_mode": {
    "name": "ipython",
    "version": 3
   },
   "file_extension": ".py",
   "mimetype": "text/x-python",
   "name": "python",
   "nbconvert_exporter": "python",
   "pygments_lexer": "ipython3",
   "version": "3.9.18"
  }
 },
 "nbformat": 4,
 "nbformat_minor": 4
}
