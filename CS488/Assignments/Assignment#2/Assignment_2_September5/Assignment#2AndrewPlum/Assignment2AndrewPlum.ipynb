{
 "cells": [
  {
   "cell_type": "markdown",
   "metadata": {},
   "source": [
    "***Andrew Plum***\n",
    "\n",
    "***CS 488***\n",
    "\n",
    "***9/15/2024***"
   ]
  },
  {
   "cell_type": "markdown",
   "metadata": {},
   "source": [
    "# Homework Assignment 2 \n",
    "\n",
    "The homework assignment is due by the end of the day on Sunday, September 15.\n",
    "\n",
    "Please attempt to solve the assignment problems yourself and obey the academic honesty and integrity policies of the university. It is not acceptable to copy and paste solutions to the assignment problems from your classmates, the internet, or anywhere else.\n",
    "\n",
    "To avoid potential conflicts between variable names, you can restart the kernel often or for every new problem by selecting `Kernel -> Restart Kernel...`. Also, when you complete all problems and before submitting the notebook, it is recommended to select `Kernel -> Restart Kernel and Run All Cells...` to ensure that all cells are executed without any errors.\n",
    "\n",
    "**Total points: 25**"
   ]
  },
  {
   "cell_type": "markdown",
   "metadata": {},
   "source": [
    "## Problem 1 - Functions (8 points)"
   ]
  },
  {
   "cell_type": "markdown",
   "metadata": {},
   "source": [
    "(a) Write a function called `number_letters` which takes as input a string, and returns the number of upper case characters and lower case characters in the string. \n",
    "    \n",
    "1 point"
   ]
  },
  {
   "cell_type": "code",
   "execution_count": 1,
   "metadata": {
    "tags": []
   },
   "outputs": [],
   "source": [
    "def number_letters(input_str):\n",
    "    # Your Code Here\n",
    "    num_upper_letters = 0\n",
    "    num_lower_letters = 0\n",
    "    for c in input_str:\n",
    "        if c.isupper():\n",
    "            num_upper_letters += 1\n",
    "        if c.islower():\n",
    "            num_lower_letters += 1\n",
    "    \n",
    "    return num_upper_letters, num_lower_letters"
   ]
  },
  {
   "cell_type": "code",
   "execution_count": 2,
   "metadata": {
    "tags": []
   },
   "outputs": [
    {
     "data": {
      "text/plain": [
       "(4, 24)"
      ]
     },
     "execution_count": 2,
     "metadata": {},
     "output_type": "execute_result"
    }
   ],
   "source": [
    "number_letters('Applied Data Science with Python')"
   ]
  },
  {
   "cell_type": "markdown",
   "metadata": {},
   "source": [
    "(b) Write a function called `sum_34`, which takes as an input a list of integers, and returns the sum of the integers in the list, except that it should ignore any sequence of numbers in the list that starts with a `3` and ends with a `4` (that is, ignore `3` and `4` and any other numbers between `3` and `4`). \n",
    "    \n",
    "1.5 points"
   ]
  },
  {
   "cell_type": "code",
   "execution_count": 3,
   "metadata": {},
   "outputs": [],
   "source": [
    "def sum_34(num_list):\n",
    "    # Your Code Here\n",
    "    counter = 0\n",
    "    t_sum = 0\n",
    "    sum_of_nums_between_3_4 = 0\n",
    "    seen_3 = False\n",
    "    #seen_4 = False\n",
    "    \n",
    "    for num in num_list:\n",
    "        counter += 1\n",
    "        \n",
    "        if seen_3 and counter == len(num_list) and num != 4:\n",
    "            t_sum += sum_of_nums_between_3_4\n",
    "            # Unecessary:\n",
    "            #sum_of_nums_between_3_4 = 0\n",
    "            #seen_3 = False\n",
    "            continue\n",
    "        if seen_3 and num == 4:\n",
    "            sum_of_nums_between_3_4 = 0\n",
    "            seen_3 = False\n",
    "            continue\n",
    "        if seen_3:\n",
    "            sum_of_nums_between_3_4 += num\n",
    "            continue\n",
    "        if num == 3:\n",
    "            sum_of_nums_between_3_4 += num\n",
    "            seen_3 = True\n",
    "            continue\n",
    "            \n",
    "        t_sum += num\n",
    "        \n",
    "    return t_sum\n",
    "    "
   ]
  },
  {
   "cell_type": "code",
   "execution_count": 4,
   "metadata": {},
   "outputs": [
    {
     "data": {
      "text/plain": [
       "8"
      ]
     },
     "execution_count": 4,
     "metadata": {},
     "output_type": "execute_result"
    }
   ],
   "source": [
    "# Check\n",
    "sum_34([1, 2, 5])\n",
    "\n",
    "#8"
   ]
  },
  {
   "cell_type": "code",
   "execution_count": 5,
   "metadata": {},
   "outputs": [
    {
     "data": {
      "text/plain": [
       "15"
      ]
     },
     "execution_count": 5,
     "metadata": {},
     "output_type": "execute_result"
    }
   ],
   "source": [
    "# Check (ignore 3, 8, and 4)\n",
    "sum_34([4, 5, 6, 3, 8, 4])\n",
    "\n",
    "#15"
   ]
  },
  {
   "cell_type": "code",
   "execution_count": 6,
   "metadata": {},
   "outputs": [
    {
     "data": {
      "text/plain": [
       "14"
      ]
     },
     "execution_count": 6,
     "metadata": {},
     "output_type": "execute_result"
    }
   ],
   "source": [
    "# Check (ignore 3 and 4)\n",
    "sum_34([2, 1, 3, 4, 11])\n",
    "\n",
    "#14"
   ]
  },
  {
   "cell_type": "markdown",
   "metadata": {},
   "source": [
    "(c) Write a function named `same_beginnings` that takes as input two strings, and returns the longest sequence of characters that are the same in the beginnings of both strings.\n",
    "\n",
    "1.5 points"
   ]
  },
  {
   "cell_type": "code",
   "execution_count": 7,
   "metadata": {},
   "outputs": [],
   "source": [
    "def same_beginnings(str1, str2):\n",
    "    # Your Code Here\n",
    "    counter = 0\n",
    "    shorter_length = min(len(str1), len(str2))\n",
    "    same_chars = \"\"\n",
    "    \n",
    "    while(counter < shorter_length):\n",
    "        if str1[counter] == str2[counter]:\n",
    "            same_chars += str1[counter]\n",
    "        else:\n",
    "            break\n",
    "        \n",
    "        counter += 1\n",
    "    \n",
    "    return same_chars"
   ]
  },
  {
   "cell_type": "code",
   "execution_count": 8,
   "metadata": {},
   "outputs": [
    {
     "data": {
      "text/plain": [
       "'cow'"
      ]
     },
     "execution_count": 8,
     "metadata": {},
     "output_type": "execute_result"
    }
   ],
   "source": [
    "same_beginnings('cowboy', 'cowgirl')\n",
    "\n",
    "#'cow'"
   ]
  },
  {
   "cell_type": "code",
   "execution_count": 9,
   "metadata": {},
   "outputs": [
    {
     "data": {
      "text/plain": [
       "''"
      ]
     },
     "execution_count": 9,
     "metadata": {},
     "output_type": "execute_result"
    }
   ],
   "source": [
    "same_beginnings('cinema', 'movie')\n",
    "\n",
    "#''"
   ]
  },
  {
   "cell_type": "markdown",
   "metadata": {},
   "source": [
    "(d) Write a function named `number_of_characters` that takes as input a string, counts the number of repeated characters in the string, and returns a new string having the characters and the number of each character. \n",
    "\n",
    "1.5 point"
   ]
  },
  {
   "cell_type": "code",
   "execution_count": 10,
   "metadata": {
    "tags": []
   },
   "outputs": [],
   "source": [
    "def number_of_characters(str1):\n",
    "    # Your Code Here\n",
    "    \n",
    "    return_str = \"\"\n",
    "    counter = 0\n",
    "    prev_char = str1[0]\n",
    "    prev_index = 0\n",
    "    \n",
    "    if str1 == \"\":\n",
    "        return return_str\n",
    "    \n",
    "    #return_str = \"In the string: \" + str1 + \"\\n\"\n",
    "    #unique_chars = list(set(str1))\n",
    "    #unique_chars.sort()\n",
    "    \n",
    "    #for c in unique_chars:\n",
    "        #if str1.count(c) > 1:\n",
    "            #return_str += \"The character \" + c + \" appears \" + str1.count(c) + \" times.\\n\"\n",
    "            #return_str += c + f\"{str1.count(c)}\"\n",
    "     \n",
    "    #for c in str1:\n",
    "        #return_str += c + f\"{str1.count(c)}\"         \n",
    "         \n",
    "    for c in str1:\n",
    "        if c != prev_char:\n",
    "            return_str += prev_char + f\"{str1[prev_index:counter].count(prev_char)}\"  \n",
    "            prev_index = counter\n",
    "        if counter + 1 == len(str1):\n",
    "            return_str += c + f\"{str1[counter].count(c)}\"  \n",
    "            prev_index = counter\n",
    "        prev_char = str1[counter]\n",
    "        counter += 1\n",
    "        \n",
    "    return return_str\n",
    "    "
   ]
  },
  {
   "cell_type": "code",
   "execution_count": 11,
   "metadata": {},
   "outputs": [
    {
     "data": {
      "text/plain": [
       "'a2b3c1'"
      ]
     },
     "execution_count": 11,
     "metadata": {},
     "output_type": "execute_result"
    }
   ],
   "source": [
    "number_of_characters('aabbbc')\n",
    "\n",
    "#'a2b3c1'"
   ]
  },
  {
   "cell_type": "code",
   "execution_count": 12,
   "metadata": {},
   "outputs": [
    {
     "data": {
      "text/plain": [
       "'M1i1s2i1s2i1p2i1'"
      ]
     },
     "execution_count": 12,
     "metadata": {},
     "output_type": "execute_result"
    }
   ],
   "source": [
    "number_of_characters('Mississippi')\n",
    "\n",
    "#'M1i1s2i1s2i1p2i1'"
   ]
  },
  {
   "cell_type": "markdown",
   "metadata": {},
   "source": [
    "(e) Write a function named `monthpay` which requests that the end-user enter the values of the arguments `loan amount`, `duration in months`, and `interest rate` via the keyboard with the `input` function.\n",
    "\n",
    "Use the calculations shown in the cell below to calculate the monthly payment for the loan. \n",
    "\n",
    "Return the output shown below, by first using the modulo `%` placeholder for displaying the output, next using the `format` method, and afterward using f-string literals. In the displayed output, limit the interest rate to 1 decimal place, and the payment amount to 2 decimal places, as shown below.  \n",
    "\n",
    "1.5 points"
   ]
  },
  {
   "cell_type": "code",
   "execution_count": 13,
   "metadata": {},
   "outputs": [],
   "source": [
    "def monthpay():\n",
    "\n",
    "    loan = float(input(\"Enter loan value:\"))\n",
    "    months = int(input(\"Enter mortgage term (in months):\"))\n",
    "    rate = float(input(\"Enter interest rate:\"))\n",
    "    \n",
    "    monthly_rate = rate / 100 / 12\n",
    "    payment = (monthly_rate / (1 - (1 + monthly_rate)**(-months))) * loan\n",
    "\n",
    "    # Your Code Here\n",
    "    print()\n",
    "    \n",
    "    print(\"Output with Modulo Placeholders string representations \\nThe monthly payments for a %d months mortgage at a total value of %.0f dollars at %.1f percent interest rate are: %.2f dollars.\"% (months, loan, rate, payment))\n",
    "    print()\n",
    "    \n",
    "    print(\"Output with Format Method string representations \\nThe monthly payments for a {0} months mortgage at a total value of {1:.0f} dollars at {2:.1f} percent interest rate are: {3:.2f} dollars.\".format(months, loan, rate, payment))\n",
    "    print()\n",
    "    \n",
    "    print(f\"Output with Format Method string representations \\nThe monthly payments for a {months} months mortgage at a total value of {loan:.0f} dollars at {rate:.1f} percent interest rate are: {payment:.2f} dollars.\")\n",
    "    print()\n",
    "    "
   ]
  },
  {
   "cell_type": "code",
   "execution_count": 14,
   "metadata": {},
   "outputs": [
    {
     "name": "stdin",
     "output_type": "stream",
     "text": [
      "Enter loan value: 200000\n",
      "Enter mortgage term (in months): 120\n",
      "Enter interest rate: 6.5\n"
     ]
    },
    {
     "name": "stdout",
     "output_type": "stream",
     "text": [
      "\n",
      "Output with Modulo Placeholders string representations \n",
      "The monthly payments for a 120 months mortgage at a total value of 200000 dollars at 6.5 percent interest rate are: 2270.96 dollars.\n",
      "\n",
      "Output with Format Method string representations \n",
      "The monthly payments for a 120 months mortgage at a total value of 200000 dollars at 6.5 percent interest rate are: 2270.96 dollars.\n",
      "\n",
      "Output with Format Method string representations \n",
      "The monthly payments for a 120 months mortgage at a total value of 200000 dollars at 6.5 percent interest rate are: 2270.96 dollars.\n",
      "\n"
     ]
    }
   ],
   "source": [
    "monthpay()"
   ]
  },
  {
   "cell_type": "markdown",
   "metadata": {},
   "source": [
    "ANSWER ABOVE SHOULD BE:\n",
    "    \n",
    "Enter loan value:  200000\n",
    "Enter mortgage term (in months):  120\n",
    "Enter interest rate:  6.5\n",
    "\n",
    "Output with Modulo Placeholders string representations\n",
    "The monthly payments for a 120 months mortgage at a total value of 200000 dollars at 6.5 percent interest rate are: 2270.96 dollars.\n",
    "\n",
    "Output with Format Method string representations\n",
    "The monthly payments for a 120 month mortgage at a total value of 200000 dollars at 6.5 percent interest rate are: 2270.96 dollars.\n",
    "\n",
    "Output with f-String Literals string representations\n",
    "The monthly payments for a 120 years mortgage at a total value of 200000.0 dollars at 6.5 percent interest rate are: 2270.96 dollars."
   ]
  },
  {
   "cell_type": "markdown",
   "metadata": {},
   "source": [
    "(f) The following mathematical expression can be used to approximate the value of $1/\\pi$.\n",
    "\n",
    "$$\\frac{1}{\\pi} = \\frac{2\\sqrt{2}}{9801} \n",
    "\\sum^\\infty_{k=0} \\frac{(4k)!(1103+26390k)}{(k!)^4 396^{4k}} $$\n",
    "\n",
    "Write a function called `calc_pi` that implements the above formula to estimate the value of $\\pi$. \n",
    "\n",
    "Hint: use a `while` loop to compute the terms inside the sum, and break out of the loop when the terms are smaller than $10^{-15}$. \n",
    "\n",
    "1 point"
   ]
  },
  {
   "cell_type": "code",
   "execution_count": 15,
   "metadata": {},
   "outputs": [],
   "source": [
    "import math # will use factorial function\n",
    "\n",
    "def calc_pi():\n",
    "    # Your Code Here\n",
    "    \n",
    "    answer = 0 # -1 is a default error\n",
    "    t_sum = 0\n",
    "    k = 0\n",
    "    \n",
    "    while True:\n",
    "        numerator = math.factorial(4*k) * (1103 + 26390*k)\n",
    "        denominator = (math.factorial(k)**4) * (396**(4*k))\n",
    "        \n",
    "        quotient = numerator / denominator\n",
    "        \n",
    "        if quotient < 1e-15:\n",
    "            break\n",
    "        \n",
    "        t_sum += quotient\n",
    "        k += 1\n",
    "    \n",
    "    answer = ((2 * math.sqrt(2)) / 9801) * t_sum\n",
    "    answer = 1 / answer\n",
    "    \n",
    "    return answer\n",
    "    "
   ]
  },
  {
   "cell_type": "code",
   "execution_count": 16,
   "metadata": {},
   "outputs": [
    {
     "name": "stdout",
     "output_type": "stream",
     "text": [
      "3.141592653589793\n"
     ]
    }
   ],
   "source": [
    "print(calc_pi())\n",
    "\n",
    "# 3.141592653589793"
   ]
  },
  {
   "cell_type": "markdown",
   "metadata": {},
   "source": [
    "## Problem 2 - Files and Statements (5 points)"
   ]
  },
  {
   "cell_type": "markdown",
   "metadata": {},
   "source": [
    "(a) Create e new text file named `greetingfile.txt` that contains a single sentence `Hi there!`.\n",
    "\n",
    "Afterward, write a `greet` function that opens the file and reads its content by using the `with/as` context manager. Call the `greet` function. \n",
    "\n",
    "1 point"
   ]
  },
  {
   "cell_type": "code",
   "execution_count": 17,
   "metadata": {},
   "outputs": [],
   "source": [
    "# Your Code Here\n",
    "\n",
    "file = open(\"greetingfile.txt\", \"w\")\n",
    "file.write(\"Hi there!\")\n",
    "file.close()"
   ]
  },
  {
   "cell_type": "code",
   "execution_count": 18,
   "metadata": {},
   "outputs": [],
   "source": [
    "def greet():\n",
    "    # Your Code Here\n",
    "    \n",
    "    with open(\"greetingfile.txt\", \"r\") as file:\n",
    "        file_contents = file.read()\n",
    "    print(file_contents)"
   ]
  },
  {
   "cell_type": "code",
   "execution_count": 19,
   "metadata": {},
   "outputs": [
    {
     "name": "stdout",
     "output_type": "stream",
     "text": [
      "Hi there!\n"
     ]
    }
   ],
   "source": [
    "greet()\n",
    "\n",
    "#Hi there!"
   ]
  },
  {
   "cell_type": "markdown",
   "metadata": {},
   "source": [
    "(b) Create another function named `ask_yes_no` that asks the user to enter `yes` or `no`, and, if the user enters `yes` return `True`, and if the user enters `no` return `False`. Use a `while` statement, so that if the user does not enter `yes` or `no`, he/she will be prompted to enter again.\n",
    "\n",
    "1 point"
   ]
  },
  {
   "cell_type": "code",
   "execution_count": 20,
   "metadata": {},
   "outputs": [],
   "source": [
    "def ask_yes_no(question_asked):\n",
    "    # Your Code Here\n",
    "    \n",
    "    while True:\n",
    "        in_str = input(question_asked + \" (yes or no) \")\n",
    "        if in_str == \"yes\":\n",
    "            return True\n",
    "        elif in_str == \"no\":\n",
    "            return False \n",
    "        #else:\n",
    "        #    print(\"You did not answer yes or no. \")\n"
   ]
  },
  {
   "cell_type": "code",
   "execution_count": 21,
   "metadata": {},
   "outputs": [
    {
     "name": "stdin",
     "output_type": "stream",
     "text": [
      "Would you like to create a new greeting? (yes or no)  yes\n"
     ]
    },
    {
     "data": {
      "text/plain": [
       "True"
      ]
     },
     "execution_count": 21,
     "metadata": {},
     "output_type": "execute_result"
    }
   ],
   "source": [
    "ask_yes_no(\"Would you like to create a new greeting?\")\n",
    "\n",
    "#Would you like to create a new greeting? (yes or no)  yes\n",
    "#True"
   ]
  },
  {
   "cell_type": "code",
   "execution_count": 22,
   "metadata": {},
   "outputs": [
    {
     "name": "stdin",
     "output_type": "stream",
     "text": [
      "Would you like to create a new greeting? (yes or no)  later\n",
      "Would you like to create a new greeting? (yes or no)  no\n"
     ]
    },
    {
     "data": {
      "text/plain": [
       "False"
      ]
     },
     "execution_count": 22,
     "metadata": {},
     "output_type": "execute_result"
    }
   ],
   "source": [
    "ask_yes_no(\"Would you like to create a new greeting?\")\n",
    "\n",
    "#Would you like to create a new greeting? (yes or no)  later\n",
    "#Would you like to create a new greeting? (yes or no)  no\n",
    "#False"
   ]
  },
  {
   "cell_type": "markdown",
   "metadata": {},
   "source": [
    "(c) Modify the `ask_yes_no` function to accept not only `yes`, but also `Y`, `y`, and `Yes`. Also, accept `N`, `n`, and `No`.\n",
    "\n",
    "1 point"
   ]
  },
  {
   "cell_type": "code",
   "execution_count": 23,
   "metadata": {},
   "outputs": [],
   "source": [
    "def ask_yes_no(question_asked):\n",
    "    # Your Code Here\n",
    "\n",
    "    while True:\n",
    "        in_str = input(question_asked + \" (yes or no) \")\n",
    "        if in_str == \"yes\":\n",
    "            return True\n",
    "        elif in_str == \"y\":\n",
    "            return True\n",
    "        elif in_str == \"Y\":\n",
    "            return True\n",
    "        elif in_str == \"no\":\n",
    "            return False \n",
    "        elif in_str == \"n\":\n",
    "            return False \n",
    "        elif in_str == \"N\":\n",
    "            return False \n",
    "        #else:\n",
    "        #    print(\"You did not answer yes or no. \")\n",
    "    "
   ]
  },
  {
   "cell_type": "code",
   "execution_count": 24,
   "metadata": {},
   "outputs": [
    {
     "name": "stdin",
     "output_type": "stream",
     "text": [
      "Would you like to create a new greeting? (yes or no)  y\n"
     ]
    },
    {
     "data": {
      "text/plain": [
       "True"
      ]
     },
     "execution_count": 24,
     "metadata": {},
     "output_type": "execute_result"
    }
   ],
   "source": [
    "ask_yes_no(\"Would you like to create a new greeting?\")\n",
    "\n",
    "#Would you like to create a new greeting? (yes or no)  y\n",
    "#True"
   ]
  },
  {
   "cell_type": "code",
   "execution_count": 25,
   "metadata": {},
   "outputs": [
    {
     "name": "stdin",
     "output_type": "stream",
     "text": [
      "Would you like to create a new greeting? (yes or no)  n\n"
     ]
    },
    {
     "data": {
      "text/plain": [
       "False"
      ]
     },
     "execution_count": 25,
     "metadata": {},
     "output_type": "execute_result"
    }
   ],
   "source": [
    "ask_yes_no(\"Would you like to create a new greeting?\")\n",
    "\n",
    "#Would you like to create a new greeting? (yes or no)  n\n",
    "#False"
   ]
  },
  {
   "cell_type": "markdown",
   "metadata": {},
   "source": [
    "(d) Write an `if` statement that will check whether the entered input to the `ask_yes_no` function is yes or no. \n",
    "\n",
    "If it is yes, then ask the user the enter a greeting message, and write the message in the `greetingfile.txt`. Use the `greet` function to display the content of the greeting file.\n",
    "\n",
    "If it is not, display the current message in the greeting file using the `greet` function.\n",
    "\n",
    "2 points"
   ]
  },
  {
   "cell_type": "code",
   "execution_count": 26,
   "metadata": {},
   "outputs": [
    {
     "name": "stdin",
     "output_type": "stream",
     "text": [
      "Would you like to create a new greeting? (yes or no)  no\n"
     ]
    },
    {
     "name": "stdout",
     "output_type": "stream",
     "text": [
      "Hi there!\n"
     ]
    }
   ],
   "source": [
    "# Your Code Here\n",
    "\n",
    "def if_check():\n",
    "    result = ask_yes_no(\"Would you like to create a new greeting?\")\n",
    "    if result == True:\n",
    "        in_str = input(\"Enter a greeting message:\")\n",
    "        file = open(\"greetingfile.txt\", \"w\")\n",
    "        file.write(in_str)\n",
    "        file.close()\n",
    "        greet()\n",
    "    elif result == False:\n",
    "        greet()\n",
    "    else:\n",
    "        print(\"Error\")\n",
    "   \n",
    "if_check()\n",
    "\n",
    "#Would you like to create a default greeting file? (yes or no)  no\n",
    "#Hi there!"
   ]
  },
  {
   "cell_type": "code",
   "execution_count": 27,
   "metadata": {},
   "outputs": [
    {
     "name": "stdin",
     "output_type": "stream",
     "text": [
      "Would you like to create a new greeting? (yes or no)  yes\n",
      "Enter a greeting message: Howdy\n"
     ]
    },
    {
     "name": "stdout",
     "output_type": "stream",
     "text": [
      "Howdy\n"
     ]
    }
   ],
   "source": [
    "# Your Code Here\n",
    "\n",
    "if_check()\n",
    "\n",
    "#Would you like to create a default greeting file? (yes or no)  yes\n",
    "#Enter you greeting here Howdy\n",
    "#Howdy"
   ]
  },
  {
   "cell_type": "markdown",
   "metadata": {},
   "source": [
    "## Problem 3 - Functions with Variable Number of Arguments (5 points)"
   ]
  },
  {
   "cell_type": "markdown",
   "metadata": {},
   "source": [
    "(a) Write a function named `numbers_stats`, that takes as input an arbitrary number of integers, then calculates the mean, median, and standard deviation of the numbers, and returns a dictionary with these values as shown in the example below. \n",
    "\n",
    "Hint: you can use the Python module `statistics` to calculate the mean, median, and standard deviation. \n",
    "\n",
    "1 point"
   ]
  },
  {
   "cell_type": "code",
   "execution_count": 28,
   "metadata": {},
   "outputs": [],
   "source": [
    "import statistics as stats\n",
    "\n",
    "def number_stats(*input_nums):\n",
    "    # Your Code Here\n",
    "\n",
    "    #print(type(input_nums))\n",
    "    \n",
    "    stat_dict = {}\n",
    "    stat_dict[\"mean\"] = stats.mean(input_nums)\n",
    "    stat_dict[\"median\"] = stats.median(input_nums)\n",
    "    stat_dict[\"standard deviation\"] = stats.stdev(input_nums)    \n",
    "    \n",
    "    return stat_dict\n",
    "    "
   ]
  },
  {
   "cell_type": "code",
   "execution_count": 29,
   "metadata": {},
   "outputs": [
    {
     "data": {
      "text/plain": [
       "{'mean': 3.857142857142857,\n",
       " 'median': 4,\n",
       " 'standard deviation': 1.5735915849388864}"
      ]
     },
     "execution_count": 29,
     "metadata": {},
     "output_type": "execute_result"
    }
   ],
   "source": [
    "import statistics\n",
    "\n",
    "number_stats(2, 2, 3, 4, 5, 5, 6)\n",
    "\n",
    "#{'mean': 3.857142857142857,\n",
    "# 'median': 4,\n",
    "# 'standard deviation': 1.5735915849388864}"
   ]
  },
  {
   "cell_type": "markdown",
   "metadata": {},
   "source": [
    "(b) Write a function named `sorted_lists` that takes as input an arbitrary number of lists with numbers, and outputs one combined list that contains all elements of the input lists sorted in descending order. \n",
    "\n",
    "2 points"
   ]
  },
  {
   "cell_type": "code",
   "execution_count": 30,
   "metadata": {},
   "outputs": [],
   "source": [
    "def sorted_lists(*args):\n",
    "    # Your Code Here\n",
    "    \n",
    "    final_list = []\n",
    "    for l in args:\n",
    "        final_list.extend(l)\n",
    "    #sort(final_list, in_place = True)\n",
    "    final_list.sort(reverse = True)\n",
    "    \n",
    "    return final_list\n",
    "    "
   ]
  },
  {
   "cell_type": "code",
   "execution_count": 31,
   "metadata": {},
   "outputs": [
    {
     "data": {
      "text/plain": [
       "[8, 7, 6, 6, 5, 4, 4, 3, 2, 2, 1]"
      ]
     },
     "execution_count": 31,
     "metadata": {},
     "output_type": "execute_result"
    }
   ],
   "source": [
    "sorted_lists([3, 2, 1], [6, 4, 2], [8, 7, 4, 5, 6])"
   ]
  },
  {
   "cell_type": "markdown",
   "metadata": {},
   "source": [
    "(c) Write a function named `dict_keys_values` that takes as inputs a dictionary and an arbitrary number of keyword arguments, then checks if any of the entered keyword arguments are also found in the dictionary, and returns the keyword arguments that match the keys and values in the dictionary. \n",
    "\n",
    "2 points"
   ]
  },
  {
   "cell_type": "code",
   "execution_count": 32,
   "metadata": {},
   "outputs": [],
   "source": [
    "def dict_key_values(*, d,**kwargs):\n",
    "    # Your Code Here\n",
    "\n",
    "    assert isinstance(d, dict), \"ERROR: First argument needs to be a dictionary!\"\n",
    "    \n",
    "    input_dict = d\n",
    "    final_dict = {}\n",
    "    \n",
    "    for key, val in kwargs.items():\n",
    "        if key in input_dict.keys():\n",
    "            if kwargs[key] == input_dict[key]:\n",
    "                final_dict[key] = kwargs[key]\n",
    "    \n",
    "    return final_dict\n",
    "    "
   ]
  },
  {
   "cell_type": "code",
   "execution_count": 33,
   "metadata": {},
   "outputs": [
    {
     "data": {
      "text/plain": [
       "{'language2': 'java', 'language1': 'python'}"
      ]
     },
     "execution_count": 33,
     "metadata": {},
     "output_type": "execute_result"
    }
   ],
   "source": [
    "dict1 = {'language1':'python', 'language2':'java', 'language3':'c++'}\n",
    "\n",
    "dict_key_values(d=dict1, item1='c++', language3='c', language2='java', language1='python',)\n",
    "\n",
    "#{'language2': 'java', 'language1': 'python'}"
   ]
  },
  {
   "cell_type": "markdown",
   "metadata": {},
   "source": [
    "## Problem 4 - Iterators (2 points)\n",
    "\n",
    "For the given dictionary object D, check if it is its own iterator, or whether it requires to create an iterator object using `iter()` in order to loop over the items.\n",
    "\n",
    "After that, write a `while` loop to iterate through the dictionary using the `__next__()` method and print the keys and values, and use `try/except` to stop the iteration at the end of the dictionary (similar to the examples in the lecture notes)."
   ]
  },
  {
   "cell_type": "code",
   "execution_count": 34,
   "metadata": {},
   "outputs": [
    {
     "data": {
      "text/plain": [
       "{'a': 1, 'b': 2, 'c': 3}"
      ]
     },
     "execution_count": 34,
     "metadata": {},
     "output_type": "execute_result"
    }
   ],
   "source": [
    "D = {'a':1, 'b':2, 'c':3}\n",
    "D\n",
    "\n",
    "#{'a': 1, 'b': 2, 'c': 3}"
   ]
  },
  {
   "cell_type": "code",
   "execution_count": 35,
   "metadata": {},
   "outputs": [
    {
     "name": "stdout",
     "output_type": "stream",
     "text": [
      "a 1\n",
      "b 2\n",
      "c 3\n",
      "Iteration has stopped\n"
     ]
    }
   ],
   "source": [
    "# Your Code Here\n",
    "\n",
    "def iterate_through(D):\n",
    "    try:\n",
    "        while True:\n",
    "            key = next(D)\n",
    "            value = D[key]\n",
    "            print(f\"{key} {value}\")\n",
    "    except StopIteration:\n",
    "        print(\"Iteration has stopped\")\n",
    "\n",
    "def iterate_through(D, iterator):\n",
    "    try:\n",
    "        while True:\n",
    "            key = next(iterator)\n",
    "            value = D[key]\n",
    "            print(f\"{key} {value}\")\n",
    "    except StopIteration:\n",
    "        print(\"Iteration has stopped\")\n",
    "    \n",
    "if hasattr(D, \"__next__()\"):\n",
    "    iterate_through(D)\n",
    "else:\n",
    "    iterator = iter(D)\n",
    "    iterate_through(D, iterator)\n",
    "    \n",
    "#a 1\n",
    "#b 2\n",
    "#c 3    "
   ]
  },
  {
   "cell_type": "markdown",
   "metadata": {},
   "source": [
    "## Problem 5 - Classes (5 points)\n",
    "\n",
    "(a) Create a class named `Cart` that should correspond to a shopping cart in a store. Assign it the following instance attributes: `products` and `cost`. The attribute `products` should be initialized as an empty dictionary, to which afterward products will be added. The attribute `cost` should be initialized to 0.\n",
    "\n",
    "- Create a method `add_product`, with arguments `product_name` and `product_price`. The method should add new items to the dictionary `products` and return the dictionary with keys `product_name` and values `product_price` after new products have been added. The method should update the `cost`.\n",
    "\n",
    "- Create a method `remove_product` that similar to the above method should remove a product from the dictionary of `products`. The method should update the `cost`.\n",
    "\n",
    "2 points"
   ]
  },
  {
   "cell_type": "code",
   "execution_count": 36,
   "metadata": {},
   "outputs": [],
   "source": [
    "class Cart:\n",
    "    # Your Code Here\n",
    "    \n",
    "    def __init__(self):\n",
    "        self.products = {}\n",
    "        self.cost = 0\n",
    "    \n",
    "    def add_product(self, product_name, product_price):\n",
    "        self.products[product_name] = product_price\n",
    "        self.cost += product_price\n",
    "        return self.products\n",
    "        \n",
    "    def remove_product(self, product_name):\n",
    "        if product_name in self.products.keys():\n",
    "            self.cost -= self.products[product_name]\n",
    "            del self.products[product_name]\n",
    "        else:\n",
    "            print(f\"{product_name} is not already in shopping cart so no item to remove.\")\n",
    "        return self.products\n",
    "    "
   ]
  },
  {
   "cell_type": "code",
   "execution_count": 37,
   "metadata": {},
   "outputs": [],
   "source": [
    "cart1 = Cart()"
   ]
  },
  {
   "cell_type": "code",
   "execution_count": 38,
   "metadata": {},
   "outputs": [
    {
     "data": {
      "text/plain": [
       "{'Bread': 3.0}"
      ]
     },
     "execution_count": 38,
     "metadata": {},
     "output_type": "execute_result"
    }
   ],
   "source": [
    "cart1.add_product('Bread', 3.00)\n",
    "\n",
    "#{'Bread': 3.0}"
   ]
  },
  {
   "cell_type": "code",
   "execution_count": 39,
   "metadata": {},
   "outputs": [
    {
     "data": {
      "text/plain": [
       "{'Bread': 3.0, 'Milk': 4.5}"
      ]
     },
     "execution_count": 39,
     "metadata": {},
     "output_type": "execute_result"
    }
   ],
   "source": [
    "cart1.add_product('Milk', 4.50)\n",
    "\n",
    "#{'Bread': 3.0, 'Milk': 4.5}"
   ]
  },
  {
   "cell_type": "code",
   "execution_count": 40,
   "metadata": {},
   "outputs": [
    {
     "data": {
      "text/plain": [
       "{'Bread': 3.0, 'Milk': 4.5, 'Apples': 3.5}"
      ]
     },
     "execution_count": 40,
     "metadata": {},
     "output_type": "execute_result"
    }
   ],
   "source": [
    "cart1.add_product('Apples', 3.50)\n",
    "\n",
    "#{'Bread': 3.0, 'Milk': 4.5, 'Apples': 3.5}"
   ]
  },
  {
   "cell_type": "code",
   "execution_count": 41,
   "metadata": {},
   "outputs": [
    {
     "data": {
      "text/plain": [
       "{'Bread': 3.0, 'Apples': 3.5}"
      ]
     },
     "execution_count": 41,
     "metadata": {},
     "output_type": "execute_result"
    }
   ],
   "source": [
    "cart1.remove_product('Milk')\n",
    "\n",
    "#{'Bread': 3.0, 'Apples': 3.5}"
   ]
  },
  {
   "cell_type": "code",
   "execution_count": 42,
   "metadata": {},
   "outputs": [
    {
     "data": {
      "text/plain": [
       "6.5"
      ]
     },
     "execution_count": 42,
     "metadata": {},
     "output_type": "execute_result"
    }
   ],
   "source": [
    "cart1.cost\n",
    "\n",
    "#6.5"
   ]
  },
  {
   "cell_type": "code",
   "execution_count": 43,
   "metadata": {},
   "outputs": [
    {
     "data": {
      "text/plain": [
       "{'Bread': 3.0, 'Apples': 3.5, 'Oranges': 2.0}"
      ]
     },
     "execution_count": 43,
     "metadata": {},
     "output_type": "execute_result"
    }
   ],
   "source": [
    "cart1.add_product('Oranges', 2.00)\n",
    "\n",
    "#{'Bread': 3.0, 'Apples': 3.5, 'Oranges': 2.0}"
   ]
  },
  {
   "cell_type": "code",
   "execution_count": 44,
   "metadata": {},
   "outputs": [
    {
     "data": {
      "text/plain": [
       "8.5"
      ]
     },
     "execution_count": 44,
     "metadata": {},
     "output_type": "execute_result"
    }
   ],
   "source": [
    "cart1.cost\n",
    "\n",
    "#8.5"
   ]
  },
  {
   "cell_type": "markdown",
   "metadata": {},
   "source": [
    "(b) Rewrite the class `Cart` to introduce the following:\n",
    "- Reuse the same attributes `products` and `cost`, but this time initialize the `products` in the cart as an empty list. Each new product will be added to this list. The cost should be initialized to 0.\n",
    "- Update the method `add_product` to include an optional argument `product_quantity` with a default value of 1. Each product should represent a dictionary with the following key-value pairs `{'name':product_name, 'price':product_price, 'quantity':product_quantity}`. The method `add_product` will add new items to the cart and update the `cost`. If an item is added that already exists in the cart, then it will just update the quantity for that item and the `cost` of the cart.   \n",
    "- Add a method `view_cart`, where if the cart is empty it will display the message \"The cart is empty\", otherwise it will list the products with their prices (with 2 decimal places) and quantities, and it will display the total `cost` of the cart. \n",
    "- Update the method `remove_product`, so that it has as arguments both `product_name` and `product_quantity` with a default value of 1. The method should remove products from the cart and update the cost. \n",
    "\n",
    "3 points"
   ]
  },
  {
   "cell_type": "code",
   "execution_count": 45,
   "metadata": {},
   "outputs": [],
   "source": [
    "class Cart:\n",
    "    # Your Code Here\n",
    "    \n",
    "    def __init__(self):\n",
    "        self.products = []\n",
    "        self.cost = 0\n",
    "    \n",
    "    def add_product(self, product_name, product_price, product_quantity = 1):\n",
    "        # if not in list already, add to list\n",
    "        if product_name not in [product[\"name\"] for product in self.products]:\n",
    "            product_dict = {}\n",
    "            product_dict[\"name\"] = product_name\n",
    "            product_dict[\"price\"] = product_price\n",
    "            product_dict[\"quantity\"] = product_quantity\n",
    "            self.products.append(product_dict)\n",
    "            self.cost += (product_price * product_quantity)\n",
    "        # if in list already, modify existing product dictionary\n",
    "        else:\n",
    "            index = -1\n",
    "            for i, d in enumerate(self.products):\n",
    "                if d[\"name\"] == product_name:\n",
    "                    index = i\n",
    "                    break\n",
    "            self.products[index][\"quantity\"] += product_quantity\n",
    "            self.cost += (product_price * product_quantity)\n",
    "        #return self.products\n",
    "    \n",
    "    def remove_product(self, product_name, product_quantity = 1):\n",
    "        if product_name in [product[\"name\"] for product in self.products]:\n",
    "            index = -1\n",
    "            for i, d in enumerate(self.products):\n",
    "                if d[\"name\"] == product_name:\n",
    "                    index = i\n",
    "                    break\n",
    "            if product_quantity > self.products[index][\"quantity\"]: # cover the case where more is removed than should be\n",
    "                product_quantity = self.products[index][\"quantity\"]\n",
    "            self.cost -= (self.products[index][\"price\"] * product_quantity)\n",
    "            self.products[index][\"quantity\"] -= product_quantity\n",
    "            if self.products[index][\"quantity\"] == 0:\n",
    "                del self.products[index]\n",
    "        else:\n",
    "            print(f\"{product_name} is not already in shopping cart so no item to remove.\")\n",
    "        #return self.products\n",
    "    \n",
    "    def view_cart(self):\n",
    "        if len(self.products) == 0:\n",
    "            print(\"The cart is empty\")\n",
    "        else:\n",
    "            for product in self.products:\n",
    "                print(f\"Product: {product['name']} --- Cost: ${product['price']:.2f} --- Quantity: {product['quantity']}\")\n",
    "            print(\"________________\")\n",
    "            print(f\"Total cost: ${self.cost:.2f}\")\n"
   ]
  },
  {
   "cell_type": "code",
   "execution_count": 46,
   "metadata": {},
   "outputs": [],
   "source": [
    "cart2 = Cart()"
   ]
  },
  {
   "cell_type": "code",
   "execution_count": 47,
   "metadata": {},
   "outputs": [
    {
     "name": "stdout",
     "output_type": "stream",
     "text": [
      "The cart is empty\n"
     ]
    }
   ],
   "source": [
    "cart2.view_cart()\n",
    "\n",
    "#The cart is empty."
   ]
  },
  {
   "cell_type": "code",
   "execution_count": 48,
   "metadata": {},
   "outputs": [],
   "source": [
    "cart2.add_product('Bread', 3.00)"
   ]
  },
  {
   "cell_type": "code",
   "execution_count": 49,
   "metadata": {},
   "outputs": [
    {
     "name": "stdout",
     "output_type": "stream",
     "text": [
      "Product: Bread --- Cost: $3.00 --- Quantity: 1\n",
      "________________\n",
      "Total cost: $3.00\n"
     ]
    }
   ],
   "source": [
    "cart2.view_cart()\n",
    "\n",
    "#Product: Bread --- Cost: $3.00 --- Quantity: 1\n",
    "#________________\n",
    "#Total cost: $3.00"
   ]
  },
  {
   "cell_type": "code",
   "execution_count": 50,
   "metadata": {},
   "outputs": [],
   "source": [
    "cart2.add_product('Milk', 4.50, 3)"
   ]
  },
  {
   "cell_type": "code",
   "execution_count": 51,
   "metadata": {},
   "outputs": [
    {
     "name": "stdout",
     "output_type": "stream",
     "text": [
      "Product: Bread --- Cost: $3.00 --- Quantity: 1\n",
      "Product: Milk --- Cost: $4.50 --- Quantity: 3\n",
      "________________\n",
      "Total cost: $16.50\n"
     ]
    }
   ],
   "source": [
    "cart2.view_cart()\n",
    "\n",
    "#Product: Bread --- Cost: $3.00 --- Quantity: 1\n",
    "#Product: Milk --- Cost: $4.50 --- Quantity: 3\n",
    "#________________\n",
    "#Total cost: $16.50"
   ]
  },
  {
   "cell_type": "code",
   "execution_count": 52,
   "metadata": {},
   "outputs": [],
   "source": [
    "cart2.add_product('Apples', 3.50)"
   ]
  },
  {
   "cell_type": "code",
   "execution_count": 53,
   "metadata": {},
   "outputs": [
    {
     "name": "stdout",
     "output_type": "stream",
     "text": [
      "Product: Bread --- Cost: $3.00 --- Quantity: 1\n",
      "Product: Milk --- Cost: $4.50 --- Quantity: 3\n",
      "Product: Apples --- Cost: $3.50 --- Quantity: 1\n",
      "________________\n",
      "Total cost: $20.00\n"
     ]
    }
   ],
   "source": [
    "cart2.view_cart()\n",
    "\n",
    "#Product: Bread --- Cost: $3.00 --- Quantity: 1\n",
    "#Product: Milk --- Cost: $4.50 --- Quantity: 3\n",
    "#Product: Apples --- Cost: $3.50 --- Quantity: 1\n",
    "#________________\n",
    "#Total cost: $20.00"
   ]
  },
  {
   "cell_type": "code",
   "execution_count": 54,
   "metadata": {},
   "outputs": [],
   "source": [
    "cart2.add_product('Apples', 3.50, 5)"
   ]
  },
  {
   "cell_type": "code",
   "execution_count": 55,
   "metadata": {},
   "outputs": [
    {
     "name": "stdout",
     "output_type": "stream",
     "text": [
      "Product: Bread --- Cost: $3.00 --- Quantity: 1\n",
      "Product: Milk --- Cost: $4.50 --- Quantity: 3\n",
      "Product: Apples --- Cost: $3.50 --- Quantity: 6\n",
      "________________\n",
      "Total cost: $37.50\n"
     ]
    }
   ],
   "source": [
    "cart2.view_cart()\n",
    "\n",
    "#Product: Bread --- Cost: $3.00 --- Quantity: 1\n",
    "#Product: Milk --- Cost: $4.50 --- Quantity: 3\n",
    "#Product: Apples --- Cost: $3.50 --- Quantity: 6\n",
    "#________________\n",
    "#Total cost: $37.50"
   ]
  },
  {
   "cell_type": "code",
   "execution_count": 56,
   "metadata": {},
   "outputs": [],
   "source": [
    "cart2.remove_product('Bread')"
   ]
  },
  {
   "cell_type": "code",
   "execution_count": 57,
   "metadata": {},
   "outputs": [
    {
     "name": "stdout",
     "output_type": "stream",
     "text": [
      "Product: Milk --- Cost: $4.50 --- Quantity: 3\n",
      "Product: Apples --- Cost: $3.50 --- Quantity: 6\n",
      "________________\n",
      "Total cost: $34.50\n"
     ]
    }
   ],
   "source": [
    "cart2.view_cart()\n",
    "\n",
    "#Product: Milk --- Cost: $4.50 --- Quantity: 3\n",
    "#Product: Apples --- Cost: $3.50 --- Quantity: 6\n",
    "#________________\n",
    "#Total cost: $34.50"
   ]
  },
  {
   "cell_type": "code",
   "execution_count": 58,
   "metadata": {},
   "outputs": [],
   "source": [
    "cart2.remove_product('Apples', 6)"
   ]
  },
  {
   "cell_type": "code",
   "execution_count": 59,
   "metadata": {},
   "outputs": [
    {
     "name": "stdout",
     "output_type": "stream",
     "text": [
      "Product: Milk --- Cost: $4.50 --- Quantity: 3\n",
      "________________\n",
      "Total cost: $13.50\n"
     ]
    }
   ],
   "source": [
    "cart2.view_cart()\n",
    "\n",
    "#Product: Milk --- Cost: $4.50 --- Quantity: 3\n",
    "#________________\n",
    "#Total cost: $13.50"
   ]
  }
 ],
 "metadata": {
  "kernelspec": {
   "display_name": "Python 3 (ipykernel)",
   "language": "python",
   "name": "python3"
  },
  "language_info": {
   "codemirror_mode": {
    "name": "ipython",
    "version": 3
   },
   "file_extension": ".py",
   "mimetype": "text/x-python",
   "name": "python",
   "nbconvert_exporter": "python",
   "pygments_lexer": "ipython3",
   "version": "3.9.18"
  }
 },
 "nbformat": 4,
 "nbformat_minor": 4
}
